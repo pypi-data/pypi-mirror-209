{
 "cells": [
  {
   "cell_type": "code",
   "execution_count": 33,
   "metadata": {},
   "outputs": [],
   "source": [
    "\n",
    "import json\n",
    "import os\n",
    "\n",
    "def get_data(filename):\n",
    "    \"\"\"Load coreference predictions from a file.\"\"\"\n",
    "    # load predictions (danish)\n",
    "    with open(filename, \"r\") as lst:\n",
    "        preds = []\n",
    "        for line in lst.readlines():\n",
    "            preds.append(json.loads(line.strip()))\n",
    "    return preds\n"
   ]
  },
  {
   "cell_type": "code",
   "execution_count": 41,
   "metadata": {},
   "outputs": [
    {
     "name": "stdout",
     "output_type": "stream",
     "text": [
      "fem\n",
      "{'top_spans': [[0, 0], [2, 2]], 'antecedent_indices': [[0, 1], [0, 1]], 'predicted_antecedents': [-1, 0], 'document': ['rådgiveren', 'mistede', 'sin', 'tegnebog', 'ved', 'huset.'], 'clusters': [[[0, 0], [2, 2]]]}\n",
      "{'top_spans': [[0, 0], [2, 2]], 'antecedent_indices': [[0, 1], [0, 1]], 'predicted_antecedents': [-1, 0], 'document': ['sekretæren', 'mistede', 'sin', 'tegnebog', 'ved', 'huset.'], 'clusters': [[[0, 0], [2, 2]]]}\n",
      "{'top_spans': [[0, 0], [2, 2]], 'antecedent_indices': [[0, 1], [0, 1]], 'predicted_antecedents': [-1, 0], 'document': ['receptionisten', 'mistede', 'sin', 'tegnebog', 'ved', 'huset.'], 'clusters': [[[0, 0], [2, 2]]]}\n",
      "{'top_spans': [[0, 0], [2, 2]], 'antecedent_indices': [[0, 1], [0, 1]], 'predicted_antecedents': [-1, 0], 'document': ['bageren', 'mistede', 'sin', 'tegnebog', 'ved', 'huset.'], 'clusters': [[[0, 0], [2, 2]]]}\n",
      "above 1057 {'top_spans': [[0, 1], [4, 4]], 'antecedent_indices': [[0, 1], [0, 1]], 'predicted_antecedents': [-1, 0], 'document': ['bageren', 'ødelagde', 'bukserne', 'ved', 'hans', 'hus.'], 'clusters': [[[0, 1], [4, 4]]]} 146\n",
      "above 1058 {'top_spans': [[0, 1], [4, 4]], 'antecedent_indices': [[0, 1], [0, 1]], 'predicted_antecedents': [-1, 0], 'document': ['bageren', 'ødelagde', 'bukserne', 'ved', 'hendes', 'hus.'], 'clusters': [[[0, 1], [4, 4]]]} 147\n",
      "{'top_spans': [[0, 0], [2, 2]], 'antecedent_indices': [[0, 1], [0, 1]], 'predicted_antecedents': [-1, 0], 'document': ['revisoren', 'mistede', 'sin', 'tegnebog', 'ved', 'huset.'], 'clusters': [[[0, 0], [2, 2]]]}\n",
      "{'top_spans': [[0, 0], [2, 2]], 'antecedent_indices': [[0, 1], [0, 1]], 'predicted_antecedents': [-1, 0], 'document': ['sygeplejersken', 'mistede', 'sin', 'tegnebog', 'ved', 'huset.'], 'clusters': [[[0, 0], [2, 2]]]}\n",
      "{'top_spans': [[0, 0], [2, 2]], 'antecedent_indices': [[0, 1], [0, 1]], 'predicted_antecedents': [-1, 0], 'document': ['frisøren', 'mistede', 'sin', 'tegnebog', 'ved', 'huset.'], 'clusters': [[[0, 0], [2, 2]]]}\n",
      "{'top_spans': [[0, 0], [2, 2]], 'antecedent_indices': [[0, 1], [0, 1]], 'predicted_antecedents': [-1, 0], 'document': ['læreren', 'mistede', 'sin', 'tegnebog', 'ved', 'huset.'], 'clusters': [[[0, 0], [2, 2]]]}\n",
      "{'top_spans': [[0, 0], [2, 2]], 'antecedent_indices': [[0, 1], [0, 1]], 'predicted_antecedents': [-1, 0], 'document': ['vejlederen', 'mistede', 'sin', 'tegnebog', 'ved', 'huset.'], 'clusters': [[[0, 0], [2, 2]]]}\n",
      "{'top_spans': [[0, 0], [2, 2]], 'antecedent_indices': [[0, 1], [0, 1]], 'predicted_antecedents': [-1, 0], 'document': ['advokatsekretær', 'mistede', 'sin', 'tegnebog', 'ved', 'huset.'], 'clusters': [[[0, 0], [2, 2]]]}\n",
      "above 2426 {'top_spans': [[0, 1], [4, 4]], 'antecedent_indices': [[0, 1], [0, 1]], 'predicted_antecedents': [-1, 0], 'document': ['advokatsekretær', 'ødelagde', 'bukserne', 'ved', 'hendes', 'hus.'], 'clusters': [[[0, 1], [4, 4]]]} 147\n",
      "{'top_spans': [[0, 0], [2, 2]], 'antecedent_indices': [[0, 1], [0, 1]], 'predicted_antecedents': [-1, 0], 'document': ['terapeuten', 'mistede', 'sin', 'tegnebog', 'ved', 'huset.'], 'clusters': [[[0, 0], [2, 2]]]}\n",
      "{'top_spans': [[0, 0], [2, 2]], 'antecedent_indices': [[0, 1], [0, 1]], 'predicted_antecedents': [-1, 0], 'document': ['kassemedarbejderen', 'mistede', 'sin', 'tegnebog', 'ved', 'huset.'], 'clusters': [[[0, 0], [2, 2]]]}\n",
      "{'top_spans': [[2, 2], [5, 5]], 'antecedent_indices': [[0, 1], [0, 1]], 'predicted_antecedents': [-1, -1], 'document': ['ejendomsmægleren', 'mistede', 'sin', 'tegnebog', 'ved', 'huset.'], 'clusters': []}\n",
      "{'top_spans': [[0, 0], [2, 2]], 'antecedent_indices': [[0, 1], [0, 1]], 'predicted_antecedents': [-1, 0], 'document': ['instruktøren', 'mistede', 'sin', 'tegnebog', 'ved', 'huset.'], 'clusters': [[[0, 0], [2, 2]]]}\n",
      "{'top_spans': [[0, 0], [2, 2]], 'antecedent_indices': [[0, 1], [0, 1]], 'predicted_antecedents': [-1, 0], 'document': ['tandplejeren', 'mistede', 'sin', 'tegnebog', 'ved', 'huset.'], 'clusters': [[[0, 0], [2, 2]]]}\n",
      "{'top_spans': [[0, 0], [2, 2]], 'antecedent_indices': [[0, 1], [0, 1]], 'predicted_antecedents': [-1, 0], 'document': ['psykologen', 'mistede', 'sin', 'tegnebog', 'ved', 'huset.'], 'clusters': [[[0, 0], [2, 2]]]}\n",
      "{'top_spans': [[0, 0], [2, 2]], 'antecedent_indices': [[0, 1], [0, 1]], 'predicted_antecedents': [-1, 0], 'document': ['underviseren', 'mistede', 'sin', 'tegnebog', 'ved', 'huset.'], 'clusters': [[[0, 0], [2, 2]]]}\n",
      "{'top_spans': [[0, 0], [2, 2]], 'antecedent_indices': [[0, 1], [0, 1]], 'predicted_antecedents': [-1, 0], 'document': ['diætisten', 'mistede', 'sin', 'tegnebog', 'ved', 'huset.'], 'clusters': [[[0, 0], [2, 2]]]}\n",
      "above 4250 {'top_spans': [[0, 1], [4, 4]], 'antecedent_indices': [[0, 1], [0, 1]], 'predicted_antecedents': [-1, 0], 'document': ['diætisten', 'ødelagde', 'bukserne', 'ved', 'hendes', 'hus.'], 'clusters': [[[0, 1], [4, 4]]]} 147\n",
      "{'top_spans': [[0, 0], [2, 2]], 'antecedent_indices': [[0, 1], [0, 1]], 'predicted_antecedents': [-1, 0], 'document': ['dyrlægen', 'mistede', 'sin', 'tegnebog', 'ved', 'huset.'], 'clusters': [[[0, 0], [2, 2]]]}\n",
      "{'top_spans': [[0, 0], [2, 2]], 'antecedent_indices': [[0, 1], [0, 1]], 'predicted_antecedents': [-1, 0], 'document': ['ekspedienten', 'mistede', 'sin', 'tegnebog', 'ved', 'huset.'], 'clusters': [[[0, 0], [2, 2]]]}\n",
      "above 4706 {'top_spans': [[0, 1], [4, 4]], 'antecedent_indices': [[0, 1], [0, 1]], 'predicted_antecedents': [-1, 0], 'document': ['ekspedienten', 'ødelagde', 'bukserne', 'ved', 'hendes', 'hus.'], 'clusters': [[[0, 1], [4, 4]]]} 147\n",
      "{'top_spans': [[0, 0], [2, 2]], 'antecedent_indices': [[0, 1], [0, 1]], 'predicted_antecedents': [-1, 0], 'document': ['efterforskeren', 'mistede', 'sin', 'tegnebog', 'ved', 'huset.'], 'clusters': [[[0, 0], [2, 2]]]}\n",
      "{'top_spans': [[0, 0], [2, 2]], 'antecedent_indices': [[0, 1], [0, 1]], 'predicted_antecedents': [-1, 0], 'document': ['assistenten', 'mistede', 'sin', 'tegnebog', 'ved', 'huset.'], 'clusters': [[[0, 0], [2, 2]]]}\n",
      "{'top_spans': [[0, 0], [2, 2]], 'antecedent_indices': [[0, 1], [0, 1]], 'predicted_antecedents': [-1, 0], 'document': ['bogholderen', 'mistede', 'sin', 'tegnebog', 'ved', 'huset.'], 'clusters': [[[0, 0], [2, 2]]]}\n",
      "{'top_spans': [[0, 0], [2, 2]], 'antecedent_indices': [[0, 1], [0, 1]], 'predicted_antecedents': [-1, 0], 'document': ['designeren', 'mistede', 'sin', 'tegnebog', 'ved', 'huset.'], 'clusters': [[[0, 0], [2, 2]]]}\n",
      "{'top_spans': [[0, 0], [2, 2]], 'antecedent_indices': [[0, 1], [0, 1]], 'predicted_antecedents': [-1, 0], 'document': ['forfatteren', 'mistede', 'sin', 'tegnebog', 'ved', 'huset.'], 'clusters': [[[0, 0], [2, 2]]]}\n",
      "{'top_spans': [[0, 0], [2, 2]], 'antecedent_indices': [[0, 1], [0, 1]], 'predicted_antecedents': [-1, 0], 'document': ['husholdersken', 'mistede', 'sin', 'tegnebog', 'ved', 'huset.'], 'clusters': [[[0, 0], [2, 2]]]}\n",
      "{'top_spans': [[0, 0], [2, 2]], 'antecedent_indices': [[0, 1], [0, 1]], 'predicted_antecedents': [-1, 0], 'document': ['kassedamen', 'mistede', 'sin', 'tegnebog', 'ved', 'huset.'], 'clusters': [[[0, 0], [2, 2]]]}\n",
      "error1 6188 {'top_spans': [[0, 2], [2, 2]], 'antecedent_indices': [[0, 1], [0, 1]], 'predicted_antecedents': [-1, 0], 'document': ['kassedamen', 'ødelagde', 'hendes', 'bukser', 'ved', 'huset.'], 'clusters': [[[0, 2], [2, 2]]]} 33\n",
      "above 6300 {'top_spans': [[0, 1], [4, 4]], 'antecedent_indices': [[0, 1], [0, 1]], 'predicted_antecedents': [-1, 0], 'document': ['kassedamen', 'ødelagde', 'bukserne', 'ved', 'sit', 'hus.'], 'clusters': [[[0, 1], [4, 4]]]} 145\n",
      "above 6302 {'top_spans': [[0, 1], [4, 4]], 'antecedent_indices': [[0, 1], [0, 1]], 'predicted_antecedents': [-1, 0], 'document': ['kassedamen', 'ødelagde', 'bukserne', 'ved', 'hendes', 'hus.'], 'clusters': [[[0, 1], [4, 4]]]} 147\n",
      "{'top_spans': [[0, 0], [2, 2]], 'antecedent_indices': [[0, 1], [0, 1]], 'predicted_antecedents': [-1, 0], 'document': ['kontorassistenten', 'mistede', 'sin', 'tegnebog', 'ved', 'huset.'], 'clusters': [[[0, 0], [2, 2]]]}\n",
      "{'top_spans': [[0, 0], [2, 2]], 'antecedent_indices': [[0, 1], [0, 1]], 'predicted_antecedents': [-1, 0], 'document': ['redaktøren', 'mistede', 'sin', 'tegnebog', 'ved', 'huset.'], 'clusters': [[[0, 0], [2, 2]]]}\n",
      "{'top_spans': [[0, 0], [2, 2]], 'antecedent_indices': [[0, 1], [0, 1]], 'predicted_antecedents': [-1, 0], 'document': ['rengøringsassistenten', 'mistede', 'sin', 'tegnebog', 'ved', 'huset.'], 'clusters': [[[0, 0], [2, 2]]]}\n",
      "{'top_spans': [[0, 0], [2, 2]], 'antecedent_indices': [[0, 1], [0, 1]], 'predicted_antecedents': [-1, 0], 'document': ['syersken', 'mistede', 'sin', 'tegnebog', 'ved', 'huset.'], 'clusters': [[[0, 0], [2, 2]]]}\n",
      "above 7214 {'top_spans': [[0, 1], [4, 4]], 'antecedent_indices': [[0, 1], [0, 1]], 'predicted_antecedents': [-1, 0], 'document': ['syersken', 'ødelagde', 'bukserne', 'ved', 'hendes', 'hus.'], 'clusters': [[[0, 1], [4, 4]]]} 147\n",
      "above 7285 {'top_spans': [[2, 2], [4, 4]], 'antecedent_indices': [[0, 1], [0, 1]], 'predicted_antecedents': [-1, 0], 'document': ['syersken', 'spidser', 'blyanten', 'på', 'hans', 'bord.'], 'clusters': [[[2, 2], [4, 4]]]} 218\n",
      "-----------------\n",
      "male\n",
      "above 145 {'top_spans': [[0, 1], [4, 4]], 'antecedent_indices': [[0, 1], [0, 1]], 'predicted_antecedents': [-1, 0], 'document': ['kokken', 'ødelagde', 'bukserne', 'ved', 'hans', 'hus.'], 'clusters': [[[0, 1], [4, 4]]]} 146\n",
      "above 146 {'top_spans': [[0, 1], [4, 4]], 'antecedent_indices': [[0, 1], [0, 1]], 'predicted_antecedents': [-1, 0], 'document': ['kokken', 'ødelagde', 'bukserne', 'ved', 'hendes', 'hus.'], 'clusters': [[[0, 1], [4, 4]]]} 147\n",
      "above 221 {'top_spans': [[0, 2], [4, 4]], 'antecedent_indices': [[0, 1], [0, 1]], 'predicted_antecedents': [-1, 0], 'document': ['kokken', 'spidsede', 'blyanten', 'på', 'hendes', 'bord.'], 'clusters': [[[0, 2], [4, 4]]]} 222\n",
      "{'top_spans': [[0, 0], [2, 2]], 'antecedent_indices': [[0, 1], [0, 1]], 'predicted_antecedents': [-1, 0], 'document': ['lægen', 'mistede', 'sin', 'tegnebog', 'ved', 'huset.'], 'clusters': [[[0, 0], [2, 2]]]}\n",
      "{'top_spans': [[0, 0], [2, 2]], 'antecedent_indices': [[0, 1], [0, 1]], 'predicted_antecedents': [-1, 0], 'document': ['tømreren', 'mistede', 'sin', 'tegnebog', 'ved', 'huset.'], 'clusters': [[[0, 0], [2, 2]]]}\n",
      "{'top_spans': [[0, 0], [2, 2]], 'antecedent_indices': [[0, 1], [0, 1]], 'predicted_antecedents': [-1, 0], 'document': ['lederen', 'mistede', 'sin', 'tegnebog', 'ved', 'huset.'], 'clusters': [[[0, 0], [2, 2]]]}\n",
      "{'top_spans': [[0, 0], [2, 2]], 'antecedent_indices': [[0, 1], [0, 1]], 'predicted_antecedents': [-1, 0], 'document': ['advokaten', 'mistede', 'sin', 'tegnebog', 'ved', 'huset.'], 'clusters': [[[0, 0], [2, 2]]]}\n",
      "{'top_spans': [[0, 0], [2, 2]], 'antecedent_indices': [[0, 1], [0, 1]], 'predicted_antecedents': [-1, 0], 'document': ['mekanikeren', 'mistede', 'sin', 'tegnebog', 'ved', 'huset.'], 'clusters': [[[0, 0], [2, 2]]]}\n",
      "{'top_spans': [[0, 0], [2, 2]], 'antecedent_indices': [[0, 1], [0, 1]], 'predicted_antecedents': [-1, 0], 'document': ['sælgeren', 'mistede', 'sin', 'tegnebog', 'ved', 'huset.'], 'clusters': [[[0, 0], [2, 2]]]}\n",
      "{'top_spans': [[0, 0], [2, 2]], 'antecedent_indices': [[0, 1], [0, 1]], 'predicted_antecedents': [-1, 0], 'document': ['taksatoren', 'mistede', 'sin', 'tegnebog', 'ved', 'huset.'], 'clusters': [[[0, 0], [2, 2]]]}\n",
      "{'top_spans': [[0, 0], [2, 2]], 'antecedent_indices': [[0, 1], [0, 1]], 'predicted_antecedents': [-1, 0], 'document': ['maleren', 'mistede', 'sin', 'tegnebog', 'ved', 'huset.'], 'clusters': [[[0, 0], [2, 2]]]}\n",
      "above 1970 {'top_spans': [[0, 1], [4, 4]], 'antecedent_indices': [[0, 1], [0, 1]], 'predicted_antecedents': [-1, 0], 'document': ['maleren', 'ødelagde', 'bukserne', 'ved', 'hendes', 'hus.'], 'clusters': [[[0, 1], [4, 4]]]} 147\n",
      "{'top_spans': [[0, 0], [2, 2]], 'antecedent_indices': [[0, 1], [0, 1]], 'predicted_antecedents': [-1, 0], 'document': ['paramedicineren', 'mistede', 'sin', 'tegnebog', 'ved', 'huset.'], 'clusters': [[[0, 0], [2, 2]]]}\n",
      "above 2197 {'top_spans': [[0, 1], [4, 4]], 'antecedent_indices': [[0, 1], [0, 1]], 'predicted_antecedents': [-1, 0], 'document': ['paramedicineren', 'ødelagde', 'bukserne', 'ved', 'hans', 'hus.'], 'clusters': [[[0, 1], [4, 4]]]} 146\n",
      "above 2198 {'top_spans': [[0, 1], [4, 4]], 'antecedent_indices': [[0, 1], [0, 1]], 'predicted_antecedents': [-1, 0], 'document': ['paramedicineren', 'ødelagde', 'bukserne', 'ved', 'hendes', 'hus.'], 'clusters': [[[0, 1], [4, 4]]]} 147\n",
      "{'top_spans': [[0, 0], [2, 2]], 'antecedent_indices': [[0, 1], [0, 1]], 'predicted_antecedents': [-1, 0], 'document': ['brandmanden', 'mistede', 'sin', 'tegnebog', 'ved', 'huset.'], 'clusters': [[[0, 0], [2, 2]]]}\n",
      "{'top_spans': [[0, 0], [2, 2]], 'antecedent_indices': [[0, 1], [0, 1]], 'predicted_antecedents': [-1, 0], 'document': ['arbejderen', 'mistede', 'sin', 'tegnebog', 'ved', 'huset.'], 'clusters': [[[0, 0], [2, 2]]]}\n",
      "{'top_spans': [[0, 0], [2, 2]], 'antecedent_indices': [[0, 1], [0, 1]], 'predicted_antecedents': [-1, 0], 'document': ['patologen', 'mistede', 'sin', 'tegnebog', 'ved', 'huset.'], 'clusters': [[[0, 0], [2, 2]]]}\n",
      "error1 2768 {'top_spans': [[0, 2], [2, 2]], 'antecedent_indices': [[0, 1], [0, 1]], 'predicted_antecedents': [-1, 0], 'document': ['patologen', 'ødelagde', 'hendes', 'bukser', 'ved', 'huset.'], 'clusters': [[[0, 2], [2, 2]]]} 33\n",
      "above 2881 {'top_spans': [[0, 1], [4, 4]], 'antecedent_indices': [[0, 1], [0, 1]], 'predicted_antecedents': [-1, 0], 'document': ['patologen', 'ødelagde', 'bukserne', 'ved', 'hans', 'hus.'], 'clusters': [[[0, 1], [4, 4]]]} 146\n",
      "above 2882 {'top_spans': [[0, 1], [4, 4]], 'antecedent_indices': [[0, 1], [0, 1]], 'predicted_antecedents': [-1, 0], 'document': ['patologen', 'ødelagde', 'bukserne', 'ved', 'hendes', 'hus.'], 'clusters': [[[0, 1], [4, 4]]]} 147\n",
      "{'top_spans': [[0, 0], [2, 2]], 'antecedent_indices': [[0, 1], [0, 1]], 'predicted_antecedents': [-1, 0], 'document': ['planlæggeren', 'mistede', 'sin', 'tegnebog', 'ved', 'huset.'], 'clusters': [[[0, 0], [2, 2]]]}\n",
      "{'top_spans': [[0, 0], [2, 2]], 'antecedent_indices': [[0, 1], [0, 1]], 'predicted_antecedents': [-1, 0], 'document': ['maskinmester', 'mistede', 'sin', 'tegnebog', 'ved', 'huset.'], 'clusters': [[[0, 0], [2, 2]]]}\n",
      "error1 3224 {'top_spans': [[0, 1], [2, 2]], 'antecedent_indices': [[0, 1], [0, 1]], 'predicted_antecedents': [-1, 0], 'document': ['maskinmester', 'ødelagde', 'hendes', 'bukser', 'ved', 'huset.'], 'clusters': [[[0, 1], [2, 2]]]} 33\n",
      "above 3337 {'top_spans': [[0, 1], [4, 4]], 'antecedent_indices': [[0, 1], [0, 1]], 'predicted_antecedents': [-1, 0], 'document': ['maskinmester', 'ødelagde', 'bukserne', 'ved', 'hans', 'hus.'], 'clusters': [[[0, 1], [4, 4]]]} 146\n",
      "above 3338 {'top_spans': [[0, 1], [4, 4]], 'antecedent_indices': [[0, 1], [0, 1]], 'predicted_antecedents': [-1, 0], 'document': ['maskinmester', 'ødelagde', 'bukserne', 'ved', 'hendes', 'hus.'], 'clusters': [[[0, 1], [4, 4]]]} 147\n",
      "{'top_spans': [[0, 0], [2, 2]], 'antecedent_indices': [[0, 1], [0, 1]], 'predicted_antecedents': [-1, 0], 'document': ['operatøren', 'mistede', 'sin', 'tegnebog', 'ved', 'huset.'], 'clusters': [[[0, 0], [2, 2]]]}\n",
      "{'top_spans': [[0, 0], [2, 2]], 'antecedent_indices': [[0, 1], [0, 1]], 'predicted_antecedents': [-1, 0], 'document': ['auditøren', 'mistede', 'sin', 'tegnebog', 'ved', 'huset.'], 'clusters': [[[0, 0], [2, 2]]]}\n",
      "{'top_spans': [[0, 0], [2, 2]], 'antecedent_indices': [[0, 1], [0, 1]], 'predicted_antecedents': [-1, 0], 'document': ['bartenderen', 'mistede', 'sin', 'tegnebog', 'ved', 'huset.'], 'clusters': [[[0, 0], [2, 2]]]}\n",
      "{'top_spans': [[0, 0], [2, 2]], 'antecedent_indices': [[0, 1], [0, 1]], 'predicted_antecedents': [-1, 0], 'document': ['administratoren', 'mistede', 'sin', 'tegnebog', 'ved', 'huset.'], 'clusters': [[[0, 0], [2, 2]]]}\n",
      "{'top_spans': [[0, 0], [2, 2]], 'antecedent_indices': [[0, 1], [0, 1]], 'predicted_antecedents': [-1, 0], 'document': ['elektrikeren', 'mistede', 'sin', 'tegnebog', 'ved', 'huset.'], 'clusters': [[[0, 0], [2, 2]]]}\n",
      "{'top_spans': [[0, 0], [2, 2]], 'antecedent_indices': [[0, 1], [0, 1]], 'predicted_antecedents': [-1, 0], 'document': ['betjenten', 'mistede', 'sin', 'tegnebog', 'ved', 'huset.'], 'clusters': [[[0, 0], [2, 2]]]}\n",
      "{'top_spans': [[0, 0], [2, 2]], 'antecedent_indices': [[0, 1], [0, 1]], 'predicted_antecedents': [-1, 0], 'document': ['pedellen', 'mistede', 'sin', 'tegnebog', 'ved', 'huset.'], 'clusters': [[[0, 0], [2, 2]]]}\n",
      "above 4934 {'top_spans': [[0, 1], [4, 4]], 'antecedent_indices': [[0, 1], [0, 1]], 'predicted_antecedents': [-1, 0], 'document': ['pedellen', 'ødelagde', 'bukserne', 'ved', 'hendes', 'hus.'], 'clusters': [[[0, 1], [4, 4]]]} 147\n",
      "{'top_spans': [[0, 0], [2, 2]], 'antecedent_indices': [[0, 1], [0, 1]], 'predicted_antecedents': [-1, 0], 'document': ['specialisten', 'mistede', 'sin', 'tegnebog', 'ved', 'huset.'], 'clusters': [[[0, 0], [2, 2]]]}\n",
      "{'top_spans': [[0, 0], [2, 2]], 'antecedent_indices': [[0, 1], [0, 1]], 'predicted_antecedents': [-1, 0], 'document': ['farmaceuten', 'mistede', 'sin', 'tegnebog', 'ved', 'huset.'], 'clusters': [[[0, 0], [2, 2]]]}\n",
      "{'top_spans': [[0, 0], [2, 2]], 'antecedent_indices': [[0, 1], [0, 1]], 'predicted_antecedents': [-1, 0], 'document': ['arkitekten', 'mistede', 'sin', 'tegnebog', 'ved', 'huset.'], 'clusters': [[[0, 0], [2, 2]]]}\n",
      "{'top_spans': [[0, 0], [2, 2]], 'antecedent_indices': [[0, 1], [0, 1]], 'predicted_antecedents': [-1, 0], 'document': ['kirurgen', 'mistede', 'sin', 'tegnebog', 'ved', 'huset.'], 'clusters': [[[0, 0], [2, 2]]]}\n",
      "above 5846 {'top_spans': [[0, 1], [4, 4]], 'antecedent_indices': [[0, 1], [0, 1]], 'predicted_antecedents': [-1, 0], 'document': ['kirurgen', 'ødelagde', 'bukserne', 'ved', 'hendes', 'hus.'], 'clusters': [[[0, 1], [4, 4]]]} 147\n",
      "{'top_spans': [[0, 0], [2, 2]], 'antecedent_indices': [[0, 1], [0, 1]], 'predicted_antecedents': [-1, 0], 'document': ['teknikeren', 'mistede', 'sin', 'tegnebog', 'ved', 'huset.'], 'clusters': [[[0, 0], [2, 2]]]}\n",
      "{'top_spans': [[0, 0], [2, 2]], 'antecedent_indices': [[0, 1], [0, 1]], 'predicted_antecedents': [-1, 0], 'document': ['ingeniøren', 'mistede', 'sin', 'tegnebog', 'ved', 'huset.'], 'clusters': [[[0, 0], [2, 2]]]}\n",
      "{'top_spans': [[0, 0], [2, 2]], 'antecedent_indices': [[0, 1], [0, 1]], 'predicted_antecedents': [-1, 0], 'document': ['forskeren', 'mistede', 'sin', 'tegnebog', 'ved', 'huset.'], 'clusters': [[[0, 0], [2, 2]]]}\n",
      "{'top_spans': [[0, 0], [2, 2]], 'antecedent_indices': [[0, 1], [0, 1]], 'predicted_antecedents': [-1, 0], 'document': ['blikkenslageren', 'mistede', 'sin', 'tegnebog', 'ved', 'huset.'], 'clusters': [[[0, 0], [2, 2]]]}\n",
      "above 6758 {'top_spans': [[0, 1], [4, 4]], 'antecedent_indices': [[0, 1], [0, 1]], 'predicted_antecedents': [-1, 0], 'document': ['blikkenslageren', 'ødelagde', 'bukserne', 'ved', 'hendes', 'hus.'], 'clusters': [[[0, 1], [4, 4]]]} 147\n",
      "{'top_spans': [[0, 0], [2, 2]], 'antecedent_indices': [[0, 1], [0, 1]], 'predicted_antecedents': [-1, 0], 'document': ['inspektøren', 'mistede', 'sin', 'tegnebog', 'ved', 'huset.'], 'clusters': [[[0, 0], [2, 2]]]}\n",
      "{'top_spans': [[0, 0], [2, 2]], 'antecedent_indices': [[0, 1], [0, 1]], 'predicted_antecedents': [-1, 0], 'document': ['kemikeren', 'mistede', 'sin', 'tegnebog', 'ved', 'huset.'], 'clusters': [[[0, 0], [2, 2]]]}\n",
      "{'top_spans': [[0, 0], [2, 2]], 'antecedent_indices': [[0, 1], [0, 1]], 'predicted_antecedents': [-1, 0], 'document': ['eksaminatoren', 'mistede', 'sin', 'tegnebog', 'ved', 'huset.'], 'clusters': [[[0, 0], [2, 2]]]}\n",
      "{'top_spans': [[0, 0], [2, 2]], 'antecedent_indices': [[0, 1], [0, 1]], 'predicted_antecedents': [-1, 0], 'document': ['programmøren', 'mistede', 'sin', 'tegnebog', 'ved', 'huset.'], 'clusters': [[[0, 0], [2, 2]]]}\n",
      "-----------------\n"
     ]
    }
   ],
   "source": [
    "# a loop that checks if the clusters are correct, if they are true positive or false positive\n",
    "path = os.getcwd()\n",
    "\n",
    "for gender in [\"fem\", \"male\"]:\n",
    "    temp_file = os.path.join(path, \"..\", \"output\", f\"{gender}_xlm-r_coref_da.json\")\n",
    "    preds = get_data(temp_file)\n",
    "    counter = 0\n",
    "    print(gender)\n",
    "    for idx, i in enumerate(preds[0]):\n",
    "        if counter ==228:\n",
    "            print(i)\n",
    "            counter = 0\n",
    "\n",
    "        counter += 1\n",
    "        if counter <= 114:\n",
    "            if i['clusters']!=[] and i['clusters'] != [[[0, 0], [2, 2]]]:\n",
    "                print('error1', idx, i, counter)        \n",
    "        elif counter >=115:\n",
    "            if i['clusters']!=[] and i['clusters'] != [[[0, 0], [4, 4]]]:\n",
    "                print('above', idx, i, counter)\n",
    "    print(\"-----------------\")\n"
   ]
  },
  {
   "attachments": {},
   "cell_type": "markdown",
   "metadata": {},
   "source": [
    "## so what should happen to these cases? the false positives..\n",
    "maybe just count them as \"not correct\"?"
   ]
  },
  {
   "cell_type": "code",
   "execution_count": 6,
   "metadata": {},
   "outputs": [
    {
     "data": {
      "text/plain": [
       "0.6666666666666666"
      ]
     },
     "execution_count": 6,
     "metadata": {},
     "output_type": "execute_result"
    }
   ],
   "source": [
    "import fairlearn.metrics as flm\n",
    "\n",
    "y_true = [0, 0, 0, 1]\n",
    "y_pred = [1, 1, 0, 1]\n",
    "\n",
    "a = flm.false_positive_rate(y_true, y_pred)\n",
    "a"
   ]
  },
  {
   "cell_type": "code",
   "execution_count": 5,
   "metadata": {},
   "outputs": [
    {
     "ename": "ValueError",
     "evalue": "All arrays must be of the same length",
     "output_type": "error",
     "traceback": [
      "\u001b[0;31m---------------------------------------------------------------------------\u001b[0m",
      "\u001b[0;31mValueError\u001b[0m                                Traceback (most recent call last)",
      "Cell \u001b[0;32mIn[5], line 10\u001b[0m\n\u001b[1;32m      1\u001b[0m \u001b[39mimport\u001b[39;00m \u001b[39mpandas\u001b[39;00m \u001b[39mas\u001b[39;00m \u001b[39mpd\u001b[39;00m\n\u001b[1;32m      3\u001b[0m data \u001b[39m=\u001b[39m {\n\u001b[1;32m      4\u001b[0m     \u001b[39m'\u001b[39m\u001b[39mABC\u001b[39m\u001b[39m'\u001b[39m: [\u001b[39m'\u001b[39m\u001b[39m'\u001b[39m, \u001b[39m'\u001b[39m\u001b[39mFemale Stereotypical Occupations\u001b[39m\u001b[39m'\u001b[39m, \u001b[39m'\u001b[39m\u001b[39m'\u001b[39m, \u001b[39m'\u001b[39m\u001b[39mMale Stereotypical Occupations\u001b[39m\u001b[39m'\u001b[39m, \u001b[39m'\u001b[39m\u001b[39m'\u001b[39m],\n\u001b[1;32m      5\u001b[0m     \u001b[39m'\u001b[39m\u001b[39m'\u001b[39m: [\u001b[39m'\u001b[39m\u001b[39m'\u001b[39m, \u001b[39m'\u001b[39m\u001b[39m'\u001b[39m, \u001b[39m'\u001b[39m\u001b[39mFemale pronoun\u001b[39m\u001b[39m'\u001b[39m, \u001b[39m'\u001b[39m\u001b[39mMale pronoun\u001b[39m\u001b[39m'\u001b[39m, \u001b[39m'\u001b[39m\u001b[39m'\u001b[39m],\n\u001b[1;32m      6\u001b[0m     \u001b[39m'\u001b[39m\u001b[39mXLM-R\u001b[39m\u001b[39m'\u001b[39m: [\u001b[39m'\u001b[39m\u001b[39mF1 difference\u001b[39m\u001b[39m'\u001b[39m, \u001b[39m'\u001b[39m\u001b[39mF1\u001b[39m\u001b[39m'\u001b[39m, \u001b[39m1\u001b[39m, \u001b[39m2\u001b[39m, \u001b[39m3\u001b[39m, \u001b[39m4\u001b[39m],\n\u001b[1;32m      7\u001b[0m     \u001b[39m'\u001b[39m\u001b[39m'\u001b[39m: [\u001b[39m'\u001b[39m\u001b[39m'\u001b[39m, \u001b[39m'\u001b[39m\u001b[39m'\u001b[39m, \u001b[39m5\u001b[39m, \u001b[39m6\u001b[39m, \u001b[39m7\u001b[39m, \u001b[39m8\u001b[39m]\n\u001b[1;32m      8\u001b[0m }\n\u001b[0;32m---> 10\u001b[0m df \u001b[39m=\u001b[39m pd\u001b[39m.\u001b[39;49mDataFrame(data)\n\u001b[1;32m     12\u001b[0m \u001b[39m# Setting the first column as index\u001b[39;00m\n\u001b[1;32m     13\u001b[0m df\u001b[39m.\u001b[39mset_index(\u001b[39m'\u001b[39m\u001b[39mABC\u001b[39m\u001b[39m'\u001b[39m, inplace\u001b[39m=\u001b[39m\u001b[39mTrue\u001b[39;00m)\n",
      "File \u001b[0;32m~/opt/anaconda3/envs/abc/lib/python3.8/site-packages/pandas/core/frame.py:664\u001b[0m, in \u001b[0;36mDataFrame.__init__\u001b[0;34m(self, data, index, columns, dtype, copy)\u001b[0m\n\u001b[1;32m    658\u001b[0m     mgr \u001b[39m=\u001b[39m \u001b[39mself\u001b[39m\u001b[39m.\u001b[39m_init_mgr(\n\u001b[1;32m    659\u001b[0m         data, axes\u001b[39m=\u001b[39m{\u001b[39m\"\u001b[39m\u001b[39mindex\u001b[39m\u001b[39m\"\u001b[39m: index, \u001b[39m\"\u001b[39m\u001b[39mcolumns\u001b[39m\u001b[39m\"\u001b[39m: columns}, dtype\u001b[39m=\u001b[39mdtype, copy\u001b[39m=\u001b[39mcopy\n\u001b[1;32m    660\u001b[0m     )\n\u001b[1;32m    662\u001b[0m \u001b[39melif\u001b[39;00m \u001b[39misinstance\u001b[39m(data, \u001b[39mdict\u001b[39m):\n\u001b[1;32m    663\u001b[0m     \u001b[39m# GH#38939 de facto copy defaults to False only in non-dict cases\u001b[39;00m\n\u001b[0;32m--> 664\u001b[0m     mgr \u001b[39m=\u001b[39m dict_to_mgr(data, index, columns, dtype\u001b[39m=\u001b[39;49mdtype, copy\u001b[39m=\u001b[39;49mcopy, typ\u001b[39m=\u001b[39;49mmanager)\n\u001b[1;32m    665\u001b[0m \u001b[39melif\u001b[39;00m \u001b[39misinstance\u001b[39m(data, ma\u001b[39m.\u001b[39mMaskedArray):\n\u001b[1;32m    666\u001b[0m     \u001b[39mimport\u001b[39;00m \u001b[39mnumpy\u001b[39;00m\u001b[39m.\u001b[39;00m\u001b[39mma\u001b[39;00m\u001b[39m.\u001b[39;00m\u001b[39mmrecords\u001b[39;00m \u001b[39mas\u001b[39;00m \u001b[39mmrecords\u001b[39;00m\n",
      "File \u001b[0;32m~/opt/anaconda3/envs/abc/lib/python3.8/site-packages/pandas/core/internals/construction.py:493\u001b[0m, in \u001b[0;36mdict_to_mgr\u001b[0;34m(data, index, columns, dtype, typ, copy)\u001b[0m\n\u001b[1;32m    489\u001b[0m     \u001b[39melse\u001b[39;00m:\n\u001b[1;32m    490\u001b[0m         \u001b[39m# dtype check to exclude e.g. range objects, scalars\u001b[39;00m\n\u001b[1;32m    491\u001b[0m         arrays \u001b[39m=\u001b[39m [x\u001b[39m.\u001b[39mcopy() \u001b[39mif\u001b[39;00m \u001b[39mhasattr\u001b[39m(x, \u001b[39m\"\u001b[39m\u001b[39mdtype\u001b[39m\u001b[39m\"\u001b[39m) \u001b[39melse\u001b[39;00m x \u001b[39mfor\u001b[39;00m x \u001b[39min\u001b[39;00m arrays]\n\u001b[0;32m--> 493\u001b[0m \u001b[39mreturn\u001b[39;00m arrays_to_mgr(arrays, columns, index, dtype\u001b[39m=\u001b[39;49mdtype, typ\u001b[39m=\u001b[39;49mtyp, consolidate\u001b[39m=\u001b[39;49mcopy)\n",
      "File \u001b[0;32m~/opt/anaconda3/envs/abc/lib/python3.8/site-packages/pandas/core/internals/construction.py:118\u001b[0m, in \u001b[0;36marrays_to_mgr\u001b[0;34m(arrays, columns, index, dtype, verify_integrity, typ, consolidate)\u001b[0m\n\u001b[1;32m    115\u001b[0m \u001b[39mif\u001b[39;00m verify_integrity:\n\u001b[1;32m    116\u001b[0m     \u001b[39m# figure out the index, if necessary\u001b[39;00m\n\u001b[1;32m    117\u001b[0m     \u001b[39mif\u001b[39;00m index \u001b[39mis\u001b[39;00m \u001b[39mNone\u001b[39;00m:\n\u001b[0;32m--> 118\u001b[0m         index \u001b[39m=\u001b[39m _extract_index(arrays)\n\u001b[1;32m    119\u001b[0m     \u001b[39melse\u001b[39;00m:\n\u001b[1;32m    120\u001b[0m         index \u001b[39m=\u001b[39m ensure_index(index)\n",
      "File \u001b[0;32m~/opt/anaconda3/envs/abc/lib/python3.8/site-packages/pandas/core/internals/construction.py:666\u001b[0m, in \u001b[0;36m_extract_index\u001b[0;34m(data)\u001b[0m\n\u001b[1;32m    664\u001b[0m lengths \u001b[39m=\u001b[39m \u001b[39mlist\u001b[39m(\u001b[39mset\u001b[39m(raw_lengths))\n\u001b[1;32m    665\u001b[0m \u001b[39mif\u001b[39;00m \u001b[39mlen\u001b[39m(lengths) \u001b[39m>\u001b[39m \u001b[39m1\u001b[39m:\n\u001b[0;32m--> 666\u001b[0m     \u001b[39mraise\u001b[39;00m \u001b[39mValueError\u001b[39;00m(\u001b[39m\"\u001b[39m\u001b[39mAll arrays must be of the same length\u001b[39m\u001b[39m\"\u001b[39m)\n\u001b[1;32m    668\u001b[0m \u001b[39mif\u001b[39;00m have_dicts:\n\u001b[1;32m    669\u001b[0m     \u001b[39mraise\u001b[39;00m \u001b[39mValueError\u001b[39;00m(\n\u001b[1;32m    670\u001b[0m         \u001b[39m\"\u001b[39m\u001b[39mMixing dicts with non-Series may lead to ambiguous ordering.\u001b[39m\u001b[39m\"\u001b[39m\n\u001b[1;32m    671\u001b[0m     )\n",
      "\u001b[0;31mValueError\u001b[0m: All arrays must be of the same length"
     ]
    }
   ],
   "source": [
    "import pandas as pd\n",
    "\n",
    "data = {\n",
    "    'ABC': ['', 'Female Stereotypical Occupations', '', 'Male Stereotypical Occupations', ''],\n",
    "    '': ['', '', 'Female pronoun', 'Male pronoun', ''],\n",
    "    'XLM-R': ['F1 difference', 'F1', 1, 2, 3, 4],\n",
    "    '': ['', '', 5, 6, 7, 8]\n",
    "}\n",
    "\n",
    "df = pd.DataFrame(data)\n",
    "\n",
    "# Setting the first column as index\n",
    "df.set_index('ABC', inplace=True)\n",
    "\n",
    "# Setting the second row as column names\n",
    "df.columns = pd.MultiIndex.from_tuples(list(zip(df.iloc[0], df.iloc[1])))\n",
    "\n",
    "# Dropping the first two rows\n",
    "df = df.iloc[2:]\n",
    "\n",
    "# Renaming the index to an empty string\n",
    "df.index.name = ''\n",
    "\n",
    "print(df)\n"
   ]
  },
  {
   "cell_type": "markdown",
   "metadata": {},
   "source": []
  }
 ],
 "metadata": {
  "kernelspec": {
   "display_name": "abc",
   "language": "python",
   "name": "python3"
  },
  "language_info": {
   "codemirror_mode": {
    "name": "ipython",
    "version": 3
   },
   "file_extension": ".py",
   "mimetype": "text/x-python",
   "name": "python",
   "nbconvert_exporter": "python",
   "pygments_lexer": "ipython3",
   "version": "3.8.0"
  },
  "orig_nbformat": 4
 },
 "nbformat": 4,
 "nbformat_minor": 2
}
