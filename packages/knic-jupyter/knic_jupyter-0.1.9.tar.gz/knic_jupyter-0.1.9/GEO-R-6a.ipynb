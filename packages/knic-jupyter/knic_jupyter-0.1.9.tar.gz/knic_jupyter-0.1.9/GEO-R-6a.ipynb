{
 "cells": [
  {
   "cell_type": "markdown",
   "id": "6b241031-7db0-4edf-9019-fc593a607418",
   "metadata": {},
   "source": [
    "Initialize geonames notebook"
   ]
  },
  {
   "cell_type": "code",
   "execution_count": 1,
   "id": "d072f855-1a3d-4881-a082-b2171205e7a5",
   "metadata": {},
   "outputs": [],
   "source": [
    "from kgtk.functions import kgtk\n",
    "edges_path = 'data/geonames_sample.tsv.gz'"
   ]
  },
  {
   "cell_type": "code",
   "execution_count": 2,
   "id": "861574d8-c6e0-4c09-a5bc-5147ac3e2f91",
   "metadata": {},
   "outputs": [
    {
     "name": "stdout",
     "output_type": "stream",
     "text": [
      "GEO-R-2a.ipynb                 GEO-S-3.ipynb\n",
      "GEO-R-2b.ipynb                 GEO-S-4.ipynb\n",
      "GEO-R-4a.ipynb                 GEO-S-5.ipynb\n",
      "GEO-R-4b.ipynb                 GEO-S-6.ipynb\n",
      "GEO-R-6a.ipynb                 GEO-S-7.ipynb\n",
      "GEO-R-6b.ipynb                 GEO-SC-1-2.ipynb\n",
      "GEO-R-7a.ipynb                 GEO-SC-2-4.ipynb\n",
      "GEO-R-7b.ipynb                 GEO-SC-3-5.ipynb\n",
      "GEO-S-0.ipynb                  GEO-SC-6-7.ipynb\n",
      "GEO-S-1.ipynb                  \u001b[34mdata\u001b[m\u001b[m\n",
      "GEO-S-2.ipynb                  geonames-correct-answers.ipynb\n"
     ]
    }
   ],
   "source": [
    "!ls"
   ]
  },
  {
   "cell_type": "markdown",
   "id": "c391c6a6-98eb-4602-a880-d4fc52ff018e",
   "metadata": {},
   "source": [
    "Find all locations, sorted by population"
   ]
  },
  {
   "cell_type": "code",
   "execution_count": 20,
   "id": "b3bfa57d-44de-430f-8b04-0f2edcdeb364",
   "metadata": {},
   "outputs": [
    {
     "name": "stderr",
     "output_type": "stream",
     "text": [
      "Exception in thread background thread for pid 63780:\n",
      "Traceback (most recent call last):\n",
      "  File \"/Users/gleb/miniconda3/envs/m12-evaluation/lib/python3.9/threading.py\", line 980, in _bootstrap_inner\n",
      "    self.run()\n",
      "  File \"/Users/gleb/miniconda3/envs/m12-evaluation/lib/python3.9/threading.py\", line 917, in run\n",
      "    self._target(*self._args, **self._kwargs)\n",
      "  File \"/Users/gleb/miniconda3/envs/m12-evaluation/lib/python3.9/site-packages/sh.py\", line 1641, in wrap\n",
      "    fn(*rgs, **kwargs)\n",
      "  File \"/Users/gleb/miniconda3/envs/m12-evaluation/lib/python3.9/site-packages/sh.py\", line 2569, in background_thread\n",
      "    handle_exit_code(exit_code)\n",
      "  File \"/Users/gleb/miniconda3/envs/m12-evaluation/lib/python3.9/site-packages/sh.py\", line 2269, in fn\n",
      "    return self.command.handle_command_exit_code(exit_code)\n",
      "  File \"/Users/gleb/miniconda3/envs/m12-evaluation/lib/python3.9/site-packages/sh.py\", line 869, in handle_command_exit_code\n",
      "    raise exc\n",
      "sh.ErrorReturnCode_127: \n",
      "\n",
      "  RAN: /bin/bash -c 'kgtk    query -i data/geonames_sample.tsv.gz   --match '\"'\"'(loc)-[:name]->(name), (loc)-[:population]->(population)'\"'\"'   --return '\"'\"'name as name, population as population'\"'\"'   --order-by '\"'\"'cast(population, int)'\"'\"'   --where '\"'\"'population != 0'\"'\"''\n",
      "\n",
      "  STDOUT:\n",
      "\n",
      "\n",
      "  STDERR:\n",
      "\n"
     ]
    },
    {
     "name": "stdout",
     "output_type": "stream",
     "text": [
      "/bin/bash: kgtk: command not found\n",
      "\n"
     ]
    }
   ],
   "source": [
    "# TODO: Change sort order from population to latitude\n",
    "df = kgtk(f\"\"\"\n",
    "  query -i {edges_path}\n",
    "  --match '(loc)-[:name]->(name), (loc)-[:population]->(population)'\n",
    "  --return 'name as name, population as population'\n",
    "  --order-by 'cast(population, int)'\n",
    "  --where 'population != 0'\n",
    "\"\"\")"
   ]
  },
  {
   "cell_type": "markdown",
   "id": "bfa2b526-abe5-4014-b40e-046127386e44",
   "metadata": {},
   "source": [
    "Print results of geonames query"
   ]
  },
  {
   "cell_type": "code",
   "execution_count": 21,
   "id": "72fe3f07-9332-4ca2-b50f-3f3380a9f875",
   "metadata": {},
   "outputs": [
    {
     "name": "stdout",
     "output_type": "stream",
     "text": [
      "None\n"
     ]
    }
   ],
   "source": [
    "print(df)"
   ]
  },
  {
   "cell_type": "code",
   "execution_count": null,
   "id": "72c1e034-1e12-498d-87f2-9421655bdf00",
   "metadata": {},
   "outputs": [],
   "source": []
  }
 ],
 "metadata": {
  "kernelspec": {
   "display_name": "m12-evaluation",
   "language": "python",
   "name": "m12-evaluation"
  },
  "language_info": {
   "codemirror_mode": {
    "name": "ipython",
    "version": 3
   },
   "file_extension": ".py",
   "mimetype": "text/x-python",
   "name": "python",
   "nbconvert_exporter": "python",
   "pygments_lexer": "ipython3",
   "version": "3.9.13"
  }
 },
 "nbformat": 4,
 "nbformat_minor": 5
}
