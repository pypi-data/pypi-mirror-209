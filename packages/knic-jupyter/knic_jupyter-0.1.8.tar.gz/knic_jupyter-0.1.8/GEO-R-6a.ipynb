{
 "cells": [
  {
   "cell_type": "markdown",
   "id": "6b241031-7db0-4edf-9019-fc593a607418",
   "metadata": {},
   "source": [
    "Initialize geonames notebook"
   ]
  },
  {
   "cell_type": "code",
   "execution_count": 1,
   "id": "d072f855-1a3d-4881-a082-b2171205e7a5",
   "metadata": {},
   "outputs": [],
   "source": [
    "from kgtk.functions import kgtk\n",
    "from kgtk.functions import kgtk"
   ]
  },
  {
   "cell_type": "code",
   "execution_count": 2,
   "id": "861574d8-c6e0-4c09-a5bc-5147ac3e2f91",
   "metadata": {},
   "outputs": [
    {
     "name": "stdout",
     "output_type": "stream",
     "text": [
      "/Users/gleb/knic/knic-jupyter\n"
     ]
    }
   ],
   "source": [
    "!pwd"
   ]
  },
  {
   "cell_type": "markdown",
   "id": "c391c6a6-98eb-4602-a880-d4fc52ff018e",
   "metadata": {},
   "source": [
    "Find all locations, sorted by population"
   ]
  },
  {
   "cell_type": "code",
   "execution_count": 7,
   "id": "06a51eb8-2e07-4d43-9222-089f0765b1fa",
   "metadata": {},
   "outputs": [
    {
     "name": "stdout",
     "output_type": "stream",
     "text": [
      "CHANGELOG.md         docker-compose.yaml  \u001b[31mrun-jupyter-lab.sh\u001b[m\u001b[m\n",
      "Dockerfile           environment.yaml     setup.py\n",
      "GEO-R-6a.ipynb       install.json         \u001b[34msrc\u001b[m\u001b[m\n",
      "LICENSE              jest.config.js       \u001b[34mstyle\u001b[m\u001b[m\n",
      "MANIFEST.in          \u001b[34mknic-jupyter\u001b[m\u001b[m         tsconfig.json\n",
      "README.md            \u001b[34mlib\u001b[m\u001b[m                  tsconfig.tsbuildinfo\n",
      "RELEASE.md           \u001b[34mnode_modules\u001b[m\u001b[m         \u001b[34mui-tests\u001b[m\u001b[m\n",
      "babel.config.js      package.json         yarn.lock\n",
      "config.py            pyproject.toml\n",
      "\u001b[34mdist\u001b[m\u001b[m                 requirements.txt\n"
     ]
    }
   ],
   "source": [
    "!ls"
   ]
  },
  {
   "cell_type": "code",
   "execution_count": 18,
   "id": "fe6c2289-8798-4e60-a1e1-9c043ce5f160",
   "metadata": {},
   "outputs": [
    {
     "ename": "SyntaxError",
     "evalue": "cannot assign to operator (2795168903.py, line 1)",
     "output_type": "error",
     "traceback": [
      "\u001b[0;36m  Cell \u001b[0;32mIn[18], line 1\u001b[0;36m\u001b[0m\n\u001b[0;31m    1 + 1 = 2\u001b[0m\n\u001b[0m    ^\u001b[0m\n\u001b[0;31mSyntaxError\u001b[0m\u001b[0;31m:\u001b[0m cannot assign to operator\n"
     ]
    }
   ],
   "source": [
    "1 + 1 = 2\n"
   ]
  },
  {
   "cell_type": "code",
   "execution_count": 20,
   "id": "b3bfa57d-44de-430f-8b04-0f2edcdeb364",
   "metadata": {},
   "outputs": [
    {
     "name": "stderr",
     "output_type": "stream",
     "text": [
      "Exception in thread background thread for pid 63780:\n",
      "Traceback (most recent call last):\n",
      "  File \"/Users/gleb/miniconda3/envs/m12-evaluation/lib/python3.9/threading.py\", line 980, in _bootstrap_inner\n",
      "    self.run()\n",
      "  File \"/Users/gleb/miniconda3/envs/m12-evaluation/lib/python3.9/threading.py\", line 917, in run\n",
      "    self._target(*self._args, **self._kwargs)\n",
      "  File \"/Users/gleb/miniconda3/envs/m12-evaluation/lib/python3.9/site-packages/sh.py\", line 1641, in wrap\n",
      "    fn(*rgs, **kwargs)\n",
      "  File \"/Users/gleb/miniconda3/envs/m12-evaluation/lib/python3.9/site-packages/sh.py\", line 2569, in background_thread\n",
      "    handle_exit_code(exit_code)\n",
      "  File \"/Users/gleb/miniconda3/envs/m12-evaluation/lib/python3.9/site-packages/sh.py\", line 2269, in fn\n",
      "    return self.command.handle_command_exit_code(exit_code)\n",
      "  File \"/Users/gleb/miniconda3/envs/m12-evaluation/lib/python3.9/site-packages/sh.py\", line 869, in handle_command_exit_code\n",
      "    raise exc\n",
      "sh.ErrorReturnCode_127: \n",
      "\n",
      "  RAN: /bin/bash -c 'kgtk    query -i data/geonames_sample.tsv.gz   --match '\"'\"'(loc)-[:name]->(name), (loc)-[:population]->(population)'\"'\"'   --return '\"'\"'name as name, population as population'\"'\"'   --order-by '\"'\"'cast(population, int)'\"'\"'   --where '\"'\"'population != 0'\"'\"''\n",
      "\n",
      "  STDOUT:\n",
      "\n",
      "\n",
      "  STDERR:\n",
      "\n"
     ]
    },
    {
     "name": "stdout",
     "output_type": "stream",
     "text": [
      "/bin/bash: kgtk: command not found\n",
      "\n"
     ]
    }
   ],
   "source": [
    "# TODO: Change sort order from population to latitude\n",
    "df = kgtk(f\"\"\"\n",
    "  query -i {edges_path}\n",
    "  --match '(loc)-[:name]->(name), (loc)-[:population]->(population)'\n",
    "  --return 'name as name, population as population'\n",
    "  --order-by 'cast(population, int)'\n",
    "  --where 'population != 0'\n",
    "\"\"\")"
   ]
  },
  {
   "cell_type": "code",
   "execution_count": null,
   "id": "9764810b-7741-4491-8d0f-df30a66c5475",
   "metadata": {},
   "outputs": [],
   "source": []
  },
  {
   "cell_type": "markdown",
   "id": "bfa2b526-abe5-4014-b40e-046127386e44",
   "metadata": {},
   "source": [
    "Print results of geonames query"
   ]
  },
  {
   "cell_type": "code",
   "execution_count": 21,
   "id": "72fe3f07-9332-4ca2-b50f-3f3380a9f875",
   "metadata": {},
   "outputs": [
    {
     "name": "stdout",
     "output_type": "stream",
     "text": [
      "None\n"
     ]
    }
   ],
   "source": [
    "print(df)"
   ]
  },
  {
   "cell_type": "code",
   "execution_count": null,
   "id": "72c1e034-1e12-498d-87f2-9421655bdf00",
   "metadata": {},
   "outputs": [],
   "source": []
  }
 ],
 "metadata": {
  "kernelspec": {
   "display_name": "m12-evaluation",
   "language": "python",
   "name": "m12-evaluation"
  },
  "language_info": {
   "codemirror_mode": {
    "name": "ipython",
    "version": 3
   },
   "file_extension": ".py",
   "mimetype": "text/x-python",
   "name": "python",
   "nbconvert_exporter": "python",
   "pygments_lexer": "ipython3",
   "version": "3.9.13"
  }
 },
 "nbformat": 4,
 "nbformat_minor": 5
}
