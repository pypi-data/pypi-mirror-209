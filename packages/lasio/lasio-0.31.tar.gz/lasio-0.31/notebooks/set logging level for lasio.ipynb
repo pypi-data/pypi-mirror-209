{
 "cells": [
  {
   "cell_type": "markdown",
   "metadata": {},
   "source": [
    "`lasio` uses the [`logging` module](https://docs.python.org/3.6/howto/logging.html) to log warnings and other information when manipulating LAS files."
   ]
  },
  {
   "cell_type": "code",
   "execution_count": 1,
   "metadata": {},
   "outputs": [],
   "source": [
    "import logging\n",
    "import lasio"
   ]
  },
  {
   "cell_type": "markdown",
   "metadata": {},
   "source": [
    "Sometimes you may want more or less information shown to you when you are reading LAS files with `lasio`. \n",
    "\n",
    "By default in a Jupyter Notebook the logging level is set to `WARNING`, so you will only see a certain class of messages:"
   ]
  },
  {
   "cell_type": "code",
   "execution_count": 2,
   "metadata": {},
   "outputs": [],
   "source": [
    "l = lasio.read(\"../tests/examples/sample.las\")"
   ]
  },
  {
   "cell_type": "markdown",
   "metadata": {},
   "source": [
    "To get more information when loading a file, you can set the logging level to `INFO`. First, instantiate the root logger with a basic configuration:"
   ]
  },
  {
   "cell_type": "code",
   "execution_count": 3,
   "metadata": {},
   "outputs": [],
   "source": [
    "logging.basicConfig()"
   ]
  },
  {
   "cell_type": "markdown",
   "metadata": {},
   "source": [
    "Then get the `lasio` logger object and set the logging level to `INFO`:"
   ]
  },
  {
   "cell_type": "code",
   "execution_count": 4,
   "metadata": {},
   "outputs": [
    {
     "name": "stderr",
     "output_type": "stream",
     "text": [
      "INFO:lasio.reader:Opening ../tests/examples/sample.las as ascii and treating errors with \"replace\"\n"
     ]
    }
   ],
   "source": [
    "lasio_logger = logging.getLogger(\"lasio\")\n",
    "lasio_logger.setLevel(logging.INFO)\n",
    "\n",
    "l = lasio.read('../tests/examples/sample.las')"
   ]
  },
  {
   "cell_type": "markdown",
   "metadata": {},
   "source": [
    "To get more information, you can set the logging level to `DEBUG`:"
   ]
  },
  {
   "cell_type": "code",
   "execution_count": 5,
   "metadata": {},
   "outputs": [
    {
     "name": "stderr",
     "output_type": "stream",
     "text": [
      "DEBUG:lasio.las:Reading ../tests/examples/sample.las...\n",
      "DEBUG:lasio.las:Ignore header lines beginning with ('#',)\n",
      "DEBUG:lasio.las:Ignore data lines beginning with #\n",
      "DEBUG:lasio.reader:get_encoding Using chardet\n",
      "DEBUG:lasio.reader:chardet method detected encoding of ascii at confidence 1.0\n",
      "INFO:lasio.reader:Opening ../tests/examples/sample.las as ascii and treating errors with \"replace\"\n",
      "DEBUG:lasio.las:Fetching substitutions for read_policy default and null policy strict\n",
      "DEBUG:lasio.las:Found 6 sections\n",
      "DEBUG:lasio.las:Parsing Header items section at lines 1-3 (0 bytes) ~VERSION INFORMATION\n",
      "DEBUG:lasio.reader:Line 1: Section title parsed as '~VERSION INFORMATION'\n",
      "DEBUG:lasio.reader:Line 2: parsed as HeaderItem(mnemonic=\"VERS\", unit=\"\", value=\"1.2\", descr=\"CWLS LOG ASCII STANDA\")\n",
      "DEBUG:lasio.reader:Line 3: parsed as HeaderItem(mnemonic=\"WRAP\", unit=\"\", value=\"NO\", descr=\"ONE LINE PER DEPTH STE\")\n",
      "DEBUG:lasio.las:Parsing Header items section at lines 4-18 (143 bytes) ~WELL INFORMATION BLOCK\n",
      "DEBUG:lasio.reader:Line 4: Section title parsed as '~WELL INFORMATION BLOCK'\n",
      "DEBUG:lasio.reader:Line 5: treating as a comment and ignoring: '#MNEM.UNIT       DATA TYPE    INFORMATION'\n",
      "DEBUG:lasio.reader:Line 6: treating as a comment and ignoring: '#---------    -------------   ------------------------------'\n",
      "DEBUG:lasio.reader:Line 7: parsed as HeaderItem(mnemonic=\"STRT\", unit=\"M\", value=\"1670.0\", descr=\"\")\n",
      "DEBUG:lasio.reader:Line 8: parsed as HeaderItem(mnemonic=\"STOP\", unit=\"M\", value=\"1669.75\", descr=\"\")\n",
      "DEBUG:lasio.reader:Line 9: parsed as HeaderItem(mnemonic=\"STEP\", unit=\"M\", value=\"-0.125\", descr=\"\")\n",
      "DEBUG:lasio.reader:Line 10: parsed as HeaderItem(mnemonic=\"NULL\", unit=\"\", value=\"-999.25\", descr=\"\")\n",
      "DEBUG:lasio.reader:Line 11: parsed as HeaderItem(mnemonic=\"COMP\", unit=\"\", value=\"# ANY OIL COMPANY LTD.\", descr=\"CO\")\n",
      "DEBUG:lasio.reader:Line 12: parsed as HeaderItem(mnemonic=\"WELL\", unit=\"\", value=\"ANY ET AL OIL WELL #12\", descr=\"WE\")\n",
      "DEBUG:lasio.reader:Line 13: parsed as HeaderItem(mnemonic=\"FLD\", unit=\"\", value=\"EDAM\", descr=\"FIELD\")\n",
      "DEBUG:lasio.reader:Line 14: parsed as HeaderItem(mnemonic=\"LOC\", unit=\"\", value=\"A9-16-49-20W3M\", descr=\"LOCATION\")\n",
      "DEBUG:lasio.reader:Line 15: parsed as HeaderItem(mnemonic=\"PROV\", unit=\"\", value=\"SASKATCHEWAN\", descr=\"PROVINCE\")\n",
      "DEBUG:lasio.reader:Line 16: parsed as HeaderItem(mnemonic=\"SRVC\", unit=\"\", value=\"ANY LOGGING COMPANY LTD.\", descr=\"\")\n",
      "DEBUG:lasio.reader:Line 17: parsed as HeaderItem(mnemonic=\"DATE\", unit=\"\", value=\"25-DEC-1988\", descr=\"LOG DATE\")\n",
      "DEBUG:lasio.reader:Line 18: parsed as HeaderItem(mnemonic=\"UWI\", unit=\"\", value=\"100091604920W300\", descr=\"UNIQUE WE\")\n",
      "DEBUG:lasio.las:Parsing Header items section at lines 19-29 (755 bytes) ~CURVE INFORMATION\n",
      "DEBUG:lasio.reader:Line 19: Section title parsed as '~CURVE INFORMATION'\n",
      "DEBUG:lasio.reader:Line 20: treating as a comment and ignoring: '#MNEM.UNIT      API CODE      CURVE DESCRIPTION'\n",
      "DEBUG:lasio.reader:Line 21: treating as a comment and ignoring: '#---------    -------------   ------------------------------'\n",
      "DEBUG:lasio.reader:Line 22: parsed as CurveItem(mnemonic=\"DEPT\", unit=\"M\", value=\"\", descr=\"1  DEPTH\", original_mnemonic=\"DEPT\", data.shape=(0,))\n",
      "DEBUG:lasio.reader:Line 23: parsed as CurveItem(mnemonic=\"DT\", unit=\"US/M\", value=\"\", descr=\"2  SONIC TRANSIT TIME\", original_mnemonic=\"DT\", data.shape=(0,))\n",
      "DEBUG:lasio.reader:Line 24: parsed as CurveItem(mnemonic=\"RHOB\", unit=\"K/M3\", value=\"\", descr=\"3  BULK DENSITY\", original_mnemonic=\"RHOB\", data.shape=(0,))\n",
      "DEBUG:lasio.reader:Line 25: parsed as CurveItem(mnemonic=\"NPHI\", unit=\"V/V\", value=\"\", descr=\"4   NEUTRON POROSITY\", original_mnemonic=\"NPHI\", data.shape=(0,))\n",
      "DEBUG:lasio.reader:Line 26: parsed as CurveItem(mnemonic=\"SFLU\", unit=\"OHMM\", value=\"\", descr=\"5  RXO RESISTIVITY\", original_mnemonic=\"SFLU\", data.shape=(0,))\n",
      "DEBUG:lasio.reader:Line 27: parsed as CurveItem(mnemonic=\"SFLA\", unit=\"OHMM\", value=\"\", descr=\"6  SHALLOW RESISTIVITY\", original_mnemonic=\"SFLA\", data.shape=(0,))\n",
      "DEBUG:lasio.reader:Line 28: parsed as CurveItem(mnemonic=\"ILM\", unit=\"OHMM\", value=\"\", descr=\"7  MEDIUM RESISTIVITY\", original_mnemonic=\"ILM\", data.shape=(0,))\n",
      "DEBUG:lasio.reader:Line 29: parsed as CurveItem(mnemonic=\"ILD\", unit=\"OHMM\", value=\"\", descr=\"8  DEEP RESISTIVITY\", original_mnemonic=\"ILD\", data.shape=(0,))\n",
      "DEBUG:lasio.las:Parsing Header items section at lines 30-39 (1284 bytes) ~PARAMETER INFORMATION\n",
      "DEBUG:lasio.reader:Line 30: Section title parsed as '~PARAMETER INFORMATION'\n",
      "DEBUG:lasio.reader:Line 31: treating as a comment and ignoring: '#MNEM.UNIT        VALUE       DESCRIPTION'\n",
      "DEBUG:lasio.reader:Line 32: treating as a comment and ignoring: '#---------    -------------   ------------------------------'\n",
      "DEBUG:lasio.reader:Line 33: parsed as HeaderItem(mnemonic=\"BHT\", unit=\"DEGC\", value=\"35.5\", descr=\"BOTTOM HOLE TEMPE\")\n",
      "DEBUG:lasio.reader:Line 34: parsed as HeaderItem(mnemonic=\"BS\", unit=\"MM\", value=\"200.0\", descr=\"BIT SIZE\")\n",
      "DEBUG:lasio.reader:Line 35: parsed as HeaderItem(mnemonic=\"FD\", unit=\"K/M3\", value=\"1000.0\", descr=\"FLUID DENSITY\")\n",
      "DEBUG:lasio.reader:Line 36: parsed as HeaderItem(mnemonic=\"MATR\", unit=\"\", value=\"0.0\", descr=\"NEUTRON MATRIX(0=LIME\")\n",
      "DEBUG:lasio.reader:Line 37: parsed as HeaderItem(mnemonic=\"MDEN\", unit=\"\", value=\"2710.0\", descr=\"LOGGING MATRIX DEN\")\n",
      "DEBUG:lasio.reader:Line 38: parsed as HeaderItem(mnemonic=\"RMF\", unit=\"OHMM\", value=\"0.216\", descr=\"MUD FILTRATE RES\")\n",
      "DEBUG:lasio.reader:Line 39: parsed as HeaderItem(mnemonic=\"DFD\", unit=\"K/M3\", value=\"1525.0\", descr=\"DRILL FLUID DEN\")\n",
      "DEBUG:lasio.las:Parsing Header (other) section at lines 40-42 (1772 bytes) ~Other\n",
      "DEBUG:lasio.las:Parsing Data section at lines 43-47 (1905 bytes) ~A  DEPTH     DT       RHOB     NPHI     SFLU     SFLA      ILM      ILD\n",
      "DEBUG:lasio.las:Storing reference and returning later...\n",
      "DEBUG:lasio.reader:using read policy of \"default\"\n",
      "DEBUG:lasio.reader:adding substitution comma-decimal-mark\n",
      "DEBUG:lasio.reader:adding substitution run-on(-)\n",
      "DEBUG:lasio.reader:adding substitution run-on(.)\n",
      "DEBUG:lasio.reader:added regexp substitution: pattern=re.compile('(\\\\d),(\\\\d)') substr=\"\\1.\\2\"\n",
      "DEBUG:lasio.reader:added regexp substitution: pattern=re.compile('(\\\\d)-(\\\\d)') substr=\"\\1 -\\2\"\n",
      "DEBUG:lasio.reader:added regexp substitution: pattern=re.compile('-?\\\\d*\\\\.\\\\d*\\\\.\\\\d*|NaN[\\\\.-]\\\\d+') substr=\" NaN NaN \"\n",
      "DEBUG:lasio.reader:using null policy of \"strict\"\n",
      "DEBUG:lasio.reader:adding substitution NULL\n",
      "DEBUG:lasio.reader:located substitution for LAS.version.NULL as True\n",
      "DEBUG:lasio.reader:added numerical substitution: None\n",
      "DEBUG:lasio.las:Reading data section ~A  DEPTH     DT       RHOB     NPHI     SFLU     SFLA      ILM      ILD\n",
      "DEBUG:lasio.reader:Consistently found 8 columns\n",
      "DEBUG:lasio.las:Assigning data [1670.    1669.875 1669.75 ] to curve #0\n",
      "DEBUG:lasio.las:Replacing -999.25 with nan in 1-th curve\n",
      "DEBUG:lasio.las:Assigning data [123.45 123.45 123.45] to curve #1\n",
      "DEBUG:lasio.las:Replacing -999.25 with nan in 2-th curve\n",
      "DEBUG:lasio.las:Assigning data [2550. 2550. 2550.] to curve #2\n",
      "DEBUG:lasio.las:Replacing -999.25 with nan in 3-th curve\n",
      "DEBUG:lasio.las:Assigning data [0.45 0.45 0.45] to curve #3\n",
      "DEBUG:lasio.las:Replacing -999.25 with nan in 4-th curve\n",
      "DEBUG:lasio.las:Assigning data [123.45 123.45 123.45] to curve #4\n",
      "DEBUG:lasio.las:Replacing -999.25 with nan in 5-th curve\n",
      "DEBUG:lasio.las:Assigning data [123.45 123.45 123.45] to curve #5\n",
      "DEBUG:lasio.las:Replacing -999.25 with nan in 6-th curve\n",
      "DEBUG:lasio.las:Assigning data [110.2 110.2 110.2] to curve #6\n",
      "DEBUG:lasio.las:Replacing -999.25 with nan in 7-th curve\n",
      "DEBUG:lasio.las:Assigning data [105.6 105.6 105.6] to curve #7\n"
     ]
    }
   ],
   "source": [
    "lasio_logger.setLevel(logging.DEBUG)\n",
    "\n",
    "l = lasio.read('../tests/examples/sample.las')"
   ]
  },
  {
   "cell_type": "markdown",
   "metadata": {},
   "source": [
    "To see **all** of lasio's logger messages (for development purposes), use `TRACE_LASIO`. It's not obvious in the example below, but this shows a message for each line of the LAS file, e.g.:\n",
    "\n",
    "```\n",
    "DEBUG:lasio.las:Reading data section ~A  DEPTH     DT       RHOB     NPHI     SFLU     SFLA      ILM      ILD\n",
    "TRACE_LASIO:lasio.reader:Line 44: 8 items counted in '1670.000   123.450 2550.000    0.450  123.450  123.450  110.200  105.600'\n",
    "TRACE_LASIO:lasio.reader:Line 45: 8 items counted in '1669.875   123.450 2550.000    0.450  123.450  123.450  110.200  105.600'\n",
    "TRACE_LASIO:lasio.reader:Line 46: 8 items counted in '1669.750   123.450 2550.000    0.450  123.450  123.450  110.200  105.600'\n",
    "DEBUG:lasio.reader:Consistently found 8 columns\n",
    "```\n",
    "\n",
    "This will significantly slow down your code, so only do this if you need to."
   ]
  },
  {
   "cell_type": "code",
   "execution_count": 6,
   "metadata": {},
   "outputs": [
    {
     "name": "stderr",
     "output_type": "stream",
     "text": [
      "DEBUG:lasio.las:Reading ../tests/examples/sample.las...\n",
      "DEBUG:lasio.las:Ignore header lines beginning with ('#',)\n",
      "DEBUG:lasio.las:Ignore data lines beginning with #\n",
      "DEBUG:lasio.reader:get_encoding Using chardet\n",
      "DEBUG:lasio.reader:chardet method detected encoding of ascii at confidence 1.0\n",
      "INFO:lasio.reader:Opening ../tests/examples/sample.las as ascii and treating errors with \"replace\"\n",
      "DEBUG:lasio.las:Fetching substitutions for read_policy default and null policy strict\n",
      "DEBUG:lasio.las:Found 6 sections\n",
      "DEBUG:lasio.las:Parsing Header items section at lines 1-3 (0 bytes) ~VERSION INFORMATION\n",
      "DEBUG:lasio.reader:Line 1: Section title parsed as '~VERSION INFORMATION'\n",
      "DEBUG:lasio.reader:Line 2: parsed as HeaderItem(mnemonic=\"VERS\", unit=\"\", value=\"1.2\", descr=\"CWLS LOG ASCII STANDA\")\n",
      "DEBUG:lasio.reader:Line 3: parsed as HeaderItem(mnemonic=\"WRAP\", unit=\"\", value=\"NO\", descr=\"ONE LINE PER DEPTH STE\")\n",
      "DEBUG:lasio.las:Parsing Header items section at lines 4-18 (143 bytes) ~WELL INFORMATION BLOCK\n",
      "DEBUG:lasio.reader:Line 4: Section title parsed as '~WELL INFORMATION BLOCK'\n",
      "DEBUG:lasio.reader:Line 5: treating as a comment and ignoring: '#MNEM.UNIT       DATA TYPE    INFORMATION'\n",
      "DEBUG:lasio.reader:Line 6: treating as a comment and ignoring: '#---------    -------------   ------------------------------'\n",
      "DEBUG:lasio.reader:Line 7: parsed as HeaderItem(mnemonic=\"STRT\", unit=\"M\", value=\"1670.0\", descr=\"\")\n",
      "DEBUG:lasio.reader:Line 8: parsed as HeaderItem(mnemonic=\"STOP\", unit=\"M\", value=\"1669.75\", descr=\"\")\n",
      "DEBUG:lasio.reader:Line 9: parsed as HeaderItem(mnemonic=\"STEP\", unit=\"M\", value=\"-0.125\", descr=\"\")\n",
      "DEBUG:lasio.reader:Line 10: parsed as HeaderItem(mnemonic=\"NULL\", unit=\"\", value=\"-999.25\", descr=\"\")\n",
      "DEBUG:lasio.reader:Line 11: parsed as HeaderItem(mnemonic=\"COMP\", unit=\"\", value=\"# ANY OIL COMPANY LTD.\", descr=\"CO\")\n",
      "DEBUG:lasio.reader:Line 12: parsed as HeaderItem(mnemonic=\"WELL\", unit=\"\", value=\"ANY ET AL OIL WELL #12\", descr=\"WE\")\n",
      "DEBUG:lasio.reader:Line 13: parsed as HeaderItem(mnemonic=\"FLD\", unit=\"\", value=\"EDAM\", descr=\"FIELD\")\n",
      "DEBUG:lasio.reader:Line 14: parsed as HeaderItem(mnemonic=\"LOC\", unit=\"\", value=\"A9-16-49-20W3M\", descr=\"LOCATION\")\n",
      "DEBUG:lasio.reader:Line 15: parsed as HeaderItem(mnemonic=\"PROV\", unit=\"\", value=\"SASKATCHEWAN\", descr=\"PROVINCE\")\n",
      "DEBUG:lasio.reader:Line 16: parsed as HeaderItem(mnemonic=\"SRVC\", unit=\"\", value=\"ANY LOGGING COMPANY LTD.\", descr=\"\")\n",
      "DEBUG:lasio.reader:Line 17: parsed as HeaderItem(mnemonic=\"DATE\", unit=\"\", value=\"25-DEC-1988\", descr=\"LOG DATE\")\n",
      "DEBUG:lasio.reader:Line 18: parsed as HeaderItem(mnemonic=\"UWI\", unit=\"\", value=\"100091604920W300\", descr=\"UNIQUE WE\")\n",
      "DEBUG:lasio.las:Parsing Header items section at lines 19-29 (755 bytes) ~CURVE INFORMATION\n",
      "DEBUG:lasio.reader:Line 19: Section title parsed as '~CURVE INFORMATION'\n",
      "DEBUG:lasio.reader:Line 20: treating as a comment and ignoring: '#MNEM.UNIT      API CODE      CURVE DESCRIPTION'\n",
      "DEBUG:lasio.reader:Line 21: treating as a comment and ignoring: '#---------    -------------   ------------------------------'\n",
      "DEBUG:lasio.reader:Line 22: parsed as CurveItem(mnemonic=\"DEPT\", unit=\"M\", value=\"\", descr=\"1  DEPTH\", original_mnemonic=\"DEPT\", data.shape=(0,))\n",
      "DEBUG:lasio.reader:Line 23: parsed as CurveItem(mnemonic=\"DT\", unit=\"US/M\", value=\"\", descr=\"2  SONIC TRANSIT TIME\", original_mnemonic=\"DT\", data.shape=(0,))\n",
      "DEBUG:lasio.reader:Line 24: parsed as CurveItem(mnemonic=\"RHOB\", unit=\"K/M3\", value=\"\", descr=\"3  BULK DENSITY\", original_mnemonic=\"RHOB\", data.shape=(0,))\n",
      "DEBUG:lasio.reader:Line 25: parsed as CurveItem(mnemonic=\"NPHI\", unit=\"V/V\", value=\"\", descr=\"4   NEUTRON POROSITY\", original_mnemonic=\"NPHI\", data.shape=(0,))\n",
      "DEBUG:lasio.reader:Line 26: parsed as CurveItem(mnemonic=\"SFLU\", unit=\"OHMM\", value=\"\", descr=\"5  RXO RESISTIVITY\", original_mnemonic=\"SFLU\", data.shape=(0,))\n",
      "DEBUG:lasio.reader:Line 27: parsed as CurveItem(mnemonic=\"SFLA\", unit=\"OHMM\", value=\"\", descr=\"6  SHALLOW RESISTIVITY\", original_mnemonic=\"SFLA\", data.shape=(0,))\n",
      "DEBUG:lasio.reader:Line 28: parsed as CurveItem(mnemonic=\"ILM\", unit=\"OHMM\", value=\"\", descr=\"7  MEDIUM RESISTIVITY\", original_mnemonic=\"ILM\", data.shape=(0,))\n",
      "DEBUG:lasio.reader:Line 29: parsed as CurveItem(mnemonic=\"ILD\", unit=\"OHMM\", value=\"\", descr=\"8  DEEP RESISTIVITY\", original_mnemonic=\"ILD\", data.shape=(0,))\n",
      "DEBUG:lasio.las:Parsing Header items section at lines 30-39 (1284 bytes) ~PARAMETER INFORMATION\n",
      "DEBUG:lasio.reader:Line 30: Section title parsed as '~PARAMETER INFORMATION'\n",
      "DEBUG:lasio.reader:Line 31: treating as a comment and ignoring: '#MNEM.UNIT        VALUE       DESCRIPTION'\n",
      "DEBUG:lasio.reader:Line 32: treating as a comment and ignoring: '#---------    -------------   ------------------------------'\n",
      "DEBUG:lasio.reader:Line 33: parsed as HeaderItem(mnemonic=\"BHT\", unit=\"DEGC\", value=\"35.5\", descr=\"BOTTOM HOLE TEMPE\")\n",
      "DEBUG:lasio.reader:Line 34: parsed as HeaderItem(mnemonic=\"BS\", unit=\"MM\", value=\"200.0\", descr=\"BIT SIZE\")\n",
      "DEBUG:lasio.reader:Line 35: parsed as HeaderItem(mnemonic=\"FD\", unit=\"K/M3\", value=\"1000.0\", descr=\"FLUID DENSITY\")\n",
      "DEBUG:lasio.reader:Line 36: parsed as HeaderItem(mnemonic=\"MATR\", unit=\"\", value=\"0.0\", descr=\"NEUTRON MATRIX(0=LIME\")\n",
      "DEBUG:lasio.reader:Line 37: parsed as HeaderItem(mnemonic=\"MDEN\", unit=\"\", value=\"2710.0\", descr=\"LOGGING MATRIX DEN\")\n",
      "DEBUG:lasio.reader:Line 38: parsed as HeaderItem(mnemonic=\"RMF\", unit=\"OHMM\", value=\"0.216\", descr=\"MUD FILTRATE RES\")\n",
      "DEBUG:lasio.reader:Line 39: parsed as HeaderItem(mnemonic=\"DFD\", unit=\"K/M3\", value=\"1525.0\", descr=\"DRILL FLUID DEN\")\n",
      "DEBUG:lasio.las:Parsing Header (other) section at lines 40-42 (1772 bytes) ~Other\n",
      "DEBUG:lasio.las:Parsing Data section at lines 43-47 (1905 bytes) ~A  DEPTH     DT       RHOB     NPHI     SFLU     SFLA      ILM      ILD\n",
      "DEBUG:lasio.las:Storing reference and returning later...\n",
      "DEBUG:lasio.reader:using read policy of \"default\"\n",
      "DEBUG:lasio.reader:adding substitution comma-decimal-mark\n",
      "DEBUG:lasio.reader:adding substitution run-on(-)\n",
      "DEBUG:lasio.reader:adding substitution run-on(.)\n",
      "DEBUG:lasio.reader:added regexp substitution: pattern=re.compile('(\\\\d),(\\\\d)') substr=\"\\1.\\2\"\n",
      "DEBUG:lasio.reader:added regexp substitution: pattern=re.compile('(\\\\d)-(\\\\d)') substr=\"\\1 -\\2\"\n",
      "DEBUG:lasio.reader:added regexp substitution: pattern=re.compile('-?\\\\d*\\\\.\\\\d*\\\\.\\\\d*|NaN[\\\\.-]\\\\d+') substr=\" NaN NaN \"\n",
      "DEBUG:lasio.reader:using null policy of \"strict\"\n",
      "DEBUG:lasio.reader:adding substitution NULL\n",
      "DEBUG:lasio.reader:located substitution for LAS.version.NULL as True\n",
      "DEBUG:lasio.reader:added numerical substitution: None\n",
      "DEBUG:lasio.las:Reading data section ~A  DEPTH     DT       RHOB     NPHI     SFLU     SFLA      ILM      ILD\n",
      "TRACE_LASIO:lasio.reader:Line 44: 8 items counted in '1670.000   123.450 2550.000    0.450  123.450  123.450  110.200  105.600'\n",
      "TRACE_LASIO:lasio.reader:Line 45: 8 items counted in '1669.875   123.450 2550.000    0.450  123.450  123.450  110.200  105.600'\n",
      "TRACE_LASIO:lasio.reader:Line 46: 8 items counted in '1669.750   123.450 2550.000    0.450  123.450  123.450  110.200  105.600'\n",
      "DEBUG:lasio.reader:Consistently found 8 columns\n",
      "DEBUG:lasio.las:Assigning data [1670.    1669.875 1669.75 ] to curve #0\n",
      "DEBUG:lasio.las:Replacing -999.25 with nan in 1-th curve\n",
      "DEBUG:lasio.las:Assigning data [123.45 123.45 123.45] to curve #1\n",
      "DEBUG:lasio.las:Replacing -999.25 with nan in 2-th curve\n",
      "DEBUG:lasio.las:Assigning data [2550. 2550. 2550.] to curve #2\n",
      "DEBUG:lasio.las:Replacing -999.25 with nan in 3-th curve\n",
      "DEBUG:lasio.las:Assigning data [0.45 0.45 0.45] to curve #3\n",
      "DEBUG:lasio.las:Replacing -999.25 with nan in 4-th curve\n",
      "DEBUG:lasio.las:Assigning data [123.45 123.45 123.45] to curve #4\n",
      "DEBUG:lasio.las:Replacing -999.25 with nan in 5-th curve\n",
      "DEBUG:lasio.las:Assigning data [123.45 123.45 123.45] to curve #5\n",
      "DEBUG:lasio.las:Replacing -999.25 with nan in 6-th curve\n",
      "DEBUG:lasio.las:Assigning data [110.2 110.2 110.2] to curve #6\n",
      "DEBUG:lasio.las:Replacing -999.25 with nan in 7-th curve\n",
      "DEBUG:lasio.las:Assigning data [105.6 105.6 105.6] to curve #7\n"
     ]
    }
   ],
   "source": [
    "lasio_logger.setLevel(logging.TRACE_LASIO)\n",
    "\n",
    "l = lasio.read('../tests/examples/sample.las')"
   ]
  },
  {
   "cell_type": "markdown",
   "metadata": {},
   "source": [
    "One strategy for suppressing logging messages is to set the logger level to a very high level, such that only messages with a `CRITICAL` designation are shown:"
   ]
  },
  {
   "cell_type": "code",
   "execution_count": 7,
   "metadata": {},
   "outputs": [],
   "source": [
    "lasio_logger.setLevel(logging.CRITICAL)\n",
    "\n",
    "l = lasio.read('../tests/examples/sample.las')"
   ]
  },
  {
   "cell_type": "markdown",
   "metadata": {},
   "source": [
    "In that case, no messages were logged since no `CRITICAL` issues were encountered.\n",
    "\n",
    "Just to prove that the LAS file loaded, even though no messages were shown, here's a header item:"
   ]
  },
  {
   "cell_type": "code",
   "execution_count": 8,
   "metadata": {
    "scrolled": true
   },
   "outputs": [
    {
     "data": {
      "text/plain": [
       "HeaderItem(mnemonic=\"SRVC\", unit=\"\", value=\"ANY LOGGING COMPANY LTD.\", descr=\"\")"
      ]
     },
     "execution_count": 8,
     "metadata": {},
     "output_type": "execute_result"
    }
   ],
   "source": [
    "l.header['Well'].SRVC"
   ]
  }
 ],
 "metadata": {
  "kernelspec": {
   "display_name": "Python 3 (ipykernel)",
   "language": "python",
   "name": "python3"
  },
  "language_info": {
   "codemirror_mode": {
    "name": "ipython",
    "version": 3
   },
   "file_extension": ".py",
   "mimetype": "text/x-python",
   "name": "python",
   "nbconvert_exporter": "python",
   "pygments_lexer": "ipython3",
   "version": "3.10.9"
  }
 },
 "nbformat": 4,
 "nbformat_minor": 2
}
