{
 "cells": [
  {
   "cell_type": "code",
   "execution_count": 9,
   "id": "graduate-mathematics",
   "metadata": {},
   "outputs": [],
   "source": [
    "import lasio.examples"
   ]
  },
  {
   "cell_type": "markdown",
   "id": "central-giving",
   "metadata": {},
   "source": [
    "# Speed"
   ]
  },
  {
   "cell_type": "code",
   "execution_count": 10,
   "id": "varied-mambo",
   "metadata": {},
   "outputs": [
    {
     "name": "stdout",
     "output_type": "stream",
     "text": [
      "216 ms ± 30.4 ms per loop (mean ± std. dev. of 7 runs, 15 loops each)\n"
     ]
    }
   ],
   "source": [
    "%%timeit  -n 15\n",
    "\n",
    "lasio.examples.open(\"6038187_v1.2.las\")"
   ]
  },
  {
   "cell_type": "markdown",
   "id": "republican-yesterday",
   "metadata": {},
   "source": [
    "prior to trying to fix #217:        6038187_v1.2.las = 321 ms ± 34.8 ms per loop (mean ± std. dev. of 7 runs, 15 loops each)\n",
    "read-quoted-strings branch:         6038187_v1.2.las = 216 ms ± 37.9 ms per loop (mean ± std. dev. of 7 runs, 15 loops each)"
   ]
  },
  {
   "cell_type": "markdown",
   "id": "romantic-ontario",
   "metadata": {},
   "source": [
    "# Memory"
   ]
  },
  {
   "cell_type": "code",
   "execution_count": 11,
   "id": "hollywood-lucas",
   "metadata": {},
   "outputs": [],
   "source": [
    "import pickle"
   ]
  },
  {
   "cell_type": "code",
   "execution_count": 12,
   "id": "consistent-voltage",
   "metadata": {},
   "outputs": [
    {
     "data": {
      "text/plain": [
       "4192151"
      ]
     },
     "execution_count": 12,
     "metadata": {},
     "output_type": "execute_result"
    }
   ],
   "source": [
    "las = lasio.examples.open(\"logging_levels.las\")\n",
    "len(pickle.dumps(las))"
   ]
  },
  {
   "cell_type": "code",
   "execution_count": 13,
   "id": "musical-sacramento",
   "metadata": {},
   "outputs": [
    {
     "data": {
      "text/plain": [
       "198983"
      ]
     },
     "execution_count": 13,
     "metadata": {},
     "output_type": "execute_result"
    }
   ],
   "source": [
    "las = lasio.examples.open(\"6038187_v1.2.las\")\n",
    "len(pickle.dumps(las))"
   ]
  },
  {
   "cell_type": "code",
   "execution_count": null,
   "id": "horizontal-bathroom",
   "metadata": {},
   "outputs": [],
   "source": []
  }
 ],
 "metadata": {
  "kernelspec": {
   "display_name": "Python 3",
   "language": "python",
   "name": "python3"
  },
  "language_info": {
   "codemirror_mode": {
    "name": "ipython",
    "version": 3
   },
   "file_extension": ".py",
   "mimetype": "text/x-python",
   "name": "python",
   "nbconvert_exporter": "python",
   "pygments_lexer": "ipython3",
   "version": "3.9.1"
  }
 },
 "nbformat": 4,
 "nbformat_minor": 5
}
