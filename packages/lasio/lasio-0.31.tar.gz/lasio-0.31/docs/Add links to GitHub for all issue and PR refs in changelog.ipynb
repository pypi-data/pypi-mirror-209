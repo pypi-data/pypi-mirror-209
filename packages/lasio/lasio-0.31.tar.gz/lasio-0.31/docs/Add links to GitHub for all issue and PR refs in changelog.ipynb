{
 "cells": [
  {
   "cell_type": "code",
   "execution_count": 1,
   "id": "179f4066",
   "metadata": {},
   "outputs": [],
   "source": [
    "from pathlib import Path\n",
    "import re"
   ]
  },
  {
   "cell_type": "code",
   "execution_count": 5,
   "id": "b03ba106",
   "metadata": {},
   "outputs": [],
   "source": [
    "PATH_TO_REPO = \"..\""
   ]
  },
  {
   "cell_type": "markdown",
   "id": "eb140e49",
   "metadata": {},
   "source": [
    "Load ``changelog.rst``:"
   ]
  },
  {
   "cell_type": "code",
   "execution_count": 6,
   "id": "effc62ca",
   "metadata": {},
   "outputs": [],
   "source": [
    "fn = Path(PATH_TO_REPO) / \"docs\" / \"source\" / \"changelog.rst\""
   ]
  },
  {
   "cell_type": "code",
   "execution_count": 7,
   "id": "b90683fc",
   "metadata": {},
   "outputs": [
    {
     "name": "stdout",
     "output_type": "stream",
     "text": [
      "True: ..\\docs\\source\\changelog.rst\n"
     ]
    }
   ],
   "source": [
    "print(f\"{fn.is_file()}: {fn}\")"
   ]
  },
  {
   "cell_type": "markdown",
   "id": "dcc9ec63",
   "metadata": {},
   "source": [
    "Read the contents of ``changelog.rst``:"
   ]
  },
  {
   "cell_type": "code",
   "execution_count": 8,
   "id": "74991d1a",
   "metadata": {},
   "outputs": [],
   "source": [
    "with open(fn, \"r\") as f:\n",
    "    txt = f.read()"
   ]
  },
  {
   "cell_type": "markdown",
   "id": "5a8f8c63",
   "metadata": {},
   "source": [
    "Find all issue/PR references in the changelog RST source:"
   ]
  },
  {
   "cell_type": "code",
   "execution_count": 9,
   "id": "f3ae6317",
   "metadata": {},
   "outputs": [],
   "source": [
    "matches = sorted(set(re.findall(r\"#\\d*\", txt)), key=lambda x: int(x[1:]))"
   ]
  },
  {
   "cell_type": "markdown",
   "id": "b6ff873a",
   "metadata": {},
   "source": [
    "Convert all instances of ``#405`` to `` `#405` `` - this should NOT be run again:"
   ]
  },
  {
   "cell_type": "code",
   "execution_count": 10,
   "id": "162c9850",
   "metadata": {},
   "outputs": [],
   "source": [
    "#txt = re.sub(r\"#\\d*\", lambda m: f\"`{m.group()}`_\", txt) + \"\""
   ]
  },
  {
   "cell_type": "markdown",
   "id": "0150ac1b",
   "metadata": {},
   "source": [
    "Add references to GitHub to the bottom of the RST document:"
   ]
  },
  {
   "cell_type": "code",
   "execution_count": 11,
   "id": "a1883794",
   "metadata": {
    "scrolled": false
   },
   "outputs": [
    {
     "name": "stdout",
     "output_type": "stream",
     "text": [
      "Found ref for #17\n",
      "Found ref for #31\n",
      "Found ref for #71\n",
      "Found ref for #75\n",
      "Found ref for #78\n",
      "Found ref for #81\n",
      "Did not find #83 ref, adding...\n",
      "Found ref for #84\n",
      "Found ref for #85\n",
      "Found ref for #92\n",
      "Found ref for #135\n",
      "Found ref for #141\n",
      "Found ref for #142\n",
      "Found ref for #153\n",
      "Found ref for #155\n",
      "Found ref for #160\n",
      "Found ref for #164\n",
      "Found ref for #167\n",
      "Found ref for #168\n",
      "Found ref for #182\n",
      "Found ref for #201\n",
      "Found ref for #209\n",
      "Found ref for #210\n",
      "Found ref for #213\n",
      "Found ref for #214\n",
      "Found ref for #216\n",
      "Found ref for #218\n",
      "Found ref for #221\n",
      "Found ref for #223\n",
      "Found ref for #225\n",
      "Found ref for #226\n",
      "Found ref for #227\n",
      "Found ref for #233\n",
      "Found ref for #236\n",
      "Found ref for #237\n",
      "Found ref for #239\n",
      "Found ref for #249\n",
      "Found ref for #252\n",
      "Found ref for #256\n",
      "Found ref for #258\n",
      "Found ref for #259\n",
      "Found ref for #262\n",
      "Found ref for #264\n",
      "Did not find #265 ref, adding...\n",
      "Found ref for #268\n",
      "Found ref for #271\n",
      "Found ref for #277\n",
      "Found ref for #278\n",
      "Found ref for #284\n",
      "Found ref for #286\n",
      "Found ref for #292\n",
      "Found ref for #293\n",
      "Found ref for #296\n",
      "Found ref for #298\n",
      "Found ref for #300\n",
      "Found ref for #302\n",
      "Found ref for #303\n",
      "Found ref for #304\n",
      "Found ref for #310\n",
      "Found ref for #311\n",
      "Found ref for #312\n",
      "Found ref for #315\n",
      "Found ref for #317\n",
      "Found ref for #318\n",
      "Found ref for #319\n",
      "Found ref for #321\n",
      "Found ref for #325\n",
      "Found ref for #326\n",
      "Found ref for #327\n",
      "Found ref for #328\n",
      "Found ref for #329\n",
      "Found ref for #330\n",
      "Found ref for #331\n",
      "Did not find #332 ref, adding...\n",
      "Found ref for #333\n",
      "Found ref for #334\n",
      "Found ref for #335\n",
      "Found ref for #337\n",
      "Found ref for #338\n",
      "Found ref for #339\n",
      "Found ref for #340\n",
      "Found ref for #341\n",
      "Found ref for #342\n",
      "Found ref for #345\n",
      "Found ref for #346\n",
      "Found ref for #347\n",
      "Found ref for #348\n",
      "Found ref for #349\n",
      "Found ref for #350\n",
      "Found ref for #352\n",
      "Found ref for #353\n",
      "Found ref for #355\n",
      "Found ref for #358\n",
      "Found ref for #359\n",
      "Found ref for #360\n",
      "Found ref for #361\n",
      "Found ref for #363\n",
      "Found ref for #364\n",
      "Found ref for #367\n",
      "Found ref for #368\n",
      "Found ref for #369\n",
      "Found ref for #372\n",
      "Found ref for #373\n",
      "Found ref for #374\n",
      "Did not find #375 ref, adding...\n",
      "Found ref for #377\n",
      "Found ref for #380\n",
      "Found ref for #382\n",
      "Found ref for #385\n",
      "Found ref for #387\n",
      "Found ref for #390\n",
      "Found ref for #391\n",
      "Did not find #392 ref, adding...\n",
      "Found ref for #393\n",
      "Found ref for #395\n",
      "Found ref for #396\n",
      "Found ref for #397\n",
      "Found ref for #398\n",
      "Found ref for #399\n",
      "Found ref for #400\n",
      "Found ref for #401\n",
      "Found ref for #402\n",
      "Found ref for #403\n",
      "Found ref for #404\n",
      "Found ref for #406\n",
      "Found ref for #410\n",
      "Found ref for #411\n",
      "Found ref for #412\n",
      "Found ref for #417\n",
      "Found ref for #418\n",
      "Found ref for #419\n",
      "Found ref for #420\n",
      "Found ref for #423\n",
      "Found ref for #425\n",
      "Found ref for #426\n",
      "Found ref for #427\n",
      "Found ref for #428\n",
      "Found ref for #429\n",
      "Found ref for #430\n",
      "Found ref for #432\n",
      "Found ref for #437\n",
      "Found ref for #438\n",
      "Did not find #439 ref, adding...\n",
      "Found ref for #441\n",
      "Did not find #444 ref, adding...\n",
      "Did not find #446 ref, adding...\n",
      "Found ref for #447\n",
      "Found ref for #449\n",
      "Found ref for #451\n",
      "Did not find #452 ref, adding...\n",
      "Found ref for #453\n",
      "Found ref for #455\n",
      "Did not find #459 ref, adding...\n",
      "Did not find #460 ref, adding...\n",
      "Did not find #461 ref, adding...\n",
      "Did not find #465 ref, adding...\n",
      "Did not find #466 ref, adding...\n",
      "Did not find #469 ref, adding...\n",
      "Did not find #470 ref, adding...\n",
      "Did not find #471 ref, adding...\n",
      "Did not find #472 ref, adding...\n",
      "Did not find #473 ref, adding...\n",
      "Did not find #475 ref, adding...\n",
      "Did not find #477 ref, adding...\n",
      "Did not find #478 ref, adding...\n",
      "Did not find #479 ref, adding...\n",
      "Did not find #480 ref, adding...\n",
      "Did not find #481 ref, adding...\n",
      "Did not find #482 ref, adding...\n",
      "Did not find #483 ref, adding...\n",
      "Did not find #484 ref, adding...\n",
      "Did not find #485 ref, adding...\n",
      "Did not find #486 ref, adding...\n",
      "Did not find #487 ref, adding...\n",
      "Did not find #489 ref, adding...\n",
      "Did not find #490 ref, adding...\n",
      "Did not find #491 ref, adding...\n",
      "Did not find #495 ref, adding...\n",
      "Did not find #498 ref, adding...\n",
      "Did not find #500 ref, adding...\n",
      "Did not find #501 ref, adding...\n",
      "Did not find #502 ref, adding...\n",
      "Did not find #503 ref, adding...\n"
     ]
    }
   ],
   "source": [
    "for m in matches:\n",
    "    ref_str = f\".. _{m}: https://github.com/kinverarity1/lasio/issues/{m[1:]}\"\n",
    "    if ref_str in txt:\n",
    "        print(f\"Found ref for {m}\")\n",
    "    else:\n",
    "        print(f\"Did not find {m} ref, adding...\")\n",
    "        txt += ref_str + \"\\n\"        "
   ]
  },
  {
   "cell_type": "markdown",
   "id": "39d58b08",
   "metadata": {},
   "source": [
    "Overwrite `changelog.rst`:"
   ]
  },
  {
   "cell_type": "code",
   "execution_count": 12,
   "id": "552e8e1b",
   "metadata": {},
   "outputs": [],
   "source": [
    "with open(fn, \"w\") as f:\n",
    "    f.write(txt)"
   ]
  },
  {
   "cell_type": "code",
   "execution_count": null,
   "id": "0b066fdc",
   "metadata": {},
   "outputs": [],
   "source": []
  }
 ],
 "metadata": {
  "kernelspec": {
   "display_name": "wrap",
   "language": "python",
   "name": "wrap"
  },
  "language_info": {
   "codemirror_mode": {
    "name": "ipython",
    "version": 3
   },
   "file_extension": ".py",
   "mimetype": "text/x-python",
   "name": "python",
   "nbconvert_exporter": "python",
   "pygments_lexer": "ipython3",
   "version": "3.8.6"
  }
 },
 "nbformat": 4,
 "nbformat_minor": 5
}
