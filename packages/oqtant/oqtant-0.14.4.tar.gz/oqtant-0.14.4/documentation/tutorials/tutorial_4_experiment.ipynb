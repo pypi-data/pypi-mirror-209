{
 "cells": [
  {
   "attachments": {},
   "cell_type": "markdown",
   "metadata": {},
   "source": [
    "# Oqtant Tutorial 3: BEC Experimentation #\n",
    "\n",
    "### This walkthrough covers best practices for conducting experiments on the Oqtant system, including submitting batches of jobs, tracking experiment progress, and handling output data for later analysis. ###\n",
    "\n",
    "For more information about Oqtant refer to our documentation: https://albert-dev.coldquanta.com/oqtant/manual.md"
   ]
  },
  {
   "attachments": {},
   "cell_type": "markdown",
   "metadata": {},
   "source": [
    "# Sign into Oqtant\n",
    "\n",
    "## Before you can view and submit jobs you must first sign into your Oqtant account\n",
    "\n",
    "Run the below cell to be re-directed to our login page and provide you account credentials. Once authenticated you can safely close out that tab and return to this notebook."
   ]
  },
  {
   "cell_type": "code",
   "execution_count": null,
   "metadata": {},
   "outputs": [],
   "source": [
    "from matplotlib import pyplot as plt\n",
    "from lmfit import Model\n",
    "import numpy as np\n",
    "import inspect\n",
    "import copy\n",
    "from oqtant.oqtant_client import get_oqtant_client\n",
    "from oqtant.util.auth import get_user_token\n",
    "from bert_schemas import job as JobSchema\n",
    "from oqtant.schemas.job import (\n",
    "    OqtantJob,\n",
    "    Gaussian_dist_2D,\n",
    "    TF_dist_2D,\n",
    "    bimodal_dist_2D,\n",
    "    round_sig\n",
    ")\n",
    "import csv\n",
    "\n",
    "token = get_user_token()"
   ]
  },
  {
   "attachments": {},
   "cell_type": "markdown",
   "metadata": {},
   "source": [
    "## Creating a Oqtant Client Instance ##\n",
    "\n",
    "### After successful login, create an authorized session with the Oqtant Client ###\n",
    "- the oqtant_client interacts with the albert server to perform remote lab functions. \n",
    "- the oqtant_client object also contains all the jobs which have been submitted, run, or loaded (from database or file) during this python session"
   ]
  },
  {
   "cell_type": "code",
   "execution_count": null,
   "metadata": {},
   "outputs": [],
   "source": [
    "oqtant_client = get_oqtant_client(token)"
   ]
  },
  {
   "attachments": {},
   "cell_type": "markdown",
   "metadata": {},
   "source": [
    "## Design a simple experiment ##\n",
    "\n",
    "For this example, we will investigate the effect of altering the final frequency of the RF knife on the evolution of the condensate and its temperature. \n",
    "\n",
    "### Variables ###\n",
    "1. **rf_e_mhz** - the final frequency of the rf knife (at t=1600ms)\n",
    "2. ***time_of_flight_ms** - the TOF interval in ms. varying the time will give us snapshots of the condensate as it expands\n",
    "\n",
    "### Observables ###\n",
    " - TOF images\n",
    " - temperature (calculated from TOF images)\n",
    " - condensate fraction (calculated from TOF images)"
   ]
  },
  {
   "cell_type": "code",
   "execution_count": null,
   "metadata": {},
   "outputs": [],
   "source": [
    "rf_e_values = [0.07, 0.03, 0.05]\n",
    "tof_interval_values = [10, 12, 15]"
   ]
  },
  {
   "attachments": {},
   "cell_type": "markdown",
   "metadata": {},
   "source": [
    "## Generate job parameters for the experiment with generate_albert_job ## \n",
    "\n",
    "This experiment consists of 3 job inputs and no repeated trials. Below is an example BEC job with default parameters, here we update the **rf_e_mhz** and **time_of_flight_ms** values for each input. Review the input parameters before submitting the experiment jobs to run on the Oqtant hardware. Once a job is submitted, it can only be cancelled by contacting **albert@infleqtion.com**"
   ]
  },
  {
   "cell_type": "code",
   "execution_count": null,
   "metadata": {},
   "outputs": [],
   "source": [
    "experiment = {\n",
    "    \"name\": \"RF Sweep Experiment\",\n",
    "    \"job_type\": \"BEC\",\n",
    "    \"inputs\": [\n",
    "        {\n",
    "            \"notes\": \"RF Sweep #1\",\n",
    "            \"values\": {\n",
    "                \"time_of_flight_ms\": tof_interval_values[0],\n",
    "                \"image_type\": \"TIME_OF_FLIGHT\",\n",
    "                \"end_time_ms\": 0.0,\n",
    "                \"rf_evaporation\": {\n",
    "                    \"frequencies_mhz\": [17.0, 8.0, 4.0, 1.2, rf_e_values[0]],\n",
    "                    \"powers_mw\": [500.0, 500.0, 475.0, 360.0, 220.0],\n",
    "                    \"interpolation\": \"LINEAR\",\n",
    "                    \"times_ms\": [-1600, -1200, -800, -400, 0],\n",
    "                },\n",
    "                \"optical_barriers\": None,\n",
    "                \"optical_landscape\": None,\n",
    "                \"lasers\": None,\n",
    "            }\n",
    "        },\n",
    "        {\n",
    "            \"notes\": \"RF Sweep #2\",\n",
    "            \"values\": {\n",
    "                \"time_of_flight_ms\": tof_interval_values[1],\n",
    "                \"image_type\": \"TIME_OF_FLIGHT\",\n",
    "                \"end_time_ms\": 0.0,\n",
    "                \"rf_evaporation\": {\n",
    "                    \"frequencies_mhz\": [17.0, 8.0, 4.0, 1.2, rf_e_values[1]],\n",
    "                    \"powers_mw\": [500.0, 500.0, 475.0, 360.0, 220.0],\n",
    "                    \"interpolation\": \"LINEAR\",\n",
    "                    \"times_ms\": [-1600, -1200, -800, -400, 0],\n",
    "                },\n",
    "                \"optical_barriers\": None,\n",
    "                \"optical_landscape\": None,\n",
    "                \"lasers\": None,\n",
    "            }\n",
    "        },\n",
    "        {\n",
    "            \"notes\": \"RF Sweep #3\",\n",
    "            \"values\": {\n",
    "                \"time_of_flight_ms\": tof_interval_values[2],\n",
    "                \"image_type\": \"TIME_OF_FLIGHT\",\n",
    "                \"end_time_ms\": 0.0,\n",
    "                \"rf_evaporation\": {\n",
    "                    \"frequencies_mhz\": [17.0, 8.0, 4.0, 1.2, rf_e_values[2]],\n",
    "                    \"powers_mw\": [500.0, 500.0, 475.0, 360.0, 220.0],\n",
    "                    \"interpolation\": \"LINEAR\",\n",
    "                    \"times_ms\": [-1600, -1200, -800, -400, 0],\n",
    "                },\n",
    "                \"optical_barriers\": None,\n",
    "                \"optical_landscape\": None,\n",
    "                \"lasers\": None,\n",
    "            }\n",
    "        },\n",
    "    ],\n",
    "}\n",
    "\n",
    "experiment_job = oqtant_client.generate_albert_job(job=experiment)\n",
    "print(experiment_job)"
   ]
  },
  {
   "attachments": {},
   "cell_type": "markdown",
   "metadata": {},
   "source": [
    "\n",
    "## Accessing fields of OqtantJob, BecInput and BarrierInput objects ##\n",
    "\n",
    "To access the above input parameters of a job object: \n",
    "\n",
    "**EXAMPLEJOB.inputs[desired-input-index].values.FIELD_FROM_BELOW_LIST**\n",
    "\n",
    "Here, we review the experiment parameters by accessing the \"input\" object which has the following fields:\n",
    "\n",
    "BarrierInput\n",
    "   - Type: \"BARRIER\"\n",
    "   - barrier_1_ht: list of barrier height (nK). min = 0, max = 5000. len = 11. **(default = [500, 1000, 1500, 2000, 2500, 2500, 2500, 2500, 2500, 2500, 2500])**\n",
    "   - barrier_1_pos: list of barrier position (um). min = -100, max = 100. len = 11. **([-20, -20, -20, -20, -20, -20, -20, -20, -20, -20, -20])**\n",
    "   - barrier_2_ht: list of barrier height (nK). min = 0, max = 5000. len = 11 **(default = [500, 1000, 1500, 2000, 2500, 2500, 2500, 2500, 2500, 2500, 2500])**\n",
    "   - barrier_2_pos: list of barrier position (um). min = -100, max = 100. len = 11. **(default = [-20, -20, -20, -20, -20, -20, -20, -20, -20, -20, -20])**\n",
    "   - barrier_duration: time (ms). min = 10, max = 100. **(default=50)**\n",
    "   - barrier_image: 0 (in-trap), 1 (tof). **default=0 (in-trap)**\n",
    "\n",
    "\n",
    "BecInput \n",
    "   - Type: \"BEC\"\n",
    "   - time_of_flight_ms: time (ms). min = 1, max = 50. **(default = 20)**\n",
    "   - rf_a_mhz: rf knife freq (MHz) at t = 0ms. min = 0, max = 50. **(default = 17)**\n",
    "   - rf_b_mhz: rf knife freq (MHz) at t = 400ms. min = 0, max = 50. **(default = 8)**\n",
    "   - rf_c_mhz: rf knife freq (MHz) at t = 800ms. min = 0, max = 50. **(default = 4)**\n",
    "   - rf_d_mhz: rf knife freq (MHz) at t = 1200ms. min = 0, max = 50. **(default = 1.2)**\n",
    "   - rf_e_mhz: rf knife freq (MHz) at t = 1600ms. min = 0, max = 50. **(default = 0.07)**\n",
    "   - power_a_mw: rf knife power (mW) at t:[0,400) ms. min = 0, max = 1000. **(default = 500)**\n",
    "   - power_b_mw: rf knife power (mW) at t:[400,800) ms. min = 0, max = 1000. **(default = 475)**\n",
    "   - power_c_mw: rf knife power (mW) at t:[800,1200) ms. min = 0, max = 1000. **(default = 450)**\n",
    "   - power_d_mw: rf knife power (mW) at t:[1200,1600] ms. min = 0, max = 1000. **(default = 400)**\n",
    "   - time_of_flight_ms: time (ms). min = 1, max = 50. **(default = 20)**\n"
   ]
  },
  {
   "cell_type": "code",
   "execution_count": null,
   "metadata": {},
   "outputs": [],
   "source": [
    "for i, experiment_input in enumerate(experiment_job.inputs):\n",
    "    print(\n",
    "        experiment_job.name,\n",
    "        f\"input run #{i + 1}\",\n",
    "        experiment_input.values.rf_evaporation.frequencies_mhz[4],\n",
    "        experiment_input.values.time_of_flight_ms\n",
    "    )"
   ]
  },
  {
   "attachments": {},
   "cell_type": "markdown",
   "metadata": {},
   "source": [
    "## Submit jobs and store the job IDs ##\n",
    "\n",
    "Option to run the jobs and wait for results (**track_status=True**) OR submit the jobs and return later to retrieve the results (**track_status=False**). Either way, be sure to save the job ids to a file if you plan to retrieve the data for later processing."
   ]
  },
  {
   "cell_type": "code",
   "execution_count": null,
   "metadata": {},
   "outputs": [],
   "source": [
    "rf_sweep_experiment = oqtant_client.run_jobs(job_list=[experiment_job], track_status=False)\n",
    "\n",
    "with open('bec_rf_sweep_experiment.txt', 'w') as filewriter:\n",
    "    for listitem in rf_sweep_experiment:\n",
    "        filewriter.write('%s\\n' % listitem)"
   ]
  },
  {
   "attachments": {},
   "cell_type": "markdown",
   "metadata": {},
   "source": [
    "## Load results from completed jobs ##\n",
    "\n",
    "Use **load_jobs_from_id** to retrieve jobs in any state from a previous run. "
   ]
  },
  {
   "cell_type": "code",
   "execution_count": null,
   "metadata": {},
   "outputs": [],
   "source": [
    "with open('bec_rf_sweep_experiment.txt', 'r') as filereader:\n",
    "    for line in filereader:\n",
    "        # remove linebreak which is the last character of the string\n",
    "        oqtant_client.load_job_from_id(line[:-1])\n",
    "        \n",
    "for job_id, job in oqtant_client.active_jobs.items():\n",
    "    print(\"id: \", job_id, job.job_type, job.status)"
   ]
  },
  {
   "attachments": {},
   "cell_type": "markdown",
   "metadata": {},
   "source": [
    "## Plot completed jobs ##\n",
    "\n",
    "When job status is COMPLETE above, plot the results"
   ]
  },
  {
   "cell_type": "code",
   "execution_count": null,
   "metadata": {},
   "outputs": [],
   "source": [
    "for a, job in oqtant_client.active_jobs.items():\n",
    "    if job.status == JobSchema.JobStatus.COMPLETE and job.job_type == JobSchema.JobType.BEC:\n",
    "        job.atoms_2dplot()\n",
    "        job.atoms_sliceplot()\n",
    "        \n",
    "# by default jobs that are loaded will only contain the first input/output entry\n",
    "# if you have more than one input for a job you can view its details by specifying the 'run' like below\n",
    "desired_input_run = 2 # here we are asking for the second input/output entry\n",
    "with open('bec_rf_sweep_experiment.txt', 'r') as filereader:\n",
    "    for line in filereader:\n",
    "        # remove linebreak which is the last character of the string\n",
    "        oqtant_client.load_job_from_id(line[:-1], run=desired_input_run)\n",
    "        \n",
    "# now we can display the second input/output entry results\n",
    "for a, job in oqtant_client.active_jobs.items():\n",
    "    if job.status == JobSchema.JobStatus.COMPLETE and job.job_type == JobSchema.JobType.BEC:\n",
    "        job.atoms_2dplot()\n",
    "        job.atoms_sliceplot()"
   ]
  }
 ],
 "metadata": {
  "kernelspec": {
   "display_name": "Python 3 (ipykernel)",
   "language": "python",
   "name": "python3"
  },
  "language_info": {
   "codemirror_mode": {
    "name": "ipython",
    "version": 3
   },
   "file_extension": ".py",
   "mimetype": "text/x-python",
   "name": "python",
   "nbconvert_exporter": "python",
   "pygments_lexer": "ipython3",
   "version": "3.11.3"
  },
  "vscode": {
   "interpreter": {
    "hash": "9d324fb170b849c0db1b04a4eaa5a753613b2d729749991e51e49ca6f200afbc"
   }
  }
 },
 "nbformat": 4,
 "nbformat_minor": 4
}
