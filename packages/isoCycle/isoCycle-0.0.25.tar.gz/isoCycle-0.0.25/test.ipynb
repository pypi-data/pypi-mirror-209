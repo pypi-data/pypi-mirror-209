{
 "cells": [
  {
   "cell_type": "code",
   "execution_count": 3,
   "id": "7b6b46f2",
   "metadata": {
    "ExecuteTime": {
     "end_time": "2023-05-20T13:52:07.639431Z",
     "start_time": "2023-05-20T13:52:07.634445Z"
    }
   },
   "outputs": [],
   "source": []
  },
  {
   "cell_type": "code",
   "execution_count": null,
   "id": "0ff2053a",
   "metadata": {
    "ExecuteTime": {
     "start_time": "2023-05-20T14:07:37.426Z"
    }
   },
   "outputs": [],
   "source": [
    "import subprocess\n",
    "import pkg_resources\n",
    "\n",
    "exampleNotebook_path = pkg_resources.resource_filename('isoCycle', 'example_data/isoCycle_example.ipynb')\n",
    "\n",
    "subprocess.run(['jupyter', 'notebook', '--NotebookApp.token=\"\"',exampleNotebook_path], check=True)"
   ]
  },
  {
   "cell_type": "code",
   "execution_count": null,
   "id": "9cc0d373",
   "metadata": {
    "ExecuteTime": {
     "start_time": "2023-05-20T13:53:32.279Z"
    }
   },
   "outputs": [],
   "source": []
  },
  {
   "cell_type": "code",
   "execution_count": null,
   "id": "9850faef",
   "metadata": {},
   "outputs": [],
   "source": []
  }
 ],
 "metadata": {
  "kernelspec": {
   "display_name": "deepDecoder",
   "language": "python",
   "name": "deepdecoder"
  },
  "language_info": {
   "codemirror_mode": {
    "name": "ipython",
    "version": 3
   },
   "file_extension": ".py",
   "mimetype": "text/x-python",
   "name": "python",
   "nbconvert_exporter": "python",
   "pygments_lexer": "ipython3",
   "version": "3.8.13"
  },
  "varInspector": {
   "cols": {
    "lenName": 16,
    "lenType": 16,
    "lenVar": 40
   },
   "kernels_config": {
    "python": {
     "delete_cmd_postfix": "",
     "delete_cmd_prefix": "del ",
     "library": "var_list.py",
     "varRefreshCmd": "print(var_dic_list())"
    },
    "r": {
     "delete_cmd_postfix": ") ",
     "delete_cmd_prefix": "rm(",
     "library": "var_list.r",
     "varRefreshCmd": "cat(var_dic_list()) "
    }
   },
   "types_to_exclude": [
    "module",
    "function",
    "builtin_function_or_method",
    "instance",
    "_Feature"
   ],
   "window_display": false
  }
 },
 "nbformat": 4,
 "nbformat_minor": 5
}
