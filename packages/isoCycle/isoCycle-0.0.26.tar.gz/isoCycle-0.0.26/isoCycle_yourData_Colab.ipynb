{
  "nbformat": 4,
  "nbformat_minor": 0,
  "metadata": {
    "colab": {
      "provenance": [],
      "gpuType": "T4",
      "authorship_tag": "ABX9TyMTGqaeHZqy4pkX07Qg5WsK",
      "include_colab_link": true
    },
    "kernelspec": {
      "name": "python3",
      "display_name": "Python 3"
    },
    "language_info": {
      "name": "python"
    },
    "accelerator": "GPU",
    "gpuClass": "standard"
  },
  "cells": [
    {
      "cell_type": "markdown",
      "metadata": {
        "id": "view-in-github",
        "colab_type": "text"
      },
      "source": [
        "<a href=\"https://colab.research.google.com/github/esiabri/isoCycle/blob/main/isoCycle_yourData_Colab.ipynb\" target=\"_parent\"><img src=\"https://colab.research.google.com/assets/colab-badge.svg\" alt=\"Open In Colab\"/></a>"
      ]
    },
    {
      "cell_type": "code",
      "execution_count": 1,
      "metadata": {
        "colab": {
          "base_uri": "https://localhost:8080/"
        },
        "id": "RfzzBhPOiHv1",
        "outputId": "912442c0-7cbc-4ec4-b583-8e4ceb647515"
      },
      "outputs": [
        {
          "output_type": "stream",
          "name": "stdout",
          "text": [
            "Looking in indexes: https://pypi.org/simple, https://us-python.pkg.dev/colab-wheels/public/simple/\n",
            "Collecting isocycle\n",
            "  Downloading isoCycle-0.0.24.tar.gz (18.0 MB)\n",
            "\u001b[2K     \u001b[90m━━━━━━━━━━━━━━━━━━━━━━━━━━━━━━━━━━━━━━━━\u001b[0m \u001b[32m18.0/18.0 MB\u001b[0m \u001b[31m45.6 MB/s\u001b[0m eta \u001b[36m0:00:00\u001b[0m\n",
            "\u001b[?25h  Preparing metadata (setup.py) ... \u001b[?25l\u001b[?25hdone\n",
            "Building wheels for collected packages: isocycle\n",
            "  Building wheel for isocycle (setup.py) ... \u001b[?25l\u001b[?25hdone\n",
            "  Created wheel for isocycle: filename=isoCycle-0.0.24-py3-none-any.whl size=15816567 sha256=fc1c72a446bcc02302d9cd655a09c83c96c9b4f58f15e55556becafe8905f8d0\n",
            "  Stored in directory: /root/.cache/pip/wheels/76/55/98/070f67a6c6f0b583a62884ad4b89c4c4f6c5c744f1adbb3a39\n",
            "Successfully built isocycle\n",
            "Installing collected packages: isocycle\n",
            "Successfully installed isocycle-0.0.24\n"
          ]
        },
        {
          "output_type": "execute_result",
          "data": {
            "text/plain": []
          },
          "metadata": {},
          "execution_count": 1
        }
      ],
      "source": [
        "%%shell\n",
        "# installing the isoCycle from PyPI\n",
        "pip install isocycle --no-deps"
      ]
    },
    {
      "cell_type": "code",
      "source": [],
      "metadata": {
        "id": "zkVKbYa-iiIt"
      },
      "execution_count": null,
      "outputs": []
    }
  ]
}