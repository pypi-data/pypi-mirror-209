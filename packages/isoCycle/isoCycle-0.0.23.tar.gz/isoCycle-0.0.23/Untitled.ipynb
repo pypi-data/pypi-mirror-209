{
 "cells": [
  {
   "cell_type": "code",
   "execution_count": 29,
   "id": "c1a85ecc",
   "metadata": {
    "ExecuteTime": {
     "end_time": "2023-05-19T01:26:55.860458Z",
     "start_time": "2023-05-19T01:26:55.211164Z"
    }
   },
   "outputs": [
    {
     "name": "stdout",
     "output_type": "stream",
     "text": [
      "Package                           Version\n",
      "--------------------------------- -----------\n",
      "argon2-cffi                       21.3.0\n",
      "argon2-cffi-bindings              21.2.0\n",
      "asttokens                         2.0.5\n",
      "attrs                             21.4.0\n",
      "backcall                          0.2.0\n",
      "beautifulsoup4                    4.11.1\n",
      "bleach                            5.0.0\n",
      "cffi                              1.15.0\n",
      "colorama                          0.4.5\n",
      "cycler                            0.11.0\n",
      "debugpy                           1.6.0\n",
      "decorator                         5.1.1\n",
      "defusedxml                        0.7.1\n",
      "entrypoints                       0.4\n",
      "executing                         0.8.3\n",
      "fastjsonschema                    2.15.3\n",
      "fonttools                         4.33.3\n",
      "ipykernel                         6.15.0\n",
      "ipympl                            0.9.1\n",
      "ipython                           8.4.0\n",
      "ipython-genutils                  0.2.0\n",
      "ipywidgets                        7.7.0\n",
      "jedi                              0.18.1\n",
      "Jinja2                            3.1.2\n",
      "jsonschema                        4.6.0\n",
      "jupyter-client                    7.3.4\n",
      "jupyter-contrib-core              0.3.3\n",
      "jupyter-contrib-nbextensions      0.5.1\n",
      "jupyter-core                      4.10.0\n",
      "jupyter-highlight-selected-word   0.2.0\n",
      "jupyter-latex-envs                1.4.6\n",
      "jupyter-nbextensions-configurator 0.4.1\n",
      "jupyterlab-pygments               0.2.2\n",
      "jupyterlab-widgets                1.1.0\n",
      "kiwisolver                        1.4.3\n",
      "lxml                              4.9.0\n",
      "MarkupSafe                        2.1.1\n",
      "matplotlib                        3.5.2\n",
      "matplotlib-inline                 0.1.3\n",
      "mistune                           0.8.4\n",
      "nbclient                          0.6.4\n",
      "nbconvert                         6.5.0\n",
      "nbformat                          5.4.0\n",
      "nest-asyncio                      1.5.5\n",
      "notebook                          6.4.12\n",
      "numpy                             1.22.4\n",
      "packaging                         21.3\n",
      "pandocfilters                     1.5.0\n",
      "parso                             0.8.3\n",
      "pickleshare                       0.7.5\n",
      "Pillow                            9.1.1\n",
      "pip                               22.1.2\n",
      "prometheus-client                 0.14.1\n",
      "prompt-toolkit                    3.0.29\n",
      "psutil                            5.9.1\n",
      "pure-eval                         0.2.2\n",
      "pycparser                         2.21\n",
      "Pygments                          2.12.0\n",
      "pyparsing                         3.0.9\n",
      "pyrsistent                        0.18.1\n",
      "python-dateutil                   2.8.2\n",
      "pywin32                           304\n",
      "pywinpty                          2.0.5\n",
      "PyYAML                            6.0\n",
      "pyzmq                             23.1.0\n",
      "Send2Trash                        1.8.0\n",
      "setuptools                        58.1.0\n",
      "six                               1.16.0\n",
      "soupsieve                         2.3.2.post1\n",
      "stack-data                        0.3.0\n",
      "terminado                         0.15.0\n",
      "tinycss2                          1.1.1\n",
      "tornado                           6.1\n",
      "traitlets                         5.3.0\n",
      "wcwidth                           0.2.5\n",
      "webencodings                      0.5.1\n",
      "widgetsnbextension                3.6.0\n",
      "\n",
      "[notice] A new release of pip available: 22.1.2 -> 23.1.2\n",
      "[notice] To update, run: python.exe -m pip install --upgrade pip\n"
     ]
    },
    {
     "name": "stderr",
     "output_type": "stream",
     "text": [
      "WARNING: Ignoring invalid distribution -ip (c:\\python310\\lib\\site-packages)\n",
      "WARNING: Ignoring invalid distribution -ip (c:\\python310\\lib\\site-packages)\n",
      "WARNING: Ignoring invalid distribution -ip (c:\\python310\\lib\\site-packages)\n",
      "WARNING: Ignoring invalid distribution -ip (c:\\python310\\lib\\site-packages)\n"
     ]
    }
   ],
   "source": [
    "!pip list"
   ]
  },
  {
   "cell_type": "code",
   "execution_count": 30,
   "id": "aa2b642c",
   "metadata": {
    "ExecuteTime": {
     "end_time": "2023-05-19T01:27:14.897722Z",
     "start_time": "2023-05-19T01:27:14.880766Z"
    }
   },
   "outputs": [],
   "source": [
    "import isoCycle"
   ]
  },
  {
   "cell_type": "code",
   "execution_count": 3,
   "id": "186a4b14",
   "metadata": {
    "ExecuteTime": {
     "end_time": "2023-05-18T22:53:53.967382Z",
     "start_time": "2023-05-18T22:53:53.959403Z"
    }
   },
   "outputs": [],
   "source": [
    "import pickle\n",
    "from isoCycle.decoder import cycleDetection\n",
    "import pkgutil"
   ]
  },
  {
   "cell_type": "code",
   "execution_count": 20,
   "id": "dac83a17",
   "metadata": {
    "ExecuteTime": {
     "end_time": "2023-05-18T23:06:54.681856Z",
     "start_time": "2023-05-18T23:06:54.647947Z"
    }
   },
   "outputs": [
    {
     "name": "stdout",
     "output_type": "stream",
     "text": [
      "None\n"
     ]
    }
   ],
   "source": [
    "data = pkgutil.get_data(\"isocycle\", \"isoCycle/example_data/spikeTimes.pkl\")\n",
    "print(data)"
   ]
  },
  {
   "cell_type": "code",
   "execution_count": 25,
   "id": "d75a9697",
   "metadata": {
    "ExecuteTime": {
     "end_time": "2023-05-18T23:10:52.186475Z",
     "start_time": "2023-05-18T23:10:52.171513Z"
    }
   },
   "outputs": [
    {
     "name": "stdout",
     "output_type": "stream",
     "text": [
      "<_frozen_importlib_external.SourceFileLoader object at 0x0000013F570B2340>\n"
     ]
    }
   ],
   "source": [
    "print(pkgutil.get_loader('isoCycle'))"
   ]
  },
  {
   "cell_type": "code",
   "execution_count": 28,
   "id": "e1372703",
   "metadata": {
    "ExecuteTime": {
     "end_time": "2023-05-18T23:14:49.901642Z",
     "start_time": "2023-05-18T23:14:49.877704Z"
    }
   },
   "outputs": [
    {
     "ename": "ImportError",
     "evalue": "loader for isoCycle cannot handle model/isoCycle_publishedModel_2022-06-28.pkl",
     "output_type": "error",
     "traceback": [
      "\u001b[1;31m---------------------------------------------------------------------------\u001b[0m",
      "\u001b[1;31mImportError\u001b[0m                               Traceback (most recent call last)",
      "Input \u001b[1;32mIn [28]\u001b[0m, in \u001b[0;36m<cell line: 1>\u001b[1;34m()\u001b[0m\n\u001b[1;32m----> 1\u001b[0m file_address \u001b[38;5;241m=\u001b[39m \u001b[43mpkgutil\u001b[49m\u001b[38;5;241;43m.\u001b[39;49m\u001b[43mget_loader\u001b[49m\u001b[43m(\u001b[49m\u001b[38;5;124;43m'\u001b[39;49m\u001b[38;5;124;43misoCycle\u001b[39;49m\u001b[38;5;124;43m'\u001b[39;49m\u001b[43m)\u001b[49m\u001b[38;5;241;43m.\u001b[39;49m\u001b[43mget_filename\u001b[49m\u001b[43m(\u001b[49m\u001b[38;5;124;43m'\u001b[39;49m\u001b[38;5;124;43mmodel/isoCycle_publishedModel_2022-06-28.pkl\u001b[39;49m\u001b[38;5;124;43m'\u001b[39;49m\u001b[43m)\u001b[49m\n\u001b[0;32m      2\u001b[0m \u001b[38;5;28mprint\u001b[39m(file_address)\n",
      "File \u001b[1;32m<frozen importlib._bootstrap_external>:520\u001b[0m, in \u001b[0;36m_check_name_wrapper\u001b[1;34m(self, name, *args, **kwargs)\u001b[0m\n",
      "\u001b[1;31mImportError\u001b[0m: loader for isoCycle cannot handle model/isoCycle_publishedModel_2022-06-28.pkl"
     ]
    }
   ],
   "source": [
    "file_address = pkgutil.get_loader('isoCycle').get_filename('model/isoCycle_publishedModel_2022-06-28.pkl')\n",
    "print(file_address)"
   ]
  },
  {
   "cell_type": "code",
   "execution_count": 13,
   "id": "0d865c78",
   "metadata": {
    "ExecuteTime": {
     "end_time": "2023-05-18T23:03:21.625907Z",
     "start_time": "2023-05-18T23:03:21.612940Z"
    }
   },
   "outputs": [
    {
     "name": "stdout",
     "output_type": "stream",
     "text": [
      "Package folder: Z:\\Dropbox (EinsteinMed)\\WorkSpaces\\isoCycle\\isoCycle\\__init__.py\n"
     ]
    }
   ],
   "source": [
    "package_folder = isoCycle.__file__\n",
    "\n",
    "print(\"Package folder:\", package_folder)"
   ]
  },
  {
   "cell_type": "code",
   "execution_count": 12,
   "id": "bae47561",
   "metadata": {
    "ExecuteTime": {
     "end_time": "2023-05-18T22:59:30.531338Z",
     "start_time": "2023-05-18T22:59:30.370753Z"
    }
   },
   "outputs": [
    {
     "name": "stderr",
     "output_type": "stream",
     "text": [
      "Traceback (most recent call last):\n",
      "  File \"C:\\Python310\\lib\\runpy.py\", line 187, in _run_module_as_main\n",
      "    mod_name, mod_spec, code = _get_module_details(mod_name, _Error)\n",
      "  File \"C:\\Python310\\lib\\runpy.py\", line 146, in _get_module_details\n",
      "    return _get_module_details(pkg_main_name, error)\n",
      "  File \"C:\\Python310\\lib\\runpy.py\", line 110, in _get_module_details\n",
      "    __import__(pkg_name)\n",
      "  File \"Z:\\Dropbox (EinsteinMed)\\WorkSpaces\\isoCycle\\isoCycle\\__init__.py\", line 1, in <module>\n",
      "    from isoCycle.decoder import cycleDetection\n",
      "  File \"Z:\\Dropbox (EinsteinMed)\\WorkSpaces\\isoCycle\\isoCycle\\decoder.py\", line 3, in <module>\n",
      "    import tensorflow as tf\n",
      "ModuleNotFoundError: No module named 'tensorflow'\n"
     ]
    }
   ],
   "source": [
    "!python -m isoCycle --isoTest"
   ]
  },
  {
   "cell_type": "code",
   "execution_count": 3,
   "id": "a01bb94e",
   "metadata": {
    "ExecuteTime": {
     "end_time": "2023-05-18T22:50:40.994085Z",
     "start_time": "2023-05-18T22:50:29.698052Z"
    }
   },
   "outputs": [
    {
     "name": "stdout",
     "output_type": "stream",
     "text": [
      "Collecting isocycle\n",
      "  Downloading isoCycle-0.0.18.tar.gz (18.0 MB)\n",
      "Requirement already satisfied: numpy in d:\\programfiles\\anaconda3\\envs\\deepdecoder\\lib\\site-packages (from isocycle) (1.22.3)\n",
      "Requirement already satisfied: tensorflow in d:\\programfiles\\anaconda3\\envs\\deepdecoder\\lib\\site-packages (from isocycle) (2.8.0)\n",
      "Requirement already satisfied: scipy in d:\\programfiles\\anaconda3\\envs\\deepdecoder\\lib\\site-packages (from isocycle) (1.8.0)\n",
      "Requirement already satisfied: ipympl in d:\\programfiles\\anaconda3\\envs\\deepdecoder\\lib\\site-packages (from isocycle) (0.9.1)\n",
      "Requirement already satisfied: ipywidgets in d:\\programfiles\\anaconda3\\envs\\deepdecoder\\lib\\site-packages (from isocycle) (7.7.0)\n",
      "Requirement already satisfied: traitlets<6 in d:\\programfiles\\anaconda3\\envs\\deepdecoder\\lib\\site-packages (from ipympl->isocycle) (5.2.2.post1)\n",
      "Requirement already satisfied: ipython<9 in d:\\programfiles\\anaconda3\\envs\\deepdecoder\\lib\\site-packages (from ipympl->isocycle) (8.2.0)\n",
      "Requirement already satisfied: ipython-genutils in d:\\programfiles\\anaconda3\\envs\\deepdecoder\\lib\\site-packages (from ipympl->isocycle) (0.2.0)\n",
      "Requirement already satisfied: matplotlib<4,>=3.4.0 in d:\\programfiles\\anaconda3\\envs\\deepdecoder\\lib\\site-packages (from ipympl->isocycle) (3.5.1)\n",
      "Requirement already satisfied: pillow in d:\\programfiles\\anaconda3\\envs\\deepdecoder\\lib\\site-packages (from ipympl->isocycle) (9.1.0)\n",
      "Requirement already satisfied: colorama in d:\\programfiles\\anaconda3\\envs\\deepdecoder\\lib\\site-packages (from ipython<9->ipympl->isocycle) (0.4.4)\n",
      "Requirement already satisfied: matplotlib-inline in d:\\programfiles\\anaconda3\\envs\\deepdecoder\\lib\\site-packages (from ipython<9->ipympl->isocycle) (0.1.3)\n",
      "Requirement already satisfied: pickleshare in d:\\programfiles\\anaconda3\\envs\\deepdecoder\\lib\\site-packages (from ipython<9->ipympl->isocycle) (0.7.5)\n",
      "Requirement already satisfied: prompt-toolkit!=3.0.0,!=3.0.1,<3.1.0,>=2.0.0 in d:\\programfiles\\anaconda3\\envs\\deepdecoder\\lib\\site-packages (from ipython<9->ipympl->isocycle) (3.0.29)\n",
      "Requirement already satisfied: decorator in d:\\programfiles\\anaconda3\\envs\\deepdecoder\\lib\\site-packages (from ipython<9->ipympl->isocycle) (5.1.1)\n",
      "Requirement already satisfied: setuptools>=18.5 in d:\\programfiles\\anaconda3\\envs\\deepdecoder\\lib\\site-packages (from ipython<9->ipympl->isocycle) (58.0.4)\n",
      "Requirement already satisfied: pygments>=2.4.0 in d:\\programfiles\\anaconda3\\envs\\deepdecoder\\lib\\site-packages (from ipython<9->ipympl->isocycle) (2.11.2)\n",
      "Requirement already satisfied: backcall in d:\\programfiles\\anaconda3\\envs\\deepdecoder\\lib\\site-packages (from ipython<9->ipympl->isocycle) (0.2.0)\n",
      "Requirement already satisfied: jedi>=0.16 in d:\\programfiles\\anaconda3\\envs\\deepdecoder\\lib\\site-packages (from ipython<9->ipympl->isocycle) (0.18.1)\n",
      "Requirement already satisfied: stack-data in d:\\programfiles\\anaconda3\\envs\\deepdecoder\\lib\\site-packages (from ipython<9->ipympl->isocycle) (0.2.0)\n",
      "Requirement already satisfied: nbformat>=4.2.0 in d:\\programfiles\\anaconda3\\envs\\deepdecoder\\lib\\site-packages (from ipywidgets->isocycle) (5.4.0)\n",
      "Requirement already satisfied: widgetsnbextension~=3.6.0 in d:\\programfiles\\anaconda3\\envs\\deepdecoder\\lib\\site-packages (from ipywidgets->isocycle) (3.6.0)\n",
      "Requirement already satisfied: ipykernel>=4.5.1 in d:\\programfiles\\anaconda3\\envs\\deepdecoder\\lib\\site-packages (from ipywidgets->isocycle) (6.13.0)\n",
      "Requirement already satisfied: jupyterlab-widgets>=1.0.0 in d:\\programfiles\\anaconda3\\envs\\deepdecoder\\lib\\site-packages (from ipywidgets->isocycle) (1.1.0)\n",
      "Requirement already satisfied: tornado>=6.1 in d:\\programfiles\\anaconda3\\envs\\deepdecoder\\lib\\site-packages (from ipykernel>=4.5.1->ipywidgets->isocycle) (6.1)\n",
      "Requirement already satisfied: packaging in d:\\programfiles\\anaconda3\\envs\\deepdecoder\\lib\\site-packages (from ipykernel>=4.5.1->ipywidgets->isocycle) (21.3)\n",
      "Requirement already satisfied: jupyter-client>=6.1.12 in d:\\programfiles\\anaconda3\\envs\\deepdecoder\\lib\\site-packages (from ipykernel>=4.5.1->ipywidgets->isocycle) (7.2.2)\n",
      "Requirement already satisfied: psutil in d:\\programfiles\\anaconda3\\envs\\deepdecoder\\lib\\site-packages (from ipykernel>=4.5.1->ipywidgets->isocycle) (5.9.0)\n",
      "Requirement already satisfied: nest-asyncio in d:\\programfiles\\anaconda3\\envs\\deepdecoder\\lib\\site-packages (from ipykernel>=4.5.1->ipywidgets->isocycle) (1.5.5)\n",
      "Requirement already satisfied: debugpy>=1.0 in d:\\programfiles\\anaconda3\\envs\\deepdecoder\\lib\\site-packages (from ipykernel>=4.5.1->ipywidgets->isocycle) (1.6.0)\n",
      "Requirement already satisfied: parso<0.9.0,>=0.8.0 in d:\\programfiles\\anaconda3\\envs\\deepdecoder\\lib\\site-packages (from jedi>=0.16->ipython<9->ipympl->isocycle) (0.8.3)\n",
      "Requirement already satisfied: python-dateutil>=2.8.2 in d:\\programfiles\\anaconda3\\envs\\deepdecoder\\lib\\site-packages (from jupyter-client>=6.1.12->ipykernel>=4.5.1->ipywidgets->isocycle) (2.8.2)\n",
      "Requirement already satisfied: jupyter-core>=4.9.2 in d:\\programfiles\\anaconda3\\envs\\deepdecoder\\lib\\site-packages (from jupyter-client>=6.1.12->ipykernel>=4.5.1->ipywidgets->isocycle) (4.9.2)\n",
      "Requirement already satisfied: entrypoints in d:\\programfiles\\anaconda3\\envs\\deepdecoder\\lib\\site-packages (from jupyter-client>=6.1.12->ipykernel>=4.5.1->ipywidgets->isocycle) (0.4)\n",
      "Requirement already satisfied: pyzmq>=22.3 in d:\\programfiles\\anaconda3\\envs\\deepdecoder\\lib\\site-packages (from jupyter-client>=6.1.12->ipykernel>=4.5.1->ipywidgets->isocycle) (22.3.0)\n",
      "Requirement already satisfied: pywin32>=1.0 in d:\\programfiles\\anaconda3\\envs\\deepdecoder\\lib\\site-packages (from jupyter-core>=4.9.2->jupyter-client>=6.1.12->ipykernel>=4.5.1->ipywidgets->isocycle) (303)\n",
      "Requirement already satisfied: pyparsing>=2.2.1 in d:\\programfiles\\anaconda3\\envs\\deepdecoder\\lib\\site-packages (from matplotlib<4,>=3.4.0->ipympl->isocycle) (3.0.8)\n",
      "Requirement already satisfied: cycler>=0.10 in d:\\programfiles\\anaconda3\\envs\\deepdecoder\\lib\\site-packages (from matplotlib<4,>=3.4.0->ipympl->isocycle) (0.11.0)\n",
      "Requirement already satisfied: kiwisolver>=1.0.1 in d:\\programfiles\\anaconda3\\envs\\deepdecoder\\lib\\site-packages (from matplotlib<4,>=3.4.0->ipympl->isocycle) (1.4.2)\n",
      "Requirement already satisfied: fonttools>=4.22.0 in d:\\programfiles\\anaconda3\\envs\\deepdecoder\\lib\\site-packages (from matplotlib<4,>=3.4.0->ipympl->isocycle) (4.32.0)\n",
      "Requirement already satisfied: jsonschema>=2.6 in d:\\programfiles\\anaconda3\\envs\\deepdecoder\\lib\\site-packages (from nbformat>=4.2.0->ipywidgets->isocycle) (4.5.1)\n",
      "Requirement already satisfied: fastjsonschema in d:\\programfiles\\anaconda3\\envs\\deepdecoder\\lib\\site-packages (from nbformat>=4.2.0->ipywidgets->isocycle) (2.15.3)\n",
      "Requirement already satisfied: pyrsistent!=0.17.0,!=0.17.1,!=0.17.2,>=0.14.0 in d:\\programfiles\\anaconda3\\envs\\deepdecoder\\lib\\site-packages (from jsonschema>=2.6->nbformat>=4.2.0->ipywidgets->isocycle) (0.18.1)\n",
      "Requirement already satisfied: attrs>=17.4.0 in d:\\programfiles\\anaconda3\\envs\\deepdecoder\\lib\\site-packages (from jsonschema>=2.6->nbformat>=4.2.0->ipywidgets->isocycle) (21.4.0)\n",
      "Requirement already satisfied: importlib-resources>=1.4.0 in d:\\programfiles\\anaconda3\\envs\\deepdecoder\\lib\\site-packages (from jsonschema>=2.6->nbformat>=4.2.0->ipywidgets->isocycle) (5.7.1)\n",
      "Requirement already satisfied: zipp>=3.1.0 in d:\\programfiles\\anaconda3\\envs\\deepdecoder\\lib\\site-packages (from importlib-resources>=1.4.0->jsonschema>=2.6->nbformat>=4.2.0->ipywidgets->isocycle) (3.8.0)\n",
      "Requirement already satisfied: wcwidth in d:\\programfiles\\anaconda3\\envs\\deepdecoder\\lib\\site-packages (from prompt-toolkit!=3.0.0,!=3.0.1,<3.1.0,>=2.0.0->ipython<9->ipympl->isocycle) (0.2.5)\n",
      "Requirement already satisfied: six>=1.5 in d:\\programfiles\\anaconda3\\envs\\deepdecoder\\lib\\site-packages (from python-dateutil>=2.8.2->jupyter-client>=6.1.12->ipykernel>=4.5.1->ipywidgets->isocycle) (1.16.0)\n",
      "Requirement already satisfied: notebook>=4.4.1 in d:\\programfiles\\anaconda3\\envs\\deepdecoder\\lib\\site-packages (from widgetsnbextension~=3.6.0->ipywidgets->isocycle) (6.4.11)\n",
      "Requirement already satisfied: jinja2 in d:\\programfiles\\anaconda3\\envs\\deepdecoder\\lib\\site-packages (from notebook>=4.4.1->widgetsnbextension~=3.6.0->ipywidgets->isocycle) (3.1.2)\n",
      "Requirement already satisfied: nbconvert>=5 in d:\\programfiles\\anaconda3\\envs\\deepdecoder\\lib\\site-packages (from notebook>=4.4.1->widgetsnbextension~=3.6.0->ipywidgets->isocycle) (6.5.0)\n",
      "Requirement already satisfied: Send2Trash>=1.8.0 in d:\\programfiles\\anaconda3\\envs\\deepdecoder\\lib\\site-packages (from notebook>=4.4.1->widgetsnbextension~=3.6.0->ipywidgets->isocycle) (1.8.0)\n",
      "Requirement already satisfied: terminado>=0.8.3 in d:\\programfiles\\anaconda3\\envs\\deepdecoder\\lib\\site-packages (from notebook>=4.4.1->widgetsnbextension~=3.6.0->ipywidgets->isocycle) (0.15.0)\n",
      "Requirement already satisfied: argon2-cffi in d:\\programfiles\\anaconda3\\envs\\deepdecoder\\lib\\site-packages (from notebook>=4.4.1->widgetsnbextension~=3.6.0->ipywidgets->isocycle) (21.3.0)\n",
      "Requirement already satisfied: prometheus-client in d:\\programfiles\\anaconda3\\envs\\deepdecoder\\lib\\site-packages (from notebook>=4.4.1->widgetsnbextension~=3.6.0->ipywidgets->isocycle) (0.14.1)\n",
      "Requirement already satisfied: tinycss2 in d:\\programfiles\\anaconda3\\envs\\deepdecoder\\lib\\site-packages (from nbconvert>=5->notebook>=4.4.1->widgetsnbextension~=3.6.0->ipywidgets->isocycle) (1.1.1)\n",
      "Requirement already satisfied: nbclient>=0.5.0 in d:\\programfiles\\anaconda3\\envs\\deepdecoder\\lib\\site-packages (from nbconvert>=5->notebook>=4.4.1->widgetsnbextension~=3.6.0->ipywidgets->isocycle) (0.6.4)\n",
      "Requirement already satisfied: defusedxml in d:\\programfiles\\anaconda3\\envs\\deepdecoder\\lib\\site-packages (from nbconvert>=5->notebook>=4.4.1->widgetsnbextension~=3.6.0->ipywidgets->isocycle) (0.7.1)\n",
      "Requirement already satisfied: mistune<2,>=0.8.1 in d:\\programfiles\\anaconda3\\envs\\deepdecoder\\lib\\site-packages (from nbconvert>=5->notebook>=4.4.1->widgetsnbextension~=3.6.0->ipywidgets->isocycle) (0.8.4)\n",
      "Requirement already satisfied: pandocfilters>=1.4.1 in d:\\programfiles\\anaconda3\\envs\\deepdecoder\\lib\\site-packages (from nbconvert>=5->notebook>=4.4.1->widgetsnbextension~=3.6.0->ipywidgets->isocycle) (1.5.0)\n",
      "Requirement already satisfied: jupyterlab-pygments in d:\\programfiles\\anaconda3\\envs\\deepdecoder\\lib\\site-packages (from nbconvert>=5->notebook>=4.4.1->widgetsnbextension~=3.6.0->ipywidgets->isocycle) (0.2.2)\n",
      "Requirement already satisfied: bleach in d:\\programfiles\\anaconda3\\envs\\deepdecoder\\lib\\site-packages (from nbconvert>=5->notebook>=4.4.1->widgetsnbextension~=3.6.0->ipywidgets->isocycle) (5.0.0)\n",
      "Requirement already satisfied: beautifulsoup4 in d:\\programfiles\\anaconda3\\envs\\deepdecoder\\lib\\site-packages (from nbconvert>=5->notebook>=4.4.1->widgetsnbextension~=3.6.0->ipywidgets->isocycle) (4.11.1)\n",
      "Requirement already satisfied: MarkupSafe>=2.0 in d:\\programfiles\\anaconda3\\envs\\deepdecoder\\lib\\site-packages (from nbconvert>=5->notebook>=4.4.1->widgetsnbextension~=3.6.0->ipywidgets->isocycle) (2.1.1)\n",
      "Requirement already satisfied: pywinpty>=1.1.0 in d:\\programfiles\\anaconda3\\envs\\deepdecoder\\lib\\site-packages (from terminado>=0.8.3->notebook>=4.4.1->widgetsnbextension~=3.6.0->ipywidgets->isocycle) (2.0.5)\n",
      "Requirement already satisfied: argon2-cffi-bindings in d:\\programfiles\\anaconda3\\envs\\deepdecoder\\lib\\site-packages (from argon2-cffi->notebook>=4.4.1->widgetsnbextension~=3.6.0->ipywidgets->isocycle) (21.2.0)\n",
      "Requirement already satisfied: cffi>=1.0.1 in d:\\programfiles\\anaconda3\\envs\\deepdecoder\\lib\\site-packages (from argon2-cffi-bindings->argon2-cffi->notebook>=4.4.1->widgetsnbextension~=3.6.0->ipywidgets->isocycle) (1.15.0)\n",
      "Requirement already satisfied: pycparser in d:\\programfiles\\anaconda3\\envs\\deepdecoder\\lib\\site-packages (from cffi>=1.0.1->argon2-cffi-bindings->argon2-cffi->notebook>=4.4.1->widgetsnbextension~=3.6.0->ipywidgets->isocycle) (2.21)\n",
      "Requirement already satisfied: soupsieve>1.2 in d:\\programfiles\\anaconda3\\envs\\deepdecoder\\lib\\site-packages (from beautifulsoup4->nbconvert>=5->notebook>=4.4.1->widgetsnbextension~=3.6.0->ipywidgets->isocycle) (2.3.2.post1)\n",
      "Requirement already satisfied: webencodings in d:\\programfiles\\anaconda3\\envs\\deepdecoder\\lib\\site-packages (from bleach->nbconvert>=5->notebook>=4.4.1->widgetsnbextension~=3.6.0->ipywidgets->isocycle) (0.5.1)\n",
      "Requirement already satisfied: asttokens in d:\\programfiles\\anaconda3\\envs\\deepdecoder\\lib\\site-packages (from stack-data->ipython<9->ipympl->isocycle) (2.0.5)\n",
      "Requirement already satisfied: executing in d:\\programfiles\\anaconda3\\envs\\deepdecoder\\lib\\site-packages (from stack-data->ipython<9->ipympl->isocycle) (0.8.3)\n",
      "Requirement already satisfied: pure-eval in d:\\programfiles\\anaconda3\\envs\\deepdecoder\\lib\\site-packages (from stack-data->ipython<9->ipympl->isocycle) (0.2.2)\n",
      "Requirement already satisfied: wrapt>=1.11.0 in d:\\programfiles\\anaconda3\\envs\\deepdecoder\\lib\\site-packages (from tensorflow->isocycle) (1.14.0)\n",
      "Requirement already satisfied: protobuf>=3.9.2 in d:\\programfiles\\anaconda3\\envs\\deepdecoder\\lib\\site-packages (from tensorflow->isocycle) (3.20.0)\n",
      "Requirement already satisfied: gast>=0.2.1 in d:\\programfiles\\anaconda3\\envs\\deepdecoder\\lib\\site-packages (from tensorflow->isocycle) (0.5.3)\n",
      "Requirement already satisfied: typing-extensions>=3.6.6 in d:\\programfiles\\anaconda3\\envs\\deepdecoder\\lib\\site-packages (from tensorflow->isocycle) (4.1.1)\n",
      "Requirement already satisfied: keras<2.9,>=2.8.0rc0 in d:\\programfiles\\anaconda3\\envs\\deepdecoder\\lib\\site-packages (from tensorflow->isocycle) (2.8.0)\n",
      "Requirement already satisfied: google-pasta>=0.1.1 in d:\\programfiles\\anaconda3\\envs\\deepdecoder\\lib\\site-packages (from tensorflow->isocycle) (0.2.0)\n",
      "Requirement already satisfied: h5py>=2.9.0 in d:\\programfiles\\anaconda3\\envs\\deepdecoder\\lib\\site-packages (from tensorflow->isocycle) (3.6.0)\n",
      "Requirement already satisfied: tensorflow-io-gcs-filesystem>=0.23.1 in d:\\programfiles\\anaconda3\\envs\\deepdecoder\\lib\\site-packages (from tensorflow->isocycle) (0.24.0)\n",
      "Requirement already satisfied: absl-py>=0.4.0 in d:\\programfiles\\anaconda3\\envs\\deepdecoder\\lib\\site-packages (from tensorflow->isocycle) (1.0.0)\n",
      "Requirement already satisfied: keras-preprocessing>=1.1.1 in d:\\programfiles\\anaconda3\\envs\\deepdecoder\\lib\\site-packages (from tensorflow->isocycle) (1.1.2)\n",
      "Requirement already satisfied: tf-estimator-nightly==2.8.0.dev2021122109 in d:\\programfiles\\anaconda3\\envs\\deepdecoder\\lib\\site-packages (from tensorflow->isocycle) (2.8.0.dev2021122109)\n",
      "Requirement already satisfied: opt-einsum>=2.3.2 in d:\\programfiles\\anaconda3\\envs\\deepdecoder\\lib\\site-packages (from tensorflow->isocycle) (3.3.0)\n",
      "Requirement already satisfied: astunparse>=1.6.0 in d:\\programfiles\\anaconda3\\envs\\deepdecoder\\lib\\site-packages (from tensorflow->isocycle) (1.6.3)\n",
      "Requirement already satisfied: termcolor>=1.1.0 in d:\\programfiles\\anaconda3\\envs\\deepdecoder\\lib\\site-packages (from tensorflow->isocycle) (1.1.0)\n",
      "Requirement already satisfied: libclang>=9.0.1 in d:\\programfiles\\anaconda3\\envs\\deepdecoder\\lib\\site-packages (from tensorflow->isocycle) (13.0.0)\n",
      "Requirement already satisfied: flatbuffers>=1.12 in d:\\programfiles\\anaconda3\\envs\\deepdecoder\\lib\\site-packages (from tensorflow->isocycle) (2.0)\n",
      "Requirement already satisfied: tensorboard<2.9,>=2.8 in d:\\programfiles\\anaconda3\\envs\\deepdecoder\\lib\\site-packages (from tensorflow->isocycle) (2.8.0)\n",
      "Requirement already satisfied: grpcio<2.0,>=1.24.3 in d:\\programfiles\\anaconda3\\envs\\deepdecoder\\lib\\site-packages (from tensorflow->isocycle) (1.44.0)\n",
      "Requirement already satisfied: wheel<1.0,>=0.23.0 in d:\\programfiles\\anaconda3\\envs\\deepdecoder\\lib\\site-packages (from astunparse>=1.6.0->tensorflow->isocycle) (0.37.1)\n",
      "Requirement already satisfied: google-auth-oauthlib<0.5,>=0.4.1 in d:\\programfiles\\anaconda3\\envs\\deepdecoder\\lib\\site-packages (from tensorboard<2.9,>=2.8->tensorflow->isocycle) (0.4.6)\n",
      "Requirement already satisfied: requests<3,>=2.21.0 in d:\\programfiles\\anaconda3\\envs\\deepdecoder\\lib\\site-packages (from tensorboard<2.9,>=2.8->tensorflow->isocycle) (2.27.1)\n",
      "Requirement already satisfied: werkzeug>=0.11.15 in d:\\programfiles\\anaconda3\\envs\\deepdecoder\\lib\\site-packages (from tensorboard<2.9,>=2.8->tensorflow->isocycle) (2.1.1)\n",
      "Requirement already satisfied: tensorboard-data-server<0.7.0,>=0.6.0 in d:\\programfiles\\anaconda3\\envs\\deepdecoder\\lib\\site-packages (from tensorboard<2.9,>=2.8->tensorflow->isocycle) (0.6.1)\n",
      "Requirement already satisfied: markdown>=2.6.8 in d:\\programfiles\\anaconda3\\envs\\deepdecoder\\lib\\site-packages (from tensorboard<2.9,>=2.8->tensorflow->isocycle) (3.3.6)\n",
      "Requirement already satisfied: google-auth<3,>=1.6.3 in d:\\programfiles\\anaconda3\\envs\\deepdecoder\\lib\\site-packages (from tensorboard<2.9,>=2.8->tensorflow->isocycle) (2.6.3)\n",
      "Requirement already satisfied: tensorboard-plugin-wit>=1.6.0 in d:\\programfiles\\anaconda3\\envs\\deepdecoder\\lib\\site-packages (from tensorboard<2.9,>=2.8->tensorflow->isocycle) (1.8.1)\n",
      "Requirement already satisfied: cachetools<6.0,>=2.0.0 in d:\\programfiles\\anaconda3\\envs\\deepdecoder\\lib\\site-packages (from google-auth<3,>=1.6.3->tensorboard<2.9,>=2.8->tensorflow->isocycle) (5.0.0)\n",
      "Requirement already satisfied: rsa<5,>=3.1.4 in d:\\programfiles\\anaconda3\\envs\\deepdecoder\\lib\\site-packages (from google-auth<3,>=1.6.3->tensorboard<2.9,>=2.8->tensorflow->isocycle) (4.8)\n",
      "Requirement already satisfied: pyasn1-modules>=0.2.1 in d:\\programfiles\\anaconda3\\envs\\deepdecoder\\lib\\site-packages (from google-auth<3,>=1.6.3->tensorboard<2.9,>=2.8->tensorflow->isocycle) (0.2.8)\n",
      "Requirement already satisfied: requests-oauthlib>=0.7.0 in d:\\programfiles\\anaconda3\\envs\\deepdecoder\\lib\\site-packages (from google-auth-oauthlib<0.5,>=0.4.1->tensorboard<2.9,>=2.8->tensorflow->isocycle) (1.3.1)\n",
      "Requirement already satisfied: importlib-metadata>=4.4 in d:\\programfiles\\anaconda3\\envs\\deepdecoder\\lib\\site-packages (from markdown>=2.6.8->tensorboard<2.9,>=2.8->tensorflow->isocycle) (4.11.3)\n",
      "Requirement already satisfied: pyasn1<0.5.0,>=0.4.6 in d:\\programfiles\\anaconda3\\envs\\deepdecoder\\lib\\site-packages (from pyasn1-modules>=0.2.1->google-auth<3,>=1.6.3->tensorboard<2.9,>=2.8->tensorflow->isocycle) (0.4.8)\n",
      "Requirement already satisfied: urllib3<1.27,>=1.21.1 in d:\\programfiles\\anaconda3\\envs\\deepdecoder\\lib\\site-packages (from requests<3,>=2.21.0->tensorboard<2.9,>=2.8->tensorflow->isocycle) (1.26.9)\n",
      "Requirement already satisfied: charset-normalizer~=2.0.0 in d:\\programfiles\\anaconda3\\envs\\deepdecoder\\lib\\site-packages (from requests<3,>=2.21.0->tensorboard<2.9,>=2.8->tensorflow->isocycle) (2.0.12)\n",
      "Requirement already satisfied: certifi>=2017.4.17 in d:\\programfiles\\anaconda3\\envs\\deepdecoder\\lib\\site-packages (from requests<3,>=2.21.0->tensorboard<2.9,>=2.8->tensorflow->isocycle) (2021.10.8)\n",
      "Requirement already satisfied: idna<4,>=2.5 in d:\\programfiles\\anaconda3\\envs\\deepdecoder\\lib\\site-packages (from requests<3,>=2.21.0->tensorboard<2.9,>=2.8->tensorflow->isocycle) (3.3)\n",
      "Requirement already satisfied: oauthlib>=3.0.0 in d:\\programfiles\\anaconda3\\envs\\deepdecoder\\lib\\site-packages (from requests-oauthlib>=0.7.0->google-auth-oauthlib<0.5,>=0.4.1->tensorboard<2.9,>=2.8->tensorflow->isocycle) (3.2.0)\n",
      "Building wheels for collected packages: isocycle\n",
      "  Building wheel for isocycle (setup.py): started\n",
      "  Building wheel for isocycle (setup.py): finished with status 'done'\n",
      "  Created wheel for isocycle: filename=isoCycle-0.0.18-py3-none-any.whl size=6994 sha256=e0cacfa6b95bb40999a136b6303c7a86d545ebedbee84f8585ab612cf4abf2c6\n",
      "  Stored in directory: c:\\users\\721lab2-admin\\appdata\\local\\pip\\cache\\wheels\\f7\\2c\\0c\\495c9072fd716222aab25abe5e99df0f0acf18846491f230c4\n",
      "Successfully built isocycle\n",
      "Installing collected packages: isocycle\n",
      "Successfully installed isocycle-0.0.18\n",
      "Note: you may need to restart the kernel to use updated packages.\n"
     ]
    }
   ],
   "source": [
    "pip install isocycle"
   ]
  },
  {
   "cell_type": "code",
   "execution_count": null,
   "id": "2a0638c9",
   "metadata": {},
   "outputs": [],
   "source": []
  }
 ],
 "metadata": {
  "kernelspec": {
   "display_name": "deepDecoder",
   "language": "python",
   "name": "deepdecoder"
  },
  "language_info": {
   "codemirror_mode": {
    "name": "ipython",
    "version": 3
   },
   "file_extension": ".py",
   "mimetype": "text/x-python",
   "name": "python",
   "nbconvert_exporter": "python",
   "pygments_lexer": "ipython3",
   "version": "3.8.13"
  },
  "varInspector": {
   "cols": {
    "lenName": 16,
    "lenType": 16,
    "lenVar": 40
   },
   "kernels_config": {
    "python": {
     "delete_cmd_postfix": "",
     "delete_cmd_prefix": "del ",
     "library": "var_list.py",
     "varRefreshCmd": "print(var_dic_list())"
    },
    "r": {
     "delete_cmd_postfix": ") ",
     "delete_cmd_prefix": "rm(",
     "library": "var_list.r",
     "varRefreshCmd": "cat(var_dic_list()) "
    }
   },
   "types_to_exclude": [
    "module",
    "function",
    "builtin_function_or_method",
    "instance",
    "_Feature"
   ],
   "window_display": false
  }
 },
 "nbformat": 4,
 "nbformat_minor": 5
}
