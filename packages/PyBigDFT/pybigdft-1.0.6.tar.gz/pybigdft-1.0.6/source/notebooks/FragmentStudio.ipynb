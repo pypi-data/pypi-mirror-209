{
 "cells": [
  {
   "cell_type": "markdown",
   "metadata": {},
   "source": [
    "# Fragment Studio\n",
    "In this notebook, we illustrate how we store the physical systems in PyBigDFT, and hwo to manipulate its individual parts.\n",
    "\n",
    "## Basic Types\n",
    "In PyBigDFT, we represent the physical system we are calculating in a three level hierarchy. First, we have atoms. Each atom has a symbol and position, but might also have any general quantity associated with it. Next we have fragments, which represent collections of atoms. Finally we have systems, which contain a collection of named fragments."
   ]
  },
  {
   "cell_type": "markdown",
   "metadata": {},
   "source": [
    "### Atoms"
   ]
  },
  {
   "cell_type": "code",
   "execution_count": 1,
   "metadata": {
    "collapsed": true,
    "jupyter": {
     "outputs_hidden": true
    }
   },
   "outputs": [],
   "source": [
    "from BigDFT.Atom import Atom"
   ]
  },
  {
   "cell_type": "code",
   "execution_count": 2,
   "metadata": {
    "collapsed": true,
    "jupyter": {
     "outputs_hidden": true
    }
   },
   "outputs": [],
   "source": [
    "at1 = Atom(r=[0.0, 0.0, 1.0], sym=\"He\")\n",
    "at2 = Atom(r=[0.52917721092, 0.0, 0.0], sym=\"Ne\", units=\"angstroem\")"
   ]
  },
  {
   "cell_type": "markdown",
   "metadata": {},
   "source": [
    "The most important elements of the Atom can be accessed through helper routines"
   ]
  },
  {
   "cell_type": "code",
   "execution_count": 3,
   "metadata": {
    "collapsed": true,
    "jupyter": {
     "outputs_hidden": true
    }
   },
   "outputs": [
    {
     "name": "stdout",
     "output_type": "stream",
     "text": [
      "He Ne\n",
      "[0.0, 0.0, 1.0] [1.0, 0.0, 0.0]\n",
      "[0.0, 0.0, 0.52917721092] [0.52917721092, 0.0, 0.0]\n"
     ]
    }
   ],
   "source": [
    "print(at1.sym, at2.sym)\n",
    "print(at1.get_position(), at2.get_position())\n",
    "print(at1.get_position(units=\"angstroem\"), at2.get_position(units=\"angstroem\"))"
   ]
  },
  {
   "cell_type": "markdown",
   "metadata": {},
   "source": [
    "Notice how the default position value is given in bohr. Atoms behave like python dictionaries, allowing you to supplement them with any general property."
   ]
  },
  {
   "cell_type": "code",
   "execution_count": 4,
   "metadata": {
    "collapsed": true,
    "jupyter": {
     "outputs_hidden": true
    }
   },
   "outputs": [
    {
     "name": "stdout",
     "output_type": "stream",
     "text": [
      "{'source': 'QM Calculation', 'sym': 'He', 'r': [0.0, 0.0, 1.0]}\n"
     ]
    }
   ],
   "source": [
    "at1[\"source\"] = \"QM Calculation\"\n",
    "print(dict(at1))"
   ]
  },
  {
   "cell_type": "markdown",
   "metadata": {},
   "source": [
    "### Fragments\n",
    "Fragments are built from a list of atoms. "
   ]
  },
  {
   "cell_type": "code",
   "execution_count": 5,
   "metadata": {
    "collapsed": true,
    "jupyter": {
     "outputs_hidden": true
    }
   },
   "outputs": [],
   "source": [
    "from BigDFT.Fragments import Fragment\n",
    "frag1 = Fragment(atomlist=[at1, at2])"
   ]
  },
  {
   "cell_type": "code",
   "execution_count": 6,
   "metadata": {
    "collapsed": true,
    "jupyter": {
     "outputs_hidden": true
    }
   },
   "outputs": [
    {
     "name": "stdout",
     "output_type": "stream",
     "text": [
      "[0.5 0.  0.5]\n",
      "[[1. 0. 0.]\n",
      " [0. 0. 0.]\n",
      " [0. 0. 1.]]\n"
     ]
    }
   ],
   "source": [
    "print(frag1.centroid)\n",
    "print(frag1.ellipsoid())"
   ]
  },
  {
   "cell_type": "markdown",
   "metadata": {},
   "source": [
    "We can also create a fragment from an XYZ file."
   ]
  },
  {
   "cell_type": "code",
   "execution_count": 7,
   "metadata": {
    "collapsed": true,
    "jupyter": {
     "outputs_hidden": true
    }
   },
   "outputs": [],
   "source": [
    "from BigDFT.FragmentIO import XYZReader\n",
    "frag2 = Fragment(xyzfile=XYZReader(\"testfiles/three.xyz\"))"
   ]
  },
  {
   "cell_type": "markdown",
   "metadata": {},
   "source": [
    "Fragments behave as lists. This makes it easy to iterate over them."
   ]
  },
  {
   "cell_type": "code",
   "execution_count": 8,
   "metadata": {
    "collapsed": true,
    "jupyter": {
     "outputs_hidden": true
    }
   },
   "outputs": [
    {
     "name": "stdout",
     "output_type": "stream",
     "text": [
      "He [0.0, 0.0, 1.0]\n",
      "C [21.333118220214985, 8.556679703057988, 1.780122066032072]\n",
      "C [24.02597983744632, 5.975313816902113, 4.382274882866378]\n"
     ]
    }
   ],
   "source": [
    "frag3 = frag1[:1] + frag2[3:5]\n",
    "for at in frag3:\n",
    "    print(at.sym, at.get_position())"
   ]
  },
  {
   "cell_type": "code",
   "execution_count": 9,
   "metadata": {
    "collapsed": true,
    "jupyter": {
     "outputs_hidden": true
    }
   },
   "outputs": [
    {
     "name": "stdout",
     "output_type": "stream",
     "text": [
      "[-1.7532459e-07 -8.8817842e-16  0.0000000e+00]\n"
     ]
    }
   ],
   "source": [
    "print(frag2.centroid - frag2[:36].centroid)"
   ]
  },
  {
   "cell_type": "markdown",
   "metadata": {},
   "source": [
    "### System\n",
    "At the highest level of the hierarchy are systems. Systems are collections of named fragments, and they behave like dictionaries."
   ]
  },
  {
   "cell_type": "code",
   "execution_count": 10,
   "metadata": {
    "collapsed": true,
    "jupyter": {
     "outputs_hidden": true
    }
   },
   "outputs": [],
   "source": [
    "from BigDFT.Fragments import System\n",
    "three = System()\n",
    "for i in range(0, len(frag2), 36):\n",
    "    three[\"frag\"+str(i)] = frag2[i:i+36]"
   ]
  },
  {
   "cell_type": "code",
   "execution_count": 11,
   "metadata": {
    "collapsed": true,
    "jupyter": {
     "outputs_hidden": true
    }
   },
   "outputs": [
    {
     "name": "stdout",
     "output_type": "stream",
     "text": [
      "[ 6.966843    4.82378834 12.43917457]\n",
      "[30.64511125  4.82378834 12.43917457]\n",
      "[18.80597739  4.82378834 12.43917457]\n",
      "[18.80597721  4.82378834 12.43917457]\n",
      "('frag0', <BigDFT.Fragments.Fragment object at 0x7fbe2f72a7f0>)\n"
     ]
    }
   ],
   "source": [
    "for frag in three.values():\n",
    "    print(frag.centroid)\n",
    "print(three.centroid)\n",
    "print(three.central_fragment)"
   ]
  },
  {
   "cell_type": "markdown",
   "metadata": {},
   "source": [
    "## Basic Manipulation\n",
    "Now we turn to the basic manipulation of BigDFT systems and their constituent parts on space."
   ]
  },
  {
   "cell_type": "code",
   "execution_count": 12,
   "metadata": {
    "collapsed": true,
    "jupyter": {
     "outputs_hidden": true
    }
   },
   "outputs": [
    {
     "name": "stdout",
     "output_type": "stream",
     "text": [
      "188\n",
      "6768\n"
     ]
    }
   ],
   "source": [
    "big = System()\n",
    "bigf = Fragment(xyzfile=XYZReader(\"testfiles/BigCase.xyz\"))\n",
    "for i in range(0, len(bigf), 36):\n",
    "    big[\"frag\"+str(i)] = bigf[i:i+36]\n",
    "print(len(big))\n",
    "print(sum([len(x) for x in big.values()]))"
   ]
  },
  {
   "cell_type": "markdown",
   "metadata": {},
   "source": [
    "Here we will calculate the distance of each fragment from the center."
   ]
  },
  {
   "cell_type": "code",
   "execution_count": 13,
   "metadata": {
    "collapsed": true,
    "jupyter": {
     "outputs_hidden": true
    }
   },
   "outputs": [],
   "source": [
    "cxyz=big.centroid"
   ]
  },
  {
   "cell_type": "code",
   "execution_count": 14,
   "metadata": {
    "collapsed": true,
    "jupyter": {
     "outputs_hidden": true
    }
   },
   "outputs": [],
   "source": [
    "import numpy as np\n",
    "dist=[]\n",
    "for frag in big.values():\n",
    "    v=frag.centroid-cxyz\n",
    "    dist.append(np.linalg.norm(v))"
   ]
  },
  {
   "cell_type": "code",
   "execution_count": 15,
   "metadata": {
    "collapsed": true,
    "jupyter": {
     "outputs_hidden": true
    }
   },
   "outputs": [
    {
     "data": {
      "text/plain": [
       "8.998864683335919"
      ]
     },
     "execution_count": 15,
     "metadata": {},
     "output_type": "execute_result"
    }
   ],
   "source": [
    "min(dist)"
   ]
  },
  {
   "cell_type": "code",
   "execution_count": 16,
   "metadata": {
    "collapsed": true,
    "jupyter": {
     "outputs_hidden": true
    }
   },
   "outputs": [],
   "source": [
    "from BigDFT.Fragments import distance\n",
    "DPP=[]\n",
    "for f in big.values():\n",
    "    DPP.append(np.array([distance(f,g) for g in big.values()]))"
   ]
  },
  {
   "cell_type": "code",
   "execution_count": 17,
   "metadata": {
    "collapsed": true,
    "jupyter": {
     "outputs_hidden": true
    }
   },
   "outputs": [],
   "source": [
    "thr=18.0\n",
    "NN=[]\n",
    "for i,f in enumerate(big.values()):\n",
    "    inn=0\n",
    "    for g in DPP[i]:\n",
    "        if g< thr and g !=0.0: inn+=1\n",
    "    NN.append(inn)\n",
    "import matplotlib.pyplot as plt"
   ]
  },
  {
   "cell_type": "code",
   "execution_count": 18,
   "metadata": {
    "collapsed": true,
    "jupyter": {
     "outputs_hidden": true
    }
   },
   "outputs": [
    {
     "data": {
      "image/png": "[encoded data removed]",
      "text/plain": [
       "<Figure size 432x288 with 1 Axes>"
      ]
     },
     "metadata": {
      "needs_background": "light"
     },
     "output_type": "display_data"
    }
   ],
   "source": [
    "plotNN=plt.plot(dist,NN,'o')"
   ]
  },
  {
   "cell_type": "code",
   "execution_count": 19,
   "metadata": {
    "collapsed": true,
    "jupyter": {
     "outputs_hidden": true
    }
   },
   "outputs": [],
   "source": [
    "%matplotlib inline\n",
    "plt.show()"
   ]
  },
  {
   "cell_type": "code",
   "execution_count": 20,
   "metadata": {
    "collapsed": true,
    "jupyter": {
     "outputs_hidden": true
    }
   },
   "outputs": [
    {
     "name": "stdout",
     "output_type": "stream",
     "text": [
      "found 0 14.713532748633009\n",
      "found 34 17.99796827570012\n",
      "found 50 8.998980617809755\n",
      "found 77 9.866111346692987\n",
      "found 91 14.713312006948092\n",
      "found 105 17.9978894067786\n",
      "found 118 8.998864683335919\n",
      "found 160 9.866288996735301\n"
     ]
    }
   ],
   "source": [
    "holef=[]\n",
    "for i,n in enumerate(NN):\n",
    "    if n==8 and dist[i] < 30: \n",
    "        print ('found',i,dist[i])\n",
    "        holef.append(i)"
   ]
  },
  {
   "cell_type": "code",
   "execution_count": 21,
   "metadata": {
    "collapsed": true,
    "jupyter": {
     "outputs_hidden": true
    }
   },
   "outputs": [
    {
     "name": "stdout",
     "output_type": "stream",
     "text": [
      "[ 3.95779152e-05  3.96290001e-05 -3.14265335e-05]\n"
     ]
    }
   ],
   "source": [
    "from numpy import zeros\n",
    "oxyz=zeros(3)\n",
    "for h in holef:\n",
    "    oxyz+= list(big.values())[h].centroid\n",
    "print (oxyz/len(holef)-big.centroid)"
   ]
  },
  {
   "cell_type": "code",
   "execution_count": 22,
   "metadata": {
    "collapsed": true,
    "jupyter": {
     "outputs_hidden": true
    }
   },
   "outputs": [],
   "source": [
    "frg3=list(three.values())[0]"
   ]
  },
  {
   "cell_type": "code",
   "execution_count": 23,
   "metadata": {
    "collapsed": true,
    "jupyter": {
     "outputs_hidden": true
    }
   },
   "outputs": [],
   "source": [
    "c3=frg3.centroid\n",
    "cb=oxyz/len(holef)\n",
    "shift=np.mat(cb-c3).T"
   ]
  },
  {
   "cell_type": "code",
   "execution_count": 24,
   "metadata": {
    "collapsed": true,
    "jupyter": {
     "outputs_hidden": true
    }
   },
   "outputs": [],
   "source": [
    "frg3.translate(shift)"
   ]
  },
  {
   "cell_type": "markdown",
   "metadata": {},
   "source": [
    "## System Calculations\n",
    "Finally, we show how to use the systems we have generated in actual calculations. First we setup the input file."
   ]
  },
  {
   "cell_type": "code",
   "execution_count": 25,
   "metadata": {
    "collapsed": true,
    "jupyter": {
     "outputs_hidden": true
    }
   },
   "outputs": [
    {
     "name": "stdout",
     "output_type": "stream",
     "text": [
      "Initialize a Calculator with OMP_NUM_THREADS=2 and command mpirun /home/wdawson/share/binaries/external/install/bin/bigdft\n"
     ]
    }
   ],
   "source": [
    "from BigDFT import Calculators as C\n",
    "code = C.SystemCalculator(omp=2, mpi_run=\"mpirun\")\n",
    "code.update_global_options(skip=True)"
   ]
  },
  {
   "cell_type": "code",
   "execution_count": 26,
   "metadata": {
    "collapsed": true,
    "jupyter": {
     "outputs_hidden": true
    }
   },
   "outputs": [],
   "source": [
    "from BigDFT import Inputfiles as I\n",
    "inp = I.Inputfile()\n",
    "inp.set_xc(\"PBE\")\n",
    "inp.set_hgrid(0.4)"
   ]
  },
  {
   "cell_type": "markdown",
   "metadata": {},
   "source": [
    "Build a system."
   ]
  },
  {
   "cell_type": "code",
   "execution_count": 27,
   "metadata": {
    "collapsed": true,
    "jupyter": {
     "outputs_hidden": true
    }
   },
   "outputs": [],
   "source": [
    "f1 = Fragment(xyzfile=XYZReader(\"testfiles/three.xyz\"))[0:36]\n",
    "sys = System()\n",
    "sys[\"FRAG:1\"] = f1"
   ]
  },
  {
   "cell_type": "markdown",
   "metadata": {},
   "source": [
    "Now for the geometry."
   ]
  },
  {
   "cell_type": "code",
   "execution_count": 28,
   "metadata": {
    "collapsed": true,
    "jupyter": {
     "outputs_hidden": true
    }
   },
   "outputs": [],
   "source": [
    "inp[\"posinp\"]= sys.get_posinp(\"angstroem\")"
   ]
  },
  {
   "cell_type": "code",
   "execution_count": 29,
   "metadata": {
    "collapsed": true,
    "jupyter": {
     "outputs_hidden": true
    }
   },
   "outputs": [
    {
     "name": "stdout",
     "output_type": "stream",
     "text": [
      "Creating the yaml input file \"./test.yaml\"\n",
      "Executing command:  mpirun /home/wdawson/share/binaries/external/install/bin/bigdft -n test -s Yes\n"
     ]
    }
   ],
   "source": [
    "log = code.run(name=\"test\", input=inp)"
   ]
  }
 ],
 "metadata": {
  "kernelspec": {
   "display_name": "Python 2",
   "language": "python",
   "name": "python2"
  },
  "language_info": {
   "codemirror_mode": {
    "name": "ipython",
    "version": 3
   },
   "file_extension": ".py",
   "mimetype": "text/x-python",
   "name": "python",
   "nbconvert_exporter": "python",
   "pygments_lexer": "ipython3",
   "version": "3.5.3"
  }
 },
 "nbformat": 4,
 "nbformat_minor": 4
}
