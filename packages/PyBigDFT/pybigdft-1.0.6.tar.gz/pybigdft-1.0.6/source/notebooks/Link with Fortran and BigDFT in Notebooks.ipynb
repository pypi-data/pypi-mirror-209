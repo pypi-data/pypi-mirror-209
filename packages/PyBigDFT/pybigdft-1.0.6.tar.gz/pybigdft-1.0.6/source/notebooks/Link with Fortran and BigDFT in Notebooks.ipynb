{
 "cells": [
  {
   "cell_type": "markdown",
   "metadata": {},
   "source": [
    "# Example of the usage of the BigDFT routines from a Jupyter notebook\n",
    "This notebook will explain, from the examples shown [here](http://nbviewer.jupyter.org/github/mgaitan/fortran_magic/blob/master/documentation.ipynb) what are the main passages to utilize the BigDFT routines from within a Jupyter environment. We will provide as an example the usage of some routines provided in the BigDFT modules.\n",
    "\n",
    "Let us first load the fortran_magic package as explained in the above referenced notebook."
   ]
  },
  {
   "cell_type": "code",
   "execution_count": 1,
   "metadata": {},
   "outputs": [
    {
     "name": "stderr",
     "output_type": "stream",
     "text": [
      "/usr/local/lib/python3.4/dist-packages/fortranmagic.py:147: UserWarning: get_ipython_cache_dir has moved to the IPython.paths module since IPython 4.0.\n",
      "  self._lib_dir = os.path.join(get_ipython_cache_dir(), 'fortran')\n"
     ]
    },
    {
     "data": {
      "application/javascript": [
       "$.getScript(\"https://raw.github.com/marijnh/CodeMirror/master/mode/fortran/fortran.js\", function () {\n",
       "IPython.config.cell_magic_highlight['magic_fortran'] = {'reg':[/^%%fortran/]};});\n"
      ]
     },
     "metadata": {},
     "output_type": "display_data"
    }
   ],
   "source": [
    "%load_ext fortranmagic"
   ]
  },
  {
   "cell_type": "code",
   "execution_count": 2,
   "metadata": {},
   "outputs": [
    {
     "name": "stdout",
     "output_type": "stream",
     "text": [
      "Current defaults arguments for %fortran:\n",
      "\t--extra '-I/local/binaries/gfortran-bindings-fpe/install/include  -L/local/binaries/gfortran-bindings-fpe/install/lib -lbigdft-1 -lbabel -lPSolver-1 -lfutile-1'\n"
     ]
    }
   ],
   "source": [
    "%fortran_config"
   ]
  },
  {
   "cell_type": "markdown",
   "metadata": {},
   "source": [
    "Then we can start the reference example to control that our implemenation is apparently functional:"
   ]
  },
  {
   "cell_type": "code",
   "execution_count": 3,
   "metadata": {
    "collapsed": true
   },
   "outputs": [],
   "source": [
    "%%fortran\n",
    "\n",
    "subroutine f1(x, y, z)\n",
    "    real, intent(in) :: x,y\n",
    "    real, intent(out) :: z\n",
    "\n",
    "    z = sin(x+y)\n",
    "\n",
    "end subroutine f1"
   ]
  },
  {
   "cell_type": "code",
   "execution_count": 4,
   "metadata": {},
   "outputs": [
    {
     "name": "stdout",
     "output_type": "stream",
     "text": [
      "-8.742277657347586e-08\n",
      "-8.742277657347586e-08\n",
      "1.0\n"
     ]
    }
   ],
   "source": [
    "import numpy as np\n",
    "print(f1(np.pi,0.0))\n",
    "print(f1(0.5*np.pi,0.5*np.pi))\n",
    "print(f1(0.25*np.pi,0.25*np.pi))"
   ]
  },
  {
   "cell_type": "markdown",
   "metadata": {},
   "source": [
    "The above numbers should be two (simple precision) zeros and a one.\n",
    "\n",
    "Let us now write a routine that import a integer into a futile dictionary; this routine is an example on how we might use the futile module within fortran_magic.\n",
    "\n",
    "First, let us retrieve the link line for futile and bigdft:"
   ]
  },
  {
   "cell_type": "code",
   "execution_count": 5,
   "metadata": {},
   "outputs": [
    {
     "name": "stdout",
     "output_type": "stream",
     "text": [
      "Parsing arguments with method argparse...\n",
      "Configuration chosen for the Installer:\n",
      "  Hostname: athelas\n",
      "  Source directory: /local/genovese/work/BigDFT/1.8\n",
      "  Compiling from a branch: True\n",
      "  Build directory: /local/genovese/work/execute/BigDFT-nb/tutorial\n",
      "  Action chosen: link\n",
      "  Verbose: False\n",
      "  Jhbuild baseline: /local/genovese/work/BigDFT/1.8/futile/../jhbuild.py \n",
      " List of modules to be treated: ['libyaml', 'futile']\n",
      "--------- Linking line to build with package \"futile\":\n",
      "  -I/local/binaries/gfortran-bindings-fpe/install/include  -L/local/binaries/gfortran-bindings-fpe/install/lib -lfutile-1  \n",
      "--------------------------------------------------\n",
      "Thank you for using the Installer of BigDFT suite.\n",
      "The action considered was: link\n"
     ]
    }
   ],
   "source": [
    "!$FUTILE_SOURCES/../Installer.py link futile -yq"
   ]
  },
  {
   "cell_type": "code",
   "execution_count": 6,
   "metadata": {},
   "outputs": [
    {
     "name": "stdout",
     "output_type": "stream",
     "text": [
      "New default arguments for %fortran:\n",
      "\t--extra '-I/local/binaries/gfortran-bindings-fpe/install/include  -L/local/binaries/gfortran-bindings-fpe/install/lib -lfutile-1'\n"
     ]
    }
   ],
   "source": [
    "%fortran_config --extra '-I/local/binaries/gfortran-bindings-fpe/install/include  -L/local/binaries/gfortran-bindings-fpe/install/lib -lfutile-1'"
   ]
  },
  {
   "cell_type": "code",
   "execution_count": 7,
   "metadata": {},
   "outputs": [],
   "source": [
    "%%fortran\n",
    "subroutine test_dict(iin,iout)\n",
    "use futile\n",
    "integer, intent(in) :: iin\n",
    "integer, intent(out) :: iout\n",
    "!local variables\n",
    "type(dictionary), pointer :: test\n",
    "        \n",
    "call f_lib_initialize() !initalize futile\n",
    "        \n",
    "test=>dict_new() !create a dictionary object\n",
    "call set(test//'integer',iin) !associate an integer to such a dictionary\n",
    "\n",
    "iout=test//'integer' !retrieve the value\n",
    "\n",
    "call f_increment(iout) !iout += 1\n",
    "\n",
    "call dict_free(test)\n",
    "call f_lib_finalize_noreport()\n",
    "end subroutine test_dict"
   ]
  },
  {
   "cell_type": "code",
   "execution_count": 8,
   "metadata": {},
   "outputs": [
    {
     "data": {
      "text/plain": [
       "4"
      ]
     },
     "execution_count": 8,
     "metadata": {},
     "output_type": "execute_result"
    }
   ],
   "source": [
    "test_dict(3)"
   ]
  },
  {
   "cell_type": "markdown",
   "metadata": {},
   "source": [
    "Cool, it works! We can use with this scheme a deeper routine of BigDFT.\n",
    "For example, we can\n",
    "\n",
    "* Read a file containing atomic positions\n",
    "* Construct a astruct from the data of this file\n",
    "* Identify from this structure the nearest neighbor of each of the atoms\n",
    "* Store them in a matrix of the size of the atomic positions"
   ]
  },
  {
   "cell_type": "code",
   "execution_count": 15,
   "metadata": {},
   "outputs": [
    {
     "name": "stdout",
     "output_type": "stream",
     "text": [
      "Running...\n",
      "   /usr/bin/python3 -m numpy.f2py -I/local/binaries/gfortran-bindings-fpe/install/include -Wl,-rpath=/local/binaries/gfortran-bindings-fpe/install/lib -L/local/binaries/gfortran-bindings-fpe/install/lib -lbigdft-1 -lbabel -lPSolver-1 -lfutile-1 -I/local/binaries/gfortran-bindings-fpe/install/include -Wl,-rpath=/local/binaries/gfortran-bindings-fpe/install/lib -L/local/binaries/gfortran-bindings-fpe/install/lib -lbigdft-1 -lbabel -lPSolver-1 -lfutile-1 -I/local/binaries/gfortran-bindings-fpe/install/include -L/local/binaries/gfortran-bindings-fpe/install/lib -lbigdft-1 -lbabel -lPSolver-1 -lfutile-1 -I/local/binaries/gfortran-bindings-fpe/install/include -L/local/binaries/gfortran-bindings-fpe/install/lib -lbigdft-1 -lbabel -lPSolver-1 -lfutile-1 -I/local/binaries/gfortran-bindings-fpe/install/include -L/local/binaries/gfortran-bindings-fpe/install/lib -lbigdft-1 -lbabel -lPSolver-1 -lfutile-1 -I/local/binaries/gfortran-bindings-fpe/install/include -L/local/binaries/gfortran-bindings-fpe/install/lib -lbigdft-1 -lbabel -lPSolver-1 -lfutile-1 -I/local/binaries/gfortran-bindings-fpe/install/include -L/local/binaries/gfortran-bindings-fpe/install/lib -lbigdft-1 -lbabel -lPSolver-1 -lfutile-1 -I/local/binaries/gfortran-bindings-fpe/install/include -L/local/binaries/gfortran-bindings-fpe/install/lib -lbigdft-1 -lbabel -lPSolver-1 -lfutile-1 -I/local/binaries/gfortran-bindings-fpe/install/include -L/local/binaries/gfortran-bindings-fpe/install/lib -lbigdft-1 -lbabel -lPSolver-1 -lfutile-1 -m _fortran_magic_6156f2344cf3625e87264966c6885d34 -c /local/genovese/.cache/ipython/fortran/_fortran_magic_6156f2344cf3625e87264966c6885d34.f90\n",
      "running build\n",
      "running config_cc\n",
      "unifing config_cc, config, build_clib, build_ext, build commands --compiler options\n",
      "running config_fc\n",
      "unifing config_fc, config, build_clib, build_ext, build commands --fcompiler options\n",
      "running build_src\n",
      "build_src\n",
      "building extension \"_fortran_magic_6156f2344cf3625e87264966c6885d34\" sources\n",
      "f2py options: []\n",
      "f2py:> /tmp/tmpw7c9gne9/src.linux-x86_64-3.4/_fortran_magic_6156f2344cf3625e87264966c6885d34module.c\n",
      "creating /tmp/tmpw7c9gne9/src.linux-x86_64-3.4\n",
      "Reading fortran codes...\n",
      "\tReading file '/local/genovese/.cache/ipython/fortran/_fortran_magic_6156f2344cf3625e87264966c6885d34.f90' (format:free)\n",
      "Post-processing...\n",
      "\tBlock: _fortran_magic_6156f2344cf3625e87264966c6885d34\n",
      "\t\t\tBlock: nearest_neighbor\n",
      "In: :_fortran_magic_6156f2344cf3625e87264966c6885d34:/local/genovese/.cache/ipython/fortran/_fortran_magic_6156f2344cf3625e87264966c6885d34.f90:nearest_neighbor\n",
      "get_useparameters: no module module_atoms info used by nearest_neighbor\n",
      "In: :_fortran_magic_6156f2344cf3625e87264966c6885d34:/local/genovese/.cache/ipython/fortran/_fortran_magic_6156f2344cf3625e87264966c6885d34.f90:nearest_neighbor\n",
      "get_useparameters: no module f_trees info used by nearest_neighbor\n",
      "In: :_fortran_magic_6156f2344cf3625e87264966c6885d34:/local/genovese/.cache/ipython/fortran/_fortran_magic_6156f2344cf3625e87264966c6885d34.f90:nearest_neighbor\n",
      "get_useparameters: no module futile info used by nearest_neighbor\n",
      "Post-processing (stage 2)...\n",
      "Building modules...\n",
      "\tBuilding module \"_fortran_magic_6156f2344cf3625e87264966c6885d34\"...\n",
      "\t\tConstructing wrapper function \"nearest_neighbor\"...\n",
      "\t\t  nn_list = nearest_neighbor(file,n)\n",
      "\tWrote C/API module \"_fortran_magic_6156f2344cf3625e87264966c6885d34\" to file \"/tmp/tmpw7c9gne9/src.linux-x86_64-3.4/_fortran_magic_6156f2344cf3625e87264966c6885d34module.c\"\n",
      "  adding '/tmp/tmpw7c9gne9/src.linux-x86_64-3.4/fortranobject.c' to sources.\n",
      "  adding '/tmp/tmpw7c9gne9/src.linux-x86_64-3.4' to include_dirs.\n",
      "copying /usr/local/lib/python3.4/dist-packages/numpy/f2py/src/fortranobject.c -> /tmp/tmpw7c9gne9/src.linux-x86_64-3.4\n",
      "copying /usr/local/lib/python3.4/dist-packages/numpy/f2py/src/fortranobject.h -> /tmp/tmpw7c9gne9/src.linux-x86_64-3.4\n",
      "build_src: building npy-pkg config files\n",
      "running build_ext\n",
      "customize UnixCCompiler\n",
      "C compiler: mpicc.openmpi -DNDEBUG -g -fwrapv -O2 -Wall -Wstrict-prototypes -g -fstack-protector --param=ssp-buffer-size=4 -Wformat -Werror=format-security -D_FORTIFY_SOURCE=2 -fPIC\n",
      "\n",
      "creating /tmp/tmp5e0tpzr2/tmp\n",
      "creating /tmp/tmp5e0tpzr2/tmp/tmp5e0tpzr2\n",
      "compile options: '-MMD -MF /tmp/tmp5e0tpzr2/file.c.d -c'\n",
      "mpicc.openmpi: /tmp/tmp5e0tpzr2/file.c\n",
      "customize UnixCCompiler using build_ext\n",
      "customize Gnu95FCompiler\n",
      "Found executable /usr/bin/mpif90.openmpi\n",
      "Found executable /usr/bin/mpif77.openmpi\n",
      "Found executable /usr/bin/gfortran\n",
      "customize Gnu95FCompiler\n",
      "customize Gnu95FCompiler using build_ext\n",
      "building '_fortran_magic_6156f2344cf3625e87264966c6885d34' extension\n",
      "compiling C sources\n",
      "C compiler: mpicc.openmpi -DNDEBUG -g -fwrapv -O2 -Wall -Wstrict-prototypes -g -fstack-protector --param=ssp-buffer-size=4 -Wformat -Werror=format-security -D_FORTIFY_SOURCE=2 -fPIC\n",
      "\n"
     ]
    },
    {
     "name": "stderr",
     "output_type": "stream",
     "text": [
      "error: unknown file type '' (from '-Wl,-rpath=/local/binaries/gfortran-bindings-fpe/install/lib')\n"
     ]
    },
    {
     "ename": "RuntimeError",
     "evalue": "f2py failed, see output",
     "output_type": "error",
     "traceback": [
      "\u001b[0;31m---------------------------------------------------------------------------\u001b[0m",
      "\u001b[0;31mRuntimeError\u001b[0m                              Traceback (most recent call last)",
      "\u001b[0;32m<ipython-input-15-edcc7226439e>\u001b[0m in \u001b[0;36m<module>\u001b[0;34m()\u001b[0m\n\u001b[0;32m----> 1\u001b[0;31m \u001b[0mget_ipython\u001b[0m\u001b[0;34m(\u001b[0m\u001b[0;34m)\u001b[0m\u001b[0;34m.\u001b[0m\u001b[0mrun_cell_magic\u001b[0m\u001b[0;34m(\u001b[0m\u001b[0;34m'fortran'\u001b[0m\u001b[0;34m,\u001b[0m \u001b[0;34m'-vvv'\u001b[0m\u001b[0;34m,\u001b[0m \u001b[0;34m'subroutine nearest_neighbor(file,n,nn_list)\\nuse module_atoms\\nuse futile\\nuse f_trees\\nimplicit none\\ncharacter(len=*), intent(in) :: file\\ninteger, intent(in) :: n\\nreal(8), intent(out), dimension(15,n) :: nn_list\\n!local variables\\ntype(f_tree) :: tree_posinp\\ntype(atomic_structure) :: astruct\\n\\n!load the atomic position in the tree_posinp\\ntree_posinp=f_tree_load(file)\\n\\n!> fill the atomic structure datatype\\ncall astruct_set(astruct,tree_posinp%d,0.0_f_double,.true.,1.e-8_f_double,&\\n  [0.0_f_double,0.0_f_double,0.0_f_double],1,.true.)\\n\\nend subroutine'\u001b[0m\u001b[0;34m)\u001b[0m\u001b[0;34m\u001b[0m\u001b[0m\n\u001b[0m",
      "\u001b[0;32m/usr/local/lib/python3.4/dist-packages/IPython/core/interactiveshell.py\u001b[0m in \u001b[0;36mrun_cell_magic\u001b[0;34m(self, magic_name, line, cell)\u001b[0m\n\u001b[1;32m   2101\u001b[0m             \u001b[0mmagic_arg_s\u001b[0m \u001b[0;34m=\u001b[0m \u001b[0mself\u001b[0m\u001b[0;34m.\u001b[0m\u001b[0mvar_expand\u001b[0m\u001b[0;34m(\u001b[0m\u001b[0mline\u001b[0m\u001b[0;34m,\u001b[0m \u001b[0mstack_depth\u001b[0m\u001b[0;34m)\u001b[0m\u001b[0;34m\u001b[0m\u001b[0m\n\u001b[1;32m   2102\u001b[0m             \u001b[0;32mwith\u001b[0m \u001b[0mself\u001b[0m\u001b[0;34m.\u001b[0m\u001b[0mbuiltin_trap\u001b[0m\u001b[0;34m:\u001b[0m\u001b[0;34m\u001b[0m\u001b[0m\n\u001b[0;32m-> 2103\u001b[0;31m                 \u001b[0mresult\u001b[0m \u001b[0;34m=\u001b[0m \u001b[0mfn\u001b[0m\u001b[0;34m(\u001b[0m\u001b[0mmagic_arg_s\u001b[0m\u001b[0;34m,\u001b[0m \u001b[0mcell\u001b[0m\u001b[0;34m)\u001b[0m\u001b[0;34m\u001b[0m\u001b[0m\n\u001b[0m\u001b[1;32m   2104\u001b[0m             \u001b[0;32mreturn\u001b[0m \u001b[0mresult\u001b[0m\u001b[0;34m\u001b[0m\u001b[0m\n\u001b[1;32m   2105\u001b[0m \u001b[0;34m\u001b[0m\u001b[0m\n",
      "\u001b[0;32m<decorator-gen-127>\u001b[0m in \u001b[0;36mfortran\u001b[0;34m(self, line, cell)\u001b[0m\n",
      "\u001b[0;32m/usr/local/lib/python3.4/dist-packages/IPython/core/magic.py\u001b[0m in \u001b[0;36m<lambda>\u001b[0;34m(f, *a, **k)\u001b[0m\n\u001b[1;32m    185\u001b[0m     \u001b[0;31m# but it's overkill for just that one bit of state.\u001b[0m\u001b[0;34m\u001b[0m\u001b[0;34m\u001b[0m\u001b[0m\n\u001b[1;32m    186\u001b[0m     \u001b[0;32mdef\u001b[0m \u001b[0mmagic_deco\u001b[0m\u001b[0;34m(\u001b[0m\u001b[0marg\u001b[0m\u001b[0;34m)\u001b[0m\u001b[0;34m:\u001b[0m\u001b[0;34m\u001b[0m\u001b[0m\n\u001b[0;32m--> 187\u001b[0;31m         \u001b[0mcall\u001b[0m \u001b[0;34m=\u001b[0m \u001b[0;32mlambda\u001b[0m \u001b[0mf\u001b[0m\u001b[0;34m,\u001b[0m \u001b[0;34m*\u001b[0m\u001b[0ma\u001b[0m\u001b[0;34m,\u001b[0m \u001b[0;34m**\u001b[0m\u001b[0mk\u001b[0m\u001b[0;34m:\u001b[0m \u001b[0mf\u001b[0m\u001b[0;34m(\u001b[0m\u001b[0;34m*\u001b[0m\u001b[0ma\u001b[0m\u001b[0;34m,\u001b[0m \u001b[0;34m**\u001b[0m\u001b[0mk\u001b[0m\u001b[0;34m)\u001b[0m\u001b[0;34m\u001b[0m\u001b[0m\n\u001b[0m\u001b[1;32m    188\u001b[0m \u001b[0;34m\u001b[0m\u001b[0m\n\u001b[1;32m    189\u001b[0m         \u001b[0;32mif\u001b[0m \u001b[0mcallable\u001b[0m\u001b[0;34m(\u001b[0m\u001b[0marg\u001b[0m\u001b[0;34m)\u001b[0m\u001b[0;34m:\u001b[0m\u001b[0;34m\u001b[0m\u001b[0m\n",
      "\u001b[0;32m/usr/local/lib/python3.4/dist-packages/fortranmagic.py\u001b[0m in \u001b[0;36mfortran\u001b[0;34m(self, line, cell)\u001b[0m\n\u001b[1;32m    377\u001b[0m                              verbosity=args.verbosity)\n\u001b[1;32m    378\u001b[0m         \u001b[0;32mif\u001b[0m \u001b[0mres\u001b[0m \u001b[0;34m!=\u001b[0m \u001b[0;36m0\u001b[0m\u001b[0;34m:\u001b[0m\u001b[0;34m\u001b[0m\u001b[0m\n\u001b[0;32m--> 379\u001b[0;31m            \u001b[0;32mraise\u001b[0m \u001b[0mRuntimeError\u001b[0m\u001b[0;34m(\u001b[0m\u001b[0;34m\"f2py failed, see output\"\u001b[0m\u001b[0;34m)\u001b[0m\u001b[0;34m\u001b[0m\u001b[0m\n\u001b[0m\u001b[1;32m    380\u001b[0m \u001b[0;34m\u001b[0m\u001b[0m\n\u001b[1;32m    381\u001b[0m         \u001b[0mself\u001b[0m\u001b[0;34m.\u001b[0m\u001b[0m_code_cache\u001b[0m\u001b[0;34m[\u001b[0m\u001b[0mkey\u001b[0m\u001b[0;34m]\u001b[0m \u001b[0;34m=\u001b[0m \u001b[0mmodule_name\u001b[0m\u001b[0;34m\u001b[0m\u001b[0m\n",
      "\u001b[0;31mRuntimeError\u001b[0m: f2py failed, see output"
     ]
    }
   ],
   "source": [
    "%%fortran -vvv\n",
    "subroutine nearest_neighbor(file,n,nn_list)\n",
    "use module_atoms\n",
    "use futile\n",
    "use f_trees\n",
    "implicit none\n",
    "character(len=*), intent(in) :: file\n",
    "integer, intent(in) :: n\n",
    "real(8), intent(out), dimension(15,n) :: nn_list\n",
    "!local variables\n",
    "type(f_tree) :: tree_posinp\n",
    "type(atomic_structure) :: astruct\n",
    "\n",
    "!load the atomic position in the tree_posinp\n",
    "tree_posinp=f_tree_load(file)\n",
    "\n",
    "!> fill the atomic structure datatype\n",
    "call astruct_set(astruct,tree_posinp%d,0.0_f_double,.true.,1.e-8_f_double,&\n",
    "  [0.0_f_double,0.0_f_double,0.0_f_double],1,.true.)\n",
    "\n",
    "end subroutine"
   ]
  },
  {
   "cell_type": "code",
   "execution_count": null,
   "metadata": {
    "collapsed": true
   },
   "outputs": [],
   "source": []
  }
 ],
 "metadata": {
  "kernelspec": {
   "display_name": "Python 3",
   "language": "python",
   "name": "python3"
  },
  "language_info": {
   "codemirror_mode": {
    "name": "ipython",
    "version": 3
   },
   "file_extension": ".py",
   "mimetype": "text/x-python",
   "name": "python",
   "nbconvert_exporter": "python",
   "pygments_lexer": "ipython3",
   "version": "3.4.3"
  }
 },
 "nbformat": 4,
 "nbformat_minor": 2
}
