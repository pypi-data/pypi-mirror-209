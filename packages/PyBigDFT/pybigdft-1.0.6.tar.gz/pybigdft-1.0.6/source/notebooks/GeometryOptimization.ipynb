{
 "cells": [
  {
   "cell_type": "markdown",
   "metadata": {},
   "source": [
    "# Geometry Optimization\n",
    "In this notebook we will show how to optimize the geometry of a molecule using BigDFT.\n",
    "\n",
    "Author note: this is related to some mini-protein calculations I want to do..."
   ]
  },
  {
   "cell_type": "markdown",
   "metadata": {},
   "source": [
    "## System Setup\n",
    "We will do an example of OH-. First we define the input positions."
   ]
  },
  {
   "cell_type": "code",
   "execution_count": 1,
   "metadata": {},
   "outputs": [],
   "source": [
    "from futile import YamlIO as Y\n",
    "\n",
    "positions =\"\"\"\n",
    "- O: [-0.931477999671, 0.004547999723, -0.117331000086]\n",
    "- H: [-1.355753693973, -0.032108553467, 0.725181911626]\n",
    "\"\"\"\n",
    "posinp = {\"positions\": Y.load(stream=positions, doc_lists=False),\n",
    "          \"units\":\"angstroem\"}"
   ]
  },
  {
   "cell_type": "markdown",
   "metadata": {},
   "source": [
    "We might also like to check the length of the bond as we do the optimization."
   ]
  },
  {
   "cell_type": "code",
   "execution_count": 8,
   "metadata": {},
   "outputs": [],
   "source": [
    "def oh_length(posinp):\n",
    "    from numpy import array\n",
    "    from numpy.linalg import norm\n",
    "    \n",
    "    pos1 = posinp[\"positions\"][0]\n",
    "    pos1 = array([float(x) for x in list(pos1.items())[0][1]])\n",
    "    pos2 = posinp[\"positions\"][1]\n",
    "    pos2 = array([float(x) for x in list(pos2.items())[0][1]])\n",
    "    \n",
    "    return norm(pos2 - pos1)"
   ]
  },
  {
   "cell_type": "code",
   "execution_count": 9,
   "metadata": {},
   "outputs": [
    {
     "name": "stdout",
     "output_type": "stream",
     "text": [
      "0.9440241384989304\n"
     ]
    }
   ],
   "source": [
    "print(oh_length(posinp))"
   ]
  },
  {
   "cell_type": "markdown",
   "metadata": {},
   "source": [
    "## Calculation Conditions\n",
    "Now we will setup the input file for geometry optimization."
   ]
  },
  {
   "cell_type": "code",
   "execution_count": 10,
   "metadata": {},
   "outputs": [],
   "source": [
    "from BigDFT import Inputfiles as I\n",
    "inp = I.Inputfile()\n",
    "inp.set_xc(\"PBE\")\n",
    "inp.set_hgrid(0.4)\n",
    "inp.write_orbitals_on_disk()"
   ]
  },
  {
   "cell_type": "markdown",
   "metadata": {},
   "source": [
    "We will give this run a background charge to balance out the negative ion."
   ]
  },
  {
   "cell_type": "code",
   "execution_count": 11,
   "metadata": {},
   "outputs": [],
   "source": [
    "inp[\"dft\"][\"qcharge\"] = -1.0"
   ]
  },
  {
   "cell_type": "markdown",
   "metadata": {},
   "source": [
    "Finally, the parameters for optimizing the geometry."
   ]
  },
  {
   "cell_type": "code",
   "execution_count": 12,
   "metadata": {},
   "outputs": [],
   "source": [
    "inp[\"geopt\"] = {}\n",
    "inp[\"geopt\"][\"method\"] = \"FIRE\""
   ]
  },
  {
   "cell_type": "markdown",
   "metadata": {},
   "source": [
    "And a calculator to run the calculation."
   ]
  },
  {
   "cell_type": "code",
   "execution_count": 15,
   "metadata": {},
   "outputs": [
    {
     "name": "stdout",
     "output_type": "stream",
     "text": [
      "Initialize a Calculator with OMP_NUM_THREADS=2 and command mpirun -machinefile /var/lib/oar/1883596 /home/wdawson/share/binaries/python3/install/bin/bigdft\n"
     ]
    }
   ],
   "source": [
    "from BigDFT import Calculators as C\n",
    "code = C.SystemCalculator()"
   ]
  },
  {
   "cell_type": "markdown",
   "metadata": {},
   "source": [
    "## Actual Run and Convergence\n",
    "Now we will do the actual run and check the convergence."
   ]
  },
  {
   "cell_type": "code",
   "execution_count": 16,
   "metadata": {},
   "outputs": [
    {
     "name": "stdout",
     "output_type": "stream",
     "text": [
      "Creating the yaml input file \"geom/opt.yaml\"\n",
      "Run directory geom\n",
      "Executing command:  mpirun -machinefile /var/lib/oar/1883596 /home/wdawson/share/binaries/python3/install/bin/bigdft -n opt\n",
      "Found 9 different runs\n"
     ]
    }
   ],
   "source": [
    "result = code.run(name=\"opt\", input=inp, posinp=posinp, run_dir=\"geom\")"
   ]
  },
  {
   "cell_type": "code",
   "execution_count": 17,
   "metadata": {},
   "outputs": [
    {
     "data": {
      "text/plain": [
       "<Figure size 640x480 with 1 Axes>"
      ]
     },
     "metadata": {},
     "output_type": "display_data"
    }
   ],
   "source": [
    "try:\n",
    "    result.geopt_plot()\n",
    "except:\n",
    "    print(\"No image support\")"
   ]
  },
  {
   "cell_type": "markdown",
   "metadata": {},
   "source": [
    "We can check the new bond length."
   ]
  },
  {
   "cell_type": "code",
   "execution_count": 18,
   "metadata": {},
   "outputs": [
    {
     "name": "stdout",
     "output_type": "stream",
     "text": [
      "0.9787642972453493\n"
     ]
    }
   ],
   "source": [
    "opt_length = oh_length(result.log[\"Atomic structure\"])\n",
    "print(opt_length)"
   ]
  }
 ],
 "metadata": {
  "kernelspec": {
   "display_name": "Python 3",
   "language": "python",
   "name": "python3"
  },
  "language_info": {
   "codemirror_mode": {
    "name": "ipython",
    "version": 3
   },
   "file_extension": ".py",
   "mimetype": "text/x-python",
   "name": "python",
   "nbconvert_exporter": "python",
   "pygments_lexer": "ipython3",
   "version": "3.5.3"
  }
 },
 "nbformat": 4,
 "nbformat_minor": 4
}
