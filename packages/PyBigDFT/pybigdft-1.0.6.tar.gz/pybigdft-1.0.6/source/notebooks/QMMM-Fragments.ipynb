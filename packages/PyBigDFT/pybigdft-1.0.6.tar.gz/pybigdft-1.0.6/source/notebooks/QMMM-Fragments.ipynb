{
 "cells": [
  {
   "cell_type": "markdown",
   "metadata": {},
   "source": [
    "# Creation of External Potential from QM multipoles"
   ]
  },
  {
   "cell_type": "markdown",
   "metadata": {},
   "source": [
    "In this notebook we will illustrate how a (list of) instance(s) of a Logfile class of the BigDFT module can be used to create a (list of) input files where a QM active region is submitted to an external potential.\n",
    "In other terms, from a QM simulation of a system, we will create two distinct regions: the active QM region, made of a subset of the full systems, and the environment region, modelled by an external potential, defined in terms of electrostatic multipoles placed in points which may lie outside the simulation domain of the active QM region."
   ]
  },
  {
   "cell_type": "markdown",
   "metadata": {},
   "source": [
    "Let us start by defining the function which writes the inputfiles after we performed the partition the system into QM and MM regions:"
   ]
  },
  {
   "cell_type": "code",
   "execution_count": 1,
   "metadata": {
    "collapsed": true
   },
   "outputs": [],
   "source": [
    "from futile import Yaml\n",
    "def append_inputfile(qm,mm,name,tar=None):\n",
    "    rad=str(name)\n",
    "    xyzname=rad+'.xyz'\n",
    "    yamlname=rad+'.yaml'\n",
    "    out={'dft': {'external_potential': mm},'posinp': xyzname}\n",
    "    qm.xyz(xyzname)\n",
    "    Yaml.dump(out,yamlname,raw=True,tar=tar)\n",
    "    return rad"
   ]
  },
  {
   "cell_type": "markdown",
   "metadata": {},
   "source": [
    "Let us now define the function that deals with a System instance to provide the two regions:"
   ]
  },
  {
   "cell_type": "code",
   "execution_count": 2,
   "metadata": {
    "collapsed": true
   },
   "outputs": [],
   "source": [
    "def partition_system(system,frag):\n",
    "    import copy\n",
    "    Environment=copy.deepcopy(system)\n",
    "    #let us exclude one fragment from the environment, that will be promoted to be the active QM region\n",
    "    QM=Environment.pop(frag)\n",
    "    MM=Environment.dict()\n",
    "    return QM,MM"
   ]
  },
  {
   "cell_type": "markdown",
   "metadata": {},
   "source": [
    "Let us now define the function which reads a Logfile instance to create a System instance"
   ]
  },
  {
   "cell_type": "code",
   "execution_count": 3,
   "metadata": {
    "collapsed": true
   },
   "outputs": [],
   "source": [
    "from BigDFT import Fragments as F\n",
    "def fragmentation(full,nat_frag):\n",
    "    units=full.log['Multipole coefficients']['units']\n",
    "    Environment=F.System(mp_dict=full.electrostatic_multipoles,units=units,nat_reference=nat_frag)\n",
    "    return Environment"
   ]
  },
  {
   "cell_type": "markdown",
   "metadata": {},
   "source": [
    "And now we need a function which provide a System instance together with the name of the run"
   ]
  },
  {
   "cell_type": "code",
   "execution_count": 4,
   "metadata": {
    "collapsed": true
   },
   "outputs": [],
   "source": [
    "from BigDFT import Logfiles as lf\n",
    "def QM_snapshot(filename,fragment_size):\n",
    "    FullQM=lf.Logfile(filename)\n",
    "    s=filename\n",
    "    name=s[s.find('log-')+4:].rstrip('.yaml')\n",
    "    return name,fragmentation(FullQM,fragment_size)"
   ]
  },
  {
   "cell_type": "markdown",
   "metadata": {},
   "source": [
    "For a given file, iterate over a number of fragments to create the list of the QM snapshots"
   ]
  },
  {
   "cell_type": "code",
   "execution_count": 5,
   "metadata": {
    "collapsed": false
   },
   "outputs": [],
   "source": [
    "def log_to_QMMM(filename,fragment_size,nfrag=None,tar=None):\n",
    "    #extract the system out of the logfile\n",
    "    name,system=QM_snapshot(filename,fragment_size)\n",
    "    print 'Read run name \"',name,'\" from file \"',filename,'\", No. of fragments',len(system.fragments)\n",
    "    list_posinp=[] #create the list of the run names that have to be performed\n",
    "    limit=len(system.fragments) if nfrag is None else nfrag\n",
    "    for i in range(limit):\n",
    "        #for each chosen fragment partition the system in QM and MM region\n",
    "        qm,mm=partition_system(system,i)\n",
    "        print i,name,limit\n",
    "        # Now we can create an input file which is associated to the corresponding run\n",
    "        list_posinp.append(append_inputfile(qm,mm,name+'-'+str(i),tar=tar))\n",
    "    return list_posinp"
   ]
  },
  {
   "cell_type": "markdown",
   "metadata": {},
   "source": [
    "Set the arguments that have to be used when using this script from the command line.\n",
    "First, determine if we are in a notebook of not:"
   ]
  },
  {
   "cell_type": "code",
   "execution_count": 6,
   "metadata": {
    "collapsed": true
   },
   "outputs": [],
   "source": [
    "try:\n",
    "    __IPYTHON__\n",
    "    innb=True\n",
    "except:\n",
    "    innb=False"
   ]
  },
  {
   "cell_type": "markdown",
   "metadata": {},
   "source": [
    "Then perform the test run or the full run in the script case"
   ]
  },
  {
   "cell_type": "code",
   "execution_count": 7,
   "metadata": {
    "collapsed": false,
    "scrolled": true
   },
   "outputs": [
    {
     "name": "stdout",
     "output_type": "stream",
     "text": [
      "Read run name \" snap02000-fullQM \" from file \" logs-fullQM/log-snap02000-fullQM.yaml \", No. of fragments 600\n",
      "0 snap02000-fullQM 1\n"
     ]
    }
   ],
   "source": [
    "if innb:\n",
    "    #perform a test with the test file\n",
    "    log_to_QMMM('logs-fullQM/log-snap02000-fullQM.yaml',3,1)\n",
    "else:        \n",
    "    import UniParse\n",
    "    args=UniParse.UniParser('Fragment extraction from homogeneous QM/MM creation')\n",
    "    args.option('-s','--size',help='fragment size for the QM region',default=3)\n",
    "    args.option('-f','--files',remainder=True,help='files to be used for the snapshots',default='test')\n",
    "    args.option('-t','--tarfile',default=None,\n",
    "                help='archive on which to write the data, will be extended by .tar.bz2')\n",
    "    arg=args.args()\n",
    "    #open the tarfile archive if required to do so\n",
    "    if arg.tarfile: \n",
    "        import tarfile\n",
    "        tar=tarfile.open(arg.tarfile+'.tar.bz2',mode='w:bz2')\n",
    "    else:\n",
    "        tar=None\n",
    "    list_posinp=[] #store the names of the different runs to be treated in the list \n",
    "    for f in arg.files:\n",
    "        list_posinp+=log_to_QMMM(f,int(arg.size),tar=tar)\n",
    "        print 'File:\"',f,'\" treated, tot snapshots',len(list_posinp)\n",
    "    if tar: tar.close()\n",
    "    Yaml.dump(list_posinp,'list_posinp')"
   ]
  }
 ],
 "metadata": {
  "kernelspec": {
   "display_name": "Python 2",
   "language": "python",
   "name": "python2"
  },
  "language_info": {
   "codemirror_mode": {
    "name": "ipython",
    "version": 2
   },
   "file_extension": ".py",
   "mimetype": "text/x-python",
   "name": "python",
   "nbconvert_exporter": "python",
   "pygments_lexer": "ipython2",
   "version": "2.7.15"
  }
 },
 "nbformat": 4,
 "nbformat_minor": 2
}
