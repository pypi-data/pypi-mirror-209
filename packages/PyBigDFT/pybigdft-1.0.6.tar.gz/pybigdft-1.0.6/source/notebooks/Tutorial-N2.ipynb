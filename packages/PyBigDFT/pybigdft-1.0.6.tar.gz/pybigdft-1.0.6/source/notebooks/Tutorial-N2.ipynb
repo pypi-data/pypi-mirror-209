{
 "cells": [
  {
   "cell_type": "markdown",
   "metadata": {},
   "source": [
    "# Basics of BigDFT: first runs and managing different calculations, N2 molecule as example\n",
    "\n",
    "With this lesson you will have to deal with some of the outputs of BigDFT code, such as to learn how to manipulate basic DFT objects from a python script.\n",
    "BigDFT can be also run in \"traditional\" way, i.e. with input and output files. \n",
    "We will here employ python commands to show how the I/O files of BigDFT can be handled\n",
    "by simple scripting techniques. \n",
    "\n",
    "First you need to have the correct environment variables: the script \"bigdftvars.sh\" from the install/bin directory of bigdft has to be sourced (\"source bigdftvars.sh\") before doing this tutorial and load the module python *BigDFT*. See [this page](http://bigdft.org/Wiki/index.php?title=Prepare_the_environment) for more information."
   ]
  },
  {
   "cell_type": "code",
   "execution_count": 1,
   "metadata": {
    "collapsed": true
   },
   "outputs": [],
   "source": [
    "from BigDFT import Calculators as calc"
   ]
  },
  {
   "cell_type": "markdown",
   "metadata": {},
   "source": [
    "The main executable of the BigDFT suite is *bigdft*.\n",
    "\n",
    "## Atomic position file: 'posinp.xyz'\n",
    "\n",
    "A simple file with the position of atoms is enough to run bigdft performing a single-point calculation (calculating the ground state energy of the system). \n",
    "Consider for example the N2 molecule, given by the <a href=\"http://bigdft.org/images/f/f1/N2_posinp.xyz\">posinp.xyz</a> file:\n",
    "<pre>\n",
    "2 angstroem\n",
    "free\n",
    "N 0. 0. 0.\n",
    "N 0. 0. 1.11499</pre>\n",
    "Copy it into the current directory."
   ]
  },
  {
   "cell_type": "code",
   "execution_count": 2,
   "metadata": {
    "collapsed": false
   },
   "outputs": [
    {
     "name": "stdout",
     "output_type": "stream",
     "text": [
      "Initialize a Calculator with OMP_NUM_THREADS=1 and command /local/binaries/gfortran-fpe-1.8/install/bin/bigdft\n",
      "Creating from a dictionary the yaml input file \"input.yaml\"\n",
      "Executing command:  /local/binaries/gfortran-fpe-1.8/install/bin/bigdft\n"
     ]
    },
    {
     "data": {
      "text/plain": [
       "<BigDFT.Logfiles.Logfile instance at 0x7f78940f27e8>"
      ]
     },
     "execution_count": 2,
     "metadata": {},
     "output_type": "execute_result"
    }
   ],
   "source": [
    "study = calc.SystemCalculator() #Create a calculator\n",
    "study.run() #run the code"
   ]
  },
  {
   "cell_type": "markdown",
   "metadata": {},
   "source": [
    "The `run()` method of the `SystemCalculator` class shows in the standard output which is the \n",
    "command that is invoked.\n",
    "Then, an instance of the `Logfile` class is returned.\n",
    "Such class can be used (we will see after) to extract the information about the electronic structure of the system.\n",
    "\n",
    "In the disk, after that the run is performed, different files are created:\n",
    "* [input_minimal.yaml](./input_minimal) which contains the minimal set of input variables to perform the run;\n",
    "* [log.yaml](./log.yaml) which contains the log of the run with all calculated quantities;\n",
    "* [time.yaml](./time.yaml) and [forces_posinp.xyz](./forces_posinp.xyz) which we will see later.\n",
    "\n",
    "For its I/O, `bigdft` uses the [yaml](http://www.yaml.org/spec) format. \n",
    "If you look at the [input_minimal.yaml](./input_minimal) file, you can see:"
   ]
  },
  {
   "cell_type": "raw",
   "metadata": {},
   "source": [
    "  #---------------------------------------------------------------------- Minimal input file\n",
    "  #This file indicates the minimal set of input variables which has to be given to perform \n",
    "  #the run. The code would produce the same output if this file is used as input.\n",
    " posinp:\n",
    "   units: angstroem\n",
    "   positions:\n",
    "   - N: [0.0, 0.0, 0.0]\n",
    "   - N: [0.0, 0.0, 1.114989995956421]\n",
    "   properties:\n",
    "     format: xyz\n",
    "     source: posinp.xyz"
   ]
  },
  {
   "cell_type": "markdown",
   "metadata": {},
   "source": [
    "In this case, only the atomic positions are indicated using a yaml format.\n",
    "\n",
    "In the log file [log.yaml](./log.yaml), BigDFT automatically displays all the input parameters used for the calculations. \n",
    "\n",
    "The parameters which were not explicitly given are set to a default value, except the atomic positions of course, which have to be given. As we did not specified input files here, our run is a single-point LDA calculation, without spin-polarisation."
   ]
  },
  {
   "cell_type": "markdown",
   "metadata": {},
   "source": [
    "## Using a naming scheme for Input/Output files"
   ]
  },
  {
   "cell_type": "markdown",
   "metadata": {},
   "source": [
    "To specify non-default input parameters to the code, we should create a yaml file with a naming prefix. By default, this prefix is *input* (or *posinp.xyz* for atomic input positions). One can choose the naming prefix by providing an argument to bigdft command line.\n",
    "\n",
    "However, there is a one-to-one correspondence between a yaml file and a python dictionary. For this reason\n",
    "we will create the input parameters of this runs from dictionaries. See the useful [yaml online parser](http://yaml-online-parser.appspot.com/) page to understand the correspondence.\n",
    "\n",
    "Imagine for example that you are interested in visualizing the wavefunctions output of the calculation. To do that, you should enter the suitable parameters in the .yaml file. \n",
    "Create a new calculation set by using, for instance, the `LDA` prefix.\n",
    "Instead of creating a yaml input file *LDA.yaml* by hand, we create a dictionary which will be serialized into yaml by our *SystemCalculator* class."
   ]
  },
  {
   "cell_type": "code",
   "execution_count": 3,
   "metadata": {
    "collapsed": true
   },
   "outputs": [],
   "source": [
    "inp = {}\n",
    "inp['dft'] = { 'ixc': 'LDA' }\n",
    "inp['output'] = { 'orbitals': 'binary' } #this is the parameter that output the orbitals on the disk"
   ]
  },
  {
   "cell_type": "markdown",
   "metadata": {},
   "source": [
    "The wavefunctions will be present at the end of calculation, by indicating the value of the key *orbitals* in the output dictionary."
   ]
  },
  {
   "cell_type": "code",
   "execution_count": 4,
   "metadata": {
    "collapsed": false
   },
   "outputs": [
    {
     "name": "stdout",
     "output_type": "stream",
     "text": [
      "Creating from a dictionary the yaml input file \"LDA.yaml\"\n",
      "Executing command:  /local/binaries/gfortran-fpe-1.8/install/bin/bigdft -n LDA\n"
     ]
    }
   ],
   "source": [
    "#Run the code with the LDA prefix, using a python dictionary (dico) and the file 'posinp.xyz' for the atomic positions.\n",
    "lda = study.run(name=\"LDA\",input=inp,posinp='posinp.xyz')"
   ]
  },
  {
   "cell_type": "markdown",
   "metadata": {},
   "source": [
    "Now we can retrieve important informations on the run. See the examples below:"
   ]
  },
  {
   "cell_type": "code",
   "execution_count": 5,
   "metadata": {
    "collapsed": false
   },
   "outputs": [
    {
     "data": {
      "text/plain": [
       "-19.883483725686347"
      ]
     },
     "execution_count": 5,
     "metadata": {},
     "output_type": "execute_result"
    }
   ],
   "source": [
    "lda.energy #this value is in Ha"
   ]
  },
  {
   "cell_type": "code",
   "execution_count": 6,
   "metadata": {
    "collapsed": false
   },
   "outputs": [
    {
     "data": {
      "text/plain": [
       "[[-1.031892602676,\n",
       "  -0.4970106443181,\n",
       "  -0.4307276296665,\n",
       "  -0.430727289646,\n",
       "  -0.3812107719151]]"
      ]
     },
     "execution_count": 6,
     "metadata": {},
     "output_type": "execute_result"
    }
   ],
   "source": [
    "lda.evals[0].tolist() # the eigenvalues in Ha ([0] stands for the first K-point, here meaningless)"
   ]
  },
  {
   "cell_type": "code",
   "execution_count": 7,
   "metadata": {
    "collapsed": false
   },
   "outputs": [
    {
     "name": "stderr",
     "output_type": "stream",
     "text": [
      "/usr/local/lib/python2.7/dist-packages/matplotlib/font_manager.py:273: UserWarning: Matplotlib is building the font cache using fc-list. This may take a moment.\n",
      "  warnings.warn('Matplotlib is building the font cache using fc-list. This may take a moment.')\n"
     ]
    },
    {
     "data": {
      "image/png": "[encoded data removed]",
      "text/plain": [
       "<matplotlib.figure.Figure at 0x7f788b3e2210>"
      ]
     },
     "metadata": {},
     "output_type": "display_data"
    }
   ],
   "source": [
    "lda.get_dos().plot() #the density of states"
   ]
  },
  {
   "cell_type": "markdown",
   "metadata": {},
   "source": [
    "When using a naming scheme, the output files are placed in a directory called  **data-LDA**. In our LDA example, the wavefunctions of the system can thus be found in the **data-LDA** directory:"
   ]
  },
  {
   "cell_type": "code",
   "execution_count": 8,
   "metadata": {
    "collapsed": false
   },
   "outputs": [
    {
     "name": "stdout",
     "output_type": "stream",
     "text": [
      "time-LDA.yaml\t\t\t  wavefunction-k001-NR.bin.b000004\r\n",
      "wavefunction-k001-NR.bin.b000001  wavefunction-k001-NR.bin.b000005\r\n",
      "wavefunction-k001-NR.bin.b000002  wavefunction-rhoij.bin\r\n",
      "wavefunction-k001-NR.bin.b000003\r\n"
     ]
    }
   ],
   "source": [
    "!ls data-LDA"
   ]
  },
  {
   "cell_type": "markdown",
   "metadata": {},
   "source": [
    "Here 001 means the first K-point (meaningless in this case), N stands for non spin-polarized, R for real part and the remaining number is the orbital ID. Post-processing of these files is done in the another tutorial.\n",
    "\n",
    "In the same spirit, another calculation can be done with different parameters. Imagine we want to perform a Hartree-Fock calculation. In BigDFT, this can be done by putting the `ixc` input variable to `HF`. So, we use the same dictionary changing only the *dft* key.\n",
    "We add also a *posinp* key to indicate what atomic positions file we use (this was done when we indicate posinp='posinp.xyz' into the *run* method)."
   ]
  },
  {
   "cell_type": "code",
   "execution_count": 9,
   "metadata": {
    "collapsed": false
   },
   "outputs": [
    {
     "name": "stdout",
     "output_type": "stream",
     "text": [
      "Creating from a dictionary the yaml input file \"HF.yaml\"\n",
      "Executing command:  /local/binaries/gfortran-fpe-1.8/install/bin/bigdft -n HF\n",
      "ERROR: some problem occured during the execution of the command, check the 'debug/' directory and the logfile\n"
     ]
    }
   ],
   "source": [
    "inp['dft']['ixc'] = 'HF'\n",
    "inp['posinp'] = 'posinp.xyz'\n",
    "hf = study.run(name=\"HF\",input=inp) #Run the code with the name scheme HF"
   ]
  },
  {
   "cell_type": "markdown",
   "metadata": {},
   "source": [
    "This time, an error will occur which is specified at the end of the file [log-HF.yaml](./log-HF.yaml)\n",
    "and also in [debug/bigdft-err-0.yaml](./debug/bigdft-err-0.yaml):"
   ]
  },
  {
   "cell_type": "raw",
   "metadata": {},
   "source": [
    " Additional Info:\n",
    "   The pseudopotential parameter file \"psppar.N\" is lacking, and no registered pseudo found \n",
    "   for \"N\""
   ]
  },
  {
   "cell_type": "markdown",
   "metadata": {},
   "source": [
    "This is because the pseudopotential is assigned by default in the code only for LDA and PBE XC approximations. You can find <a href=\"http://bigdft.org/images/f/f5/Psppar.N\">here</a> the pseudopotential which is taken by default in the LDA run. Put it in a psppar.N file, and run the calculation.\n",
    "Another alternative is to specify the internal PSP that might be used, taking from the default database of BigDFT. This can be done as follows:"
   ]
  },
  {
   "cell_type": "code",
   "execution_count": 10,
   "metadata": {
    "collapsed": false
   },
   "outputs": [
    {
     "name": "stdout",
     "output_type": "stream",
     "text": [
      "Creating from a dictionary the yaml input file \"HF.yaml\"\n",
      "Executing command:  /local/binaries/gfortran-fpe-1.8/install/bin/bigdft -n HF\n"
     ]
    }
   ],
   "source": [
    "inp['psppar.N']={'Pseudopotential XC': 1} #here 1 stands for LDA as per the XC codes\n",
    "hf = study.run(name=\"HF\",input=inp) #Run the code with the name scheme HF"
   ]
  },
  {
   "cell_type": "markdown",
   "metadata": {},
   "source": [
    "When possible, care should be taken in choosing a pseudopotential which has been generated with the same XC approximation used. Unfortunately, at present HGH data are only available for semilocal functionals. For example, the same exercise as follows could have been done with Hybrid XC functionals, like for example PBE0 (ixc=-406). See the <a href=\"http://bigdft.org/Wiki/index.php?title=XC_codes\">XC codes</a> for a list of the supported XC functionals. Data of the calculations can be analysed."
   ]
  },
  {
   "cell_type": "code",
   "execution_count": 11,
   "metadata": {
    "collapsed": false
   },
   "outputs": [
    {
     "name": "stdout",
     "output_type": "stream",
     "text": [
      "Creating from a dictionary the yaml input file \"PBE0.yaml\"\n",
      "Executing command:  /local/binaries/gfortran-fpe-1.8/install/bin/bigdft -n PBE0\n"
     ]
    }
   ],
   "source": [
    "inp['dft']['ixc'] = 'PBE0'\n",
    "pbe0 = study.run(name=\"PBE0\",input=inp) #Run the code with the name scheme PBE0"
   ]
  },
  {
   "cell_type": "markdown",
   "metadata": {},
   "source": [
    "The variables *lda*, *hf*, and *pbe0* contains all information about the calculation. This is a class Logfile which simplify considerably the extraction of parameters of the associated output file *log-LDA.yaml*. If we simply type:"
   ]
  },
  {
   "cell_type": "code",
   "execution_count": 19,
   "metadata": {
    "collapsed": false
   },
   "outputs": [
    {
     "name": "stdout",
     "output_type": "stream",
     "text": [
      "- Atom types:\n",
      "  - N\n",
      "- Cell: Free BC\n",
      "- Convergence criterion on forces: 0.0\n",
      "- Symmetry group: disabled\n",
      "- Energy: -19.883483725686347\n",
      "- Max val of Forces: 0.05670554140672\n",
      "- fermi_level: -0.3812107719151\n",
      "- Number of Atoms: 2\n",
      "- Convergence criterion on Wfn. Residue: 0.0001\n",
      "- No. of KS orbitals:\n",
      "  - 5\n",
      "\n"
     ]
    }
   ],
   "source": [
    "from futile.Utils import write\n",
    "write(lda)"
   ]
  },
  {
   "cell_type": "markdown",
   "metadata": {},
   "source": [
    "we display some information about the LDA calculation. For instance, we can extract the eigenvalues of the Hamiltonian *i.e.* the DOS (Density of States):"
   ]
  },
  {
   "cell_type": "code",
   "execution_count": 20,
   "metadata": {
    "collapsed": false
   },
   "outputs": [
    {
     "data": {
      "text/plain": [
       "[[-1.031892602676,\n",
       "  -0.4970106443181,\n",
       "  -0.4307276296665,\n",
       "  -0.430727289646,\n",
       "  -0.3812107719151]]"
      ]
     },
     "execution_count": 20,
     "metadata": {},
     "output_type": "execute_result"
    }
   ],
   "source": [
    "lda.evals[0].tolist()"
   ]
  },
  {
   "cell_type": "markdown",
   "metadata": {},
   "source": [
    "*lda.log* is the python dictionary associated to the full output file. \n",
    "The [tutorial](./Logfiles-Basic.ipynb) explains the basic methods. The following exercise (and its [solution](./Tutorial-N2-solution.ipynb)) gives some clues about it."
   ]
  },
  {
   "cell_type": "code",
   "execution_count": 21,
   "metadata": {
    "collapsed": false
   },
   "outputs": [
    {
     "name": "stdout",
     "output_type": "stream",
     "text": [
      "- Atom types:\n",
      "  - N\n",
      "- Cell: Free BC\n",
      "- Convergence criterion on forces: 0.0\n",
      "- Symmetry group: disabled\n",
      "- Energy: -19.96868199414684\n",
      "- Max val of Forces: 0.1001956813857\n",
      "- fermi_level: -0.4502961029675\n",
      "- Number of Atoms: 2\n",
      "- Convergence criterion on Wfn. Residue: 0.0001\n",
      "- No. of KS orbitals:\n",
      "  - 5\n",
      "\n"
     ]
    }
   ],
   "source": [
    "write(pbe0)"
   ]
  },
  {
   "cell_type": "markdown",
   "metadata": {},
   "source": [
    "<h2>Exercise</h2>\n",
    "\n",
    "Compare the values of the HOMO and HOMO-1 eigenvalues for the LDA and the HF run.\n",
    "Change the values of the hgrid and crmult to find the converged values.\n",
    "Note that, both in the LDA and in the HF calculation, a norm-conserving PSP is used.\n",
    "The results can be compared to all-electron calculations, done with different basis sets, from references (units are eV) \n",
    "(1) S.&nbsp;Hamel <i>et&nbsp;al.</i> J. Electron Spectrospcopy and Related Phenomena 123 (2002) 345-363 and (2) P.&nbsp;Politzer, F.&nbsp;Abu-Awwad, Theor. Chem. Acc. (1998), 99, 83-87:\n",
    "\n",
    "<table>\n",
    "  <tr> <td></td>                      <td>LDA(1)</td>  <td>HF(1)</td>   <td>HF(2)</td>   <td>(Exp.)</td></tr>\n",
    "  <tr> <td>3&sigma;<sub>g</sub></td>  <td>10.36</td>   <td>17.25</td>   <td>17.31</td>   <td>(15.60)</td></tr>\n",
    " <tr> <td>1&pi;<sub>u</sub></td>      <td>11.84</td>   <td>16.71</td>   <td>17.02</td>   <td>(16.98)</td></tr>\n",
    " <tr> <td>2&sigma;<sub>u</sub></td>   <td>13.41</td>   <td>21.25</td>   <td>21.08</td>   <td>(18.78)</td></tr>\n",
    "</table>\n",
    " \n",
    "The results depends, of course, on the precision chosen for the calculation, and of the presence of the pseudopotential.\n",
    "As it is well-known, the pseudopotential appoximation is however much less severe than the approximation induced by typical XC functionals. We might see that, even in the HF case, the presence of a LDA-based pseudopotential (of rather good quality) does not alter so much the results. Here you can find the values from BigDFT calculation using a very good precision (*hgrid=0.3*, *crmult=7.0*). \n",
    "Note that 1 ha=27.21138386 eV.\n",
    " \n",
    "<table>\n",
    "  <tr> <td></td>                        <td>LDA</td>    <td>HF</td></tr>\n",
    "  <tr> <td> 3&sigma;<sub>g</sub></td>   <td>10.40</td>  <td>17.32</td></tr>\n",
    "  <tr> <td> 1&pi;<sub>u</sub></td>      <td>11.75</td>  <td>16.62</td></tr>\n",
    "  <tr> <td> 2&sigma;<sub>u</sub></td>   <td>13.52</td>  <td>21.30</td></tr>\n",
    "</table>\n",
    "\n",
    "How much do these values differ from the calculation with default parameters? Do they converge to a given value?\n",
    "What is the *correlation* for the N2 molecule in (PSP) LDA?\n",
    "\n",
    "See here the [solution](./Tutorial-N2-solution.ipynb)."
   ]
  }
 ],
 "metadata": {
  "kernelspec": {
   "display_name": "Python 2",
   "language": "python",
   "name": "python2"
  },
  "language_info": {
   "codemirror_mode": {
    "name": "ipython",
    "version": 2
   },
   "file_extension": ".py",
   "mimetype": "text/x-python",
   "name": "python",
   "nbconvert_exporter": "python",
   "pygments_lexer": "ipython2",
   "version": "2.7.6"
  }
 },
 "nbformat": 4,
 "nbformat_minor": 2
}
