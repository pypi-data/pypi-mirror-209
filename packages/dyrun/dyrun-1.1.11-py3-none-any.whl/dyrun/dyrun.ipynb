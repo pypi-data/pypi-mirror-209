{
 "cells": [
  {
   "attachments": {},
   "cell_type": "markdown",
   "metadata": {},
   "source": [
    "<img src=\"https://github.com/abolfazldelavar/dyrun/blob/main/logo.png?raw=true\" align=\"right\" width=\"250\" alt=\"header pic\"/>\n",
    "\n",
    "# DYNAMIC RUNNER\n",
    "**Dynamic Runner** or `dyrun` is a simple tool that facilitates simulations expeditiously and effortlessly, using invaluable instruments for modeling linear and nonlinear dynamic systems, irrespective of their time dependence or independence. This formidable instrument is capable of executing **dynamic mathematical models** and is advantageous for control engineering applications, estimation, and prediction. Moreover, it is applicable to Machine Learning and AI domains, including neural networks. Researchers who wish to delve into the realm of dynamic and control systems will find this package to be an invaluable resource. Enjoy!\n",
    "\n",
    "https://github.com/abolfazldelavar/dyrun\n",
    "\n",
    "\"*Successful people are those who can build solid foundations with the bricks others throw at them.*\"\n"
   ]
  },
  {
   "attachments": {},
   "cell_type": "markdown",
   "metadata": {},
   "source": [
    "## Requirements\n",
    "All external **dependencies** utilized in the project should be documented in this section. To ensure comprehensive access to libraries, any additional libraries can be added as objects (using `struc()`) for improved control and management. Additionally, the `core_library.py` file contains two libraries, `clib` and `plib`, which provide a variety of useful functions for tasks such as drawing."
   ]
  },
  {
   "cell_type": "code",
   "execution_count": null,
   "metadata": {},
   "outputs": [],
   "source": [
    "# Dependencies\n",
    "from core.lib.required_libraries import *\n",
    "from core.lib.core_library import *\n",
    "from core.caller.scope_engine import *"
   ]
  },
  {
   "cell_type": "code",
   "execution_count": null,
   "metadata": {},
   "outputs": [],
   "source": [
    "# Simulation identification number\n",
    "ID = Clib.get_now()\n",
    "# Set the time simulation starts\n",
    "simulation_start_time = Clib.set_timer(ID)"
   ]
  },
  {
   "attachments": {},
   "cell_type": "markdown",
   "metadata": {},
   "source": [
    "## Custom Functions\n",
    "If you need to define any custom functions for your project, this is the ideal location to do so. This section serves as a repository for pre-defined functions that can be accessed and utilized throughout the entire project."
   ]
  },
  {
   "cell_type": "code",
   "execution_count": null,
   "metadata": {},
   "outputs": [],
   "source": [
    "def test():\n",
    "    '''\n",
    "    DocString `is` a text to help using this function.\n",
    "    '''\n",
    "    pass"
   ]
  },
  {
   "attachments": {},
   "cell_type": "markdown",
   "metadata": {},
   "source": [
    "## Parameters\n",
    "This segment confers the prerogative to establish **invariable** quantities, typically employed with a singular value throughout the entire project. It is imperative to note that they must be delineated as a component of the `params` variable, which constitutes a `struct` collection."
   ]
  },
  {
   "cell_type": "code",
   "execution_count": null,
   "metadata": {},
   "outputs": [],
   "source": [
    "params = Structure()\n",
    "\n",
    "# Simulation Identification Carrier\n",
    "params.id = ID\n",
    "\n",
    "# Set the time-step and simulation time as needed.\n",
    "# Note: These variables may need to be changed arbitrarily.\n",
    "params.step = 0.0001 # (double)\n",
    "params.t_final = 6 # (double)\n",
    "\n",
    "# Calculate the number of steps required for the simulation.\n",
    "# Note: This variable is dependent on the time-step and simulation time, and should not be changed.\n",
    "params.n = int(params.t_final/params.step) # (DEPENDENT)\n",
    "\n",
    "# Specify the folders for input data, output data, and logs.\n",
    "params.data_path = 'data'\n",
    "params.load_path = params.data_path + '/inputs' # (string)\n",
    "params.save_path = params.data_path + '/outputs' # (string)\n",
    "\n",
    "# To save data regularly - time must be in second\n",
    "params.auto_save_time = False # (sec)\n",
    "\n",
    "# Determine whether to save data with a unique name based on the time of saving.\n",
    "params.unique = False # (logical)\n",
    "\n",
    "# Specify the default image format for saving.\n",
    "# Note: Allowed formats are \"jpg\", \"png\", and \"pdf\".\n",
    "params.default_image_format = 'png' # (string)\n",
    "\n",
    "# Add any additional parameters as needed ~~~>"
   ]
  },
  {
   "attachments": {},
   "cell_type": "markdown",
   "metadata": {},
   "source": [
    "## Signals\n",
    "This section is designated for the definition of any signals and array variables."
   ]
  },
  {
   "cell_type": "code",
   "execution_count": null,
   "metadata": {},
   "outputs": [],
   "source": [
    "signals = Structure()\n",
    "# Generate a time vector for the simulation using the specified time-step and simulation time.\n",
    "signals.time_line = np.arange(0, params.t_final, params.step)\n",
    "# Insert signal data here ~~~>"
   ]
  },
  {
   "attachments": {},
   "cell_type": "markdown",
   "metadata": {},
   "source": [
    "## Models\n",
    "Dynamic objects and those that are not as elementary as an array must be delineated as a component of the `models` variable. This includes objects such as estimators and controllers."
   ]
  },
  {
   "cell_type": "code",
   "execution_count": null,
   "metadata": {},
   "outputs": [],
   "source": [
    "models = Structure()\n",
    "# Add your desired models to the struct ~~~>"
   ]
  },
  {
   "attachments": {},
   "cell_type": "markdown",
   "metadata": {},
   "source": [
    "## Main\n",
    "### Oscilloscope set up\n",
    "Firstly, `scope` objects that are instrumental in observing signals should be defined herein."
   ]
  },
  {
   "cell_type": "code",
   "execution_count": null,
   "metadata": {},
   "outputs": [],
   "source": [
    "# Insert signal trackers here ~~~>"
   ]
  },
  {
   "attachments": {},
   "cell_type": "markdown",
   "metadata": {},
   "source": [
    "### Auto save option\n",
    "To warranty your data against any interruptions, use the below function to save your data periodically, automatically. The `params.auto_save_time` in params devotes the duration of this period which is `False` as default."
   ]
  },
  {
   "cell_type": "code",
   "execution_count": null,
   "metadata": {},
   "outputs": [],
   "source": [
    "def auto_save_data(params, signals, models):\n",
    "    # Put your save operation here ~~~>\n",
    "    \n",
    "    # Schedule the next save operation\n",
    "    Clib.diary('Auto-saving funtion ran successfully.', no_print=True)\n",
    "    global _save_timer\n",
    "    _save_timer = threading.Timer(params.auto_save_time, auto_save_data, args=[params, signals, models])\n",
    "    _save_timer.start()"
   ]
  },
  {
   "attachments": {},
   "cell_type": "markdown",
   "metadata": {},
   "source": [
    "### Simulation\n",
    "The principal function of the project, indubitably, can be identified as the `simulation` function delineated below. In this segment, given the accessibility of all variables (`params`, `signals`, and `models`), you possess the capability to code the primary objective of this project herein. It is imperative to note that there exists a loop entitled `Main loop`, which can be employed as a time step loop, albeit its utilization may not be requisite in numerous projects."
   ]
  },
  {
   "cell_type": "code",
   "execution_count": null,
   "metadata": {},
   "outputs": [],
   "source": [
    "def simulation(params, signals, models):\n",
    "    # This function is the main code for your simulation,\n",
    "    # containing a time-loop and utilizing model blocks and signals.\n",
    "    # The order of the input parameters should be (Parameters, Signals, Models).\n",
    "    \n",
    "    ## Initial options\n",
    "    if params.auto_save_time != False: auto_save_data(params, signals, models)\n",
    "    \n",
    "    ## Main loop\n",
    "    for k in tqdm(range(0, params.n), dynamic_ncols=True, leave=True, desc='Progress'):\n",
    "        # Put your codes here ~~~>\n",
    "        pass\n",
    "\n",
    "    ## Finalize options\n",
    "    if params.auto_save_time != False: _save_timer.cancel()\n",
    "    # Return the output as a list of params, signals, models\n",
    "    return [params, signals, models]"
   ]
  },
  {
   "attachments": {},
   "cell_type": "markdown",
   "metadata": {},
   "source": [
    "## Execution\n",
    "To run the project, the subsequent code snippet is furnished. In elementary projects, a single execution may suffice, whereas, in more intricate ones, multiple simulations may be necessitated. To accomplish this, loops and other discretionary techniques can be employed to invoke the `simulation` function with altered inputs such as `params`, etc."
   ]
  },
  {
   "cell_type": "code",
   "execution_count": null,
   "metadata": {},
   "outputs": [],
   "source": [
    "# Executaion\n",
    "[params, signals, models] = simulation(params, signals, models)\n",
    "\n",
    "# The total time will be reported\n",
    "Clib.end_report(simulation_start_time)"
   ]
  },
  {
   "attachments": {},
   "cell_type": "markdown",
   "metadata": {},
   "source": [
    "## Illustration\n",
    "Should you necessitate the exhibition of the results procured, this section can be employed to facilitate superior organization."
   ]
  },
  {
   "cell_type": "code",
   "execution_count": null,
   "metadata": {},
   "outputs": [],
   "source": [
    "## Initialize the variables and parameters\n",
    "n = params.n # number of elements\n",
    "n_line = np.arange(0, n) # create a vector from 0 to n-1\n",
    "tLine = signals.time_line[n_line] # create a time-line vector with length n\n",
    "Plib.initialize() # initialize the library\n",
    "## Write your codes here ~~~>"
   ]
  },
  {
   "attachments": {},
   "cell_type": "markdown",
   "metadata": {},
   "source": [
    "## Preservation\n",
    "Utilize the subsequent section to store data."
   ]
  },
  {
   "cell_type": "code",
   "execution_count": null,
   "metadata": {},
   "outputs": [],
   "source": [
    "## Write your codes here ~~~>"
   ]
  }
 ],
 "metadata": {
  "kernelspec": {
   "display_name": "tf",
   "language": "python",
   "name": "python3"
  },
  "language_info": {
   "codemirror_mode": {
    "name": "ipython",
    "version": 3
   },
   "file_extension": ".py",
   "mimetype": "text/x-python",
   "name": "python",
   "nbconvert_exporter": "python",
   "pygments_lexer": "ipython3",
   "version": "3.8.8"
  },
  "orig_nbformat": 4
 },
 "nbformat": 4,
 "nbformat_minor": 2
}
