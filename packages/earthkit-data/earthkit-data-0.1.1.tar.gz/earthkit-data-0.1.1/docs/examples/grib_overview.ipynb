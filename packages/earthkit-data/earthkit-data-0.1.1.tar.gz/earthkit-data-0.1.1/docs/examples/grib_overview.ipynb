{
       "cells": [
        {
         "cell_type": "code",
         "execution_count": 1,
         "metadata": {},
         "outputs": [],
         "source": [
          "!test -f test6.grib || wget https://get.ecmwf.int/repository/test-data/emohawk/examples/test6.grib"
         ]
        },
        {
         "cell_type": "markdown",
         "metadata": {},
         "source": [
          "## Using GRIB data overview"
         ]
        },
        {
         "cell_type": "markdown",
         "metadata": {},
         "source": [
          "We load a GRIB file containing 6 messages from disk:"
         ]
        },
        {
         "cell_type": "code",
         "execution_count": 2,
         "metadata": {},
         "outputs": [],
         "source": [
          "import earthkit.data\n",
          "\n",
          "fs = earthkit.data.from_source(\"file\", \"test6.grib\")"
         ]
        },
        {
         "cell_type": "markdown",
         "metadata": {},
         "source": [
          "No GRIB data is actually loaded at this point."
         ]
        },
        {
         "cell_type": "markdown",
         "metadata": {},
         "source": [
          "### Iteration"
         ]
        },
        {
         "cell_type": "markdown",
         "metadata": {},
         "source": [
          "A GRIB data object consists of GribFields. When used in iteration these are automatically created and released when going out of scope. As a result, during the iteration only one GRIB message at a time is kept in memory:"
         ]
        },
        {
         "cell_type": "code",
         "execution_count": 3,
         "metadata": {},
         "outputs": [
          {
           "name": "stdout",
           "output_type": "stream",
           "text": [
            "GribField(t,1000,20180801,1200,0,0)\n",
            "GribField(u,1000,20180801,1200,0,0)\n",
            "GribField(v,1000,20180801,1200,0,0)\n",
            "GribField(t,850,20180801,1200,0,0)\n",
            "GribField(u,850,20180801,1200,0,0)\n",
            "GribField(v,850,20180801,1200,0,0)\n"
           ]
          }
         ],
         "source": [
          "for f in fs:\n",
          "    print(f)"
         ]
        },
        {
         "cell_type": "markdown",
         "metadata": {},
         "source": [
          "### Inspecting the contents"
         ]
        },
        {
         "cell_type": "code",
         "execution_count": 4,
         "metadata": {},
         "outputs": [
          {
           "data": {
            "text/plain": [
             "6"
            ]
           },
           "execution_count": 4,
           "metadata": {},
           "output_type": "execute_result"
          }
         ],
         "source": [
          "len(fs)"
         ]
        },
        {
         "cell_type": "code",
         "execution_count": 5,
         "metadata": {},
         "outputs": [
          {
           "data": {
            "text/html": [
             "<div>\n",
             "<style scoped>\n",
             "    .dataframe tbody tr th:only-of-type {\n",
             "        vertical-align: middle;\n",
             "    }\n",
             "\n",
             "    .dataframe tbody tr th {\n",
             "        vertical-align: top;\n",
             "    }\n",
             "\n",
             "    .dataframe thead th {\n",
             "        text-align: right;\n",
             "    }\n",
             "</style>\n",
             "<table border=\"1\" class=\"dataframe\">\n",
             "  <thead>\n",
             "    <tr style=\"text-align: right;\">\n",
             "      <th></th>\n",
             "      <th>centre</th>\n",
             "      <th>shortName</th>\n",
             "      <th>typeOfLevel</th>\n",
             "      <th>level</th>\n",
             "      <th>dataDate</th>\n",
             "      <th>dataTime</th>\n",
             "      <th>stepRange</th>\n",
             "      <th>dataType</th>\n",
             "      <th>number</th>\n",
             "      <th>gridType</th>\n",
             "    </tr>\n",
             "  </thead>\n",
             "  <tbody>\n",
             "    <tr>\n",
             "      <th>0</th>\n",
             "      <td>ecmf</td>\n",
             "      <td>t</td>\n",
             "      <td>isobaricInhPa</td>\n",
             "      <td>1000</td>\n",
             "      <td>20180801</td>\n",
             "      <td>1200</td>\n",
             "      <td>0</td>\n",
             "      <td>an</td>\n",
             "      <td>0</td>\n",
             "      <td>regular_ll</td>\n",
             "    </tr>\n",
             "    <tr>\n",
             "      <th>1</th>\n",
             "      <td>ecmf</td>\n",
             "      <td>u</td>\n",
             "      <td>isobaricInhPa</td>\n",
             "      <td>1000</td>\n",
             "      <td>20180801</td>\n",
             "      <td>1200</td>\n",
             "      <td>0</td>\n",
             "      <td>an</td>\n",
             "      <td>0</td>\n",
             "      <td>regular_ll</td>\n",
             "    </tr>\n",
             "    <tr>\n",
             "      <th>2</th>\n",
             "      <td>ecmf</td>\n",
             "      <td>v</td>\n",
             "      <td>isobaricInhPa</td>\n",
             "      <td>1000</td>\n",
             "      <td>20180801</td>\n",
             "      <td>1200</td>\n",
             "      <td>0</td>\n",
             "      <td>an</td>\n",
             "      <td>0</td>\n",
             "      <td>regular_ll</td>\n",
             "    </tr>\n",
             "    <tr>\n",
             "      <th>3</th>\n",
             "      <td>ecmf</td>\n",
             "      <td>t</td>\n",
             "      <td>isobaricInhPa</td>\n",
             "      <td>850</td>\n",
             "      <td>20180801</td>\n",
             "      <td>1200</td>\n",
             "      <td>0</td>\n",
             "      <td>an</td>\n",
             "      <td>0</td>\n",
             "      <td>regular_ll</td>\n",
             "    </tr>\n",
             "    <tr>\n",
             "      <th>4</th>\n",
             "      <td>ecmf</td>\n",
             "      <td>u</td>\n",
             "      <td>isobaricInhPa</td>\n",
             "      <td>850</td>\n",
             "      <td>20180801</td>\n",
             "      <td>1200</td>\n",
             "      <td>0</td>\n",
             "      <td>an</td>\n",
             "      <td>0</td>\n",
             "      <td>regular_ll</td>\n",
             "    </tr>\n",
             "    <tr>\n",
             "      <th>5</th>\n",
             "      <td>ecmf</td>\n",
             "      <td>v</td>\n",
             "      <td>isobaricInhPa</td>\n",
             "      <td>850</td>\n",
             "      <td>20180801</td>\n",
             "      <td>1200</td>\n",
             "      <td>0</td>\n",
             "      <td>an</td>\n",
             "      <td>0</td>\n",
             "      <td>regular_ll</td>\n",
             "    </tr>\n",
             "  </tbody>\n",
             "</table>\n",
             "</div>"
            ],
            "text/plain": [
             "  centre shortName    typeOfLevel  level  dataDate  dataTime stepRange  \\\n",
             "0   ecmf         t  isobaricInhPa   1000  20180801      1200         0   \n",
             "1   ecmf         u  isobaricInhPa   1000  20180801      1200         0   \n",
             "2   ecmf         v  isobaricInhPa   1000  20180801      1200         0   \n",
             "3   ecmf         t  isobaricInhPa    850  20180801      1200         0   \n",
             "4   ecmf         u  isobaricInhPa    850  20180801      1200         0   \n",
             "5   ecmf         v  isobaricInhPa    850  20180801      1200         0   \n",
             "\n",
             "  dataType  number    gridType  \n",
             "0       an       0  regular_ll  \n",
             "1       an       0  regular_ll  \n",
             "2       an       0  regular_ll  \n",
             "3       an       0  regular_ll  \n",
             "4       an       0  regular_ll  \n",
             "5       an       0  regular_ll  "
            ]
           },
           "execution_count": 5,
           "metadata": {},
           "output_type": "execute_result"
          }
         ],
         "source": [
          "fs.ls()"
         ]
        },
        {
         "cell_type": "code",
         "execution_count": 6,
         "metadata": {},
         "outputs": [
          {
           "data": {
            "text/html": [
             "<style type=\"text/css\">\n",
             "#T_cfd90 th {\n",
             "  text-align: left;\n",
             "}\n",
             "#T_cfd90_row0_col0, #T_cfd90_row0_col1, #T_cfd90_row0_col2, #T_cfd90_row0_col3, #T_cfd90_row0_col4, #T_cfd90_row0_col5, #T_cfd90_row0_col6, #T_cfd90_row0_col7, #T_cfd90_row0_col8, #T_cfd90_row1_col0, #T_cfd90_row1_col1, #T_cfd90_row1_col2, #T_cfd90_row1_col3, #T_cfd90_row1_col4, #T_cfd90_row1_col5, #T_cfd90_row1_col6, #T_cfd90_row1_col7, #T_cfd90_row1_col8, #T_cfd90_row2_col0, #T_cfd90_row2_col1, #T_cfd90_row2_col2, #T_cfd90_row2_col3, #T_cfd90_row2_col4, #T_cfd90_row2_col5, #T_cfd90_row2_col6, #T_cfd90_row2_col7, #T_cfd90_row2_col8 {\n",
             "  text-align: left;\n",
             "}\n",
             "</style>\n",
             "<table id=\"T_cfd90\">\n",
             "  <thead>\n",
             "    <tr>\n",
             "      <th class=\"blank\" >&nbsp;</th>\n",
             "      <th class=\"blank level0\" >&nbsp;</th>\n",
             "      <th id=\"T_cfd90_level0_col0\" class=\"col_heading level0 col0\" >level</th>\n",
             "      <th id=\"T_cfd90_level0_col1\" class=\"col_heading level0 col1\" >date</th>\n",
             "      <th id=\"T_cfd90_level0_col2\" class=\"col_heading level0 col2\" >time</th>\n",
             "      <th id=\"T_cfd90_level0_col3\" class=\"col_heading level0 col3\" >step</th>\n",
             "      <th id=\"T_cfd90_level0_col4\" class=\"col_heading level0 col4\" >paramId</th>\n",
             "      <th id=\"T_cfd90_level0_col5\" class=\"col_heading level0 col5\" >class</th>\n",
             "      <th id=\"T_cfd90_level0_col6\" class=\"col_heading level0 col6\" >stream</th>\n",
             "      <th id=\"T_cfd90_level0_col7\" class=\"col_heading level0 col7\" >type</th>\n",
             "      <th id=\"T_cfd90_level0_col8\" class=\"col_heading level0 col8\" >experimentVersionNumber</th>\n",
             "    </tr>\n",
             "    <tr>\n",
             "      <th class=\"index_name level0\" >shortName</th>\n",
             "      <th class=\"index_name level1\" >typeOfLevel</th>\n",
             "      <th class=\"blank col0\" >&nbsp;</th>\n",
             "      <th class=\"blank col1\" >&nbsp;</th>\n",
             "      <th class=\"blank col2\" >&nbsp;</th>\n",
             "      <th class=\"blank col3\" >&nbsp;</th>\n",
             "      <th class=\"blank col4\" >&nbsp;</th>\n",
             "      <th class=\"blank col5\" >&nbsp;</th>\n",
             "      <th class=\"blank col6\" >&nbsp;</th>\n",
             "      <th class=\"blank col7\" >&nbsp;</th>\n",
             "      <th class=\"blank col8\" >&nbsp;</th>\n",
             "    </tr>\n",
             "  </thead>\n",
             "  <tbody>\n",
             "    <tr>\n",
             "      <th id=\"T_cfd90_level0_row0\" class=\"row_heading level0 row0\" >t</th>\n",
             "      <th id=\"T_cfd90_level1_row0\" class=\"row_heading level1 row0\" >isobaricInhPa</th>\n",
             "      <td id=\"T_cfd90_row0_col0\" class=\"data row0 col0\" >1000,850</td>\n",
             "      <td id=\"T_cfd90_row0_col1\" class=\"data row0 col1\" >20180801</td>\n",
             "      <td id=\"T_cfd90_row0_col2\" class=\"data row0 col2\" >1200</td>\n",
             "      <td id=\"T_cfd90_row0_col3\" class=\"data row0 col3\" >0</td>\n",
             "      <td id=\"T_cfd90_row0_col4\" class=\"data row0 col4\" >130</td>\n",
             "      <td id=\"T_cfd90_row0_col5\" class=\"data row0 col5\" >od</td>\n",
             "      <td id=\"T_cfd90_row0_col6\" class=\"data row0 col6\" >oper</td>\n",
             "      <td id=\"T_cfd90_row0_col7\" class=\"data row0 col7\" >an</td>\n",
             "      <td id=\"T_cfd90_row0_col8\" class=\"data row0 col8\" >0001</td>\n",
             "    </tr>\n",
             "    <tr>\n",
             "      <th id=\"T_cfd90_level0_row1\" class=\"row_heading level0 row1\" >u</th>\n",
             "      <th id=\"T_cfd90_level1_row1\" class=\"row_heading level1 row1\" >isobaricInhPa</th>\n",
             "      <td id=\"T_cfd90_row1_col0\" class=\"data row1 col0\" >1000,850</td>\n",
             "      <td id=\"T_cfd90_row1_col1\" class=\"data row1 col1\" >20180801</td>\n",
             "      <td id=\"T_cfd90_row1_col2\" class=\"data row1 col2\" >1200</td>\n",
             "      <td id=\"T_cfd90_row1_col3\" class=\"data row1 col3\" >0</td>\n",
             "      <td id=\"T_cfd90_row1_col4\" class=\"data row1 col4\" >131</td>\n",
             "      <td id=\"T_cfd90_row1_col5\" class=\"data row1 col5\" >od</td>\n",
             "      <td id=\"T_cfd90_row1_col6\" class=\"data row1 col6\" >oper</td>\n",
             "      <td id=\"T_cfd90_row1_col7\" class=\"data row1 col7\" >an</td>\n",
             "      <td id=\"T_cfd90_row1_col8\" class=\"data row1 col8\" >0001</td>\n",
             "    </tr>\n",
             "    <tr>\n",
             "      <th id=\"T_cfd90_level0_row2\" class=\"row_heading level0 row2\" >v</th>\n",
             "      <th id=\"T_cfd90_level1_row2\" class=\"row_heading level1 row2\" >isobaricInhPa</th>\n",
             "      <td id=\"T_cfd90_row2_col0\" class=\"data row2 col0\" >1000,850</td>\n",
             "      <td id=\"T_cfd90_row2_col1\" class=\"data row2 col1\" >20180801</td>\n",
             "      <td id=\"T_cfd90_row2_col2\" class=\"data row2 col2\" >1200</td>\n",
             "      <td id=\"T_cfd90_row2_col3\" class=\"data row2 col3\" >0</td>\n",
             "      <td id=\"T_cfd90_row2_col4\" class=\"data row2 col4\" >132</td>\n",
             "      <td id=\"T_cfd90_row2_col5\" class=\"data row2 col5\" >od</td>\n",
             "      <td id=\"T_cfd90_row2_col6\" class=\"data row2 col6\" >oper</td>\n",
             "      <td id=\"T_cfd90_row2_col7\" class=\"data row2 col7\" >an</td>\n",
             "      <td id=\"T_cfd90_row2_col8\" class=\"data row2 col8\" >0001</td>\n",
             "    </tr>\n",
             "  </tbody>\n",
             "</table>\n"
            ],
            "text/plain": [
             "<pandas.io.formats.style.Styler at 0x12cf4b220>"
            ]
           },
           "execution_count": 6,
           "metadata": {},
           "output_type": "execute_result"
          }
         ],
         "source": [
          "fs.describe()"
         ]
        },
        {
         "cell_type": "markdown",
         "metadata": {},
         "source": [
          "### Slicing"
         ]
        },
        {
         "cell_type": "markdown",
         "metadata": {},
         "source": [
          "Standard Python slicing is available. It does not involve any loading/copying of GRIB data. "
         ]
        },
        {
         "cell_type": "code",
         "execution_count": 7,
         "metadata": {},
         "outputs": [
          {
           "data": {
            "text/plain": [
             "GribField(u,1000,20180801,1200,0,0)"
            ]
           },
           "execution_count": 7,
           "metadata": {},
           "output_type": "execute_result"
          }
         ],
         "source": [
          "g = fs[1]\n",
          "g"
         ]
        },
        {
         "cell_type": "code",
         "execution_count": 8,
         "metadata": {},
         "outputs": [
          {
           "data": {
            "text/html": [
             "<div>\n",
             "<style scoped>\n",
             "    .dataframe tbody tr th:only-of-type {\n",
             "        vertical-align: middle;\n",
             "    }\n",
             "\n",
             "    .dataframe tbody tr th {\n",
             "        vertical-align: top;\n",
             "    }\n",
             "\n",
             "    .dataframe thead th {\n",
             "        text-align: right;\n",
             "    }\n",
             "</style>\n",
             "<table border=\"1\" class=\"dataframe\">\n",
             "  <thead>\n",
             "    <tr style=\"text-align: right;\">\n",
             "      <th></th>\n",
             "      <th>centre</th>\n",
             "      <th>shortName</th>\n",
             "      <th>typeOfLevel</th>\n",
             "      <th>level</th>\n",
             "      <th>dataDate</th>\n",
             "      <th>dataTime</th>\n",
             "      <th>stepRange</th>\n",
             "      <th>dataType</th>\n",
             "      <th>number</th>\n",
             "      <th>gridType</th>\n",
             "    </tr>\n",
             "  </thead>\n",
             "  <tbody>\n",
             "    <tr>\n",
             "      <th>0</th>\n",
             "      <td>ecmf</td>\n",
             "      <td>u</td>\n",
             "      <td>isobaricInhPa</td>\n",
             "      <td>1000</td>\n",
             "      <td>20180801</td>\n",
             "      <td>1200</td>\n",
             "      <td>0</td>\n",
             "      <td>an</td>\n",
             "      <td>0</td>\n",
             "      <td>regular_ll</td>\n",
             "    </tr>\n",
             "    <tr>\n",
             "      <th>1</th>\n",
             "      <td>ecmf</td>\n",
             "      <td>v</td>\n",
             "      <td>isobaricInhPa</td>\n",
             "      <td>1000</td>\n",
             "      <td>20180801</td>\n",
             "      <td>1200</td>\n",
             "      <td>0</td>\n",
             "      <td>an</td>\n",
             "      <td>0</td>\n",
             "      <td>regular_ll</td>\n",
             "    </tr>\n",
             "  </tbody>\n",
             "</table>\n",
             "</div>"
            ],
            "text/plain": [
             "  centre shortName    typeOfLevel  level  dataDate  dataTime stepRange  \\\n",
             "0   ecmf         u  isobaricInhPa   1000  20180801      1200         0   \n",
             "1   ecmf         v  isobaricInhPa   1000  20180801      1200         0   \n",
             "\n",
             "  dataType  number    gridType  \n",
             "0       an       0  regular_ll  \n",
             "1       an       0  regular_ll  "
            ]
           },
           "execution_count": 8,
           "metadata": {},
           "output_type": "execute_result"
          }
         ],
         "source": [
          "g = fs[1:3]\n",
          "g.ls()"
         ]
        },
        {
         "cell_type": "code",
         "execution_count": 9,
         "metadata": {},
         "outputs": [
          {
           "data": {
            "text/plain": [
             "GribField(v,850,20180801,1200,0,0)"
            ]
           },
           "execution_count": 9,
           "metadata": {},
           "output_type": "execute_result"
          }
         ],
         "source": [
          "g = fs[-1]\n",
          "g"
         ]
        },
        {
         "cell_type": "markdown",
         "metadata": {},
         "source": [
          "### Getting data values"
         ]
        },
        {
         "cell_type": "markdown",
         "metadata": {},
         "source": [
          "#### Using values"
         ]
        },
        {
         "cell_type": "markdown",
         "metadata": {},
         "source": [
          "The values property always returns a flat array per field:"
         ]
        },
        {
         "cell_type": "code",
         "execution_count": 10,
         "metadata": {},
         "outputs": [
          {
           "data": {
            "text/plain": [
             "(84,)"
            ]
           },
           "execution_count": 10,
           "metadata": {},
           "output_type": "execute_result"
          }
         ],
         "source": [
          "v = fs[0].values\n",
          "v.shape"
         ]
        },
        {
         "cell_type": "code",
         "execution_count": 11,
         "metadata": {},
         "outputs": [
          {
           "data": {
            "text/plain": [
             "array([272.56417847, 272.56417847, 272.56417847, 272.56417847])"
            ]
           },
           "execution_count": 11,
           "metadata": {},
           "output_type": "execute_result"
          }
         ],
         "source": [
          "v[0:4]"
         ]
        },
        {
         "cell_type": "code",
         "execution_count": 12,
         "metadata": {},
         "outputs": [
          {
           "data": {
            "text/plain": [
             "(6, 84)"
            ]
           },
           "execution_count": 12,
           "metadata": {},
           "output_type": "execute_result"
          }
         ],
         "source": [
          "v = fs.values\n",
          "v.shape"
         ]
        },
        {
         "cell_type": "markdown",
         "metadata": {},
         "source": [
          "#### Using to_numpy()"
         ]
        },
        {
         "cell_type": "markdown",
         "metadata": {},
         "source": [
          "With to_numpy() the field shape is set on the array: "
         ]
        },
        {
         "cell_type": "code",
         "execution_count": 13,
         "metadata": {},
         "outputs": [
          {
           "name": "stdout",
           "output_type": "stream",
           "text": [
            "(7, 12)\n",
            "(7, 12)\n"
           ]
          }
         ],
         "source": [
          "v = fs[0].to_numpy()\n",
          "print(v.shape)\n",
          "print(fs[0].shape)"
         ]
        },
        {
         "cell_type": "code",
         "execution_count": 14,
         "metadata": {},
         "outputs": [
          {
           "data": {
            "text/plain": [
             "(6, 7, 12)"
            ]
           },
           "execution_count": 14,
           "metadata": {},
           "output_type": "execute_result"
          }
         ],
         "source": [
          "v = fs.to_numpy()\n",
          "v.shape"
         ]
        },
        {
         "cell_type": "markdown",
         "metadata": {},
         "source": [
          "### Metadata"
         ]
        },
        {
         "cell_type": "markdown",
         "metadata": {},
         "source": [
          "Metadata access works both on individual fields and slices:"
         ]
        },
        {
         "cell_type": "code",
         "execution_count": 15,
         "metadata": {},
         "outputs": [
          {
           "data": {
            "text/plain": [
             "'isobaricInhPa'"
            ]
           },
           "execution_count": 15,
           "metadata": {},
           "output_type": "execute_result"
          }
         ],
         "source": [
          "fs[0].metadata(\"typeOfLevel\")"
         ]
        },
        {
         "cell_type": "code",
         "execution_count": 16,
         "metadata": {},
         "outputs": [
          {
           "data": {
            "text/plain": [
             "[(1000, 130), (1000, 131)]"
            ]
           },
           "execution_count": 16,
           "metadata": {},
           "output_type": "execute_result"
          }
         ],
         "source": [
          "fs[0:2].metadata([\"level\", \"paramId\"])"
         ]
        },
        {
         "cell_type": "markdown",
         "metadata": {},
         "source": [
          "and on all the fields:"
         ]
        },
        {
         "cell_type": "code",
         "execution_count": 17,
         "metadata": {},
         "outputs": [
          {
           "data": {
            "text/plain": [
             "[1000, 1000, 1000, 850, 850, 850]"
            ]
           },
           "execution_count": 17,
           "metadata": {},
           "output_type": "execute_result"
          }
         ],
         "source": [
          "fs.metadata(\"level\")"
         ]
        },
        {
         "cell_type": "code",
         "execution_count": 18,
         "metadata": {},
         "outputs": [
          {
           "data": {
            "text/plain": [
             "[(1000, 130), (1000, 131), (1000, 132), (850, 130), (850, 131), (850, 132)]"
            ]
           },
           "execution_count": 18,
           "metadata": {},
           "output_type": "execute_result"
          }
         ],
         "source": [
          "fs.metadata([\"level\", \"paramId\"])"
         ]
        },
        {
         "cell_type": "markdown",
         "metadata": {},
         "source": [
          "Key qualifiers can be used to prescribe the required metadata type:"
         ]
        },
        {
         "cell_type": "code",
         "execution_count": 19,
         "metadata": {},
         "outputs": [
          {
           "data": {
            "text/plain": [
             "('ecmf', 98, 'ecmf')"
            ]
           },
           "execution_count": 19,
           "metadata": {},
           "output_type": "execute_result"
          }
         ],
         "source": [
          "fs[0].metadata([\"centre\", \"centre\", \"centre\"], astype=(None, int, str))"
         ]
        },
        {
         "cell_type": "markdown",
         "metadata": {},
         "source": [
          "Metadata access with [] only works on individual fields:"
         ]
        },
        {
         "cell_type": "code",
         "execution_count": 20,
         "metadata": {},
         "outputs": [
          {
           "data": {
            "text/plain": [
             "'ecmf'"
            ]
           },
           "execution_count": 20,
           "metadata": {},
           "output_type": "execute_result"
          }
         ],
         "source": [
          "fs[0][\"centre\"]"
         ]
        },
        {
         "cell_type": "markdown",
         "metadata": {},
         "source": [
          "### Selection"
         ]
        },
        {
         "cell_type": "markdown",
         "metadata": {},
         "source": [
          "Selection by metadata is always creating a \"view\", no copying of GRIB data is involved."
         ]
        },
        {
         "cell_type": "code",
         "execution_count": 21,
         "metadata": {},
         "outputs": [
          {
           "data": {
            "text/html": [
             "<div>\n",
             "<style scoped>\n",
             "    .dataframe tbody tr th:only-of-type {\n",
             "        vertical-align: middle;\n",
             "    }\n",
             "\n",
             "    .dataframe tbody tr th {\n",
             "        vertical-align: top;\n",
             "    }\n",
             "\n",
             "    .dataframe thead th {\n",
             "        text-align: right;\n",
             "    }\n",
             "</style>\n",
             "<table border=\"1\" class=\"dataframe\">\n",
             "  <thead>\n",
             "    <tr style=\"text-align: right;\">\n",
             "      <th></th>\n",
             "      <th>centre</th>\n",
             "      <th>shortName</th>\n",
             "      <th>typeOfLevel</th>\n",
             "      <th>level</th>\n",
             "      <th>dataDate</th>\n",
             "      <th>dataTime</th>\n",
             "      <th>stepRange</th>\n",
             "      <th>dataType</th>\n",
             "      <th>number</th>\n",
             "      <th>gridType</th>\n",
             "    </tr>\n",
             "  </thead>\n",
             "  <tbody>\n",
             "    <tr>\n",
             "      <th>0</th>\n",
             "      <td>ecmf</td>\n",
             "      <td>u</td>\n",
             "      <td>isobaricInhPa</td>\n",
             "      <td>850</td>\n",
             "      <td>20180801</td>\n",
             "      <td>1200</td>\n",
             "      <td>0</td>\n",
             "      <td>an</td>\n",
             "      <td>0</td>\n",
             "      <td>regular_ll</td>\n",
             "    </tr>\n",
             "    <tr>\n",
             "      <th>1</th>\n",
             "      <td>ecmf</td>\n",
             "      <td>v</td>\n",
             "      <td>isobaricInhPa</td>\n",
             "      <td>850</td>\n",
             "      <td>20180801</td>\n",
             "      <td>1200</td>\n",
             "      <td>0</td>\n",
             "      <td>an</td>\n",
             "      <td>0</td>\n",
             "      <td>regular_ll</td>\n",
             "    </tr>\n",
             "  </tbody>\n",
             "</table>\n",
             "</div>"
            ],
            "text/plain": [
             "  centre shortName    typeOfLevel  level  dataDate  dataTime stepRange  \\\n",
             "0   ecmf         u  isobaricInhPa    850  20180801      1200         0   \n",
             "1   ecmf         v  isobaricInhPa    850  20180801      1200         0   \n",
             "\n",
             "  dataType  number    gridType  \n",
             "0       an       0  regular_ll  \n",
             "1       an       0  regular_ll  "
            ]
           },
           "execution_count": 21,
           "metadata": {},
           "output_type": "execute_result"
          }
         ],
         "source": [
          "g = fs.sel(shortName=[\"u\", \"v\"], level=850)\n",
          "g.ls()"
         ]
        },
        {
         "cell_type": "code",
         "execution_count": 22,
         "metadata": {},
         "outputs": [
          {
           "data": {
            "text/html": [
             "<div>\n",
             "<style scoped>\n",
             "    .dataframe tbody tr th:only-of-type {\n",
             "        vertical-align: middle;\n",
             "    }\n",
             "\n",
             "    .dataframe tbody tr th {\n",
             "        vertical-align: top;\n",
             "    }\n",
             "\n",
             "    .dataframe thead th {\n",
             "        text-align: right;\n",
             "    }\n",
             "</style>\n",
             "<table border=\"1\" class=\"dataframe\">\n",
             "  <thead>\n",
             "    <tr style=\"text-align: right;\">\n",
             "      <th></th>\n",
             "      <th>centre</th>\n",
             "      <th>shortName</th>\n",
             "      <th>typeOfLevel</th>\n",
             "      <th>level</th>\n",
             "      <th>dataDate</th>\n",
             "      <th>dataTime</th>\n",
             "      <th>stepRange</th>\n",
             "      <th>dataType</th>\n",
             "      <th>number</th>\n",
             "      <th>gridType</th>\n",
             "    </tr>\n",
             "  </thead>\n",
             "  <tbody>\n",
             "    <tr>\n",
             "      <th>0</th>\n",
             "      <td>ecmf</td>\n",
             "      <td>t</td>\n",
             "      <td>isobaricInhPa</td>\n",
             "      <td>1000</td>\n",
             "      <td>20180801</td>\n",
             "      <td>1200</td>\n",
             "      <td>0</td>\n",
             "      <td>an</td>\n",
             "      <td>0</td>\n",
             "      <td>regular_ll</td>\n",
             "    </tr>\n",
             "    <tr>\n",
             "      <th>1</th>\n",
             "      <td>ecmf</td>\n",
             "      <td>t</td>\n",
             "      <td>isobaricInhPa</td>\n",
             "      <td>850</td>\n",
             "      <td>20180801</td>\n",
             "      <td>1200</td>\n",
             "      <td>0</td>\n",
             "      <td>an</td>\n",
             "      <td>0</td>\n",
             "      <td>regular_ll</td>\n",
             "    </tr>\n",
             "  </tbody>\n",
             "</table>\n",
             "</div>"
            ],
            "text/plain": [
             "  centre shortName    typeOfLevel  level  dataDate  dataTime stepRange  \\\n",
             "0   ecmf         t  isobaricInhPa   1000  20180801      1200         0   \n",
             "1   ecmf         t  isobaricInhPa    850  20180801      1200         0   \n",
             "\n",
             "  dataType  number    gridType  \n",
             "0       an       0  regular_ll  \n",
             "1       an       0  regular_ll  "
            ]
           },
           "execution_count": 22,
           "metadata": {},
           "output_type": "execute_result"
          }
         ],
         "source": [
          "g = fs.sel(param=\"t\")\n",
          "g.ls()"
         ]
        },
        {
         "cell_type": "markdown",
         "metadata": {},
         "source": [
          "### Xarray"
         ]
        },
        {
         "cell_type": "markdown",
         "metadata": {},
         "source": [
          "Xarray conversion does not involve disk writing. Under the hood it uses cfgrib."
         ]
        },
        {
         "cell_type": "code",
         "execution_count": 23,
         "metadata": {},
         "outputs": [
          {
           "data": {
            "text/html": [
             "<div><svg style=\"position: absolute; width: 0; height: 0; overflow: hidden\">\n",
             "<defs>\n",
             "<symbol id=\"icon-database\" viewBox=\"0 0 32 32\">\n",
             "<path d=\"M16 0c-8.837 0-16 2.239-16 5v4c0 2.761 7.163 5 16 5s16-2.239 16-5v-4c0-2.761-7.163-5-16-5z\"></path>\n",
             "<path d=\"M16 17c-8.837 0-16-2.239-16-5v6c0 2.761 7.163 5 16 5s16-2.239 16-5v-6c0 2.761-7.163 5-16 5z\"></path>\n",
             "<path d=\"M16 26c-8.837 0-16-2.239-16-5v6c0 2.761 7.163 5 16 5s16-2.239 16-5v-6c0 2.761-7.163 5-16 5z\"></path>\n",
             "</symbol>\n",
             "<symbol id=\"icon-file-text2\" viewBox=\"0 0 32 32\">\n",
             "<path d=\"M28.681 7.159c-0.694-0.947-1.662-2.053-2.724-3.116s-2.169-2.030-3.116-2.724c-1.612-1.182-2.393-1.319-2.841-1.319h-15.5c-1.378 0-2.5 1.121-2.5 2.5v27c0 1.378 1.122 2.5 2.5 2.5h23c1.378 0 2.5-1.122 2.5-2.5v-19.5c0-0.448-0.137-1.23-1.319-2.841zM24.543 5.457c0.959 0.959 1.712 1.825 2.268 2.543h-4.811v-4.811c0.718 0.556 1.584 1.309 2.543 2.268zM28 29.5c0 0.271-0.229 0.5-0.5 0.5h-23c-0.271 0-0.5-0.229-0.5-0.5v-27c0-0.271 0.229-0.5 0.5-0.5 0 0 15.499-0 15.5 0v7c0 0.552 0.448 1 1 1h7v19.5z\"></path>\n",
             "<path d=\"M23 26h-14c-0.552 0-1-0.448-1-1s0.448-1 1-1h14c0.552 0 1 0.448 1 1s-0.448 1-1 1z\"></path>\n",
             "<path d=\"M23 22h-14c-0.552 0-1-0.448-1-1s0.448-1 1-1h14c0.552 0 1 0.448 1 1s-0.448 1-1 1z\"></path>\n",
             "<path d=\"M23 18h-14c-0.552 0-1-0.448-1-1s0.448-1 1-1h14c0.552 0 1 0.448 1 1s-0.448 1-1 1z\"></path>\n",
             "</symbol>\n",
             "</defs>\n",
             "</svg>\n",
             "<style>/* CSS stylesheet for displaying xarray objects in jupyterlab.\n",
             " *\n",
             " */\n",
             "\n",
             ":root {\n",
             "  --xr-font-color0: var(--jp-content-font-color0, rgba(0, 0, 0, 1));\n",
             "  --xr-font-color2: var(--jp-content-font-color2, rgba(0, 0, 0, 0.54));\n",
             "  --xr-font-color3: var(--jp-content-font-color3, rgba(0, 0, 0, 0.38));\n",
             "  --xr-border-color: var(--jp-border-color2, #e0e0e0);\n",
             "  --xr-disabled-color: var(--jp-layout-color3, #bdbdbd);\n",
             "  --xr-background-color: var(--jp-layout-color0, white);\n",
             "  --xr-background-color-row-even: var(--jp-layout-color1, white);\n",
             "  --xr-background-color-row-odd: var(--jp-layout-color2, #eeeeee);\n",
             "}\n",
             "\n",
             "html[theme=dark],\n",
             "body[data-theme=dark],\n",
             "body.vscode-dark {\n",
             "  --xr-font-color0: rgba(255, 255, 255, 1);\n",
             "  --xr-font-color2: rgba(255, 255, 255, 0.54);\n",
             "  --xr-font-color3: rgba(255, 255, 255, 0.38);\n",
             "  --xr-border-color: #1F1F1F;\n",
             "  --xr-disabled-color: #515151;\n",
             "  --xr-background-color: #111111;\n",
             "  --xr-background-color-row-even: #111111;\n",
             "  --xr-background-color-row-odd: #313131;\n",
             "}\n",
             "\n",
             ".xr-wrap {\n",
             "  display: block !important;\n",
             "  min-width: 300px;\n",
             "  max-width: 700px;\n",
             "}\n",
             "\n",
             ".xr-text-repr-fallback {\n",
             "  /* fallback to plain text repr when CSS is not injected (untrusted notebook) */\n",
             "  display: none;\n",
             "}\n",
             "\n",
             ".xr-header {\n",
             "  padding-top: 6px;\n",
             "  padding-bottom: 6px;\n",
             "  margin-bottom: 4px;\n",
             "  border-bottom: solid 1px var(--xr-border-color);\n",
             "}\n",
             "\n",
             ".xr-header > div,\n",
             ".xr-header > ul {\n",
             "  display: inline;\n",
             "  margin-top: 0;\n",
             "  margin-bottom: 0;\n",
             "}\n",
             "\n",
             ".xr-obj-type,\n",
             ".xr-array-name {\n",
             "  margin-left: 2px;\n",
             "  margin-right: 10px;\n",
             "}\n",
             "\n",
             ".xr-obj-type {\n",
             "  color: var(--xr-font-color2);\n",
             "}\n",
             "\n",
             ".xr-sections {\n",
             "  padding-left: 0 !important;\n",
             "  display: grid;\n",
             "  grid-template-columns: 150px auto auto 1fr 20px 20px;\n",
             "}\n",
             "\n",
             ".xr-section-item {\n",
             "  display: contents;\n",
             "}\n",
             "\n",
             ".xr-section-item input {\n",
             "  display: none;\n",
             "}\n",
             "\n",
             ".xr-section-item input + label {\n",
             "  color: var(--xr-disabled-color);\n",
             "}\n",
             "\n",
             ".xr-section-item input:enabled + label {\n",
             "  cursor: pointer;\n",
             "  color: var(--xr-font-color2);\n",
             "}\n",
             "\n",
             ".xr-section-item input:enabled + label:hover {\n",
             "  color: var(--xr-font-color0);\n",
             "}\n",
             "\n",
             ".xr-section-summary {\n",
             "  grid-column: 1;\n",
             "  color: var(--xr-font-color2);\n",
             "  font-weight: 500;\n",
             "}\n",
             "\n",
             ".xr-section-summary > span {\n",
             "  display: inline-block;\n",
             "  padding-left: 0.5em;\n",
             "}\n",
             "\n",
             ".xr-section-summary-in:disabled + label {\n",
             "  color: var(--xr-font-color2);\n",
             "}\n",
             "\n",
             ".xr-section-summary-in + label:before {\n",
             "  display: inline-block;\n",
             "  content: '►';\n",
             "  font-size: 11px;\n",
             "  width: 15px;\n",
             "  text-align: center;\n",
             "}\n",
             "\n",
             ".xr-section-summary-in:disabled + label:before {\n",
             "  color: var(--xr-disabled-color);\n",
             "}\n",
             "\n",
             ".xr-section-summary-in:checked + label:before {\n",
             "  content: '▼';\n",
             "}\n",
             "\n",
             ".xr-section-summary-in:checked + label > span {\n",
             "  display: none;\n",
             "}\n",
             "\n",
             ".xr-section-summary,\n",
             ".xr-section-inline-details {\n",
             "  padding-top: 4px;\n",
             "  padding-bottom: 4px;\n",
             "}\n",
             "\n",
             ".xr-section-inline-details {\n",
             "  grid-column: 2 / -1;\n",
             "}\n",
             "\n",
             ".xr-section-details {\n",
             "  display: none;\n",
             "  grid-column: 1 / -1;\n",
             "  margin-bottom: 5px;\n",
             "}\n",
             "\n",
             ".xr-section-summary-in:checked ~ .xr-section-details {\n",
             "  display: contents;\n",
             "}\n",
             "\n",
             ".xr-array-wrap {\n",
             "  grid-column: 1 / -1;\n",
             "  display: grid;\n",
             "  grid-template-columns: 20px auto;\n",
             "}\n",
             "\n",
             ".xr-array-wrap > label {\n",
             "  grid-column: 1;\n",
             "  vertical-align: top;\n",
             "}\n",
             "\n",
             ".xr-preview {\n",
             "  color: var(--xr-font-color3);\n",
             "}\n",
             "\n",
             ".xr-array-preview,\n",
             ".xr-array-data {\n",
             "  padding: 0 5px !important;\n",
             "  grid-column: 2;\n",
             "}\n",
             "\n",
             ".xr-array-data,\n",
             ".xr-array-in:checked ~ .xr-array-preview {\n",
             "  display: none;\n",
             "}\n",
             "\n",
             ".xr-array-in:checked ~ .xr-array-data,\n",
             ".xr-array-preview {\n",
             "  display: inline-block;\n",
             "}\n",
             "\n",
             ".xr-dim-list {\n",
             "  display: inline-block !important;\n",
             "  list-style: none;\n",
             "  padding: 0 !important;\n",
             "  margin: 0;\n",
             "}\n",
             "\n",
             ".xr-dim-list li {\n",
             "  display: inline-block;\n",
             "  padding: 0;\n",
             "  margin: 0;\n",
             "}\n",
             "\n",
             ".xr-dim-list:before {\n",
             "  content: '(';\n",
             "}\n",
             "\n",
             ".xr-dim-list:after {\n",
             "  content: ')';\n",
             "}\n",
             "\n",
             ".xr-dim-list li:not(:last-child):after {\n",
             "  content: ',';\n",
             "  padding-right: 5px;\n",
             "}\n",
             "\n",
             ".xr-has-index {\n",
             "  font-weight: bold;\n",
             "}\n",
             "\n",
             ".xr-var-list,\n",
             ".xr-var-item {\n",
             "  display: contents;\n",
             "}\n",
             "\n",
             ".xr-var-item > div,\n",
             ".xr-var-item label,\n",
             ".xr-var-item > .xr-var-name span {\n",
             "  background-color: var(--xr-background-color-row-even);\n",
             "  margin-bottom: 0;\n",
             "}\n",
             "\n",
             ".xr-var-item > .xr-var-name:hover span {\n",
             "  padding-right: 5px;\n",
             "}\n",
             "\n",
             ".xr-var-list > li:nth-child(odd) > div,\n",
             ".xr-var-list > li:nth-child(odd) > label,\n",
             ".xr-var-list > li:nth-child(odd) > .xr-var-name span {\n",
             "  background-color: var(--xr-background-color-row-odd);\n",
             "}\n",
             "\n",
             ".xr-var-name {\n",
             "  grid-column: 1;\n",
             "}\n",
             "\n",
             ".xr-var-dims {\n",
             "  grid-column: 2;\n",
             "}\n",
             "\n",
             ".xr-var-dtype {\n",
             "  grid-column: 3;\n",
             "  text-align: right;\n",
             "  color: var(--xr-font-color2);\n",
             "}\n",
             "\n",
             ".xr-var-preview {\n",
             "  grid-column: 4;\n",
             "}\n",
             "\n",
             ".xr-index-preview {\n",
             "  grid-column: 2 / 5;\n",
             "  color: var(--xr-font-color2);\n",
             "}\n",
             "\n",
             ".xr-var-name,\n",
             ".xr-var-dims,\n",
             ".xr-var-dtype,\n",
             ".xr-preview,\n",
             ".xr-attrs dt {\n",
             "  white-space: nowrap;\n",
             "  overflow: hidden;\n",
             "  text-overflow: ellipsis;\n",
             "  padding-right: 10px;\n",
             "}\n",
             "\n",
             ".xr-var-name:hover,\n",
             ".xr-var-dims:hover,\n",
             ".xr-var-dtype:hover,\n",
             ".xr-attrs dt:hover {\n",
             "  overflow: visible;\n",
             "  width: auto;\n",
             "  z-index: 1;\n",
             "}\n",
             "\n",
             ".xr-var-attrs,\n",
             ".xr-var-data,\n",
             ".xr-index-data {\n",
             "  display: none;\n",
             "  background-color: var(--xr-background-color) !important;\n",
             "  padding-bottom: 5px !important;\n",
             "}\n",
             "\n",
             ".xr-var-attrs-in:checked ~ .xr-var-attrs,\n",
             ".xr-var-data-in:checked ~ .xr-var-data,\n",
             ".xr-index-data-in:checked ~ .xr-index-data {\n",
             "  display: block;\n",
             "}\n",
             "\n",
             ".xr-var-data > table {\n",
             "  float: right;\n",
             "}\n",
             "\n",
             ".xr-var-name span,\n",
             ".xr-var-data,\n",
             ".xr-index-name div,\n",
             ".xr-index-data,\n",
             ".xr-attrs {\n",
             "  padding-left: 25px !important;\n",
             "}\n",
             "\n",
             ".xr-attrs,\n",
             ".xr-var-attrs,\n",
             ".xr-var-data,\n",
             ".xr-index-data {\n",
             "  grid-column: 1 / -1;\n",
             "}\n",
             "\n",
             "dl.xr-attrs {\n",
             "  padding: 0;\n",
             "  margin: 0;\n",
             "  display: grid;\n",
             "  grid-template-columns: 125px auto;\n",
             "}\n",
             "\n",
             ".xr-attrs dt,\n",
             ".xr-attrs dd {\n",
             "  padding: 0;\n",
             "  margin: 0;\n",
             "  float: left;\n",
             "  padding-right: 10px;\n",
             "  width: auto;\n",
             "}\n",
             "\n",
             ".xr-attrs dt {\n",
             "  font-weight: normal;\n",
             "  grid-column: 1;\n",
             "}\n",
             "\n",
             ".xr-attrs dt:hover span {\n",
             "  display: inline-block;\n",
             "  background: var(--xr-background-color);\n",
             "  padding-right: 10px;\n",
             "}\n",
             "\n",
             ".xr-attrs dd {\n",
             "  grid-column: 2;\n",
             "  white-space: pre-wrap;\n",
             "  word-break: break-all;\n",
             "}\n",
             "\n",
             ".xr-icon-database,\n",
             ".xr-icon-file-text2,\n",
             ".xr-no-icon {\n",
             "  display: inline-block;\n",
             "  vertical-align: middle;\n",
             "  width: 1em;\n",
             "  height: 1.5em !important;\n",
             "  stroke-width: 0;\n",
             "  stroke: currentColor;\n",
             "  fill: currentColor;\n",
             "}\n",
             "</style><pre class='xr-text-repr-fallback'>&lt;xarray.Dataset&gt;\n",
             "Dimensions:        (number: 1, time: 1, step: 1, isobaricInhPa: 2, latitude: 7,\n",
             "                    longitude: 12)\n",
             "Coordinates:\n",
             "  * number         (number) int64 0\n",
             "  * time           (time) datetime64[ns] 2018-08-01T12:00:00\n",
             "  * step           (step) timedelta64[ns] 00:00:00\n",
             "  * isobaricInhPa  (isobaricInhPa) int64 1000 850\n",
             "  * latitude       (latitude) float64 90.0 60.0 30.0 0.0 -30.0 -60.0 -90.0\n",
             "  * longitude      (longitude) float64 0.0 30.0 60.0 90.0 ... 270.0 300.0 330.0\n",
             "    valid_time     (time, step) datetime64[ns] ...\n",
             "Data variables:\n",
             "    t              (number, time, step, isobaricInhPa, latitude, longitude) float32 ...\n",
             "    u              (number, time, step, isobaricInhPa, latitude, longitude) float32 ...\n",
             "    v              (number, time, step, isobaricInhPa, latitude, longitude) float32 ...\n",
             "Attributes:\n",
             "    GRIB_edition:            1\n",
             "    GRIB_centre:             ecmf\n",
             "    GRIB_centreDescription:  European Centre for Medium-Range Weather Forecasts\n",
             "    GRIB_subCentre:          0\n",
             "    Conventions:             CF-1.7\n",
             "    institution:             European Centre for Medium-Range Weather Forecasts\n",
             "    history:                 2023-05-04T16:43 GRIB to CDM+CF via cfgrib-0.9.1...</pre><div class='xr-wrap' style='display:none'><div class='xr-header'><div class='xr-obj-type'>xarray.Dataset</div></div><ul class='xr-sections'><li class='xr-section-item'><input id='section-db0e39c7-3033-4a18-81e8-84a3cf647fb7' class='xr-section-summary-in' type='checkbox' disabled ><label for='section-db0e39c7-3033-4a18-81e8-84a3cf647fb7' class='xr-section-summary'  title='Expand/collapse section'>Dimensions:</label><div class='xr-section-inline-details'><ul class='xr-dim-list'><li><span class='xr-has-index'>number</span>: 1</li><li><span class='xr-has-index'>time</span>: 1</li><li><span class='xr-has-index'>step</span>: 1</li><li><span class='xr-has-index'>isobaricInhPa</span>: 2</li><li><span class='xr-has-index'>latitude</span>: 7</li><li><span class='xr-has-index'>longitude</span>: 12</li></ul></div><div class='xr-section-details'></div></li><li class='xr-section-item'><input id='section-17a6c222-0bdf-49e9-9a37-605c01177cb1' class='xr-section-summary-in' type='checkbox'  checked><label for='section-17a6c222-0bdf-49e9-9a37-605c01177cb1' class='xr-section-summary' >Coordinates: <span>(7)</span></label><div class='xr-section-inline-details'></div><div class='xr-section-details'><ul class='xr-var-list'><li class='xr-var-item'><div class='xr-var-name'><span class='xr-has-index'>number</span></div><div class='xr-var-dims'>(number)</div><div class='xr-var-dtype'>int64</div><div class='xr-var-preview xr-preview'>0</div><input id='attrs-e5e8bc26-bf87-4870-98f3-324cce0f9bb7' class='xr-var-attrs-in' type='checkbox' ><label for='attrs-e5e8bc26-bf87-4870-98f3-324cce0f9bb7' title='Show/Hide attributes'><svg class='icon xr-icon-file-text2'><use xlink:href='#icon-file-text2'></use></svg></label><input id='data-c0b95ce9-7659-44f5-92f8-db8b99bb6f6c' class='xr-var-data-in' type='checkbox'><label for='data-c0b95ce9-7659-44f5-92f8-db8b99bb6f6c' title='Show/Hide data repr'><svg class='icon xr-icon-database'><use xlink:href='#icon-database'></use></svg></label><div class='xr-var-attrs'><dl class='xr-attrs'><dt><span>long_name :</span></dt><dd>ensemble member numerical id</dd><dt><span>units :</span></dt><dd>1</dd><dt><span>standard_name :</span></dt><dd>realization</dd></dl></div><div class='xr-var-data'><pre>array([0])</pre></div></li><li class='xr-var-item'><div class='xr-var-name'><span class='xr-has-index'>time</span></div><div class='xr-var-dims'>(time)</div><div class='xr-var-dtype'>datetime64[ns]</div><div class='xr-var-preview xr-preview'>2018-08-01T12:00:00</div><input id='attrs-9ec6920a-7583-43e5-ad4b-1c9e44c48f05' class='xr-var-attrs-in' type='checkbox' ><label for='attrs-9ec6920a-7583-43e5-ad4b-1c9e44c48f05' title='Show/Hide attributes'><svg class='icon xr-icon-file-text2'><use xlink:href='#icon-file-text2'></use></svg></label><input id='data-0574eef0-17fb-44b0-8ba2-30b1880d17e5' class='xr-var-data-in' type='checkbox'><label for='data-0574eef0-17fb-44b0-8ba2-30b1880d17e5' title='Show/Hide data repr'><svg class='icon xr-icon-database'><use xlink:href='#icon-database'></use></svg></label><div class='xr-var-attrs'><dl class='xr-attrs'><dt><span>long_name :</span></dt><dd>initial time of forecast</dd><dt><span>standard_name :</span></dt><dd>forecast_reference_time</dd></dl></div><div class='xr-var-data'><pre>array([&#x27;2018-08-01T12:00:00.000000000&#x27;], dtype=&#x27;datetime64[ns]&#x27;)</pre></div></li><li class='xr-var-item'><div class='xr-var-name'><span class='xr-has-index'>step</span></div><div class='xr-var-dims'>(step)</div><div class='xr-var-dtype'>timedelta64[ns]</div><div class='xr-var-preview xr-preview'>00:00:00</div><input id='attrs-0cfdd62d-907e-4e67-ae58-2258e25bf9da' class='xr-var-attrs-in' type='checkbox' ><label for='attrs-0cfdd62d-907e-4e67-ae58-2258e25bf9da' title='Show/Hide attributes'><svg class='icon xr-icon-file-text2'><use xlink:href='#icon-file-text2'></use></svg></label><input id='data-0dd74b66-c447-4bb7-959c-174f2b902c29' class='xr-var-data-in' type='checkbox'><label for='data-0dd74b66-c447-4bb7-959c-174f2b902c29' title='Show/Hide data repr'><svg class='icon xr-icon-database'><use xlink:href='#icon-database'></use></svg></label><div class='xr-var-attrs'><dl class='xr-attrs'><dt><span>long_name :</span></dt><dd>time since forecast_reference_time</dd><dt><span>standard_name :</span></dt><dd>forecast_period</dd></dl></div><div class='xr-var-data'><pre>array([0], dtype=&#x27;timedelta64[ns]&#x27;)</pre></div></li><li class='xr-var-item'><div class='xr-var-name'><span class='xr-has-index'>isobaricInhPa</span></div><div class='xr-var-dims'>(isobaricInhPa)</div><div class='xr-var-dtype'>int64</div><div class='xr-var-preview xr-preview'>1000 850</div><input id='attrs-ab07721d-24f3-4fe5-837d-e0721ea5df7c' class='xr-var-attrs-in' type='checkbox' ><label for='attrs-ab07721d-24f3-4fe5-837d-e0721ea5df7c' title='Show/Hide attributes'><svg class='icon xr-icon-file-text2'><use xlink:href='#icon-file-text2'></use></svg></label><input id='data-ee0c53ac-74f5-4d93-a30d-a3ac42c373ae' class='xr-var-data-in' type='checkbox'><label for='data-ee0c53ac-74f5-4d93-a30d-a3ac42c373ae' title='Show/Hide data repr'><svg class='icon xr-icon-database'><use xlink:href='#icon-database'></use></svg></label><div class='xr-var-attrs'><dl class='xr-attrs'><dt><span>long_name :</span></dt><dd>pressure</dd><dt><span>units :</span></dt><dd>hPa</dd><dt><span>positive :</span></dt><dd>down</dd><dt><span>stored_direction :</span></dt><dd>decreasing</dd><dt><span>standard_name :</span></dt><dd>air_pressure</dd></dl></div><div class='xr-var-data'><pre>array([1000,  850])</pre></div></li><li class='xr-var-item'><div class='xr-var-name'><span class='xr-has-index'>latitude</span></div><div class='xr-var-dims'>(latitude)</div><div class='xr-var-dtype'>float64</div><div class='xr-var-preview xr-preview'>90.0 60.0 30.0 ... -60.0 -90.0</div><input id='attrs-980e035e-f00e-43f4-8137-f38a11fd54c0' class='xr-var-attrs-in' type='checkbox' ><label for='attrs-980e035e-f00e-43f4-8137-f38a11fd54c0' title='Show/Hide attributes'><svg class='icon xr-icon-file-text2'><use xlink:href='#icon-file-text2'></use></svg></label><input id='data-c32a02da-ed8d-4e78-a546-f15b4d8f4b03' class='xr-var-data-in' type='checkbox'><label for='data-c32a02da-ed8d-4e78-a546-f15b4d8f4b03' title='Show/Hide data repr'><svg class='icon xr-icon-database'><use xlink:href='#icon-database'></use></svg></label><div class='xr-var-attrs'><dl class='xr-attrs'><dt><span>units :</span></dt><dd>degrees_north</dd><dt><span>standard_name :</span></dt><dd>latitude</dd><dt><span>long_name :</span></dt><dd>latitude</dd><dt><span>stored_direction :</span></dt><dd>decreasing</dd></dl></div><div class='xr-var-data'><pre>array([ 90.,  60.,  30.,   0., -30., -60., -90.])</pre></div></li><li class='xr-var-item'><div class='xr-var-name'><span class='xr-has-index'>longitude</span></div><div class='xr-var-dims'>(longitude)</div><div class='xr-var-dtype'>float64</div><div class='xr-var-preview xr-preview'>0.0 30.0 60.0 ... 270.0 300.0 330.0</div><input id='attrs-0bc9e819-b627-4b6d-b829-087606a5813e' class='xr-var-attrs-in' type='checkbox' ><label for='attrs-0bc9e819-b627-4b6d-b829-087606a5813e' title='Show/Hide attributes'><svg class='icon xr-icon-file-text2'><use xlink:href='#icon-file-text2'></use></svg></label><input id='data-ea7797bf-d267-4e4b-ab98-ae55b5479e15' class='xr-var-data-in' type='checkbox'><label for='data-ea7797bf-d267-4e4b-ab98-ae55b5479e15' title='Show/Hide data repr'><svg class='icon xr-icon-database'><use xlink:href='#icon-database'></use></svg></label><div class='xr-var-attrs'><dl class='xr-attrs'><dt><span>units :</span></dt><dd>degrees_east</dd><dt><span>standard_name :</span></dt><dd>longitude</dd><dt><span>long_name :</span></dt><dd>longitude</dd></dl></div><div class='xr-var-data'><pre>array([  0.,  30.,  60.,  90., 120., 150., 180., 210., 240., 270., 300., 330.])</pre></div></li><li class='xr-var-item'><div class='xr-var-name'><span>valid_time</span></div><div class='xr-var-dims'>(time, step)</div><div class='xr-var-dtype'>datetime64[ns]</div><div class='xr-var-preview xr-preview'>...</div><input id='attrs-b79add36-e2a0-40ff-9bf1-d8abbfb88711' class='xr-var-attrs-in' type='checkbox' ><label for='attrs-b79add36-e2a0-40ff-9bf1-d8abbfb88711' title='Show/Hide attributes'><svg class='icon xr-icon-file-text2'><use xlink:href='#icon-file-text2'></use></svg></label><input id='data-da901062-7f72-49d6-b95a-022578735e7f' class='xr-var-data-in' type='checkbox'><label for='data-da901062-7f72-49d6-b95a-022578735e7f' title='Show/Hide data repr'><svg class='icon xr-icon-database'><use xlink:href='#icon-database'></use></svg></label><div class='xr-var-attrs'><dl class='xr-attrs'><dt><span>standard_name :</span></dt><dd>time</dd><dt><span>long_name :</span></dt><dd>time</dd></dl></div><div class='xr-var-data'><pre>[1 values with dtype=datetime64[ns]]</pre></div></li></ul></div></li><li class='xr-section-item'><input id='section-48c313e7-a24a-4465-a5a8-00cce3c434b3' class='xr-section-summary-in' type='checkbox'  checked><label for='section-48c313e7-a24a-4465-a5a8-00cce3c434b3' class='xr-section-summary' >Data variables: <span>(3)</span></label><div class='xr-section-inline-details'></div><div class='xr-section-details'><ul class='xr-var-list'><li class='xr-var-item'><div class='xr-var-name'><span>t</span></div><div class='xr-var-dims'>(number, time, step, isobaricInhPa, latitude, longitude)</div><div class='xr-var-dtype'>float32</div><div class='xr-var-preview xr-preview'>...</div><input id='attrs-235ab54e-b4b8-45bc-99c7-e3cad3a9d680' class='xr-var-attrs-in' type='checkbox' ><label for='attrs-235ab54e-b4b8-45bc-99c7-e3cad3a9d680' title='Show/Hide attributes'><svg class='icon xr-icon-file-text2'><use xlink:href='#icon-file-text2'></use></svg></label><input id='data-8c7d4c21-9061-4241-97c6-514072d4bcf4' class='xr-var-data-in' type='checkbox'><label for='data-8c7d4c21-9061-4241-97c6-514072d4bcf4' title='Show/Hide data repr'><svg class='icon xr-icon-database'><use xlink:href='#icon-database'></use></svg></label><div class='xr-var-attrs'><dl class='xr-attrs'><dt><span>GRIB_paramId :</span></dt><dd>130</dd><dt><span>GRIB_dataType :</span></dt><dd>an</dd><dt><span>GRIB_numberOfPoints :</span></dt><dd>84</dd><dt><span>GRIB_typeOfLevel :</span></dt><dd>isobaricInhPa</dd><dt><span>GRIB_stepUnits :</span></dt><dd>1</dd><dt><span>GRIB_stepType :</span></dt><dd>instant</dd><dt><span>GRIB_gridType :</span></dt><dd>regular_ll</dd><dt><span>GRIB_NV :</span></dt><dd>0</dd><dt><span>GRIB_Nx :</span></dt><dd>12</dd><dt><span>GRIB_Ny :</span></dt><dd>7</dd><dt><span>GRIB_cfName :</span></dt><dd>air_temperature</dd><dt><span>GRIB_cfVarName :</span></dt><dd>t</dd><dt><span>GRIB_gridDefinitionDescription :</span></dt><dd>Latitude/Longitude Grid</dd><dt><span>GRIB_iDirectionIncrementInDegrees :</span></dt><dd>30.0</dd><dt><span>GRIB_iScansNegatively :</span></dt><dd>0</dd><dt><span>GRIB_jDirectionIncrementInDegrees :</span></dt><dd>30.0</dd><dt><span>GRIB_jPointsAreConsecutive :</span></dt><dd>0</dd><dt><span>GRIB_jScansPositively :</span></dt><dd>0</dd><dt><span>GRIB_latitudeOfFirstGridPointInDegrees :</span></dt><dd>90.0</dd><dt><span>GRIB_latitudeOfLastGridPointInDegrees :</span></dt><dd>-90.0</dd><dt><span>GRIB_longitudeOfFirstGridPointInDegrees :</span></dt><dd>0.0</dd><dt><span>GRIB_longitudeOfLastGridPointInDegrees :</span></dt><dd>330.0</dd><dt><span>GRIB_missingValue :</span></dt><dd>9999</dd><dt><span>GRIB_name :</span></dt><dd>Temperature</dd><dt><span>GRIB_shortName :</span></dt><dd>t</dd><dt><span>GRIB_totalNumber :</span></dt><dd>0</dd><dt><span>GRIB_units :</span></dt><dd>K</dd><dt><span>long_name :</span></dt><dd>Temperature</dd><dt><span>units :</span></dt><dd>K</dd><dt><span>standard_name :</span></dt><dd>air_temperature</dd></dl></div><div class='xr-var-data'><pre>[168 values with dtype=float32]</pre></div></li><li class='xr-var-item'><div class='xr-var-name'><span>u</span></div><div class='xr-var-dims'>(number, time, step, isobaricInhPa, latitude, longitude)</div><div class='xr-var-dtype'>float32</div><div class='xr-var-preview xr-preview'>...</div><input id='attrs-1ee7e1bd-50cf-4435-bd35-179936089503' class='xr-var-attrs-in' type='checkbox' ><label for='attrs-1ee7e1bd-50cf-4435-bd35-179936089503' title='Show/Hide attributes'><svg class='icon xr-icon-file-text2'><use xlink:href='#icon-file-text2'></use></svg></label><input id='data-5404aa18-18e5-483a-85d1-c08862c97d28' class='xr-var-data-in' type='checkbox'><label for='data-5404aa18-18e5-483a-85d1-c08862c97d28' title='Show/Hide data repr'><svg class='icon xr-icon-database'><use xlink:href='#icon-database'></use></svg></label><div class='xr-var-attrs'><dl class='xr-attrs'><dt><span>GRIB_paramId :</span></dt><dd>131</dd><dt><span>GRIB_dataType :</span></dt><dd>an</dd><dt><span>GRIB_numberOfPoints :</span></dt><dd>84</dd><dt><span>GRIB_typeOfLevel :</span></dt><dd>isobaricInhPa</dd><dt><span>GRIB_stepUnits :</span></dt><dd>1</dd><dt><span>GRIB_stepType :</span></dt><dd>instant</dd><dt><span>GRIB_gridType :</span></dt><dd>regular_ll</dd><dt><span>GRIB_NV :</span></dt><dd>0</dd><dt><span>GRIB_Nx :</span></dt><dd>12</dd><dt><span>GRIB_Ny :</span></dt><dd>7</dd><dt><span>GRIB_cfName :</span></dt><dd>eastward_wind</dd><dt><span>GRIB_cfVarName :</span></dt><dd>u</dd><dt><span>GRIB_gridDefinitionDescription :</span></dt><dd>Latitude/Longitude Grid</dd><dt><span>GRIB_iDirectionIncrementInDegrees :</span></dt><dd>30.0</dd><dt><span>GRIB_iScansNegatively :</span></dt><dd>0</dd><dt><span>GRIB_jDirectionIncrementInDegrees :</span></dt><dd>30.0</dd><dt><span>GRIB_jPointsAreConsecutive :</span></dt><dd>0</dd><dt><span>GRIB_jScansPositively :</span></dt><dd>0</dd><dt><span>GRIB_latitudeOfFirstGridPointInDegrees :</span></dt><dd>90.0</dd><dt><span>GRIB_latitudeOfLastGridPointInDegrees :</span></dt><dd>-90.0</dd><dt><span>GRIB_longitudeOfFirstGridPointInDegrees :</span></dt><dd>0.0</dd><dt><span>GRIB_longitudeOfLastGridPointInDegrees :</span></dt><dd>330.0</dd><dt><span>GRIB_missingValue :</span></dt><dd>9999</dd><dt><span>GRIB_name :</span></dt><dd>U component of wind</dd><dt><span>GRIB_shortName :</span></dt><dd>u</dd><dt><span>GRIB_totalNumber :</span></dt><dd>0</dd><dt><span>GRIB_units :</span></dt><dd>m s**-1</dd><dt><span>long_name :</span></dt><dd>U component of wind</dd><dt><span>units :</span></dt><dd>m s**-1</dd><dt><span>standard_name :</span></dt><dd>eastward_wind</dd></dl></div><div class='xr-var-data'><pre>[168 values with dtype=float32]</pre></div></li><li class='xr-var-item'><div class='xr-var-name'><span>v</span></div><div class='xr-var-dims'>(number, time, step, isobaricInhPa, latitude, longitude)</div><div class='xr-var-dtype'>float32</div><div class='xr-var-preview xr-preview'>...</div><input id='attrs-2f3867f5-2027-4148-8264-841598cfbed4' class='xr-var-attrs-in' type='checkbox' ><label for='attrs-2f3867f5-2027-4148-8264-841598cfbed4' title='Show/Hide attributes'><svg class='icon xr-icon-file-text2'><use xlink:href='#icon-file-text2'></use></svg></label><input id='data-eae0a5e1-a556-49e7-9d20-47939c94ff4b' class='xr-var-data-in' type='checkbox'><label for='data-eae0a5e1-a556-49e7-9d20-47939c94ff4b' title='Show/Hide data repr'><svg class='icon xr-icon-database'><use xlink:href='#icon-database'></use></svg></label><div class='xr-var-attrs'><dl class='xr-attrs'><dt><span>GRIB_paramId :</span></dt><dd>132</dd><dt><span>GRIB_dataType :</span></dt><dd>an</dd><dt><span>GRIB_numberOfPoints :</span></dt><dd>84</dd><dt><span>GRIB_typeOfLevel :</span></dt><dd>isobaricInhPa</dd><dt><span>GRIB_stepUnits :</span></dt><dd>1</dd><dt><span>GRIB_stepType :</span></dt><dd>instant</dd><dt><span>GRIB_gridType :</span></dt><dd>regular_ll</dd><dt><span>GRIB_NV :</span></dt><dd>0</dd><dt><span>GRIB_Nx :</span></dt><dd>12</dd><dt><span>GRIB_Ny :</span></dt><dd>7</dd><dt><span>GRIB_cfName :</span></dt><dd>northward_wind</dd><dt><span>GRIB_cfVarName :</span></dt><dd>v</dd><dt><span>GRIB_gridDefinitionDescription :</span></dt><dd>Latitude/Longitude Grid</dd><dt><span>GRIB_iDirectionIncrementInDegrees :</span></dt><dd>30.0</dd><dt><span>GRIB_iScansNegatively :</span></dt><dd>0</dd><dt><span>GRIB_jDirectionIncrementInDegrees :</span></dt><dd>30.0</dd><dt><span>GRIB_jPointsAreConsecutive :</span></dt><dd>0</dd><dt><span>GRIB_jScansPositively :</span></dt><dd>0</dd><dt><span>GRIB_latitudeOfFirstGridPointInDegrees :</span></dt><dd>90.0</dd><dt><span>GRIB_latitudeOfLastGridPointInDegrees :</span></dt><dd>-90.0</dd><dt><span>GRIB_longitudeOfFirstGridPointInDegrees :</span></dt><dd>0.0</dd><dt><span>GRIB_longitudeOfLastGridPointInDegrees :</span></dt><dd>330.0</dd><dt><span>GRIB_missingValue :</span></dt><dd>9999</dd><dt><span>GRIB_name :</span></dt><dd>V component of wind</dd><dt><span>GRIB_shortName :</span></dt><dd>v</dd><dt><span>GRIB_totalNumber :</span></dt><dd>0</dd><dt><span>GRIB_units :</span></dt><dd>m s**-1</dd><dt><span>long_name :</span></dt><dd>V component of wind</dd><dt><span>units :</span></dt><dd>m s**-1</dd><dt><span>standard_name :</span></dt><dd>northward_wind</dd></dl></div><div class='xr-var-data'><pre>[168 values with dtype=float32]</pre></div></li></ul></div></li><li class='xr-section-item'><input id='section-a10d0606-54a1-4c97-93af-ed914118ddbe' class='xr-section-summary-in' type='checkbox'  ><label for='section-a10d0606-54a1-4c97-93af-ed914118ddbe' class='xr-section-summary' >Indexes: <span>(6)</span></label><div class='xr-section-inline-details'></div><div class='xr-section-details'><ul class='xr-var-list'><li class='xr-var-item'><div class='xr-index-name'><div>number</div></div><div class='xr-index-preview'>PandasIndex</div><div></div><input id='index-97013f57-9e3b-4a78-a3b5-599b61df78df' class='xr-index-data-in' type='checkbox'/><label for='index-97013f57-9e3b-4a78-a3b5-599b61df78df' title='Show/Hide index repr'><svg class='icon xr-icon-database'><use xlink:href='#icon-database'></use></svg></label><div class='xr-index-data'><pre>PandasIndex(Int64Index([0], dtype=&#x27;int64&#x27;, name=&#x27;number&#x27;))</pre></div></li><li class='xr-var-item'><div class='xr-index-name'><div>time</div></div><div class='xr-index-preview'>PandasIndex</div><div></div><input id='index-282d7849-c5a4-4d6c-abb1-f4e44748c9ea' class='xr-index-data-in' type='checkbox'/><label for='index-282d7849-c5a4-4d6c-abb1-f4e44748c9ea' title='Show/Hide index repr'><svg class='icon xr-icon-database'><use xlink:href='#icon-database'></use></svg></label><div class='xr-index-data'><pre>PandasIndex(DatetimeIndex([&#x27;2018-08-01 12:00:00&#x27;], dtype=&#x27;datetime64[ns]&#x27;, name=&#x27;time&#x27;, freq=None))</pre></div></li><li class='xr-var-item'><div class='xr-index-name'><div>step</div></div><div class='xr-index-preview'>PandasIndex</div><div></div><input id='index-8bd8f5d1-d944-4f5a-a8f2-421508190093' class='xr-index-data-in' type='checkbox'/><label for='index-8bd8f5d1-d944-4f5a-a8f2-421508190093' title='Show/Hide index repr'><svg class='icon xr-icon-database'><use xlink:href='#icon-database'></use></svg></label><div class='xr-index-data'><pre>PandasIndex(TimedeltaIndex([&#x27;0 days&#x27;], dtype=&#x27;timedelta64[ns]&#x27;, name=&#x27;step&#x27;, freq=None))</pre></div></li><li class='xr-var-item'><div class='xr-index-name'><div>isobaricInhPa</div></div><div class='xr-index-preview'>PandasIndex</div><div></div><input id='index-747c0b6a-059b-4945-8789-1aa78050112a' class='xr-index-data-in' type='checkbox'/><label for='index-747c0b6a-059b-4945-8789-1aa78050112a' title='Show/Hide index repr'><svg class='icon xr-icon-database'><use xlink:href='#icon-database'></use></svg></label><div class='xr-index-data'><pre>PandasIndex(Int64Index([1000, 850], dtype=&#x27;int64&#x27;, name=&#x27;isobaricInhPa&#x27;))</pre></div></li><li class='xr-var-item'><div class='xr-index-name'><div>latitude</div></div><div class='xr-index-preview'>PandasIndex</div><div></div><input id='index-003455f9-a696-4c08-a808-8a6e8e54ff74' class='xr-index-data-in' type='checkbox'/><label for='index-003455f9-a696-4c08-a808-8a6e8e54ff74' title='Show/Hide index repr'><svg class='icon xr-icon-database'><use xlink:href='#icon-database'></use></svg></label><div class='xr-index-data'><pre>PandasIndex(Float64Index([90.0, 60.0, 30.0, 0.0, -30.0, -60.0, -90.0], dtype=&#x27;float64&#x27;, name=&#x27;latitude&#x27;))</pre></div></li><li class='xr-var-item'><div class='xr-index-name'><div>longitude</div></div><div class='xr-index-preview'>PandasIndex</div><div></div><input id='index-91e9a977-13b1-4de2-8030-47618eebdc76' class='xr-index-data-in' type='checkbox'/><label for='index-91e9a977-13b1-4de2-8030-47618eebdc76' title='Show/Hide index repr'><svg class='icon xr-icon-database'><use xlink:href='#icon-database'></use></svg></label><div class='xr-index-data'><pre>PandasIndex(Float64Index([0.0, 30.0, 60.0, 90.0, 120.0, 150.0, 180.0, 210.0, 240.0, 270.0,\n",
             "              300.0, 330.0],\n",
             "             dtype=&#x27;float64&#x27;, name=&#x27;longitude&#x27;))</pre></div></li></ul></div></li><li class='xr-section-item'><input id='section-4120d9a5-4080-4ca8-b5ab-b0835e3f38eb' class='xr-section-summary-in' type='checkbox'  checked><label for='section-4120d9a5-4080-4ca8-b5ab-b0835e3f38eb' class='xr-section-summary' >Attributes: <span>(7)</span></label><div class='xr-section-inline-details'></div><div class='xr-section-details'><dl class='xr-attrs'><dt><span>GRIB_edition :</span></dt><dd>1</dd><dt><span>GRIB_centre :</span></dt><dd>ecmf</dd><dt><span>GRIB_centreDescription :</span></dt><dd>European Centre for Medium-Range Weather Forecasts</dd><dt><span>GRIB_subCentre :</span></dt><dd>0</dd><dt><span>Conventions :</span></dt><dd>CF-1.7</dd><dt><span>institution :</span></dt><dd>European Centre for Medium-Range Weather Forecasts</dd><dt><span>history :</span></dt><dd>2023-05-04T16:43 GRIB to CDM+CF via cfgrib-0.9.10.3/ecCodes-2.27.1 with {&quot;source&quot;: &quot;N/A&quot;, &quot;filter_by_keys&quot;: {}, &quot;encode_cf&quot;: [&quot;parameter&quot;, &quot;time&quot;, &quot;geography&quot;, &quot;vertical&quot;]}</dd></dl></div></li></ul></div></div>"
            ],
            "text/plain": [
             "<xarray.Dataset>\n",
             "Dimensions:        (number: 1, time: 1, step: 1, isobaricInhPa: 2, latitude: 7,\n",
             "                    longitude: 12)\n",
             "Coordinates:\n",
             "  * number         (number) int64 0\n",
             "  * time           (time) datetime64[ns] 2018-08-01T12:00:00\n",
             "  * step           (step) timedelta64[ns] 00:00:00\n",
             "  * isobaricInhPa  (isobaricInhPa) int64 1000 850\n",
             "  * latitude       (latitude) float64 90.0 60.0 30.0 0.0 -30.0 -60.0 -90.0\n",
             "  * longitude      (longitude) float64 0.0 30.0 60.0 90.0 ... 270.0 300.0 330.0\n",
             "    valid_time     (time, step) datetime64[ns] ...\n",
             "Data variables:\n",
             "    t              (number, time, step, isobaricInhPa, latitude, longitude) float32 ...\n",
             "    u              (number, time, step, isobaricInhPa, latitude, longitude) float32 ...\n",
             "    v              (number, time, step, isobaricInhPa, latitude, longitude) float32 ...\n",
             "Attributes:\n",
             "    GRIB_edition:            1\n",
             "    GRIB_centre:             ecmf\n",
             "    GRIB_centreDescription:  European Centre for Medium-Range Weather Forecasts\n",
             "    GRIB_subCentre:          0\n",
             "    Conventions:             CF-1.7\n",
             "    institution:             European Centre for Medium-Range Weather Forecasts\n",
             "    history:                 2023-05-04T16:43 GRIB to CDM+CF via cfgrib-0.9.1..."
            ]
           },
           "execution_count": 23,
           "metadata": {},
           "output_type": "execute_result"
          }
         ],
         "source": [
          "ds = fs.to_xarray()\n",
          "ds"
         ]
        },
        {
         "cell_type": "markdown",
         "metadata": {},
         "source": [
          "We can pass all the kwargs arguments cfgrib accepts. On top of that earthkit-data provides the **ignore_keys** option to omit keys from the default set of keys used by cfgrib:"
         ]
        },
        {
         "cell_type": "code",
         "execution_count": 24,
         "metadata": {},
         "outputs": [
          {
           "data": {
            "text/html": [
             "<div><svg style=\"position: absolute; width: 0; height: 0; overflow: hidden\">\n",
             "<defs>\n",
             "<symbol id=\"icon-database\" viewBox=\"0 0 32 32\">\n",
             "<path d=\"M16 0c-8.837 0-16 2.239-16 5v4c0 2.761 7.163 5 16 5s16-2.239 16-5v-4c0-2.761-7.163-5-16-5z\"></path>\n",
             "<path d=\"M16 17c-8.837 0-16-2.239-16-5v6c0 2.761 7.163 5 16 5s16-2.239 16-5v-6c0 2.761-7.163 5-16 5z\"></path>\n",
             "<path d=\"M16 26c-8.837 0-16-2.239-16-5v6c0 2.761 7.163 5 16 5s16-2.239 16-5v-6c0 2.761-7.163 5-16 5z\"></path>\n",
             "</symbol>\n",
             "<symbol id=\"icon-file-text2\" viewBox=\"0 0 32 32\">\n",
             "<path d=\"M28.681 7.159c-0.694-0.947-1.662-2.053-2.724-3.116s-2.169-2.030-3.116-2.724c-1.612-1.182-2.393-1.319-2.841-1.319h-15.5c-1.378 0-2.5 1.121-2.5 2.5v27c0 1.378 1.122 2.5 2.5 2.5h23c1.378 0 2.5-1.122 2.5-2.5v-19.5c0-0.448-0.137-1.23-1.319-2.841zM24.543 5.457c0.959 0.959 1.712 1.825 2.268 2.543h-4.811v-4.811c0.718 0.556 1.584 1.309 2.543 2.268zM28 29.5c0 0.271-0.229 0.5-0.5 0.5h-23c-0.271 0-0.5-0.229-0.5-0.5v-27c0-0.271 0.229-0.5 0.5-0.5 0 0 15.499-0 15.5 0v7c0 0.552 0.448 1 1 1h7v19.5z\"></path>\n",
             "<path d=\"M23 26h-14c-0.552 0-1-0.448-1-1s0.448-1 1-1h14c0.552 0 1 0.448 1 1s-0.448 1-1 1z\"></path>\n",
             "<path d=\"M23 22h-14c-0.552 0-1-0.448-1-1s0.448-1 1-1h14c0.552 0 1 0.448 1 1s-0.448 1-1 1z\"></path>\n",
             "<path d=\"M23 18h-14c-0.552 0-1-0.448-1-1s0.448-1 1-1h14c0.552 0 1 0.448 1 1s-0.448 1-1 1z\"></path>\n",
             "</symbol>\n",
             "</defs>\n",
             "</svg>\n",
             "<style>/* CSS stylesheet for displaying xarray objects in jupyterlab.\n",
             " *\n",
             " */\n",
             "\n",
             ":root {\n",
             "  --xr-font-color0: var(--jp-content-font-color0, rgba(0, 0, 0, 1));\n",
             "  --xr-font-color2: var(--jp-content-font-color2, rgba(0, 0, 0, 0.54));\n",
             "  --xr-font-color3: var(--jp-content-font-color3, rgba(0, 0, 0, 0.38));\n",
             "  --xr-border-color: var(--jp-border-color2, #e0e0e0);\n",
             "  --xr-disabled-color: var(--jp-layout-color3, #bdbdbd);\n",
             "  --xr-background-color: var(--jp-layout-color0, white);\n",
             "  --xr-background-color-row-even: var(--jp-layout-color1, white);\n",
             "  --xr-background-color-row-odd: var(--jp-layout-color2, #eeeeee);\n",
             "}\n",
             "\n",
             "html[theme=dark],\n",
             "body[data-theme=dark],\n",
             "body.vscode-dark {\n",
             "  --xr-font-color0: rgba(255, 255, 255, 1);\n",
             "  --xr-font-color2: rgba(255, 255, 255, 0.54);\n",
             "  --xr-font-color3: rgba(255, 255, 255, 0.38);\n",
             "  --xr-border-color: #1F1F1F;\n",
             "  --xr-disabled-color: #515151;\n",
             "  --xr-background-color: #111111;\n",
             "  --xr-background-color-row-even: #111111;\n",
             "  --xr-background-color-row-odd: #313131;\n",
             "}\n",
             "\n",
             ".xr-wrap {\n",
             "  display: block !important;\n",
             "  min-width: 300px;\n",
             "  max-width: 700px;\n",
             "}\n",
             "\n",
             ".xr-text-repr-fallback {\n",
             "  /* fallback to plain text repr when CSS is not injected (untrusted notebook) */\n",
             "  display: none;\n",
             "}\n",
             "\n",
             ".xr-header {\n",
             "  padding-top: 6px;\n",
             "  padding-bottom: 6px;\n",
             "  margin-bottom: 4px;\n",
             "  border-bottom: solid 1px var(--xr-border-color);\n",
             "}\n",
             "\n",
             ".xr-header > div,\n",
             ".xr-header > ul {\n",
             "  display: inline;\n",
             "  margin-top: 0;\n",
             "  margin-bottom: 0;\n",
             "}\n",
             "\n",
             ".xr-obj-type,\n",
             ".xr-array-name {\n",
             "  margin-left: 2px;\n",
             "  margin-right: 10px;\n",
             "}\n",
             "\n",
             ".xr-obj-type {\n",
             "  color: var(--xr-font-color2);\n",
             "}\n",
             "\n",
             ".xr-sections {\n",
             "  padding-left: 0 !important;\n",
             "  display: grid;\n",
             "  grid-template-columns: 150px auto auto 1fr 20px 20px;\n",
             "}\n",
             "\n",
             ".xr-section-item {\n",
             "  display: contents;\n",
             "}\n",
             "\n",
             ".xr-section-item input {\n",
             "  display: none;\n",
             "}\n",
             "\n",
             ".xr-section-item input + label {\n",
             "  color: var(--xr-disabled-color);\n",
             "}\n",
             "\n",
             ".xr-section-item input:enabled + label {\n",
             "  cursor: pointer;\n",
             "  color: var(--xr-font-color2);\n",
             "}\n",
             "\n",
             ".xr-section-item input:enabled + label:hover {\n",
             "  color: var(--xr-font-color0);\n",
             "}\n",
             "\n",
             ".xr-section-summary {\n",
             "  grid-column: 1;\n",
             "  color: var(--xr-font-color2);\n",
             "  font-weight: 500;\n",
             "}\n",
             "\n",
             ".xr-section-summary > span {\n",
             "  display: inline-block;\n",
             "  padding-left: 0.5em;\n",
             "}\n",
             "\n",
             ".xr-section-summary-in:disabled + label {\n",
             "  color: var(--xr-font-color2);\n",
             "}\n",
             "\n",
             ".xr-section-summary-in + label:before {\n",
             "  display: inline-block;\n",
             "  content: '►';\n",
             "  font-size: 11px;\n",
             "  width: 15px;\n",
             "  text-align: center;\n",
             "}\n",
             "\n",
             ".xr-section-summary-in:disabled + label:before {\n",
             "  color: var(--xr-disabled-color);\n",
             "}\n",
             "\n",
             ".xr-section-summary-in:checked + label:before {\n",
             "  content: '▼';\n",
             "}\n",
             "\n",
             ".xr-section-summary-in:checked + label > span {\n",
             "  display: none;\n",
             "}\n",
             "\n",
             ".xr-section-summary,\n",
             ".xr-section-inline-details {\n",
             "  padding-top: 4px;\n",
             "  padding-bottom: 4px;\n",
             "}\n",
             "\n",
             ".xr-section-inline-details {\n",
             "  grid-column: 2 / -1;\n",
             "}\n",
             "\n",
             ".xr-section-details {\n",
             "  display: none;\n",
             "  grid-column: 1 / -1;\n",
             "  margin-bottom: 5px;\n",
             "}\n",
             "\n",
             ".xr-section-summary-in:checked ~ .xr-section-details {\n",
             "  display: contents;\n",
             "}\n",
             "\n",
             ".xr-array-wrap {\n",
             "  grid-column: 1 / -1;\n",
             "  display: grid;\n",
             "  grid-template-columns: 20px auto;\n",
             "}\n",
             "\n",
             ".xr-array-wrap > label {\n",
             "  grid-column: 1;\n",
             "  vertical-align: top;\n",
             "}\n",
             "\n",
             ".xr-preview {\n",
             "  color: var(--xr-font-color3);\n",
             "}\n",
             "\n",
             ".xr-array-preview,\n",
             ".xr-array-data {\n",
             "  padding: 0 5px !important;\n",
             "  grid-column: 2;\n",
             "}\n",
             "\n",
             ".xr-array-data,\n",
             ".xr-array-in:checked ~ .xr-array-preview {\n",
             "  display: none;\n",
             "}\n",
             "\n",
             ".xr-array-in:checked ~ .xr-array-data,\n",
             ".xr-array-preview {\n",
             "  display: inline-block;\n",
             "}\n",
             "\n",
             ".xr-dim-list {\n",
             "  display: inline-block !important;\n",
             "  list-style: none;\n",
             "  padding: 0 !important;\n",
             "  margin: 0;\n",
             "}\n",
             "\n",
             ".xr-dim-list li {\n",
             "  display: inline-block;\n",
             "  padding: 0;\n",
             "  margin: 0;\n",
             "}\n",
             "\n",
             ".xr-dim-list:before {\n",
             "  content: '(';\n",
             "}\n",
             "\n",
             ".xr-dim-list:after {\n",
             "  content: ')';\n",
             "}\n",
             "\n",
             ".xr-dim-list li:not(:last-child):after {\n",
             "  content: ',';\n",
             "  padding-right: 5px;\n",
             "}\n",
             "\n",
             ".xr-has-index {\n",
             "  font-weight: bold;\n",
             "}\n",
             "\n",
             ".xr-var-list,\n",
             ".xr-var-item {\n",
             "  display: contents;\n",
             "}\n",
             "\n",
             ".xr-var-item > div,\n",
             ".xr-var-item label,\n",
             ".xr-var-item > .xr-var-name span {\n",
             "  background-color: var(--xr-background-color-row-even);\n",
             "  margin-bottom: 0;\n",
             "}\n",
             "\n",
             ".xr-var-item > .xr-var-name:hover span {\n",
             "  padding-right: 5px;\n",
             "}\n",
             "\n",
             ".xr-var-list > li:nth-child(odd) > div,\n",
             ".xr-var-list > li:nth-child(odd) > label,\n",
             ".xr-var-list > li:nth-child(odd) > .xr-var-name span {\n",
             "  background-color: var(--xr-background-color-row-odd);\n",
             "}\n",
             "\n",
             ".xr-var-name {\n",
             "  grid-column: 1;\n",
             "}\n",
             "\n",
             ".xr-var-dims {\n",
             "  grid-column: 2;\n",
             "}\n",
             "\n",
             ".xr-var-dtype {\n",
             "  grid-column: 3;\n",
             "  text-align: right;\n",
             "  color: var(--xr-font-color2);\n",
             "}\n",
             "\n",
             ".xr-var-preview {\n",
             "  grid-column: 4;\n",
             "}\n",
             "\n",
             ".xr-index-preview {\n",
             "  grid-column: 2 / 5;\n",
             "  color: var(--xr-font-color2);\n",
             "}\n",
             "\n",
             ".xr-var-name,\n",
             ".xr-var-dims,\n",
             ".xr-var-dtype,\n",
             ".xr-preview,\n",
             ".xr-attrs dt {\n",
             "  white-space: nowrap;\n",
             "  overflow: hidden;\n",
             "  text-overflow: ellipsis;\n",
             "  padding-right: 10px;\n",
             "}\n",
             "\n",
             ".xr-var-name:hover,\n",
             ".xr-var-dims:hover,\n",
             ".xr-var-dtype:hover,\n",
             ".xr-attrs dt:hover {\n",
             "  overflow: visible;\n",
             "  width: auto;\n",
             "  z-index: 1;\n",
             "}\n",
             "\n",
             ".xr-var-attrs,\n",
             ".xr-var-data,\n",
             ".xr-index-data {\n",
             "  display: none;\n",
             "  background-color: var(--xr-background-color) !important;\n",
             "  padding-bottom: 5px !important;\n",
             "}\n",
             "\n",
             ".xr-var-attrs-in:checked ~ .xr-var-attrs,\n",
             ".xr-var-data-in:checked ~ .xr-var-data,\n",
             ".xr-index-data-in:checked ~ .xr-index-data {\n",
             "  display: block;\n",
             "}\n",
             "\n",
             ".xr-var-data > table {\n",
             "  float: right;\n",
             "}\n",
             "\n",
             ".xr-var-name span,\n",
             ".xr-var-data,\n",
             ".xr-index-name div,\n",
             ".xr-index-data,\n",
             ".xr-attrs {\n",
             "  padding-left: 25px !important;\n",
             "}\n",
             "\n",
             ".xr-attrs,\n",
             ".xr-var-attrs,\n",
             ".xr-var-data,\n",
             ".xr-index-data {\n",
             "  grid-column: 1 / -1;\n",
             "}\n",
             "\n",
             "dl.xr-attrs {\n",
             "  padding: 0;\n",
             "  margin: 0;\n",
             "  display: grid;\n",
             "  grid-template-columns: 125px auto;\n",
             "}\n",
             "\n",
             ".xr-attrs dt,\n",
             ".xr-attrs dd {\n",
             "  padding: 0;\n",
             "  margin: 0;\n",
             "  float: left;\n",
             "  padding-right: 10px;\n",
             "  width: auto;\n",
             "}\n",
             "\n",
             ".xr-attrs dt {\n",
             "  font-weight: normal;\n",
             "  grid-column: 1;\n",
             "}\n",
             "\n",
             ".xr-attrs dt:hover span {\n",
             "  display: inline-block;\n",
             "  background: var(--xr-background-color);\n",
             "  padding-right: 10px;\n",
             "}\n",
             "\n",
             ".xr-attrs dd {\n",
             "  grid-column: 2;\n",
             "  white-space: pre-wrap;\n",
             "  word-break: break-all;\n",
             "}\n",
             "\n",
             ".xr-icon-database,\n",
             ".xr-icon-file-text2,\n",
             ".xr-no-icon {\n",
             "  display: inline-block;\n",
             "  vertical-align: middle;\n",
             "  width: 1em;\n",
             "  height: 1.5em !important;\n",
             "  stroke-width: 0;\n",
             "  stroke: currentColor;\n",
             "  fill: currentColor;\n",
             "}\n",
             "</style><pre class='xr-text-repr-fallback'>&lt;xarray.Dataset&gt;\n",
             "Dimensions:        (time: 1, step: 1, isobaricInhPa: 2, latitude: 7,\n",
             "                    longitude: 12)\n",
             "Coordinates:\n",
             "  * time           (time) datetime64[ns] 2018-08-01T12:00:00\n",
             "  * step           (step) timedelta64[ns] 00:00:00\n",
             "  * isobaricInhPa  (isobaricInhPa) int64 1000 850\n",
             "  * latitude       (latitude) float64 90.0 60.0 30.0 0.0 -30.0 -60.0 -90.0\n",
             "  * longitude      (longitude) float64 0.0 30.0 60.0 90.0 ... 270.0 300.0 330.0\n",
             "    valid_time     (time, step) datetime64[ns] ...\n",
             "Data variables:\n",
             "    t              (time, step, isobaricInhPa, latitude, longitude) float32 ...\n",
             "    u              (time, step, isobaricInhPa, latitude, longitude) float32 ...\n",
             "    v              (time, step, isobaricInhPa, latitude, longitude) float32 ...\n",
             "Attributes:\n",
             "    GRIB_edition:            1\n",
             "    GRIB_centre:             ecmf\n",
             "    GRIB_centreDescription:  European Centre for Medium-Range Weather Forecasts\n",
             "    GRIB_subCentre:          0\n",
             "    Conventions:             CF-1.7\n",
             "    institution:             European Centre for Medium-Range Weather Forecasts\n",
             "    history:                 2023-05-04T16:43 GRIB to CDM+CF via cfgrib-0.9.1...</pre><div class='xr-wrap' style='display:none'><div class='xr-header'><div class='xr-obj-type'>xarray.Dataset</div></div><ul class='xr-sections'><li class='xr-section-item'><input id='section-01bdfa88-a320-4eb9-87ff-92f9ca26cc9f' class='xr-section-summary-in' type='checkbox' disabled ><label for='section-01bdfa88-a320-4eb9-87ff-92f9ca26cc9f' class='xr-section-summary'  title='Expand/collapse section'>Dimensions:</label><div class='xr-section-inline-details'><ul class='xr-dim-list'><li><span class='xr-has-index'>time</span>: 1</li><li><span class='xr-has-index'>step</span>: 1</li><li><span class='xr-has-index'>isobaricInhPa</span>: 2</li><li><span class='xr-has-index'>latitude</span>: 7</li><li><span class='xr-has-index'>longitude</span>: 12</li></ul></div><div class='xr-section-details'></div></li><li class='xr-section-item'><input id='section-c55677d6-e1b1-4a75-b66f-a5bf09978944' class='xr-section-summary-in' type='checkbox'  checked><label for='section-c55677d6-e1b1-4a75-b66f-a5bf09978944' class='xr-section-summary' >Coordinates: <span>(6)</span></label><div class='xr-section-inline-details'></div><div class='xr-section-details'><ul class='xr-var-list'><li class='xr-var-item'><div class='xr-var-name'><span class='xr-has-index'>time</span></div><div class='xr-var-dims'>(time)</div><div class='xr-var-dtype'>datetime64[ns]</div><div class='xr-var-preview xr-preview'>2018-08-01T12:00:00</div><input id='attrs-0936b6a3-0026-4755-83f7-c22657d1d3f1' class='xr-var-attrs-in' type='checkbox' ><label for='attrs-0936b6a3-0026-4755-83f7-c22657d1d3f1' title='Show/Hide attributes'><svg class='icon xr-icon-file-text2'><use xlink:href='#icon-file-text2'></use></svg></label><input id='data-b2d736eb-bdc3-44aa-9602-72a08cf7bb03' class='xr-var-data-in' type='checkbox'><label for='data-b2d736eb-bdc3-44aa-9602-72a08cf7bb03' title='Show/Hide data repr'><svg class='icon xr-icon-database'><use xlink:href='#icon-database'></use></svg></label><div class='xr-var-attrs'><dl class='xr-attrs'><dt><span>long_name :</span></dt><dd>initial time of forecast</dd><dt><span>standard_name :</span></dt><dd>forecast_reference_time</dd></dl></div><div class='xr-var-data'><pre>array([&#x27;2018-08-01T12:00:00.000000000&#x27;], dtype=&#x27;datetime64[ns]&#x27;)</pre></div></li><li class='xr-var-item'><div class='xr-var-name'><span class='xr-has-index'>step</span></div><div class='xr-var-dims'>(step)</div><div class='xr-var-dtype'>timedelta64[ns]</div><div class='xr-var-preview xr-preview'>00:00:00</div><input id='attrs-0e8f705c-fb3e-4976-95a5-db37685f4384' class='xr-var-attrs-in' type='checkbox' ><label for='attrs-0e8f705c-fb3e-4976-95a5-db37685f4384' title='Show/Hide attributes'><svg class='icon xr-icon-file-text2'><use xlink:href='#icon-file-text2'></use></svg></label><input id='data-e913d1ae-f4fd-4a36-bd8c-68f36e742abe' class='xr-var-data-in' type='checkbox'><label for='data-e913d1ae-f4fd-4a36-bd8c-68f36e742abe' title='Show/Hide data repr'><svg class='icon xr-icon-database'><use xlink:href='#icon-database'></use></svg></label><div class='xr-var-attrs'><dl class='xr-attrs'><dt><span>long_name :</span></dt><dd>time since forecast_reference_time</dd><dt><span>standard_name :</span></dt><dd>forecast_period</dd></dl></div><div class='xr-var-data'><pre>array([0], dtype=&#x27;timedelta64[ns]&#x27;)</pre></div></li><li class='xr-var-item'><div class='xr-var-name'><span class='xr-has-index'>isobaricInhPa</span></div><div class='xr-var-dims'>(isobaricInhPa)</div><div class='xr-var-dtype'>int64</div><div class='xr-var-preview xr-preview'>1000 850</div><input id='attrs-0e43754b-54a9-4d7c-834a-37bb40160a60' class='xr-var-attrs-in' type='checkbox' ><label for='attrs-0e43754b-54a9-4d7c-834a-37bb40160a60' title='Show/Hide attributes'><svg class='icon xr-icon-file-text2'><use xlink:href='#icon-file-text2'></use></svg></label><input id='data-b1223a41-0cc1-4abb-8444-a9e024db1732' class='xr-var-data-in' type='checkbox'><label for='data-b1223a41-0cc1-4abb-8444-a9e024db1732' title='Show/Hide data repr'><svg class='icon xr-icon-database'><use xlink:href='#icon-database'></use></svg></label><div class='xr-var-attrs'><dl class='xr-attrs'><dt><span>long_name :</span></dt><dd>pressure</dd><dt><span>units :</span></dt><dd>hPa</dd><dt><span>positive :</span></dt><dd>down</dd><dt><span>stored_direction :</span></dt><dd>decreasing</dd><dt><span>standard_name :</span></dt><dd>air_pressure</dd></dl></div><div class='xr-var-data'><pre>array([1000,  850])</pre></div></li><li class='xr-var-item'><div class='xr-var-name'><span class='xr-has-index'>latitude</span></div><div class='xr-var-dims'>(latitude)</div><div class='xr-var-dtype'>float64</div><div class='xr-var-preview xr-preview'>90.0 60.0 30.0 ... -60.0 -90.0</div><input id='attrs-d56113cd-12c4-412e-852c-f0af3f949732' class='xr-var-attrs-in' type='checkbox' ><label for='attrs-d56113cd-12c4-412e-852c-f0af3f949732' title='Show/Hide attributes'><svg class='icon xr-icon-file-text2'><use xlink:href='#icon-file-text2'></use></svg></label><input id='data-1a55ff7a-c6a0-4a81-9613-a4acfc299586' class='xr-var-data-in' type='checkbox'><label for='data-1a55ff7a-c6a0-4a81-9613-a4acfc299586' title='Show/Hide data repr'><svg class='icon xr-icon-database'><use xlink:href='#icon-database'></use></svg></label><div class='xr-var-attrs'><dl class='xr-attrs'><dt><span>units :</span></dt><dd>degrees_north</dd><dt><span>standard_name :</span></dt><dd>latitude</dd><dt><span>long_name :</span></dt><dd>latitude</dd><dt><span>stored_direction :</span></dt><dd>decreasing</dd></dl></div><div class='xr-var-data'><pre>array([ 90.,  60.,  30.,   0., -30., -60., -90.])</pre></div></li><li class='xr-var-item'><div class='xr-var-name'><span class='xr-has-index'>longitude</span></div><div class='xr-var-dims'>(longitude)</div><div class='xr-var-dtype'>float64</div><div class='xr-var-preview xr-preview'>0.0 30.0 60.0 ... 270.0 300.0 330.0</div><input id='attrs-7f5a7bac-6972-49e4-9aa7-989e8529e899' class='xr-var-attrs-in' type='checkbox' ><label for='attrs-7f5a7bac-6972-49e4-9aa7-989e8529e899' title='Show/Hide attributes'><svg class='icon xr-icon-file-text2'><use xlink:href='#icon-file-text2'></use></svg></label><input id='data-84f0b041-be5d-4580-8129-64f2dff39ef8' class='xr-var-data-in' type='checkbox'><label for='data-84f0b041-be5d-4580-8129-64f2dff39ef8' title='Show/Hide data repr'><svg class='icon xr-icon-database'><use xlink:href='#icon-database'></use></svg></label><div class='xr-var-attrs'><dl class='xr-attrs'><dt><span>units :</span></dt><dd>degrees_east</dd><dt><span>standard_name :</span></dt><dd>longitude</dd><dt><span>long_name :</span></dt><dd>longitude</dd></dl></div><div class='xr-var-data'><pre>array([  0.,  30.,  60.,  90., 120., 150., 180., 210., 240., 270., 300., 330.])</pre></div></li><li class='xr-var-item'><div class='xr-var-name'><span>valid_time</span></div><div class='xr-var-dims'>(time, step)</div><div class='xr-var-dtype'>datetime64[ns]</div><div class='xr-var-preview xr-preview'>...</div><input id='attrs-28f336d8-f2a9-4d1b-b3b4-d9651a62ef8c' class='xr-var-attrs-in' type='checkbox' ><label for='attrs-28f336d8-f2a9-4d1b-b3b4-d9651a62ef8c' title='Show/Hide attributes'><svg class='icon xr-icon-file-text2'><use xlink:href='#icon-file-text2'></use></svg></label><input id='data-11112970-9d92-4a0a-8610-d6e0df39b351' class='xr-var-data-in' type='checkbox'><label for='data-11112970-9d92-4a0a-8610-d6e0df39b351' title='Show/Hide data repr'><svg class='icon xr-icon-database'><use xlink:href='#icon-database'></use></svg></label><div class='xr-var-attrs'><dl class='xr-attrs'><dt><span>standard_name :</span></dt><dd>time</dd><dt><span>long_name :</span></dt><dd>time</dd></dl></div><div class='xr-var-data'><pre>[1 values with dtype=datetime64[ns]]</pre></div></li></ul></div></li><li class='xr-section-item'><input id='section-3b511f7a-b7ca-4be7-864f-86a2ec84c129' class='xr-section-summary-in' type='checkbox'  checked><label for='section-3b511f7a-b7ca-4be7-864f-86a2ec84c129' class='xr-section-summary' >Data variables: <span>(3)</span></label><div class='xr-section-inline-details'></div><div class='xr-section-details'><ul class='xr-var-list'><li class='xr-var-item'><div class='xr-var-name'><span>t</span></div><div class='xr-var-dims'>(time, step, isobaricInhPa, latitude, longitude)</div><div class='xr-var-dtype'>float32</div><div class='xr-var-preview xr-preview'>...</div><input id='attrs-e59deb93-7f80-4370-997f-d2c929dd4d07' class='xr-var-attrs-in' type='checkbox' ><label for='attrs-e59deb93-7f80-4370-997f-d2c929dd4d07' title='Show/Hide attributes'><svg class='icon xr-icon-file-text2'><use xlink:href='#icon-file-text2'></use></svg></label><input id='data-d07b2021-a342-4a53-84dd-124e9f8ccbfe' class='xr-var-data-in' type='checkbox'><label for='data-d07b2021-a342-4a53-84dd-124e9f8ccbfe' title='Show/Hide data repr'><svg class='icon xr-icon-database'><use xlink:href='#icon-database'></use></svg></label><div class='xr-var-attrs'><dl class='xr-attrs'><dt><span>GRIB_paramId :</span></dt><dd>130</dd><dt><span>GRIB_dataType :</span></dt><dd>an</dd><dt><span>GRIB_numberOfPoints :</span></dt><dd>84</dd><dt><span>GRIB_typeOfLevel :</span></dt><dd>isobaricInhPa</dd><dt><span>GRIB_stepUnits :</span></dt><dd>1</dd><dt><span>GRIB_stepType :</span></dt><dd>instant</dd><dt><span>GRIB_gridType :</span></dt><dd>regular_ll</dd><dt><span>GRIB_NV :</span></dt><dd>0</dd><dt><span>GRIB_Nx :</span></dt><dd>12</dd><dt><span>GRIB_Ny :</span></dt><dd>7</dd><dt><span>GRIB_cfName :</span></dt><dd>air_temperature</dd><dt><span>GRIB_cfVarName :</span></dt><dd>t</dd><dt><span>GRIB_gridDefinitionDescription :</span></dt><dd>Latitude/Longitude Grid</dd><dt><span>GRIB_iDirectionIncrementInDegrees :</span></dt><dd>30.0</dd><dt><span>GRIB_iScansNegatively :</span></dt><dd>0</dd><dt><span>GRIB_jDirectionIncrementInDegrees :</span></dt><dd>30.0</dd><dt><span>GRIB_jPointsAreConsecutive :</span></dt><dd>0</dd><dt><span>GRIB_jScansPositively :</span></dt><dd>0</dd><dt><span>GRIB_latitudeOfFirstGridPointInDegrees :</span></dt><dd>90.0</dd><dt><span>GRIB_latitudeOfLastGridPointInDegrees :</span></dt><dd>-90.0</dd><dt><span>GRIB_longitudeOfFirstGridPointInDegrees :</span></dt><dd>0.0</dd><dt><span>GRIB_longitudeOfLastGridPointInDegrees :</span></dt><dd>330.0</dd><dt><span>GRIB_missingValue :</span></dt><dd>9999</dd><dt><span>GRIB_name :</span></dt><dd>Temperature</dd><dt><span>GRIB_shortName :</span></dt><dd>t</dd><dt><span>GRIB_totalNumber :</span></dt><dd>0</dd><dt><span>GRIB_units :</span></dt><dd>K</dd><dt><span>long_name :</span></dt><dd>Temperature</dd><dt><span>units :</span></dt><dd>K</dd><dt><span>standard_name :</span></dt><dd>air_temperature</dd></dl></div><div class='xr-var-data'><pre>[168 values with dtype=float32]</pre></div></li><li class='xr-var-item'><div class='xr-var-name'><span>u</span></div><div class='xr-var-dims'>(time, step, isobaricInhPa, latitude, longitude)</div><div class='xr-var-dtype'>float32</div><div class='xr-var-preview xr-preview'>...</div><input id='attrs-acab4bb0-f031-4972-a89e-d572861d9e44' class='xr-var-attrs-in' type='checkbox' ><label for='attrs-acab4bb0-f031-4972-a89e-d572861d9e44' title='Show/Hide attributes'><svg class='icon xr-icon-file-text2'><use xlink:href='#icon-file-text2'></use></svg></label><input id='data-d243c247-5cbd-4b84-8f29-ffb5855a1a0b' class='xr-var-data-in' type='checkbox'><label for='data-d243c247-5cbd-4b84-8f29-ffb5855a1a0b' title='Show/Hide data repr'><svg class='icon xr-icon-database'><use xlink:href='#icon-database'></use></svg></label><div class='xr-var-attrs'><dl class='xr-attrs'><dt><span>GRIB_paramId :</span></dt><dd>131</dd><dt><span>GRIB_dataType :</span></dt><dd>an</dd><dt><span>GRIB_numberOfPoints :</span></dt><dd>84</dd><dt><span>GRIB_typeOfLevel :</span></dt><dd>isobaricInhPa</dd><dt><span>GRIB_stepUnits :</span></dt><dd>1</dd><dt><span>GRIB_stepType :</span></dt><dd>instant</dd><dt><span>GRIB_gridType :</span></dt><dd>regular_ll</dd><dt><span>GRIB_NV :</span></dt><dd>0</dd><dt><span>GRIB_Nx :</span></dt><dd>12</dd><dt><span>GRIB_Ny :</span></dt><dd>7</dd><dt><span>GRIB_cfName :</span></dt><dd>eastward_wind</dd><dt><span>GRIB_cfVarName :</span></dt><dd>u</dd><dt><span>GRIB_gridDefinitionDescription :</span></dt><dd>Latitude/Longitude Grid</dd><dt><span>GRIB_iDirectionIncrementInDegrees :</span></dt><dd>30.0</dd><dt><span>GRIB_iScansNegatively :</span></dt><dd>0</dd><dt><span>GRIB_jDirectionIncrementInDegrees :</span></dt><dd>30.0</dd><dt><span>GRIB_jPointsAreConsecutive :</span></dt><dd>0</dd><dt><span>GRIB_jScansPositively :</span></dt><dd>0</dd><dt><span>GRIB_latitudeOfFirstGridPointInDegrees :</span></dt><dd>90.0</dd><dt><span>GRIB_latitudeOfLastGridPointInDegrees :</span></dt><dd>-90.0</dd><dt><span>GRIB_longitudeOfFirstGridPointInDegrees :</span></dt><dd>0.0</dd><dt><span>GRIB_longitudeOfLastGridPointInDegrees :</span></dt><dd>330.0</dd><dt><span>GRIB_missingValue :</span></dt><dd>9999</dd><dt><span>GRIB_name :</span></dt><dd>U component of wind</dd><dt><span>GRIB_shortName :</span></dt><dd>u</dd><dt><span>GRIB_totalNumber :</span></dt><dd>0</dd><dt><span>GRIB_units :</span></dt><dd>m s**-1</dd><dt><span>long_name :</span></dt><dd>U component of wind</dd><dt><span>units :</span></dt><dd>m s**-1</dd><dt><span>standard_name :</span></dt><dd>eastward_wind</dd></dl></div><div class='xr-var-data'><pre>[168 values with dtype=float32]</pre></div></li><li class='xr-var-item'><div class='xr-var-name'><span>v</span></div><div class='xr-var-dims'>(time, step, isobaricInhPa, latitude, longitude)</div><div class='xr-var-dtype'>float32</div><div class='xr-var-preview xr-preview'>...</div><input id='attrs-5372495d-a466-428d-9f52-1ef8962f3c07' class='xr-var-attrs-in' type='checkbox' ><label for='attrs-5372495d-a466-428d-9f52-1ef8962f3c07' title='Show/Hide attributes'><svg class='icon xr-icon-file-text2'><use xlink:href='#icon-file-text2'></use></svg></label><input id='data-bf420c93-6bc8-44c4-bd66-fd370e989d7d' class='xr-var-data-in' type='checkbox'><label for='data-bf420c93-6bc8-44c4-bd66-fd370e989d7d' title='Show/Hide data repr'><svg class='icon xr-icon-database'><use xlink:href='#icon-database'></use></svg></label><div class='xr-var-attrs'><dl class='xr-attrs'><dt><span>GRIB_paramId :</span></dt><dd>132</dd><dt><span>GRIB_dataType :</span></dt><dd>an</dd><dt><span>GRIB_numberOfPoints :</span></dt><dd>84</dd><dt><span>GRIB_typeOfLevel :</span></dt><dd>isobaricInhPa</dd><dt><span>GRIB_stepUnits :</span></dt><dd>1</dd><dt><span>GRIB_stepType :</span></dt><dd>instant</dd><dt><span>GRIB_gridType :</span></dt><dd>regular_ll</dd><dt><span>GRIB_NV :</span></dt><dd>0</dd><dt><span>GRIB_Nx :</span></dt><dd>12</dd><dt><span>GRIB_Ny :</span></dt><dd>7</dd><dt><span>GRIB_cfName :</span></dt><dd>northward_wind</dd><dt><span>GRIB_cfVarName :</span></dt><dd>v</dd><dt><span>GRIB_gridDefinitionDescription :</span></dt><dd>Latitude/Longitude Grid</dd><dt><span>GRIB_iDirectionIncrementInDegrees :</span></dt><dd>30.0</dd><dt><span>GRIB_iScansNegatively :</span></dt><dd>0</dd><dt><span>GRIB_jDirectionIncrementInDegrees :</span></dt><dd>30.0</dd><dt><span>GRIB_jPointsAreConsecutive :</span></dt><dd>0</dd><dt><span>GRIB_jScansPositively :</span></dt><dd>0</dd><dt><span>GRIB_latitudeOfFirstGridPointInDegrees :</span></dt><dd>90.0</dd><dt><span>GRIB_latitudeOfLastGridPointInDegrees :</span></dt><dd>-90.0</dd><dt><span>GRIB_longitudeOfFirstGridPointInDegrees :</span></dt><dd>0.0</dd><dt><span>GRIB_longitudeOfLastGridPointInDegrees :</span></dt><dd>330.0</dd><dt><span>GRIB_missingValue :</span></dt><dd>9999</dd><dt><span>GRIB_name :</span></dt><dd>V component of wind</dd><dt><span>GRIB_shortName :</span></dt><dd>v</dd><dt><span>GRIB_totalNumber :</span></dt><dd>0</dd><dt><span>GRIB_units :</span></dt><dd>m s**-1</dd><dt><span>long_name :</span></dt><dd>V component of wind</dd><dt><span>units :</span></dt><dd>m s**-1</dd><dt><span>standard_name :</span></dt><dd>northward_wind</dd></dl></div><div class='xr-var-data'><pre>[168 values with dtype=float32]</pre></div></li></ul></div></li><li class='xr-section-item'><input id='section-2bb630e1-fa26-4967-b59c-f354837a9dcb' class='xr-section-summary-in' type='checkbox'  ><label for='section-2bb630e1-fa26-4967-b59c-f354837a9dcb' class='xr-section-summary' >Indexes: <span>(5)</span></label><div class='xr-section-inline-details'></div><div class='xr-section-details'><ul class='xr-var-list'><li class='xr-var-item'><div class='xr-index-name'><div>time</div></div><div class='xr-index-preview'>PandasIndex</div><div></div><input id='index-66fc280d-528b-49e0-bffe-ecf179b1ab77' class='xr-index-data-in' type='checkbox'/><label for='index-66fc280d-528b-49e0-bffe-ecf179b1ab77' title='Show/Hide index repr'><svg class='icon xr-icon-database'><use xlink:href='#icon-database'></use></svg></label><div class='xr-index-data'><pre>PandasIndex(DatetimeIndex([&#x27;2018-08-01 12:00:00&#x27;], dtype=&#x27;datetime64[ns]&#x27;, name=&#x27;time&#x27;, freq=None))</pre></div></li><li class='xr-var-item'><div class='xr-index-name'><div>step</div></div><div class='xr-index-preview'>PandasIndex</div><div></div><input id='index-fdbbb6f3-73b8-4562-a322-f8edec410372' class='xr-index-data-in' type='checkbox'/><label for='index-fdbbb6f3-73b8-4562-a322-f8edec410372' title='Show/Hide index repr'><svg class='icon xr-icon-database'><use xlink:href='#icon-database'></use></svg></label><div class='xr-index-data'><pre>PandasIndex(TimedeltaIndex([&#x27;0 days&#x27;], dtype=&#x27;timedelta64[ns]&#x27;, name=&#x27;step&#x27;, freq=None))</pre></div></li><li class='xr-var-item'><div class='xr-index-name'><div>isobaricInhPa</div></div><div class='xr-index-preview'>PandasIndex</div><div></div><input id='index-a7784232-1a71-48d0-a148-b26a01343085' class='xr-index-data-in' type='checkbox'/><label for='index-a7784232-1a71-48d0-a148-b26a01343085' title='Show/Hide index repr'><svg class='icon xr-icon-database'><use xlink:href='#icon-database'></use></svg></label><div class='xr-index-data'><pre>PandasIndex(Int64Index([1000, 850], dtype=&#x27;int64&#x27;, name=&#x27;isobaricInhPa&#x27;))</pre></div></li><li class='xr-var-item'><div class='xr-index-name'><div>latitude</div></div><div class='xr-index-preview'>PandasIndex</div><div></div><input id='index-04c848f0-27a2-4a0d-9c0e-349cc5dc8b2a' class='xr-index-data-in' type='checkbox'/><label for='index-04c848f0-27a2-4a0d-9c0e-349cc5dc8b2a' title='Show/Hide index repr'><svg class='icon xr-icon-database'><use xlink:href='#icon-database'></use></svg></label><div class='xr-index-data'><pre>PandasIndex(Float64Index([90.0, 60.0, 30.0, 0.0, -30.0, -60.0, -90.0], dtype=&#x27;float64&#x27;, name=&#x27;latitude&#x27;))</pre></div></li><li class='xr-var-item'><div class='xr-index-name'><div>longitude</div></div><div class='xr-index-preview'>PandasIndex</div><div></div><input id='index-9c5ca668-c309-410f-94f3-5695f06974e3' class='xr-index-data-in' type='checkbox'/><label for='index-9c5ca668-c309-410f-94f3-5695f06974e3' title='Show/Hide index repr'><svg class='icon xr-icon-database'><use xlink:href='#icon-database'></use></svg></label><div class='xr-index-data'><pre>PandasIndex(Float64Index([0.0, 30.0, 60.0, 90.0, 120.0, 150.0, 180.0, 210.0, 240.0, 270.0,\n",
             "              300.0, 330.0],\n",
             "             dtype=&#x27;float64&#x27;, name=&#x27;longitude&#x27;))</pre></div></li></ul></div></li><li class='xr-section-item'><input id='section-a4dfbfb4-d7ff-4c8e-a1f9-32f4e74a6649' class='xr-section-summary-in' type='checkbox'  checked><label for='section-a4dfbfb4-d7ff-4c8e-a1f9-32f4e74a6649' class='xr-section-summary' >Attributes: <span>(7)</span></label><div class='xr-section-inline-details'></div><div class='xr-section-details'><dl class='xr-attrs'><dt><span>GRIB_edition :</span></dt><dd>1</dd><dt><span>GRIB_centre :</span></dt><dd>ecmf</dd><dt><span>GRIB_centreDescription :</span></dt><dd>European Centre for Medium-Range Weather Forecasts</dd><dt><span>GRIB_subCentre :</span></dt><dd>0</dd><dt><span>Conventions :</span></dt><dd>CF-1.7</dd><dt><span>institution :</span></dt><dd>European Centre for Medium-Range Weather Forecasts</dd><dt><span>history :</span></dt><dd>2023-05-04T16:43 GRIB to CDM+CF via cfgrib-0.9.10.3/ecCodes-2.27.1 with {&quot;source&quot;: &quot;N/A&quot;, &quot;filter_by_keys&quot;: {}, &quot;encode_cf&quot;: [&quot;parameter&quot;, &quot;time&quot;, &quot;geography&quot;, &quot;vertical&quot;]}</dd></dl></div></li></ul></div></div>"
            ],
            "text/plain": [
             "<xarray.Dataset>\n",
             "Dimensions:        (time: 1, step: 1, isobaricInhPa: 2, latitude: 7,\n",
             "                    longitude: 12)\n",
             "Coordinates:\n",
             "  * time           (time) datetime64[ns] 2018-08-01T12:00:00\n",
             "  * step           (step) timedelta64[ns] 00:00:00\n",
             "  * isobaricInhPa  (isobaricInhPa) int64 1000 850\n",
             "  * latitude       (latitude) float64 90.0 60.0 30.0 0.0 -30.0 -60.0 -90.0\n",
             "  * longitude      (longitude) float64 0.0 30.0 60.0 90.0 ... 270.0 300.0 330.0\n",
             "    valid_time     (time, step) datetime64[ns] ...\n",
             "Data variables:\n",
             "    t              (time, step, isobaricInhPa, latitude, longitude) float32 ...\n",
             "    u              (time, step, isobaricInhPa, latitude, longitude) float32 ...\n",
             "    v              (time, step, isobaricInhPa, latitude, longitude) float32 ...\n",
             "Attributes:\n",
             "    GRIB_edition:            1\n",
             "    GRIB_centre:             ecmf\n",
             "    GRIB_centreDescription:  European Centre for Medium-Range Weather Forecasts\n",
             "    GRIB_subCentre:          0\n",
             "    Conventions:             CF-1.7\n",
             "    institution:             European Centre for Medium-Range Weather Forecasts\n",
             "    history:                 2023-05-04T16:43 GRIB to CDM+CF via cfgrib-0.9.1..."
            ]
           },
           "execution_count": 24,
           "metadata": {},
           "output_type": "execute_result"
          }
         ],
         "source": [
          "ds = fs.to_xarray(xarray_open_dataset_kwargs={\"backend_kwargs\": {\"ignore_keys\": [\"number\"]}})\n",
          "ds"
         ]
        },
        {
         "cell_type": "code",
         "execution_count": null,
         "metadata": {},
         "outputs": [],
         "source": []
        }
       ],
       "metadata": {
        "kernelspec": {
         "display_name": "mpy38",
         "language": "python",
         "name": "mpy38"
        },
        "language_info": {
         "codemirror_mode": {
          "name": "ipython",
          "version": 3
         },
         "file_extension": ".py",
         "mimetype": "text/x-python",
         "name": "python",
         "nbconvert_exporter": "python",
         "pygments_lexer": "ipython3",
         "version": "3.8.16"
        }
       },
       "nbformat": 4,
       "nbformat_minor": 4
      }
