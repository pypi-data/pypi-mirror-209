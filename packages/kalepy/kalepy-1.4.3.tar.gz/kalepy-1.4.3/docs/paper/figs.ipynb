{
 "cells": [
  {
   "cell_type": "code",
   "execution_count": null,
   "metadata": {},
   "outputs": [],
   "source": [
    "import os\n",
    "import numpy as np\n",
    "import scipy as sp\n",
    "import matplotlib.pyplot as plt\n",
    "import matplotlib as mpl\n",
    "\n",
    "import kalepy as kale\n",
    "\n",
    "from kalepy.plot import nbshow"
   ]
  },
  {
   "cell_type": "code",
   "execution_count": null,
   "metadata": {},
   "outputs": [],
   "source": [
    "DPI = 256\n",
    "\n",
    "def figax():\n",
    "    fig, ax = plt.subplots(figsize=[5, 3], dpi=DPI)\n",
    "    plt.subplots_adjust(left=0.1, bottom=0.2, right=0.97, top=0.98)\n",
    "    return fig, ax"
   ]
  },
  {
   "cell_type": "code",
   "execution_count": null,
   "metadata": {},
   "outputs": [],
   "source": [
    "fig, ax = figax()\n",
    "\n",
    "# Uniform data (edges at -1 and +1)\n",
    "NDATA = 1e3\n",
    "np.random.seed(54321)\n",
    "data = np.random.uniform(-1.0, 1.0, int(NDATA))\n",
    "\n",
    "# Plot the data\n",
    "kale.plot.carpet(data, label='data')\n",
    "# Histogram the data\n",
    "plt.hist(data, density=True, alpha=0.5, label='histogram', color='0.65', edgecolor='k')\n",
    "\n",
    "# Standard KDE will undershoot just-inside the edges and overshoot outside edges\n",
    "points, pdf_basic = kale.density(data, probability=True)\n",
    "plt.plot(points, pdf_basic, 'r--', lw=3.0, alpha=0.5, label='KDE')\n",
    "\n",
    "# Reflecting KDE keeps probability within given bounds\n",
    "points, pdf_basic = kale.density(data, reflect=True, probability=True)\n",
    "plt.plot(points, pdf_basic, 'b-', lw=2.0, alpha=0.75, label='reflecting KDE')\n",
    "\n",
    "plt.legend(scatterpoints=4, mode='expand', ncol=4, bbox_to_anchor=[0.0, -0.2, 1.0, 0.1], markerscale=2.0)\n",
    "plt.grid(alpha=0.25)\n",
    "ax.set_xlim([-1.5, 1.5])\n",
    "\n",
    "fname = 'reflect.png'\n",
    "fname = os.path.abspath(fname)\n",
    "plt.savefig(fname, dpi=DPI, rasterize=True)  # , transparent=True)\n",
    "print(\"Saved to '{}'\".format(fname))\n",
    "nbshow()"
   ]
  },
  {
   "cell_type": "code",
   "execution_count": null,
   "metadata": {},
   "outputs": [],
   "source": [
    "from importlib import reload\n",
    "reload(kale)\n",
    "reload(kale.plot)\n",
    "reload(kale)"
   ]
  },
  {
   "cell_type": "code",
   "execution_count": null,
   "metadata": {},
   "outputs": [],
   "source": [
    "\n",
    "fig, axes = plt.subplots(figsize=[5, 4], dpi=DPI, nrows=2)\n",
    "plt.subplots_adjust(left=0.08, bottom=0.08, right=0.98, top=0.98, hspace=0.05)\n",
    "    \n",
    "NUM = 5000\n",
    "\n",
    "np.random.seed(5142)\n",
    "sigma = 0.9\n",
    "aa = np.random.lognormal(sigma=sigma, size=NUM)\n",
    "\n",
    "extr = [0.0, 10.0]\n",
    "edges = kale.utils.spacing(extr, 'lin', 12) - 0.3\n",
    "grid = kale.utils.spacing(extr, 'lin', 500, stretch=0.5)\n",
    "\n",
    "vals = [-1e-6, 0.0, 1e6]\n",
    "grid = np.insert(grid, np.searchsorted(grid, vals), vals)\n",
    "pdf = sp.stats.lognorm(sigma).pdf(grid)\n",
    "\n",
    "for ii, ax in enumerate(axes):\n",
    "#     label = 'original data' if ii == 0 else None\n",
    "#     kale.plot.carpet(aa, ax=ax, label=label, shift=0.04)\n",
    "    ax.plot(grid, pdf, ls='-', color='orchid', label='true PDF', alpha=0.6, lw=3.0)    \n",
    "\n",
    "kale.plot.carpet(aa, ax=axes[0], yave=-0.1, ystd=0.02, label='original data')  # , shift=0.04)\n",
    "\n",
    "kw = dict(histtype='step', lw=2.0, alpha=0.7, density=True)  # edgecolor='k', \n",
    "\n",
    "ax = axes[0]\n",
    "ax.set_xticklabels([])\n",
    "names = ['default bins', 'custom bins']\n",
    "colors = ['steelblue', 'crimson']\n",
    "lines = ['-', '--']\n",
    "for ii, edg in enumerate([None, edges]):\n",
    "    cc = colors[ii]\n",
    "    ax.hist(aa, bins=edg, color=cc, ls=lines[ii], label=names[ii], **kw)\n",
    "\n",
    "# ax.legend()\n",
    "ax.legend(scatterpoints=4, markerscale=4.0)\n",
    "\n",
    "\n",
    "\n",
    "\n",
    "ax = axes[1]\n",
    "boundaries = [None, [True, None]]\n",
    "names = ['normal KDE', 'reflecting KDE']\n",
    "lines = ['-.', '--']\n",
    "colors = ['steelblue', 'crimson']\n",
    "for ii, (bnd, cc, ls) in enumerate(zip(boundaries, colors, lines)):\n",
    "    kde = kale.KDE(aa, reflect=bnd)\n",
    "    _, pdf = kde.density(grid, probability=True)\n",
    "    ax.plot(grid, pdf, color=cc, ls=ls, lw=2.0, alpha=0.7, label=names[ii])\n",
    "    \n",
    "for ax in axes:\n",
    "    ax.set(xlim=[-1, 9], ylim=[-0.18, 0.7])  # , ylim=[-0.18, 0.72])\n",
    "    ax.grid(alpha=0.25)\n",
    "    ax.set_yticks(np.arange(0.0, 0.8, 0.2))\n",
    "    \n",
    "bb = kde.resample()\n",
    "kale.plot.carpet(bb, color='b', yave=-0.1, ystd=0.02, ax=ax, label='resampled data') # , shift=-0.08)\n",
    "    \n",
    "# plt.legend()\n",
    "ax.legend(scatterpoints=4, markerscale=4.0)\n",
    "\n",
    "fname = 'fig_one.png'\n",
    "fname = os.path.abspath(fname)\n",
    "plt.savefig(fname, dpi=DPI, rasterize=True)  # , transparent=True)\n",
    "print(\"Saved to '{}'\".format(fname))\n",
    "\n",
    "nbshow()\n"
   ]
  }
 ],
 "metadata": {
  "kernelspec": {
   "display_name": "Python 3",
   "language": "python",
   "name": "python3"
  },
  "language_info": {
   "codemirror_mode": {
    "name": "ipython",
    "version": 3
   },
   "file_extension": ".py",
   "mimetype": "text/x-python",
   "name": "python",
   "nbconvert_exporter": "python",
   "pygments_lexer": "ipython3",
   "version": "3.7.7"
  },
  "toc": {
   "base_numbering": 1,
   "nav_menu": {},
   "number_sections": true,
   "sideBar": true,
   "skip_h1_title": false,
   "title_cell": "Table of Contents",
   "title_sidebar": "Contents",
   "toc_cell": false,
   "toc_position": {},
   "toc_section_display": true,
   "toc_window_display": true
  },
  "varInspector": {
   "cols": {
    "lenName": 16,
    "lenType": 16,
    "lenVar": 40
   },
   "kernels_config": {
    "python": {
     "delete_cmd_postfix": "",
     "delete_cmd_prefix": "del ",
     "library": "var_list.py",
     "varRefreshCmd": "print(var_dic_list())"
    },
    "r": {
     "delete_cmd_postfix": ") ",
     "delete_cmd_prefix": "rm(",
     "library": "var_list.r",
     "varRefreshCmd": "cat(var_dic_list()) "
    }
   },
   "types_to_exclude": [
    "module",
    "function",
    "builtin_function_or_method",
    "instance",
    "_Feature"
   ],
   "window_display": false
  }
 },
 "nbformat": 4,
 "nbformat_minor": 4
}
