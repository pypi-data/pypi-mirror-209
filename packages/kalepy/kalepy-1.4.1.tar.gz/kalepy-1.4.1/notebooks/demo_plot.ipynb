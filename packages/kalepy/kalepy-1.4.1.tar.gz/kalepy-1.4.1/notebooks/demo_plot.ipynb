{
 "cells": [
  {
   "cell_type": "code",
   "execution_count": null,
   "metadata": {},
   "outputs": [],
   "source": [
    "%reload_ext autoreload\n",
    "%autoreload 2\n",
    "from importlib import reload\n",
    "\n",
    "import matplotlib.pyplot as plt\n",
    "import matplotlib as mpl\n",
    "\n",
    "mpl.rc('font', **{'family': 'serif', 'sans-serif': ['Times'], 'size': 12})\n",
    "mpl.rc('lines', solid_capstyle='round')\n",
    "mpl.rc('mathtext', fontset='cm')\n",
    "mpl.rc('figure', figsize=[8, 4])\n",
    "plt.rc('axes', grid=True)\n",
    "plt.rcParams.update({'grid.alpha': 0.25})\n",
    "\n",
    "# import warnings\n",
    "# warnings.simplefilter(\"error\")"
   ]
  },
  {
   "cell_type": "code",
   "execution_count": null,
   "metadata": {
    "init_cell": true
   },
   "outputs": [
    {
     "data": {
      "text/plain": [
       "<module 'kalepy' from '/Users/lzkelley/Programs/kalepy/kalepy/__init__.py'>"
      ]
     },
     "execution_count": null,
     "metadata": {},
     "output_type": "execute_result"
    }
   ],
   "source": [
    "import kalepy as kale\n",
    "\n",
    "reload(kale.kde)\n",
    "reload(kale.kernels)\n",
    "reload(kale.utils)\n",
    "reload(kale.plot)\n",
    "reload(kale)"
   ]
  },
  {
   "cell_type": "code",
   "execution_count": null,
   "metadata": {},
   "outputs": [],
   "source": [
    "# The `nbshow` function allows this code to be run nicely in either a notebook or script\n",
    "from kalepy.plot import nbshow\n",
    "\n",
    "data1, truth = kale.utils._random_data_1d_01(num=2000)\n",
    "data2 = kale.utils._random_data_2d_01(num=2000)\n",
    "data3 = kale.utils._random_data_3d_01(num=2000)\n",
    "\n",
    "# Generate random-ish data\n",
    "data3a = kale.utils._random_data_3d_03(par=[0.0, 0.5], cov=0.05, num=2000)\n",
    "data3b = kale.utils._random_data_3d_03(par=[1.0, 0.25], cov=0.5, num=2000)"
   ]
  },
  {
   "cell_type": "markdown",
   "metadata": {},
   "source": [
    "# demo_plot"
   ]
  },
  {
   "cell_type": "code",
   "execution_count": null,
   "metadata": {},
   "outputs": [],
   "source": [
    "import kalepy as kale\n",
    "import numpy as np\n",
    "import matplotlib.pyplot as plt"
   ]
  },
  {
   "cell_type": "markdown",
   "metadata": {},
   "source": [
    "## Top Level Functions"
   ]
  },
  {
   "cell_type": "markdown",
   "metadata": {},
   "source": [
    "### kalepy.corner() and the kalepy.Corner class"
   ]
  },
  {
   "cell_type": "raw",
   "metadata": {},
   "source": [
    "For the full documentation, see:\n",
    "\n",
    "* `kalepy.plot.corner <kalepy_plot.html#kalepy.plot.corner>`_\n",
    "* `kalepy.plot.Corner <kalepy_plot.html#kalepy.plot.Corner>`_\n",
    "* `kalepy.plot.Corner.plot <kalepy_plot.html#kalepy.plot.Corner.plot>`_"
   ]
  },
  {
   "cell_type": "markdown",
   "metadata": {},
   "source": [
    "Plot some three-dimensional data called `data3` with shape (3, N) with `N` data points."
   ]
  },
  {
   "cell_type": "code",
   "execution_count": null,
   "metadata": {},
   "outputs": [],
   "source": [
    "kale.corner(data3);"
   ]
  },
  {
   "cell_type": "markdown",
   "metadata": {},
   "source": [
    "Extensive modifications are possible with passed arguments, for example:"
   ]
  },
  {
   "cell_type": "code",
   "execution_count": null,
   "metadata": {},
   "outputs": [],
   "source": [
    "# 1D plot settings: turn on histograms, and modify the confidence-interval quantiles\n",
    "dist1d = dict(hist=True, quantiles=[0.5, 0.9])\n",
    "# 2D plot settings: turn off the histograms, and turn on scatter\n",
    "dist2d = dict(hist=False, scatter=True)\n",
    "\n",
    "kale.corner(data3, labels=['a', 'b', 'c'], color='purple',\n",
    "            dist1d=dist1d, dist2d=dist2d);"
   ]
  },
  {
   "cell_type": "markdown",
   "metadata": {},
   "source": [
    "The `kalepy.corner` method is a wrapper that builds a `kalepy.Corner` instance, and then plots the given data. For additional flexibility, the `kalepy.Corner` class can be used directly.  This is particularly useful for plotting multiple distributions, or using preconfigured plotting styles."
   ]
  },
  {
   "cell_type": "code",
   "execution_count": null,
   "metadata": {},
   "outputs": [],
   "source": [
    "# Construct a `Corner` instance for 3 dimensional data, modify the figure size\n",
    "corner = kale.Corner(3, figsize=[9, 9])\n",
    "\n",
    "# Plot two different datasets using the `clean` plotting style\n",
    "corner.clean(data3a)\n",
    "corner.clean(data3b);"
   ]
  },
  {
   "cell_type": "markdown",
   "metadata": {},
   "source": [
    "### kalepy.dist1d and kalepy.dist2d"
   ]
  },
  {
   "cell_type": "markdown",
   "metadata": {},
   "source": [
    "The `Corner` class ultimately calls the functions `dist1d` and `dist2d` to do the actual plotting of each figure panel.  These functions can also be used directly."
   ]
  },
  {
   "cell_type": "raw",
   "metadata": {},
   "source": [
    "For the full documentation, see:\n",
    "\n",
    "* `kalepy.plot.dist1d <kalepy_plot.html#kalepy.plot.dist1d>`_\n",
    "* `kalepy.plot.dist2d <kalepy_plot.html#kalepy.plot.dist2d>`_\n"
   ]
  },
  {
   "cell_type": "code",
   "execution_count": null,
   "metadata": {},
   "outputs": [],
   "source": [
    "# Plot a 1D dataset, shape: (N,) for `N` data points\n",
    "kale.dist1d(data1);"
   ]
  },
  {
   "cell_type": "code",
   "execution_count": null,
   "metadata": {},
   "outputs": [],
   "source": [
    "# Plot a 2D dataset, shape: (2, N) for `N` data points\n",
    "kale.dist2d(data2, hist=False);"
   ]
  },
  {
   "cell_type": "markdown",
   "metadata": {},
   "source": [
    "These functions can also be called on a `kalepy.KDE` instance, which is particularly useful for utilizing the advanced KDE functionality like reflection."
   ]
  },
  {
   "cell_type": "code",
   "execution_count": null,
   "metadata": {},
   "outputs": [],
   "source": [
    "# Construct a random dataset, and truncate it on the left at 1.0\n",
    "import numpy as np\n",
    "data = np.random.lognormal(sigma=0.5, size=int(3e3))\n",
    "data = data[data >= 1.0]\n",
    "\n",
    "# Construct a KDE, and include reflection (only on the lower/left side)\n",
    "kde_reflect = kale.KDE(data, reflect=[1.0, None])\n",
    "# plot, and include confidence intervals\n",
    "hr = kale.dist1d(kde_reflect, confidence=True);"
   ]
  },
  {
   "cell_type": "code",
   "execution_count": null,
   "metadata": {},
   "outputs": [],
   "source": [
    "# Load a predefined 2D, 'random' dataset that includes boundaries on both dimensions\n",
    "data = kale.utils._random_data_2d_03(num=1e3)\n",
    "# Initialize figure\n",
    "fig, axes = plt.subplots(figsize=[10, 5], ncols=2)\n",
    "\n",
    "# Construct a KDE included reflection\n",
    "kde = kale.KDE(data, reflect=[[0, None], [None, 1]])\n",
    "\n",
    "# plot using KDE's included reflection parameters\n",
    "kale.dist2d(kde, ax=axes[0]);\n",
    "\n",
    "# plot data without reflection\n",
    "kale.dist2d(data, ax=axes[1], cmap='Reds')\n",
    "\n",
    "titles = ['reflection', 'no reflection']\n",
    "for ax, title in zip(axes, titles):\n",
    "    ax.set(xlim=[-0.5, 2.5], ylim=[-0.2, 1.2], title=title)"
   ]
  }
 ],
 "metadata": {
  "celltoolbar": "Initialization Cell",
  "kernelspec": {
   "display_name": "py38",
   "language": "python",
   "name": "py38"
  },
  "language_info": {
   "codemirror_mode": {
    "name": "ipython",
    "version": 3
   },
   "file_extension": ".py",
   "mimetype": "text/x-python",
   "name": "python",
   "nbconvert_exporter": "python",
   "pygments_lexer": "ipython3",
   "version": "3.8.5"
  },
  "toc": {
   "base_numbering": 1,
   "nav_menu": {},
   "number_sections": true,
   "sideBar": true,
   "skip_h1_title": false,
   "title_cell": "Table of Contents",
   "title_sidebar": "Contents",
   "toc_cell": false,
   "toc_position": {
    "height": "calc(100% - 180px)",
    "left": "10px",
    "top": "150px",
    "width": "165px"
   },
   "toc_section_display": true,
   "toc_window_display": true
  },
  "varInspector": {
   "cols": {
    "lenName": 16,
    "lenType": 16,
    "lenVar": 40
   },
   "kernels_config": {
    "python": {
     "delete_cmd_postfix": "",
     "delete_cmd_prefix": "del ",
     "library": "var_list.py",
     "varRefreshCmd": "print(var_dic_list())"
    },
    "r": {
     "delete_cmd_postfix": ") ",
     "delete_cmd_prefix": "rm(",
     "library": "var_list.r",
     "varRefreshCmd": "cat(var_dic_list()) "
    }
   },
   "types_to_exclude": [
    "module",
    "function",
    "builtin_function_or_method",
    "instance",
    "_Feature"
   ],
   "window_display": false
  }
 },
 "nbformat": 4,
 "nbformat_minor": 2
}
