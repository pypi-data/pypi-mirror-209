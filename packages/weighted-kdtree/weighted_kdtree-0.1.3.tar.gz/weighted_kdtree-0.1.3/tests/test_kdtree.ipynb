{
 "cells": [
  {
   "cell_type": "markdown",
   "id": "996e6ee1",
   "metadata": {
    "toc": true
   },
   "source": [
    "<h1>Table of Contents<span class=\"tocSkip\"></span></h1>\n",
    "<div class=\"toc\"><ul class=\"toc-item\"></ul></div>"
   ]
  },
  {
   "cell_type": "code",
   "execution_count": 1,
   "id": "95a4ca7b",
   "metadata": {},
   "outputs": [],
   "source": [
    "from weighted_kdtree import kdtree\n",
    "import unittest\n",
    "import numpy as np"
   ]
  },
  {
   "cell_type": "code",
   "execution_count": 2,
   "id": "df44f08c",
   "metadata": {},
   "outputs": [],
   "source": [
    "class TestKDTree(unittest.TestCase):\n",
    "    \n",
    "    # __init__ method\n",
    "    def test_init_points_without_weights(self):\n",
    "        kdtreeRoot = kdtree.KDTree([(12.34, 34.21)])\n",
    "        self.assertEqual(kdtreeRoot.root.val, (12.34, 34.21), \"Wrong values\")\n",
    "        self.assertEqual(kdtreeRoot.weights, None, \"Weights present\")\n",
    "    \n",
    "    def test_buildKdTree_single_point_with_weight(self):\n",
    "        kdtreeRoot = kdtree.KDTree([(-12,-34)], [10])\n",
    "        self.assertEqual(kdtreeRoot.root.val, (-12, -34), \"Wrong values\")\n",
    "        self.assertEqual(kdtreeRoot.root.weight[\"weight\"], 10)\n",
    "        \n",
    "    def test_buildKdTree_multiple_points_with_weight1(self):\n",
    "        kdtreeRoot = kdtree.KDTree([(12,34), (25,36), (9,10), (5, 15), (30, 20), (20, 27)], [10, 20, 5, 15, 25, 30])\n",
    "        self.assertEqual(kdtreeRoot.root.val, (20, 27), \"Wrong values\")\n",
    "        self.assertEqual(kdtreeRoot.root.weight[\"weight\"], 30, \"Weights incompatible\")\n",
    "        \n",
    "    def test_buildKdTree_multiple_points_with_weight2(self):\n",
    "        kdtreeRoot = kdtree.KDTree([(12,34), (-25,36), (9,-10)], [10, 20, 30])\n",
    "        self.assertEqual(kdtreeRoot.root.val, (9, -10), \"Wrong values\")\n",
    "        self.assertEqual(kdtreeRoot.root.weight[\"weight\"], 30, \"\")\n",
    "    \n",
    "    def test_buildKdTree_multiple_points_with_weight(self):\n",
    "        kdtreeRoot = kdtree.KDTree([(12,34), (25,36)], [10, 20])\n",
    "        self.assertEqual(kdtreeRoot.root.val, (25,36), \"Wrong values\")\n",
    "        self.assertEqual(kdtreeRoot.root.weight[\"weight\"], 20, \"\")\n",
    "        \n",
    "    def test_buildKdTree_single_point_with_weight(self):\n",
    "        kdtreeRoot = kdtree.KDTree([(-12,-34)], [10])\n",
    "        self.assertEqual(kdtreeRoot.root.val, (-12, -34), \"Wrong values\")\n",
    "        self.assertEqual(kdtreeRoot.root.weight[\"weight\"], 10)\n",
    "    \n",
    "    def test_buildKdTree_with_incompatible_weights1(self):\n",
    "        self.assertRaises(ValueError, kdtree.KDTree, ([(12,34), (25,36), (9,10)], [10, 20]))\n",
    "        \n",
    "    def test_buildKdTree_with_incompatible_weights2(self):\n",
    "        self.assertRaises(ValueError, kdtree.KDTree, ([(12,34), (25,36), (9,10,12)]))\n",
    "        \n",
    "    # Testing preorder traversal\n",
    "    def test_preorderTraversal1(self):\n",
    "        preorderTraversal = kdtree.KDTree.preorderTraversal(kdtree.KDTree([(12,34), (25,36), (9,10), (5, 15), (30, 20), (20, 27)]).root);\n",
    "        self.assertEqual(preorderTraversal, [[(9, 10)], [(12, 34)], [(5, 15)], [(30, 20)], [(25, 36)], [(20, 27)]], \"Order is incorrect\")\n",
    "    \n",
    "     # Testing preorder traversal\n",
    "    def test_preorderTraversal2(self):\n",
    "        preorderTraversal = kdtree.KDTree.preorderTraversal(kdtree.KDTree([(12,34), (25,36), (9,10)], [10, 20, 30]).root);\n",
    "        self.assertEqual(preorderTraversal[1], [(25, 36)] , \"Order is incorrect\")\n",
    "        \n",
    "     # Testing preorder traversal\n",
    "    def test_dfs(self):\n",
    "        dfs = kdtree.KDTree.dfs(kdtree.KDTree([(12,34), (25,36), (9,10), (5, 15), (30, 20), (20, 27)]).root)\n",
    "        self.assertEqual(len(dfs['[(20, 27), 0, 6, None, None, None]']), 2, \"Root node doesn't have two children\")\n",
    "        \n",
    "    # NN\n",
    "    def test_nnKdTree1(self):\n",
    "        root = kdtree.KDTree([(12,34), (25,36), (9,10), (5, 15), (30, 20), (20, 27)]).root\n",
    "        self.assertEqual(len(kdtree.KDTree.nnKDTree((8,6), root, 10, 1)), 1)\n",
    "        \n",
    "    def test_nnKdTree2(self):\n",
    "        root = kdtree.KDTree([(12,34), (25,36), (9,10), (5, 15), (30, 20), (20, 27)]).root\n",
    "        self.assertEqual(len(kdtree.KDTree.nnKDTree((8,6), root, 10, 2)), 2)"
   ]
  },
  {
   "cell_type": "code",
   "execution_count": 3,
   "id": "d33bd0a8",
   "metadata": {},
   "outputs": [
    {
     "name": "stderr",
     "output_type": "stream",
     "text": [
      "test_buildKdTree_multiple_points_with_weight (__main__.TestKDTree) ... ok\n",
      "test_buildKdTree_multiple_points_with_weight1 (__main__.TestKDTree) ... ok\n",
      "test_buildKdTree_multiple_points_with_weight2 (__main__.TestKDTree) ... ok\n",
      "test_buildKdTree_single_point_with_weight (__main__.TestKDTree) ... ok\n",
      "test_buildKdTree_with_incompatible_weights1 (__main__.TestKDTree) ... ok\n",
      "test_buildKdTree_with_incompatible_weights2 (__main__.TestKDTree) ... ok\n",
      "test_dfs (__main__.TestKDTree) ... ok\n",
      "test_init_points_without_weights (__main__.TestKDTree) ... ok\n",
      "test_nnKdTree1 (__main__.TestKDTree) ... ok\n",
      "test_nnKdTree2 (__main__.TestKDTree) ... ok\n",
      "test_preorderTraversal1 (__main__.TestKDTree) ... ok\n",
      "test_preorderTraversal2 (__main__.TestKDTree) ... "
     ]
    },
    {
     "name": "stdout",
     "output_type": "stream",
     "text": [
      "Before push pop:  [(-9.486832980505138, (5, 15))]\n",
      "After push pop:  [(-4.123105625617661, (9, 10))]\n",
      "neighborsList:  [(-4.123105625617661, (9, 10))]\n",
      "neighborsList:  [(-4.123105625617661, (9, 10))]\n",
      "neighborsList:  [(-9.486832980505138, (5, 15)), (-4.123105625617661, (9, 10))]\n",
      "neighborsList:  [(-9.486832980505138, (5, 15)), (-4.123105625617661, (9, 10))]\n"
     ]
    },
    {
     "name": "stderr",
     "output_type": "stream",
     "text": [
      "ok\n",
      "\n",
      "----------------------------------------------------------------------\n",
      "Ran 12 tests in 0.018s\n",
      "\n",
      "OK\n"
     ]
    },
    {
     "data": {
      "text/plain": [
       "<unittest.main.TestProgram at 0x22ffe21e190>"
      ]
     },
     "execution_count": 3,
     "metadata": {},
     "output_type": "execute_result"
    }
   ],
   "source": [
    "unittest.main(argv=[''], verbosity=2, exit=False)"
   ]
  },
  {
   "cell_type": "code",
   "execution_count": null,
   "id": "3622e2b4",
   "metadata": {},
   "outputs": [],
   "source": []
  }
 ],
 "metadata": {
  "kernelspec": {
   "display_name": "Python 3",
   "language": "python",
   "name": "python3"
  },
  "language_info": {
   "codemirror_mode": {
    "name": "ipython",
    "version": 3
   },
   "file_extension": ".py",
   "mimetype": "text/x-python",
   "name": "python",
   "nbconvert_exporter": "python",
   "pygments_lexer": "ipython3",
   "version": "3.8.8"
  },
  "toc": {
   "base_numbering": 1,
   "nav_menu": {},
   "number_sections": true,
   "sideBar": true,
   "skip_h1_title": false,
   "title_cell": "Table of Contents",
   "title_sidebar": "Contents",
   "toc_cell": true,
   "toc_position": {},
   "toc_section_display": true,
   "toc_window_display": false
  }
 },
 "nbformat": 4,
 "nbformat_minor": 5
}
