{
 "cells": [
  {
   "cell_type": "markdown",
   "id": "0a7a294f",
   "metadata": {
    "toc": true
   },
   "source": [
    "<h1>Table of Contents<span class=\"tocSkip\"></span></h1>\n",
    "<div class=\"toc\"><ul class=\"toc-item\"></ul></div>"
   ]
  },
  {
   "cell_type": "code",
   "execution_count": 1,
   "id": "8e9b5932",
   "metadata": {},
   "outputs": [],
   "source": [
    "from weighted_kdtree import kdtree"
   ]
  },
  {
   "cell_type": "code",
   "execution_count": 2,
   "id": "c7721f33",
   "metadata": {},
   "outputs": [],
   "source": [
    "points = [(12,34), (25,36), (9,10), (5, 15), (30, 20), (20, 27)]\n",
    "weights = [10, 20, 12, 20, 30, 28]"
   ]
  },
  {
   "cell_type": "code",
   "execution_count": 3,
   "id": "1006d3ae",
   "metadata": {},
   "outputs": [],
   "source": [
    "x = [p[0] for p in points]\n",
    "y = [p[1] for p in points]"
   ]
  },
  {
   "cell_type": "code",
   "execution_count": 4,
   "id": "7e61d2fa",
   "metadata": {},
   "outputs": [],
   "source": [
    "kd_tree = kdtree.KDTree(points, weights)"
   ]
  },
  {
   "cell_type": "code",
   "execution_count": 5,
   "id": "61080fdd",
   "metadata": {},
   "outputs": [
    {
     "data": {
      "text/plain": [
       "((20, 27), 28, 30, 10)"
      ]
     },
     "execution_count": 5,
     "metadata": {},
     "output_type": "execute_result"
    }
   ],
   "source": [
    "kd_tree.root.val, kd_tree.root.weight[\"weight\"],  kd_tree.root.weight[\"minWeight\"],  kd_tree.root.weight[\"maxWeight\"]"
   ]
  },
  {
   "cell_type": "code",
   "execution_count": 6,
   "id": "3a52a53b",
   "metadata": {},
   "outputs": [
    {
     "data": {
      "text/plain": [
       "[[(9, 10)], [(12, 34)], [(5, 15)], [(30, 20)], [(25, 36)], [(20, 27)]]"
      ]
     },
     "execution_count": 6,
     "metadata": {},
     "output_type": "execute_result"
    }
   ],
   "source": [
    "kdtree.KDTree.preorderTraversal(kd_tree.root)"
   ]
  },
  {
   "cell_type": "code",
   "execution_count": 7,
   "id": "b3836828",
   "metadata": {},
   "outputs": [
    {
     "name": "stdout",
     "output_type": "stream",
     "text": [
      "(12, 34) , 14.142135623730951\n",
      "(25, 36) , 21.93171219946131\n",
      "(9, 10) , 10.04987562112089\n",
      "(5, 15) , 7.0710678118654755\n",
      "(30, 20) , 20.0\n",
      "(20, 27) , 12.206555615733702\n"
     ]
    }
   ],
   "source": [
    "for point in points:\n",
    "    print(point, \",\",kdtree.KDTree.getDistance(point, (10, 20)))"
   ]
  },
  {
   "cell_type": "code",
   "execution_count": 12,
   "id": "994f87c2",
   "metadata": {},
   "outputs": [
    {
     "name": "stdout",
     "output_type": "stream",
     "text": [
      "neighborsList:  [(-14.142135623730951, (12, 34)), (-7.0710678118654755, (5, 15)), (-12.206555615733702, (20, 27))]\n",
      "neighborsList:  [(-14.142135623730951, (12, 34)), (-10.04987562112089, (9, 10)), (-12.206555615733702, (20, 27)), (-7.0710678118654755, (5, 15))]\n",
      "neighborsList:  [(-20.0, (30, 20)), (-14.142135623730951, (12, 34)), (-12.206555615733702, (20, 27)), (-7.0710678118654755, (5, 15)), (-10.04987562112089, (9, 10))]\n"
     ]
    },
    {
     "data": {
      "text/plain": [
       "[(30, 20), (12, 34), (20, 27), (5, 15), (9, 10)]"
      ]
     },
     "execution_count": 12,
     "metadata": {},
     "output_type": "execute_result"
    }
   ],
   "source": [
    "kdtree.KDTree.nnKDTree((10, 20), kd_tree.root, 20, 7)"
   ]
  },
  {
   "cell_type": "code",
   "execution_count": null,
   "id": "2e971251",
   "metadata": {},
   "outputs": [],
   "source": []
  },
  {
   "cell_type": "code",
   "execution_count": null,
   "id": "9d78ae2e",
   "metadata": {},
   "outputs": [],
   "source": [
    "import numpy as np\n",
    "from scipy.spatial import KDTree\n",
    "rng = np.random.default_rng()\n",
    "points1 = rng.random((5, 2))\n",
    "kd_tree1 = KDTree(points1)"
   ]
  },
  {
   "cell_type": "code",
   "execution_count": 9,
   "id": "b1a1ae0e",
   "metadata": {},
   "outputs": [
    {
     "name": "stderr",
     "output_type": "stream",
     "text": [
      "<ipython-input-9-eebbf608cbc1>:1: VisibleDeprecationWarning: Creating an ndarray from ragged nested sequences (which is a list-or-tuple of lists-or-tuples-or ndarrays with different lengths or shapes) is deprecated. If you meant to do this, you must specify 'dtype=object' when creating the ndarray\n",
      "  a = np.array([(1, 3, 5), (2, 3)])\n"
     ]
    }
   ],
   "source": [
    "a = np.array([(1, 3, 5), (2, 3)])"
   ]
  },
  {
   "cell_type": "code",
   "execution_count": 10,
   "id": "96de1b9c",
   "metadata": {},
   "outputs": [],
   "source": [
    "import matplotlib.pyplot as plt"
   ]
  },
  {
   "cell_type": "code",
   "execution_count": 11,
   "id": "187c4f28",
   "metadata": {},
   "outputs": [
    {
     "data": {
      "image/png": "[encoded data removed]",
      "text/plain": [
       "<Figure size 432x288 with 1 Axes>"
      ]
     },
     "metadata": {
      "needs_background": "light"
     },
     "output_type": "display_data"
    }
   ],
   "source": [
    "\n",
    "import matplotlib.pyplot as plt\n",
    " \n",
    "plt.scatter(x, y, c =\"blue\")\n",
    "plt.scatter([10], [20], c =\"yellow\")\n",
    "\n",
    "for p1, p2 in zip(x, y):\n",
    "    plt.annotate(f'({p1},{p2})', (p1,p2+0.2))\n",
    "    \n",
    "# To show the plot\n",
    "plt.show()"
   ]
  },
  {
   "cell_type": "code",
   "execution_count": 12,
   "id": "0c00318d",
   "metadata": {},
   "outputs": [],
   "source": [
    "val = [(10, (12,34))]"
   ]
  },
  {
   "cell_type": "code",
   "execution_count": 13,
   "id": "0377b46e",
   "metadata": {},
   "outputs": [],
   "source": [
    "heapq.heapify(val)"
   ]
  },
  {
   "cell_type": "code",
   "execution_count": 14,
   "id": "e8e8e04e",
   "metadata": {},
   "outputs": [],
   "source": [
    "heapq.heappush(val, (20, (15, 20)))\n",
    "heapq.heappush(val, (5, (30, 10)))"
   ]
  },
  {
   "cell_type": "code",
   "execution_count": 15,
   "id": "f087f2fa",
   "metadata": {},
   "outputs": [
    {
     "data": {
      "text/plain": [
       "[(5, (30, 10)), (20, (15, 20)), (10, (12, 34))]"
      ]
     },
     "execution_count": 15,
     "metadata": {},
     "output_type": "execute_result"
    }
   ],
   "source": [
    "val"
   ]
  },
  {
   "cell_type": "code",
   "execution_count": 16,
   "id": "5b41833b",
   "metadata": {},
   "outputs": [
    {
     "data": {
      "text/plain": [
       "(5, (30, 10))"
      ]
     },
     "execution_count": 16,
     "metadata": {},
     "output_type": "execute_result"
    }
   ],
   "source": [
    "heapq.heappop(val)"
   ]
  },
  {
   "cell_type": "code",
   "execution_count": 17,
   "id": "62abc54d",
   "metadata": {},
   "outputs": [
    {
     "data": {
      "text/plain": [
       "[(10, (12, 34)), (20, (15, 20))]"
      ]
     },
     "execution_count": 17,
     "metadata": {},
     "output_type": "execute_result"
    }
   ],
   "source": [
    "val"
   ]
  },
  {
   "cell_type": "code",
   "execution_count": 18,
   "id": "fc627b50",
   "metadata": {},
   "outputs": [
    {
     "ename": "TypeError",
     "evalue": "'int' object is not iterable",
     "output_type": "error",
     "traceback": [
      "\u001b[1;31m---------------------------------------------------------------------------\u001b[0m",
      "\u001b[1;31mTypeError\u001b[0m                                 Traceback (most recent call last)",
      "\u001b[1;32m<ipython-input-18-a60f5b4d3e21>\u001b[0m in \u001b[0;36m<module>\u001b[1;34m\u001b[0m\n\u001b[1;32m----> 1\u001b[1;33m \u001b[0mheapq\u001b[0m\u001b[1;33m.\u001b[0m\u001b[0mnsmallest\u001b[0m\u001b[1;33m(\u001b[0m\u001b[0mval\u001b[0m\u001b[1;33m,\u001b[0m \u001b[1;36m1\u001b[0m\u001b[1;33m)\u001b[0m\u001b[1;33m\u001b[0m\u001b[1;33m\u001b[0m\u001b[0m\n\u001b[0m",
      "\u001b[1;32m~\\Anaconda3\\lib\\heapq.py\u001b[0m in \u001b[0;36mnsmallest\u001b[1;34m(n, iterable, key)\u001b[0m\n\u001b[0;32m    483\u001b[0m     \u001b[1;31m# When key is none, use simpler decoration\u001b[0m\u001b[1;33m\u001b[0m\u001b[1;33m\u001b[0m\u001b[1;33m\u001b[0m\u001b[0m\n\u001b[0;32m    484\u001b[0m     \u001b[1;32mif\u001b[0m \u001b[0mkey\u001b[0m \u001b[1;32mis\u001b[0m \u001b[1;32mNone\u001b[0m\u001b[1;33m:\u001b[0m\u001b[1;33m\u001b[0m\u001b[1;33m\u001b[0m\u001b[0m\n\u001b[1;32m--> 485\u001b[1;33m         \u001b[0mit\u001b[0m \u001b[1;33m=\u001b[0m \u001b[0miter\u001b[0m\u001b[1;33m(\u001b[0m\u001b[0miterable\u001b[0m\u001b[1;33m)\u001b[0m\u001b[1;33m\u001b[0m\u001b[1;33m\u001b[0m\u001b[0m\n\u001b[0m\u001b[0;32m    486\u001b[0m         \u001b[1;31m# put the range(n) first so that zip() doesn't\u001b[0m\u001b[1;33m\u001b[0m\u001b[1;33m\u001b[0m\u001b[1;33m\u001b[0m\u001b[0m\n\u001b[0;32m    487\u001b[0m         \u001b[1;31m# consume one too many elements from the iterator\u001b[0m\u001b[1;33m\u001b[0m\u001b[1;33m\u001b[0m\u001b[1;33m\u001b[0m\u001b[0m\n",
      "\u001b[1;31mTypeError\u001b[0m: 'int' object is not iterable"
     ]
    }
   ],
   "source": [
    "heapq.nsmallest(val, 1)"
   ]
  },
  {
   "cell_type": "code",
   "execution_count": 19,
   "id": "4f10da18",
   "metadata": {},
   "outputs": [],
   "source": [
    "\n",
    "from graphviz import Digraph "
   ]
  },
  {
   "cell_type": "code",
   "execution_count": 22,
   "id": "bdc026d0",
   "metadata": {},
   "outputs": [
    {
     "data": {
      "text/plain": [
       "'tree.pdf'"
      ]
     },
     "execution_count": 22,
     "metadata": {},
     "output_type": "execute_result"
    }
   ],
   "source": [
    "dot = Digraph(comment='Tree')\n",
    "for node in treeList:\n",
    "    dot.node(node)\n",
    "    \\\n",
    "\n",
    "for node, edges in treeList.items():\n",
    "    for edge in edges:\n",
    "        dot.edge(node, edge)\n",
    "\n",
    "dot.render('tree', view=True)"
   ]
  },
  {
   "cell_type": "code",
   "execution_count": null,
   "id": "68f1c4f8",
   "metadata": {},
   "outputs": [],
   "source": []
  }
 ],
 "metadata": {
  "kernelspec": {
   "display_name": "Python 3",
   "language": "python",
   "name": "python3"
  },
  "language_info": {
   "codemirror_mode": {
    "name": "ipython",
    "version": 3
   },
   "file_extension": ".py",
   "mimetype": "text/x-python",
   "name": "python",
   "nbconvert_exporter": "python",
   "pygments_lexer": "ipython3",
   "version": "3.8.8"
  },
  "toc": {
   "base_numbering": 1,
   "nav_menu": {},
   "number_sections": true,
   "sideBar": true,
   "skip_h1_title": false,
   "title_cell": "Table of Contents",
   "title_sidebar": "Contents",
   "toc_cell": true,
   "toc_position": {},
   "toc_section_display": true,
   "toc_window_display": false
  }
 },
 "nbformat": 4,
 "nbformat_minor": 5
}
