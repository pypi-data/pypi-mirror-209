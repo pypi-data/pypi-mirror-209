{
 "cells": [
  {
   "cell_type": "markdown",
   "id": "0a7a294f",
   "metadata": {
    "toc": true
   },
   "source": [
    "<h1>Table of Contents<span class=\"tocSkip\"></span></h1>\n",
    "<div class=\"toc\"><ul class=\"toc-item\"></ul></div>"
   ]
  },
  {
   "cell_type": "code",
   "execution_count": 1,
   "id": "8e9b5932",
   "metadata": {},
   "outputs": [],
   "source": [
    "from kd_tree import kdtree"
   ]
  },
  {
   "cell_type": "code",
   "execution_count": 2,
   "id": "7e61d2fa",
   "metadata": {},
   "outputs": [],
   "source": [
    "root = kdtree.KDTree([(12,34), (25,36), (9,10), (5, 15), (30, 20), (20, 27)], [10, 20, 12, 20, 30, 28])"
   ]
  },
  {
   "cell_type": "code",
   "execution_count": 3,
   "id": "e27c9fe1",
   "metadata": {},
   "outputs": [
    {
     "data": {
      "text/plain": [
       "(20, 27)"
      ]
     },
     "execution_count": 3,
     "metadata": {},
     "output_type": "execute_result"
    }
   ],
   "source": [
    "root.root.val"
   ]
  },
  {
   "cell_type": "code",
   "execution_count": 4,
   "id": "3a52a53b",
   "metadata": {},
   "outputs": [
    {
     "data": {
      "text/plain": [
       "{'[(20, 27), 0, 6, 28, 30, 10]': ['[(5, 15), 1, 3, 20, 20, 10]',\n",
       "  '[(25, 36), 1, 2, 20, 30, 20]'],\n",
       " '[(5, 15), 1, 3, 20, 20, 10]': ['[(9, 10), 0, 1, 12, 12, 12]',\n",
       "  '[(12, 34), 0, 1, 10, 10, 10]'],\n",
       " '[(25, 36), 1, 2, 20, 30, 20]': ['[(30, 20), 0, 1, 30, 30, 30]'],\n",
       " '[(9, 10), 0, 1, 12, 12, 12]': [],\n",
       " '[(12, 34), 0, 1, 10, 10, 10]': [],\n",
       " '[(30, 20), 0, 1, 30, 30, 30]': []}"
      ]
     },
     "execution_count": 4,
     "metadata": {},
     "output_type": "execute_result"
    }
   ],
   "source": [
    "kdtree.KDTree.dfs(root.root)"
   ]
  },
  {
   "cell_type": "code",
   "execution_count": 6,
   "id": "994f87c2",
   "metadata": {},
   "outputs": [
    {
     "name": "stdout",
     "output_type": "stream",
     "text": [
      "(20, 27) (10, 20) 13\n",
      "(5, 15) (10, 20) 2\n",
      "(12, 34) (10, 20) 12\n",
      "(12, 34) (10, 20) 12\n",
      "(25, 36) (10, 20) 1\n",
      "(30, 20) (10, 20) 20\n"
     ]
    },
    {
     "data": {
      "text/plain": [
       "[(-12, (12, 34)), (-12, (12, 34)), (-1, (25, 36)), (-2, (5, 15))]"
      ]
     },
     "execution_count": 6,
     "metadata": {},
     "output_type": "execute_result"
    }
   ],
   "source": [
    "kdtree.KDTree.nnKDTree((10, 20), root.root, 15, 3)"
   ]
  },
  {
   "cell_type": "code",
   "execution_count": 5,
   "id": "9d78ae2e",
   "metadata": {},
   "outputs": [],
   "source": [
    "import numpy as np\n",
    "from scipy.spatial import KDTree\n",
    "rng = np.random.default_rng()\n",
    "points1 = rng.random((5, 2))\n",
    "kd_tree1 = KDTree(points1)"
   ]
  },
  {
   "cell_type": "code",
   "execution_count": 13,
   "id": "64fe5000",
   "metadata": {},
   "outputs": [
    {
     "data": {
      "text/plain": [
       "array([[0.12460949, 0.61256601],\n",
       "       [0.85281389, 0.83264741],\n",
       "       [0.90247586, 0.18649793],\n",
       "       [0.92813434, 0.52118004],\n",
       "       [0.9730995 , 0.85761803]])"
      ]
     },
     "execution_count": 13,
     "metadata": {},
     "output_type": "execute_result"
    }
   ],
   "source": []
  },
  {
   "cell_type": "code",
   "execution_count": 50,
   "id": "b1a1ae0e",
   "metadata": {},
   "outputs": [
    {
     "name": "stderr",
     "output_type": "stream",
     "text": [
      "<ipython-input-50-eebbf608cbc1>:1: VisibleDeprecationWarning: Creating an ndarray from ragged nested sequences (which is a list-or-tuple of lists-or-tuples-or ndarrays with different lengths or shapes) is deprecated. If you meant to do this, you must specify 'dtype=object' when creating the ndarray\n",
      "  a = np.array([(1, 3, 5), (2, 3)])\n"
     ]
    }
   ],
   "source": [
    "a = np.array([(1, 3, 5), (2, 3)])"
   ]
  },
  {
   "cell_type": "code",
   "execution_count": 32,
   "id": "72620d38",
   "metadata": {},
   "outputs": [],
   "source": [
    "import matplotlib.pyplot as plt"
   ]
  },
  {
   "cell_type": "code",
   "execution_count": 33,
   "id": "470de8f3",
   "metadata": {},
   "outputs": [
    {
     "data": {
      "image/png": "[encoded data removed]",
      "text/plain": [
       "<Figure size 432x288 with 1 Axes>"
      ]
     },
     "metadata": {
      "needs_background": "light"
     },
     "output_type": "display_data"
    }
   ],
   "source": [
    "\n",
    "import matplotlib.pyplot as plt\n",
    " \n",
    " \n",
    "x =[5, 7, 8, 7, 2, 17, 2, 9,\n",
    "    4, 11, 12, 9, 6]\n",
    " \n",
    "plt.scatter(x, y, c =\"blue\")\n",
    " \n",
    "# To show the plot\n",
    "plt.show()"
   ]
  },
  {
   "cell_type": "code",
   "execution_count": null,
   "id": "3c0a34d9",
   "metadata": {},
   "outputs": [],
   "source": []
  }
 ],
 "metadata": {
  "kernelspec": {
   "display_name": "Python 3",
   "language": "python",
   "name": "python3"
  },
  "language_info": {
   "codemirror_mode": {
    "name": "ipython",
    "version": 3
   },
   "file_extension": ".py",
   "mimetype": "text/x-python",
   "name": "python",
   "nbconvert_exporter": "python",
   "pygments_lexer": "ipython3",
   "version": "3.8.8"
  },
  "toc": {
   "base_numbering": 1,
   "nav_menu": {},
   "number_sections": true,
   "sideBar": true,
   "skip_h1_title": false,
   "title_cell": "Table of Contents",
   "title_sidebar": "Contents",
   "toc_cell": true,
   "toc_position": {},
   "toc_section_display": true,
   "toc_window_display": false
  }
 },
 "nbformat": 4,
 "nbformat_minor": 5
}
