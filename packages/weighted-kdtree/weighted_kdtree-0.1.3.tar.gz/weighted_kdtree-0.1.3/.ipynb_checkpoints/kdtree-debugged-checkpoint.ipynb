{
 "cells": [
  {
   "cell_type": "markdown",
   "id": "876fab78",
   "metadata": {
    "toc": true
   },
   "source": [
    "<h1>Table of Contents<span class=\"tocSkip\"></span></h1>\n",
    "<div class=\"toc\"><ul class=\"toc-item\"></ul></div>"
   ]
  },
  {
   "cell_type": "code",
   "execution_count": 1,
   "id": "25ad53f7",
   "metadata": {},
   "outputs": [],
   "source": [
    "import statistics\n",
    "import numpy as np\n",
    "import sys"
   ]
  },
  {
   "cell_type": "code",
   "execution_count": 2,
   "id": "d000bed0",
   "metadata": {},
   "outputs": [],
   "source": [
    "class Node:\n",
    "    def __init__(self, val, weight, axis=0):\n",
    "        self.right = self.left = None\n",
    "        print('Adding',val,weight)\n",
    "        self.val = val\n",
    "        self.weight = weight\n",
    "        self.axis = axis\n",
    "        "
   ]
  },
  {
   "cell_type": "code",
   "execution_count": 3,
   "id": "b719d800",
   "metadata": {},
   "outputs": [],
   "source": [
    "def Weights(points, weights, medianIndex):\n",
    "    n = len(points)\n",
    "    \n",
    "    if weights==None:\n",
    "        weights = np.zeros(n)\n",
    "    elif len(weights)==n:\n",
    "        weights = np.asarray(weights)\n",
    "    else:\n",
    "        print('Incompatible weight size', file=sys.stderr)\n",
    "        \n",
    "    weightedPoints = [[points[i],weights[i]] for i in range(len(points))]\n",
    "    sortweightedPoints = sorted(weightedPoints, key = lambda x : x[0])\n",
    "    weightlist = [i[-1] for i in sortweightedPoints]\n",
    "    leftWeights = weightlist[:medianIndex]\n",
    "    rightWeights = weightlist[medianIndex + 1:]\n",
    "    mid = weightlist[medianIndex]\n",
    "    \n",
    "    return mid, leftWeights, rightWeights"
   ]
  },
  {
   "cell_type": "code",
   "execution_count": null,
   "id": "2e8af4be",
   "metadata": {},
   "outputs": [],
   "source": [
    "def buildTree(po):"
   ]
  },
  {
   "cell_type": "code",
   "execution_count": 4,
   "id": "6d28fa9c",
   "metadata": {},
   "outputs": [],
   "source": [
    "def buildKdTree(points, hyperplaneAxis = 0, weights = None, debug=False):\n",
    "    \n",
    "    dim = len(points[0])\n",
    "    nxtHyperplaneAxis = (hyperplaneAxis + 1) % dim\n",
    "    \n",
    "    if len(points) == 1:\n",
    "        return Node(points[0], weights[0], nxtHyperplaneAxis)\n",
    "    \n",
    "    medianIndex = len(points) // 2\n",
    "    sortedPoints = sorted(points, key=lambda x: x[0])\n",
    "\n",
    "    median = sortedPoints[medianIndex]\n",
    "    leftPoints = sortedPoints[:medianIndex]\n",
    "    rightPoints = sortedPoints[medianIndex + 1:]\n",
    "    \n",
    "    medianWeight, leftWeights, rightWeights = Weights(points, weights, medianIndex)\n",
    "\n",
    "    if (debug): \n",
    "        print(\"sorted based on: \", dim , sortedPoints)\n",
    "        print(\"median: \", median)\n",
    "        print(\"leftPoints: \", leftPoints)\n",
    "        print(\"rightPoints: \", rightPoints)\n",
    "        print(\"hyperplane axis: \", hyperplaneAxis)\n",
    "    \n",
    "    root = Node(median, medianWeight, hyperplaneAxis)\n",
    "    root.left = buildKdTree(leftPoints, nxtHyperplaneAxis, leftWeights) if len(leftPoints) > 0 else []\n",
    "    root.right = buildKdTree(rightPoints, nxtHyperplaneAxis, rightWeights) if len(rightPoints) > 0 else []\n",
    "    \n",
    "    return root"
   ]
  },
  {
   "cell_type": "code",
   "execution_count": 5,
   "id": "465b50ac",
   "metadata": {},
   "outputs": [],
   "source": [
    "def preorderTraversal(root):\n",
    "    res, stack = [], [root]\n",
    "    while stack:\n",
    "        node = stack.pop()\n",
    "        if node:\n",
    "            res.insert(0, [node.val,node.weight])\n",
    "            stack.append(node.left)\n",
    "            stack.append(node.right)\n",
    "    print(\"res: \", res)\n",
    "    return res"
   ]
  },
  {
   "cell_type": "code",
   "execution_count": 6,
   "id": "5ef7c419",
   "metadata": {},
   "outputs": [],
   "source": [
    "def dfs(root):\n",
    "    res, stack = [], [root]\n",
    "    while stack:\n",
    "        for i in range(len(stack)):\n",
    "            node = stack.pop(0)\n",
    "            if node:\n",
    "                stack.append(node.left)\n",
    "                stack.append(node.right)\n",
    "                print(\"root: \", [node.val, node.weight] if node else \"None\", \"left: \", [node.left.val, node.left.weight] if node.left else \"None\", \"right: \", [node.right.val, node.right.weight] if node.right else \"None\", \"axis: \", \"None\" if node.axis == \"None\" else node.axis)    "
   ]
  },
  {
   "cell_type": "code",
   "execution_count": 7,
   "id": "e5c107f6",
   "metadata": {},
   "outputs": [],
   "source": [
    "points = np.array([(86, 338), (164, 360), (75, 58), (5,358), (400, 346), (281, 411), (136, 39), (324, 54),(296,332)])"
   ]
  },
  {
   "cell_type": "code",
   "execution_count": 8,
   "id": "c1c128cb",
   "metadata": {},
   "outputs": [],
   "source": [
    "# points = np.array([(86, 338, 13), (164, 360, 34), (75, 58, 190), (5,358, 120),(400, 346, 290), (281, 411, 342), (136, 39, 456),(324, 54, 100),(296,332, 230)])"
   ]
  },
  {
   "cell_type": "code",
   "execution_count": 54,
   "id": "0579a808",
   "metadata": {},
   "outputs": [],
   "source": [
    "#points = [[30,45], [20,30], [10,20], [40,30], [25,35]]"
   ]
  },
  {
   "cell_type": "code",
   "execution_count": 257,
   "id": "eedea019",
   "metadata": {},
   "outputs": [],
   "source": [
    "points = [[3,2], [8,4], [6,5]]\n",
    "weights = [1,2,1]"
   ]
  },
  {
   "cell_type": "code",
   "execution_count": 55,
   "id": "91a5d95d",
   "metadata": {},
   "outputs": [],
   "source": [
    "weights = [10, 5, 20, 15, 30]"
   ]
  },
  {
   "cell_type": "code",
   "execution_count": 258,
   "id": "ce9b4dfd",
   "metadata": {},
   "outputs": [
    {
     "name": "stdout",
     "output_type": "stream",
     "text": [
      "sorted based on:  2 [[3, 2], [6, 5], [8, 4]]\n",
      "median:  [6, 5]\n",
      "leftPoints:  [[3, 2]]\n",
      "rightPoints:  [[8, 4]]\n",
      "hyperplane axis:  2\n",
      "Adding [6, 5] 1\n",
      "Adding [3, 2] 1\n",
      "Adding [8, 4] 2\n"
     ]
    }
   ],
   "source": [
    "root = buildKdTree(points,2,weights,True)"
   ]
  },
  {
   "cell_type": "code",
   "execution_count": 259,
   "id": "8dd5114e",
   "metadata": {},
   "outputs": [
    {
     "name": "stdout",
     "output_type": "stream",
     "text": [
      "res:  [[[3, 2], 1], [[8, 4], 2], [[6, 5], 1]]\n"
     ]
    }
   ],
   "source": [
    "preorder = preorderTraversal(root)"
   ]
  },
  {
   "cell_type": "code",
   "execution_count": 260,
   "id": "60827372",
   "metadata": {},
   "outputs": [
    {
     "name": "stdout",
     "output_type": "stream",
     "text": [
      "root:  [[6, 5], 1] left:  [[3, 2], 1] right:  [[8, 4], 2] axis:  2\n",
      "root:  [[3, 2], 1] left:  None right:  None axis:  0\n",
      "root:  [[8, 4], 2] left:  None right:  None axis:  0\n"
     ]
    }
   ],
   "source": [
    "dfs(root)"
   ]
  },
  {
   "cell_type": "code",
   "execution_count": 122,
   "id": "d0e5d9d6",
   "metadata": {},
   "outputs": [],
   "source": [
    "def checkRight(node : Node, bottom_left : list, top_right : list) -> bool:\n",
    "    if (node.val[0] > bottom_left[0]) and (node.val[0] < top_right[0]) and (node.val[1] > bottom_left[1]) and (node.val[1] < top_right[1]):\n",
    "        return True\n",
    "    else:\n",
    "        return False"
   ]
  },
  {
   "cell_type": "code",
   "execution_count": 123,
   "id": "13065655",
   "metadata": {},
   "outputs": [],
   "source": [
    "def checkLeft(node : Node, top_left : list, bottom_right : list) -> bool:\n",
    "    if (node.val[0] > bottom_right[0]) and (node.val[0] < top_left[0]) and (node.val[1] > top_left[1]) and (node.val[1] < bottom_right[1]):\n",
    "        return True\n",
    "    else:\n",
    "        return False"
   ]
  },
  {
   "cell_type": "code",
   "execution_count": 124,
   "id": "0940903f",
   "metadata": {},
   "outputs": [],
   "source": [
    "def isLeaf(node : Node) -> bool:\n",
    "    if node==None:\n",
    "        return False\n",
    "    if node.left==None and node.right==None:\n",
    "        return True\n",
    "    return False"
   ]
  },
  {
   "cell_type": "code",
   "execution_count": 125,
   "id": "674f1448",
   "metadata": {},
   "outputs": [],
   "source": [
    "def ToNode(node : list) -> Node:\n",
    "    N = Node(node)\n",
    "    return N"
   ]
  },
  {
   "cell_type": "code",
   "execution_count": 126,
   "id": "f017672d",
   "metadata": {},
   "outputs": [],
   "source": [
    "def CountQueryPoints(node : Node, p1 : list, p2 : list) ->int:\n",
    "    \n",
    "    NoOfPoints = 0\n",
    "    if p1[0]==p2[0]:\n",
    "        print('Collinear points')\n",
    "        return\n",
    "    else:\n",
    "        slope = (p2[1] - p1[1])/(p2[0] - p1[0])\n",
    "        \n",
    "        if slope == 0:\n",
    "            print('Collinear points')\n",
    "            return\n",
    "        \n",
    "        else:\n",
    "            #RIGHT DIAGONAL\n",
    "            if isLeaf(node) and slope > 0:\n",
    "                if checkRight(node, p1, p2):\n",
    "                    NoOfPoints += 1\n",
    "                    \n",
    "            #LEFT DIAGONAL\n",
    "            elif isLeaf(node) and slope < 0:\n",
    "                if checkLeft(node, p1, p2):\n",
    "                    NoOfPoints += 1\n",
    "                    \n",
    "            else:\n",
    "                #RIGHT DIAGONAL\n",
    "                if slope > 0:\n",
    "                    NoOfPoints += int(checkRight(node,p1,p2)==True)\n",
    "                    \n",
    "                #LEFT DIAGONAL    \n",
    "                if slope < 0:\n",
    "                    NoOfPoints += int(checkLeft(node,p1,p2)==True)\n",
    "                    \n",
    "                if type(node.left) == list: \n",
    "                    Nl = ToNode(node.left)\n",
    "                else: \n",
    "                    Nl = node.left\n",
    "                if type(node.right) == list: \n",
    "                    Nr = ToNode(node.right)\n",
    "                else: \n",
    "                    Nr = node.right\n",
    "                NoOfPoints += CountQueryPoints(Nl, p1, p2)\n",
    "                NoOfPoints += CountQueryPoints(Nr, p1, p2)\n",
    "            \n",
    "    return NoOfPoints"
   ]
  },
  {
   "cell_type": "code",
   "execution_count": 148,
   "id": "1352cfcb",
   "metadata": {},
   "outputs": [],
   "source": [
    "def Max(root):\n",
    "    Max, stack = [], []\n",
    "    cur = root\n",
    "    while cur or stack:\n",
    "        while cur:\n",
    "            stack.append(cur)\n",
    "            Max.append(cur.weight)\n",
    "            cur = cur.left\n",
    "        cur = stack.pop()\n",
    "        cur = cur.right\n",
    "        node = stack.pop()\n",
    "    return max(Max)"
   ]
  },
  {
   "cell_type": "code",
   "execution_count": 149,
   "id": "69ca8a57",
   "metadata": {},
   "outputs": [],
   "source": [
    "def Min(root):\n",
    "    Max, stack = [], []\n",
    "    cur = root\n",
    "    while cur or stack:\n",
    "        while cur:\n",
    "            stack.append(cur)\n",
    "            Max.append(cur.weight)\n",
    "            cur = cur.left\n",
    "        cur = stack.pop()\n",
    "        cur = cur.right\n",
    "        node = stack.pop()\n",
    "    return min(Max)"
   ]
  },
  {
   "cell_type": "code",
   "execution_count": 177,
   "id": "6164356c",
   "metadata": {},
   "outputs": [
    {
     "name": "stdout",
     "output_type": "stream",
     "text": [
      "Iteration 0\n",
      "No.of points 3 No.of weights 3\n",
      "Weighted Points [[[3, 2], 1], [[8, 4], 2], [[6, 5], 1]]\n",
      "Points [[3, 2], [8, 4], [6, 5]]\n",
      "Sorted Points [[3, 2], [6, 5], [8, 4]]\n",
      "Weight List [1, 1, 2]\n",
      "1\n",
      "Left Points = [[3, 2]]\n",
      "Right Points = [[8, 4]]\n",
      "Left Weights = [1]\n",
      "Right Weights = [2]\n",
      "Adding [6] 5\n",
      "Value= [6] Weight= 5\n",
      "Iteration 1\n",
      "No.of points 1 No.of weights 1\n",
      "Adding [3, 2] 0\n",
      "Iteration 1\n",
      "No.of points 1 No.of weights 1\n",
      "Adding [8, 4] 0\n",
      "5\n",
      "0\n"
     ]
    }
   ],
   "source": [
    "points = [[3,2], [8,4], [6,5]]\n",
    "weights = [1,2,1]\n",
    "root = buildKdTree(points,2,weights,0)\n",
    "print(Max(root))\n",
    "print(Min(root))"
   ]
  },
  {
   "cell_type": "code",
   "execution_count": 127,
   "id": "fd2bf176",
   "metadata": {},
   "outputs": [],
   "source": [
    "points = np.array([(0,1),(3,3),(4,6),(5,5),(10,10),(12,13),(13,14)])"
   ]
  },
  {
   "cell_type": "code",
   "execution_count": 128,
   "id": "fda55398",
   "metadata": {},
   "outputs": [],
   "source": [
    "root = buildKdTree(points, 2, 0)"
   ]
  },
  {
   "cell_type": "code",
   "execution_count": 129,
   "id": "28f95b02",
   "metadata": {},
   "outputs": [
    {
     "name": "stdout",
     "output_type": "stream",
     "text": [
      "root:  [5 5] left:  [3 3] right:  [12 13] axis:  2\n",
      "root:  [3 3] left:  [0 1] right:  [4 6] axis:  1\n",
      "root:  [12 13] left:  [10 10] right:  [13 14] axis:  1\n",
      "root:  [0 1] left:  None right:  None axis:  1\n",
      "root:  [4 6] left:  None right:  None axis:  1\n",
      "root:  [10 10] left:  None right:  None axis:  1\n",
      "root:  [13 14] left:  None right:  None axis:  1\n"
     ]
    }
   ],
   "source": [
    "dfs(root)"
   ]
  },
  {
   "cell_type": "code",
   "execution_count": 130,
   "id": "aaf1e5c6",
   "metadata": {},
   "outputs": [
    {
     "name": "stdout",
     "output_type": "stream",
     "text": [
      "7\n"
     ]
    }
   ],
   "source": [
    "#Case: Right Diagonal\n",
    "print(CountQueryPoints(root,[-1,-1],[15,15]))"
   ]
  },
  {
   "cell_type": "code",
   "execution_count": 131,
   "id": "f6f3a56a",
   "metadata": {},
   "outputs": [
    {
     "name": "stdout",
     "output_type": "stream",
     "text": [
      "0\n"
     ]
    }
   ],
   "source": [
    "#Case: Left Diagonal\n",
    "print(CountQueryPoints(root,[-15,15],[-1,1]))"
   ]
  },
  {
   "cell_type": "code",
   "execution_count": 132,
   "id": "9fd3ff9e",
   "metadata": {},
   "outputs": [
    {
     "name": "stdout",
     "output_type": "stream",
     "text": [
      "Collinear points\n",
      "None\n"
     ]
    }
   ],
   "source": [
    "#Case: Collinear\n",
    "print(CountQueryPoints(root,[-1,-1],[15,-1]))"
   ]
  },
  {
   "cell_type": "code",
   "execution_count": 133,
   "id": "a166d51e",
   "metadata": {},
   "outputs": [
    {
     "name": "stdout",
     "output_type": "stream",
     "text": [
      "Collinear points\n",
      "None\n"
     ]
    }
   ],
   "source": [
    "#Case: Collinear\n",
    "print(CountQueryPoints(root,[-1,-1],[-1,15]))"
   ]
  },
  {
   "cell_type": "code",
   "execution_count": 134,
   "id": "fef8f282",
   "metadata": {},
   "outputs": [],
   "source": [
    "def NNKDTree(queryPoint, root, threshold, noOfPoints):\n",
    "    listOfNeighbors = []\n",
    "    return NNKDTreeRec(queryPoint, root, threshold, noOfPoints, listOfNeighbors)"
   ]
  },
  {
   "cell_type": "code",
   "execution_count": 161,
   "id": "a0f53c10",
   "metadata": {},
   "outputs": [],
   "source": [
    "def squareDistance(p1, p2):\n",
    "    retValue = abs((p1[0] - p2[0]) ^ 2 - (p1[1] - p2[1]) ^ 2)\n",
    "    print(\"p1: \", p1, \"p2: \", p2, \"print val: \", retValue)\n",
    "    return retValue"
   ]
  },
  {
   "cell_type": "code",
   "execution_count": 170,
   "id": "54c71898",
   "metadata": {},
   "outputs": [],
   "source": [
    "def NNKDTreeRec(queryPoint, root, threshold, noOfPoints, listOfNeighbors):\n",
    "    if not root:\n",
    "        return listOfNeighbors\n",
    "    else:\n",
    "        if squareDistance(root.val, queryPoint) < threshold and len(listOfNeighbors) < noOfPoints:\n",
    "            listOfNeighbors.append(root.val)\n",
    "        if root.left == None and root.right == None:\n",
    "            return listOfNeighbors\n",
    "        else:\n",
    "            T1, T2 = None, None\n",
    "            query = queryPoint[0] if root.axis == 0 else queryPoint[1]\n",
    "            currRoot = root.val[0] if root.axis == 0 else root.val[1]\n",
    "                \n",
    "            if query < root.val[0] if root.axis == 0 else root.val[1]:\n",
    "                T1 = root.left\n",
    "                T2 = root.right\n",
    "            else:\n",
    "                T1 = root.right\n",
    "                T2 = root.left\n",
    "            leftList = NNKDTreeRec(queryPoint, T1, threshold, noOfPoints, listOfNeighbors)\n",
    "            if len(leftList) < noOfPoints and squareDistance(root.val, queryPoint) < threshold:\n",
    "                rightList = NNKDTreeRec(queryPoint, root.right, threshold, noOfPoints, listOfNeighbors)\n",
    "            else:\n",
    "                rightList = NNKDTreeRec(queryPoint, root.right, threshold, noOfPoints, listOfNeighbors)\n",
    "    return listOfNeighbors"
   ]
  },
  {
   "cell_type": "code",
   "execution_count": 171,
   "id": "3f97e802",
   "metadata": {},
   "outputs": [
    {
     "data": {
      "text/plain": [
       "(array([[ 0,  1],\n",
       "        [ 3,  3],\n",
       "        [ 4,  6],\n",
       "        [ 5,  5],\n",
       "        [10, 10],\n",
       "        [12, 13],\n",
       "        [13, 14]]),\n",
       " array([5, 5]))"
      ]
     },
     "execution_count": 171,
     "metadata": {},
     "output_type": "execute_result"
    }
   ],
   "source": [
    "points, root.val"
   ]
  },
  {
   "cell_type": "code",
   "execution_count": 176,
   "id": "0a5274bd",
   "metadata": {},
   "outputs": [
    {
     "name": "stdout",
     "output_type": "stream",
     "text": [
      "p1:  [5 5] p2:  [6, 4] print val:  4\n",
      "p1:  [3 3] p2:  [6, 4] print val:  4\n",
      "p1:  [0 1] p2:  [6, 4] print val:  3\n",
      "p1:  [3 3] p2:  [6, 4] print val:  4\n",
      "p1:  [4 6] p2:  [6, 4] print val:  4\n",
      "p1:  [5 5] p2:  [6, 4] print val:  4\n",
      "p1:  [12 13] p2:  [6, 4] print val:  3\n",
      "p1:  [10 10] p2:  [6, 4] print val:  6\n",
      "p1:  [12 13] p2:  [6, 4] print val:  3\n",
      "p1:  [13 14] p2:  [6, 4] print val:  3\n"
     ]
    },
    {
     "data": {
      "text/plain": [
       "[array([5, 5]),\n",
       " array([3, 3]),\n",
       " array([0, 1]),\n",
       " array([4, 6]),\n",
       " array([12, 13]),\n",
       " array([13, 14])]"
      ]
     },
     "execution_count": 176,
     "metadata": {},
     "output_type": "execute_result"
    }
   ],
   "source": [
    "NNKDTree([6,4], root, 5, 8)"
   ]
  }
 ],
 "metadata": {
  "kernelspec": {
   "display_name": "Python 3",
   "language": "python",
   "name": "python3"
  },
  "language_info": {
   "codemirror_mode": {
    "name": "ipython",
    "version": 3
   },
   "file_extension": ".py",
   "mimetype": "text/x-python",
   "name": "python",
   "nbconvert_exporter": "python",
   "pygments_lexer": "ipython3",
   "version": "3.8.8"
  },
  "toc": {
   "base_numbering": 1,
   "nav_menu": {},
   "number_sections": true,
   "sideBar": true,
   "skip_h1_title": false,
   "title_cell": "Table of Contents",
   "title_sidebar": "Contents",
   "toc_cell": true,
   "toc_position": {},
   "toc_section_display": true,
   "toc_window_display": false
  }
 },
 "nbformat": 4,
 "nbformat_minor": 5
}
