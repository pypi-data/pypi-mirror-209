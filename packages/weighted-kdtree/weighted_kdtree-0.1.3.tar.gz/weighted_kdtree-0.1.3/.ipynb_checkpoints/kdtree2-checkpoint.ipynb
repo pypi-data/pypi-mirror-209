{
 "cells": [
  {
   "cell_type": "markdown",
   "id": "876fab78",
   "metadata": {
    "toc": true
   },
   "source": [
    "<h1>Table of Contents<span class=\"tocSkip\"></span></h1>\n",
    "<div class=\"toc\"><ul class=\"toc-item\"></ul></div>"
   ]
  },
  {
   "cell_type": "code",
   "execution_count": 219,
   "id": "25ad53f7",
   "metadata": {},
   "outputs": [],
   "source": [
    "import statistics\n",
    "import numpy as np"
   ]
  },
  {
   "cell_type": "code",
   "execution_count": 220,
   "id": "d000bed0",
   "metadata": {},
   "outputs": [],
   "source": [
    "class Node:\n",
    "    def __init__(self, val, axis=0):\n",
    "        self.right = self.left = None\n",
    "        self.val = val\n",
    "        self.axis = axis"
   ]
  },
  {
   "cell_type": "code",
   "execution_count": 293,
   "id": "6d28fa9c",
   "metadata": {},
   "outputs": [],
   "source": [
    "def buildKdTree(points, hyperplaneAxis = 0, debug=False):\n",
    "#     nextDim = (axis + 1) % 2\n",
    "    dim = len(points[0])\n",
    "    nxtHyperplaneAxis = (hyperplaneAxis + 1) % dim\n",
    "    \n",
    "    if len(points) == 1:\n",
    "        print(\"Created node: \", points)\n",
    "        return Node(points[0], nxtHyperplaneAxis)\n",
    "    \n",
    "    sortedPoints = sorted(points, key=lambda x: x[0])\n",
    "    \n",
    "    medianIndex = len(points) // 2\n",
    "    median = sortedPoints[medianIndex]\n",
    "    leftPoints = sortedPoints[:medianIndex]\n",
    "    rightPoints = sortedPoints[medianIndex+1:]\n",
    "    \n",
    "    if (debug): \n",
    "        print(\"sorted based on: \", dim , sortedPoints)\n",
    "        print(\"median: \", median)\n",
    "        print(\"leftPoints: \", leftPoints)\n",
    "        print(\"rightPoints: \", rightPoints)\n",
    "        print(\"hyperplane axis: \", hyperplaneAxis)\n",
    "    \n",
    "    root = Node(median, hyperplaneAxis)\n",
    "    print(\"Created outside function: \", root)\n",
    "    root.left = buildKdTree(leftPoints, nxtHyperplaneAxis) if len(leftPoints) > 0 else []\n",
    "    root.right = buildKdTree(rightPoints, nxtHyperplaneAxis) if len(rightPoints) > 0 else []\n",
    "    \n",
    "    return root"
   ]
  },
  {
   "cell_type": "code",
   "execution_count": 294,
   "id": "465b50ac",
   "metadata": {},
   "outputs": [],
   "source": [
    "def preorderTraversal(root):\n",
    "    res, stack = [], [root]\n",
    "    while stack:\n",
    "        node = stack.pop()\n",
    "        if node:\n",
    "            res.insert(0, node.val)\n",
    "            stack.append(node.left)\n",
    "            stack.append(node.right)\n",
    "    print(\"res: \", res)\n",
    "    return res"
   ]
  },
  {
   "cell_type": "code",
   "execution_count": 295,
   "id": "5ef7c419",
   "metadata": {},
   "outputs": [],
   "source": [
    "def dfs(root):\n",
    "    res, stack = [], [root]\n",
    "    while stack:\n",
    "        for i in range(len(stack)):\n",
    "            node = stack.pop(0)\n",
    "            if node:\n",
    "                stack.append(node.left)\n",
    "                stack.append(node.right)\n",
    "                print(\"root: \",node.val if node else \"None\", \"left: \", node.left.val if node.left else \"None\", \"right: \", node.right.val if node.right else \"None\", \"axis: \", \"None\" if node.axis == \"None\" else node.axis)    "
   ]
  },
  {
   "cell_type": "code",
   "execution_count": 296,
   "id": "c6116838",
   "metadata": {},
   "outputs": [],
   "source": [
    "def getAdjacencyList(root):\n",
    "    res, stack = {}, [root]\n",
    "    while stack:\n",
    "        for i in range(len(stack)):\n",
    "            node = stack.pop(0)\n",
    "            print(node)\n",
    "            if node:\n",
    "                stack.append(node.left)\n",
    "                stack.append(node.right)\n",
    "                if node:\n",
    "                    print(node, node.left, node.right)\n",
    "                    res[node] = [node.left.val if node.left else \"None\", node.right.val if node.left else \"None\"]\n",
    "    return res"
   ]
  },
  {
   "cell_type": "code",
   "execution_count": 297,
   "id": "5f486426",
   "metadata": {},
   "outputs": [
    {
     "name": "stdout",
     "output_type": "stream",
     "text": [
      "<__main__.Node object at 0x000001CDFB97E850>\n",
      "<__main__.Node object at 0x000001CDFB97E850> <__main__.Node object at 0x000001CDFB97E8B0> <__main__.Node object at 0x000001CDFB97E340>\n",
      "<__main__.Node object at 0x000001CDFB97E8B0>\n",
      "<__main__.Node object at 0x000001CDFB97E8B0> <__main__.Node object at 0x000001CDFB97EAF0> <__main__.Node object at 0x000001CDFB97EE50>\n",
      "<__main__.Node object at 0x000001CDFB97E340>\n",
      "<__main__.Node object at 0x000001CDFB97E340> <__main__.Node object at 0x000001CDFB97EF10> <__main__.Node object at 0x000001CDF904A4C0>\n",
      "<__main__.Node object at 0x000001CDFB97EAF0>\n",
      "<__main__.Node object at 0x000001CDFB97EAF0> <__main__.Node object at 0x000001CDFB97ECD0> []\n"
     ]
    },
    {
     "ename": "AttributeError",
     "evalue": "'list' object has no attribute 'val'",
     "output_type": "error",
     "traceback": [
      "\u001b[1;31m---------------------------------------------------------------------------\u001b[0m",
      "\u001b[1;31mAttributeError\u001b[0m                            Traceback (most recent call last)",
      "\u001b[1;32m<ipython-input-297-1e41ef1ca86a>\u001b[0m in \u001b[0;36m<module>\u001b[1;34m\u001b[0m\n\u001b[1;32m----> 1\u001b[1;33m \u001b[0mgetAdjacencyList\u001b[0m\u001b[1;33m(\u001b[0m\u001b[0mroot\u001b[0m\u001b[1;33m)\u001b[0m\u001b[1;33m\u001b[0m\u001b[1;33m\u001b[0m\u001b[0m\n\u001b[0m",
      "\u001b[1;32m<ipython-input-296-3b64013daad4>\u001b[0m in \u001b[0;36mgetAdjacencyList\u001b[1;34m(root)\u001b[0m\n\u001b[0;32m     10\u001b[0m                 \u001b[1;32mif\u001b[0m \u001b[0mnode\u001b[0m\u001b[1;33m:\u001b[0m\u001b[1;33m\u001b[0m\u001b[1;33m\u001b[0m\u001b[0m\n\u001b[0;32m     11\u001b[0m                     \u001b[0mprint\u001b[0m\u001b[1;33m(\u001b[0m\u001b[0mnode\u001b[0m\u001b[1;33m,\u001b[0m \u001b[0mnode\u001b[0m\u001b[1;33m.\u001b[0m\u001b[0mleft\u001b[0m\u001b[1;33m,\u001b[0m \u001b[0mnode\u001b[0m\u001b[1;33m.\u001b[0m\u001b[0mright\u001b[0m\u001b[1;33m)\u001b[0m\u001b[1;33m\u001b[0m\u001b[1;33m\u001b[0m\u001b[0m\n\u001b[1;32m---> 12\u001b[1;33m                     \u001b[0mres\u001b[0m\u001b[1;33m[\u001b[0m\u001b[0mnode\u001b[0m\u001b[1;33m]\u001b[0m \u001b[1;33m=\u001b[0m \u001b[1;33m[\u001b[0m\u001b[0mnode\u001b[0m\u001b[1;33m.\u001b[0m\u001b[0mleft\u001b[0m\u001b[1;33m.\u001b[0m\u001b[0mval\u001b[0m \u001b[1;32mif\u001b[0m \u001b[0mnode\u001b[0m\u001b[1;33m.\u001b[0m\u001b[0mleft\u001b[0m \u001b[1;32melse\u001b[0m \u001b[1;34m\"None\"\u001b[0m\u001b[1;33m,\u001b[0m \u001b[0mnode\u001b[0m\u001b[1;33m.\u001b[0m\u001b[0mright\u001b[0m\u001b[1;33m.\u001b[0m\u001b[0mval\u001b[0m \u001b[1;32mif\u001b[0m \u001b[0mnode\u001b[0m\u001b[1;33m.\u001b[0m\u001b[0mleft\u001b[0m \u001b[1;32melse\u001b[0m \u001b[1;34m\"None\"\u001b[0m\u001b[1;33m]\u001b[0m\u001b[1;33m\u001b[0m\u001b[1;33m\u001b[0m\u001b[0m\n\u001b[0m\u001b[0;32m     13\u001b[0m     \u001b[1;32mreturn\u001b[0m \u001b[0mres\u001b[0m\u001b[1;33m\u001b[0m\u001b[1;33m\u001b[0m\u001b[0m\n",
      "\u001b[1;31mAttributeError\u001b[0m: 'list' object has no attribute 'val'"
     ]
    }
   ],
   "source": [
    "getAdjacencyList(root)"
   ]
  },
  {
   "cell_type": "code",
   "execution_count": 298,
   "id": "e5c107f6",
   "metadata": {},
   "outputs": [],
   "source": [
    "points = np.array([(86, 338), (164, 360), (75, 58), (5,358), (400, 346), (281, 411), (136, 39), (324, 54),(296,332)])"
   ]
  },
  {
   "cell_type": "code",
   "execution_count": 299,
   "id": "c1c128cb",
   "metadata": {},
   "outputs": [],
   "source": [
    "# points = np.array([(86, 338, 13), (164, 360, 34), (75, 58, 190), (5,358, 120),(400, 346, 290), (281, 411, 342), (136, 39, 456),(324, 54, 100),(296,332, 230)])"
   ]
  },
  {
   "cell_type": "code",
   "execution_count": 300,
   "id": "ce9b4dfd",
   "metadata": {},
   "outputs": [
    {
     "name": "stdout",
     "output_type": "stream",
     "text": [
      "sorted based on:  2 [array([  5, 358]), array([75, 58]), array([ 86, 338]), array([136,  39]), array([164, 360]), array([281, 411]), array([296, 332]), array([324,  54]), array([400, 346])]\n",
      "median:  [164 360]\n",
      "leftPoints:  [array([  5, 358]), array([75, 58]), array([ 86, 338]), array([136,  39])]\n",
      "rightPoints:  [array([281, 411]), array([296, 332]), array([324,  54]), array([400, 346])]\n",
      "hyperplane axis:  1\n",
      "Created outside function:  <__main__.Node object at 0x000001CDFB97EE80>\n",
      "Created outside function:  <__main__.Node object at 0x000001CDFB95E550>\n",
      "Created outside function:  <__main__.Node object at 0x000001CDFB95ED90>\n",
      "Created node:  [array([  5, 358])]\n",
      "Created node:  [array([136,  39])]\n",
      "Created outside function:  <__main__.Node object at 0x000001CDFB975790>\n",
      "Created outside function:  <__main__.Node object at 0x000001CDFB975760>\n",
      "Created node:  [array([281, 411])]\n",
      "Created node:  [array([400, 346])]\n"
     ]
    }
   ],
   "source": [
    "root = buildKdTree(points, 1, True)"
   ]
  },
  {
   "cell_type": "code",
   "execution_count": 301,
   "id": "8dd5114e",
   "metadata": {},
   "outputs": [
    {
     "name": "stdout",
     "output_type": "stream",
     "text": [
      "res:  [array([  5, 358]), array([75, 58]), array([136,  39]), array([ 86, 338]), array([281, 411]), array([296, 332]), array([400, 346]), array([324,  54]), array([164, 360])]\n"
     ]
    }
   ],
   "source": [
    "preorder = preorderTraversal(root)"
   ]
  },
  {
   "cell_type": "code",
   "execution_count": 302,
   "id": "60827372",
   "metadata": {},
   "outputs": [
    {
     "name": "stdout",
     "output_type": "stream",
     "text": [
      "root:  [164 360] left:  [ 86 338] right:  [324  54] axis:  1\n",
      "root:  [ 86 338] left:  [75 58] right:  [136  39] axis:  0\n",
      "root:  [324  54] left:  [296 332] right:  [400 346] axis:  0\n",
      "root:  [75 58] left:  [  5 358] right:  None axis:  1\n",
      "root:  [136  39] left:  None right:  None axis:  0\n",
      "root:  [296 332] left:  [281 411] right:  None axis:  1\n",
      "root:  [400 346] left:  None right:  None axis:  0\n",
      "root:  [  5 358] left:  None right:  None axis:  1\n",
      "root:  [281 411] left:  None right:  None axis:  1\n"
     ]
    }
   ],
   "source": [
    "dfs(root)"
   ]
  },
  {
   "cell_type": "code",
   "execution_count": 303,
   "id": "d0e5d9d6",
   "metadata": {},
   "outputs": [],
   "source": [
    "def checkRight(node : Node, bottom_left : list, top_right : list) -> bool:\n",
    "    if (node.val[0] > bottom_left[0]) and (node.val[0] < top_right[0]) and (node.val[1] > bottom_left[1]) and (node.val[1] < top_right[1]):\n",
    "        return True\n",
    "    else:\n",
    "        return False"
   ]
  },
  {
   "cell_type": "code",
   "execution_count": 190,
   "id": "13065655",
   "metadata": {},
   "outputs": [],
   "source": [
    "def checkLeft(node : Node, top_left : list, bottom_right : list) -> bool:\n",
    "    if (node.val[0] > bottom_right[0]) and (node.val[0] < top_left[0]) and (node.val[1] > top_left[1]) and (node.val[1] < bottom_right[1]):\n",
    "        return True\n",
    "    else:\n",
    "        return False"
   ]
  },
  {
   "cell_type": "code",
   "execution_count": 191,
   "id": "0940903f",
   "metadata": {},
   "outputs": [],
   "source": [
    "def isLeaf(node : Node) -> bool:\n",
    "    if node==None:\n",
    "        return False\n",
    "    if node.left==None and node.right==None:\n",
    "        return True\n",
    "    return False"
   ]
  },
  {
   "cell_type": "code",
   "execution_count": 192,
   "id": "674f1448",
   "metadata": {},
   "outputs": [],
   "source": [
    "def ToNode(node : list) -> Node:\n",
    "    N = Node(node)\n",
    "    return N"
   ]
  },
  {
   "cell_type": "code",
   "execution_count": 193,
   "id": "f017672d",
   "metadata": {},
   "outputs": [],
   "source": [
    "def CountQueryPoints(node : Node, p1 : list, p2 : list) ->int:\n",
    "    \n",
    "    NoOfPoints = 0\n",
    "    if p1[0]==p2[0]:\n",
    "        print('Collinear points')\n",
    "        return\n",
    "    else:\n",
    "        slope = (p2[1] - p1[1])/(p2[0] - p1[0])\n",
    "        \n",
    "        if slope == 0:\n",
    "            print('Collinear points')\n",
    "            return\n",
    "        \n",
    "        else:\n",
    "            #RIGHT DIAGONAL\n",
    "            if isLeaf(node) and slope > 0:\n",
    "                if checkRight(node, p1, p2):\n",
    "                    NoOfPoints += 1\n",
    "                    \n",
    "            #LEFT DIAGONAL\n",
    "            elif isLeaf(node) and slope < 0:\n",
    "                if checkLeft(node, p1, p2):\n",
    "                    NoOfPoints += 1\n",
    "                    \n",
    "            else:\n",
    "                #RIGHT DIAGONAL\n",
    "                if slope > 0:\n",
    "                    NoOfPoints += int(checkRight(node,p1,p2)==True)\n",
    "                    \n",
    "                #LEFT DIAGONAL    \n",
    "                if slope < 0:\n",
    "                    NoOfPoints += int(checkLeft(node,p1,p2)==True)\n",
    "                    \n",
    "                if type(node.left) == list: \n",
    "                    Nl = ToNode(node.left)\n",
    "                else: \n",
    "                    Nl = node.left\n",
    "                if type(node.right) == list: \n",
    "                    Nr = ToNode(node.right)\n",
    "                else: \n",
    "                    Nr = node.right\n",
    "                NoOfPoints += CountQueryPoints(Nl, p1, p2)\n",
    "                NoOfPoints += CountQueryPoints(Nr, p1, p2)\n",
    "            \n",
    "    return NoOfPoints"
   ]
  },
  {
   "cell_type": "code",
   "execution_count": 194,
   "id": "fd2bf176",
   "metadata": {},
   "outputs": [],
   "source": [
    "points = np.array([(0,1),(3,3),(4,6),(5,5),(10,10),(12,13),(13,14)])"
   ]
  },
  {
   "cell_type": "code",
   "execution_count": 195,
   "id": "fda55398",
   "metadata": {},
   "outputs": [],
   "source": [
    "root = buildKdTree(points, 2, 0)"
   ]
  },
  {
   "cell_type": "code",
   "execution_count": 196,
   "id": "28f95b02",
   "metadata": {},
   "outputs": [
    {
     "name": "stdout",
     "output_type": "stream",
     "text": [
      "root:  [5 5] left:  [3 3] right:  [12 13] axis:  2\n",
      "root:  [3 3] left:  [0 1] right:  [4 6] axis:  1\n",
      "root:  [12 13] left:  [10 10] right:  [13 14] axis:  1\n",
      "root:  [0 1] left:  None right:  None axis:  1\n",
      "root:  [4 6] left:  None right:  None axis:  1\n",
      "root:  [10 10] left:  None right:  None axis:  1\n",
      "root:  [13 14] left:  None right:  None axis:  1\n"
     ]
    }
   ],
   "source": [
    "dfs(root)"
   ]
  },
  {
   "cell_type": "code",
   "execution_count": 197,
   "id": "aaf1e5c6",
   "metadata": {},
   "outputs": [
    {
     "name": "stdout",
     "output_type": "stream",
     "text": [
      "7\n"
     ]
    }
   ],
   "source": [
    "#Case: Right Diagonal\n",
    "print(CountQueryPoints(root,[-1,-1],[15,15]))"
   ]
  },
  {
   "cell_type": "code",
   "execution_count": 198,
   "id": "f6f3a56a",
   "metadata": {},
   "outputs": [
    {
     "name": "stdout",
     "output_type": "stream",
     "text": [
      "0\n"
     ]
    }
   ],
   "source": [
    "#Case: Left Diagonal\n",
    "print(CountQueryPoints(root,[-15,15],[-1,1]))"
   ]
  },
  {
   "cell_type": "code",
   "execution_count": 199,
   "id": "9fd3ff9e",
   "metadata": {},
   "outputs": [
    {
     "name": "stdout",
     "output_type": "stream",
     "text": [
      "Collinear points\n",
      "None\n"
     ]
    }
   ],
   "source": [
    "#Case: Collinear\n",
    "print(CountQueryPoints(root,[-1,-1],[15,-1]))"
   ]
  },
  {
   "cell_type": "code",
   "execution_count": 200,
   "id": "a166d51e",
   "metadata": {},
   "outputs": [
    {
     "name": "stdout",
     "output_type": "stream",
     "text": [
      "Collinear points\n",
      "None\n"
     ]
    }
   ],
   "source": [
    "#Case: Collinear\n",
    "print(CountQueryPoints(root,[-1,-1],[-1,15]))"
   ]
  },
  {
   "cell_type": "code",
   "execution_count": 201,
   "id": "fef8f282",
   "metadata": {},
   "outputs": [],
   "source": [
    "def NNKDTree(queryPoint, root, threshold, noOfPoints):\n",
    "    listOfNeighbors = []\n",
    "    return NNKDTreeRec(queryPoint, root, threshold, noOfPoints, listOfNeighbors)"
   ]
  },
  {
   "cell_type": "code",
   "execution_count": 202,
   "id": "a0f53c10",
   "metadata": {},
   "outputs": [],
   "source": [
    "def squareDistance(p1, p2):\n",
    "    retValue = abs((p1[0] - p2[0]) ^ 2 - (p1[1] - p2[1]) ^ 2)\n",
    "    print(\"p1: \", p1, \"p2: \", p2, \"print val: \", retValue)\n",
    "    return retValue"
   ]
  },
  {
   "cell_type": "code",
   "execution_count": 203,
   "id": "54c71898",
   "metadata": {},
   "outputs": [],
   "source": [
    "def NNKDTreeRec(queryPoint, root, threshold, noOfPoints, listOfNeighbors):\n",
    "    if not root:\n",
    "        return listOfNeighbors\n",
    "    else:\n",
    "        if squareDistance(root.val, queryPoint) < threshold and len(listOfNeighbors) < noOfPoints:\n",
    "            listOfNeighbors.append(root.val)\n",
    "        if root.left == None and root.right == None:\n",
    "            return listOfNeighbors\n",
    "        else:\n",
    "            T1, T2 = None, None\n",
    "            query = queryPoint[0] if root.axis == 0 else queryPoint[1]\n",
    "            currRoot = root.val[0] if root.axis == 0 else root.val[1]\n",
    "                \n",
    "            if query < root.val[0] if root.axis == 0 else root.val[1]:\n",
    "                T1 = root.left\n",
    "                T2 = root.right\n",
    "            else:\n",
    "                T1 = root.right\n",
    "                T2 = root.left\n",
    "            leftList = NNKDTreeRec(queryPoint, T1, threshold, noOfPoints, listOfNeighbors)\n",
    "            if len(leftList) < noOfPoints and squareDistance(root.val, queryPoint) < threshold:\n",
    "                rightList = NNKDTreeRec(queryPoint, root.right, threshold, noOfPoints, listOfNeighbors)\n",
    "            else:\n",
    "                rightList = NNKDTreeRec(queryPoint, root.right, threshold, noOfPoints, listOfNeighbors)\n",
    "    return listOfNeighbors"
   ]
  },
  {
   "cell_type": "code",
   "execution_count": 204,
   "id": "0a5274bd",
   "metadata": {},
   "outputs": [
    {
     "name": "stdout",
     "output_type": "stream",
     "text": [
      "p1:  [5 5] p2:  [6, 4] print val:  4\n",
      "p1:  [3 3] p2:  [6, 4] print val:  4\n",
      "p1:  [0 1] p2:  [6, 4] print val:  3\n",
      "p1:  [3 3] p2:  [6, 4] print val:  4\n",
      "p1:  [4 6] p2:  [6, 4] print val:  4\n",
      "p1:  [5 5] p2:  [6, 4] print val:  4\n",
      "p1:  [12 13] p2:  [6, 4] print val:  3\n",
      "p1:  [10 10] p2:  [6, 4] print val:  6\n",
      "p1:  [12 13] p2:  [6, 4] print val:  3\n",
      "p1:  [13 14] p2:  [6, 4] print val:  3\n"
     ]
    },
    {
     "data": {
      "text/plain": [
       "[array([5, 5]),\n",
       " array([3, 3]),\n",
       " array([0, 1]),\n",
       " array([4, 6]),\n",
       " array([12, 13]),\n",
       " array([13, 14])]"
      ]
     },
     "execution_count": 204,
     "metadata": {},
     "output_type": "execute_result"
    }
   ],
   "source": [
    "NNKDTree([6,4], root, 5, 8)"
   ]
  },
  {
   "cell_type": "code",
   "execution_count": 208,
   "id": "ee61da81",
   "metadata": {},
   "outputs": [],
   "source": [
    "def add(root, points):\n",
    "    currNode = root\n",
    "    currAxis = currNode.axis\n",
    "    dim = len(points)\n",
    "    while currNode:\n",
    "        if currNode.left and points[currAxis] < currNode.val[currAxis]:\n",
    "            if currNode.left == None:\n",
    "                currNode.left = Node(points, (currAxis + 1) % dim)\n",
    "            else: currNode = currNode.left\n",
    "        else:\n",
    "            if currNode.right == None:\n",
    "                currNode.right = Node(points, (currAxis + 1) % dim)"
   ]
  },
  {
   "cell_type": "code",
   "execution_count": 207,
   "id": "6cf9dff2",
   "metadata": {},
   "outputs": [
    {
     "data": {
      "text/plain": [
       "3"
      ]
     },
     "execution_count": 207,
     "metadata": {},
     "output_type": "execute_result"
    }
   ],
   "source": [
    "root.left.val[0]"
   ]
  },
  {
   "cell_type": "code",
   "execution_count": 214,
   "id": "f8d092e4",
   "metadata": {},
   "outputs": [
    {
     "name": "stdout",
     "output_type": "stream",
     "text": [
      "Requirement already satisfied: networkx in c:\\users\\msidda2\\anaconda3\\lib\\site-packages (2.5)\n",
      "Collecting networkx\n",
      "  Downloading networkx-3.1-py3-none-any.whl (2.1 MB)\n",
      "Installing collected packages: networkx\n",
      "  Attempting uninstall: networkx\n",
      "    Found existing installation: networkx 2.5\n",
      "    Uninstalling networkx-2.5:\n",
      "      Successfully uninstalled networkx-2.5\n",
      "Successfully installed networkx-3.1\n",
      "Note: you may need to restart the kernel to use updated packages.\n"
     ]
    }
   ],
   "source": [
    "pip install --upgrade networkx"
   ]
  },
  {
   "cell_type": "code",
   "execution_count": 218,
   "id": "904e9c3d",
   "metadata": {},
   "outputs": [
    {
     "data": {
      "text/plain": [
       "'tree.pdf'"
      ]
     },
     "execution_count": 218,
     "metadata": {},
     "output_type": "execute_result"
    }
   ],
   "source": [
    "from graphviz import Digraph\n",
    "\n",
    "# Define the tree\n",
    "tree = {\n",
    "    'A': ['B', 'C'],\n",
    "    'B': ['D', 'E'],\n",
    "    'C': ['F', 'G'],\n",
    "    'D': [],\n",
    "    'E': [],\n",
    "    'F': [],\n",
    "    'G': []\n",
    "}\n",
    "\n",
    "# Create a Graphviz Digraph\n",
    "dot = Digraph(comment='Tree')\n",
    "\n",
    "# Add nodes and edges to the Digraph\n",
    "for node in tree:\n",
    "    dot.node(node)\n",
    "\n",
    "for node, edges in tree.items():\n",
    "    for edge in edges:\n",
    "        dot.edge(node, edge)\n",
    "\n",
    "# Visualize the Digraph\n",
    "dot.render('tree', view=True)\n"
   ]
  },
  {
   "cell_type": "code",
   "execution_count": 233,
   "id": "173568cc",
   "metadata": {},
   "outputs": [
    {
     "ename": "NameError",
     "evalue": "name 'getAdjacency' is not defined",
     "output_type": "error",
     "traceback": [
      "\u001b[1;31m---------------------------------------------------------------------------\u001b[0m",
      "\u001b[1;31mNameError\u001b[0m                                 Traceback (most recent call last)",
      "\u001b[1;32m<ipython-input-233-ece6778f61aa>\u001b[0m in \u001b[0;36m<module>\u001b[1;34m\u001b[0m\n\u001b[1;32m----> 1\u001b[1;33m \u001b[0mgetAdjacency\u001b[0m\u001b[1;33m(\u001b[0m\u001b[0mroot\u001b[0m\u001b[1;33m)\u001b[0m\u001b[1;33m\u001b[0m\u001b[1;33m\u001b[0m\u001b[0m\n\u001b[0m",
      "\u001b[1;31mNameError\u001b[0m: name 'getAdjacency' is not defined"
     ]
    }
   ],
   "source": [
    "getAdjacency(root)"
   ]
  }
 ],
 "metadata": {
  "kernelspec": {
   "display_name": "Python 3",
   "language": "python",
   "name": "python3"
  },
  "language_info": {
   "codemirror_mode": {
    "name": "ipython",
    "version": 3
   },
   "file_extension": ".py",
   "mimetype": "text/x-python",
   "name": "python",
   "nbconvert_exporter": "python",
   "pygments_lexer": "ipython3",
   "version": "3.8.8"
  },
  "toc": {
   "base_numbering": 1,
   "nav_menu": {},
   "number_sections": true,
   "sideBar": true,
   "skip_h1_title": false,
   "title_cell": "Table of Contents",
   "title_sidebar": "Contents",
   "toc_cell": true,
   "toc_position": {},
   "toc_section_display": true,
   "toc_window_display": false
  }
 },
 "nbformat": 4,
 "nbformat_minor": 5
}
