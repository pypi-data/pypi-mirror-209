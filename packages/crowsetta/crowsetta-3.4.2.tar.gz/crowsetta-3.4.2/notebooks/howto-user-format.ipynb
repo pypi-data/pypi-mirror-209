{
 "cells": [
  {
   "cell_type": "raw",
   "metadata": {},
   "source": [
    ".. _howto-user-format:"
   ]
  },
  {
   "cell_type": "markdown",
   "metadata": {},
   "source": [
    "# **How to use** `crowsetta` **with your own annotation format**\n",
    "\n",
    "This section shows you how to use `crowsetta` for working with your own annotation format for vocalizations (or some other format not currently built into the library).\n",
    "\n",
    "You can get the Jupyter notebook for this section by going to https://github.com/NickleDave/crowsetta and clicking on the big green \"Clone or Download\" button on the right side of the screen. You can then find this notebook and others in the `crowsetta/notebooks/` directory."
   ]
  },
  {
   "cell_type": "markdown",
   "metadata": {},
   "source": [
    "## Steps to using `crowsetta` with your own annotation format\n",
    "\n",
    "Below we'll walk through a case study for using `crowsetta` with your annotation format. Here's an outline of the steps we'll go through:\n",
    "\n",
    "1. get your annotations into some variables in Python (maybe you already wrote code to do this)\n",
    "2. use one of the `Sequence` \"factory functions\" (we'll explain what that means) to conveniently turn your annotations into `Sequence`s\n",
    "3. turn the code you just wrote into a function that takes annotation files as an argument, and returns `Sequence`s\n",
    "4. make a `Transcriber` that knows to use this function when you tell it you want to turn your annotation files into `Sequence`s"
   ]
  },
  {
   "cell_type": "markdown",
   "metadata": {},
   "source": [
    "## Case Study: the `BatLAB` format\n",
    "\n",
    "Let's say you work in the Schumacher lab, studying bat vocalizations. The lab research specialist, Alfred, has spent years writing an application in Labview to capture bat calls, called `SoNAR` (\"Sound and Neural Activity Recorder\"). Alfred has also written a GUI in MATLAB called `BatLAB` that lets you interactively annotate audio files containing the bats' calls, and saves the annotations in `.mat` (MATLAB data) files.\n",
    "\n",
    "You've started to work with Python to analyze your data, because you like the data science and machine learning libraries. However, you find yourself writing the same code over and over again to unpack the annotations from the `.mat` files made by `BatLAB`. Every time you use the code for a new analysis, you have to modify it slightly. The code has some weird, hard-to-read lines to deal with the complicated MATLAB `struct`s created by `BatLAB` and how they load into Python. The code also has several repetitive steps to deal with the idiosyncracies of how `SoNAR` and `BatLAB` save data: unit conversion, data types, etcetera. You can't change `BatLAB` or `SoNAR` though, because that's Alfred's job, and everyone else's code that was written ten years ago (and still works!) expects those idiosyncracies.\n",
    "\n",
    "You know that it's a good idea to turn the code you wrote into a function (because you took part in a [Software Carpentry](https://software-carpentry.org/) workshop and then you read [this paper](https://journals.plos.org/ploscompbiol/article?id=10.1371/journal.pcbi.1005510).) You figured out which bits of the code will be common to all your projects and you make that into a function, called `parse_batlab_mat`. At first you just copy and paste it into all your projects. Then you decide you also want to save everyone else in your lab the effort of writing the same code, so you put the script on your lab's Github page. This is a step in the right direction, although `parse_batlab_mat` gives you back a Python `list` of `dict`s, and you end up typing a lot of things like:\n",
    "\n",
    "```Python\n",
    "labels = annot_list[0]['seg_type']\n",
    "onsets = annot_list[0]['seg_onsets']\n",
    "offsets = annot_list[0]['seg_offsets']\n",
    "```\n",
    "\n",
    "Typing all those very similar `['keys']` in particular gets kind of annoying and makes you wonder if you should spend your vacation learning how to use one of those hacker text editors like `vim`.\n",
    "\n",
    "But before you can worry about that, you get back reviews of your paper in *PLOS Comp. Bio.* called \"Pidgeon Bat: Emergence of Dialects in Colonies of Multiple Bat Species\". Reviewer #3 doesn't buy your conclusions (and you are pretty sure from the way they write that it is Oswald Cobblepot, professor emeritus of ethology at Metropolitan University of Fruitville, Florida, and author of the seminal review from 1982, \"Bat Calls: A Completely Innate Behavior Encoded Genetically\"). You want to share your data with the world, mainly to mollify reviewer #3. The problem is that this reviewer (if he is who you think he is) only knows how to write Fortran code and is definitely not going to figure out how to copy and use your function `parse_batlab_mat` so he can run your analysis scripts and reproduce your figures for himself.\n",
    "\n",
    "What you really want is to share your data and write your code in a way that doesn't depend on anyone knowing anything about `BatLAB` or`SoNAR` and how those programs save data and annotations. This is where `crowsetta` comes to your rescue."
   ]
  },
  {
   "cell_type": "markdown",
   "metadata": {},
   "source": [
    "Okay, now that we've set up some background for our case study, let's go through the steps we outlined above.\n",
    "\n",
    "### 1. get your annotation into some variables in Python\n",
    "\n",
    "Let's look at this complicated data structure that we have our annotation in. The `BatLAB` GUI saves annotation into `annotation.mat` files with two variables:  \n",
    "  - `filenames`: a vector where each element is the name of an audio file\n",
    "  - `annotations`: a `struct` that has a record for each element in `filenames`, and that record is the annotation corresponding to the audio file with the same index in `filenames`"
   ]
  },
  {
   "cell_type": "code",
   "execution_count": 1,
   "metadata": {},
   "outputs": [
    {
     "name": "stdout",
     "output_type": "stream",
     "text": [
      "variables in .mat file: ['filenames', 'annotations']\n"
     ]
    }
   ],
   "source": [
    "from scipy.io import loadmat\n",
    "bat1_annotation = loadmat('bat1_annotation.mat')\n",
    "print('variables in .mat file:',\n",
    "      [var for var in list(bat1_annotation.keys())\n",
    "       if not var.startswith('__')]\n",
    "     )"
   ]
  },
  {
   "cell_type": "markdown",
   "metadata": {},
   "source": [
    "Below is the code you wrote to unpack the `.mat` files. Like we said above, the code has some weird, hard-to-read lines to deal with the way that the complicated MATLAB `struct`s created by `BatLAB` load into Python, such as calling `tolist()` just to unpack an array, and some logic to make sure the labels get loaded correctly into a numpy array. And the code has several repetitive steps to deal with the idiosyncracies of `SoNAR` and `BatLAB`, like converting the start and stop times of the calls from seconds back to Hertz so you can find those times in the raw audio files."
   ]
  },
  {
   "cell_type": "code",
   "execution_count": 2,
   "metadata": {},
   "outputs": [],
   "source": [
    "# %load -r 7-8,14-46 parsebat.py\n",
    "mat = loadmat(mat_file, squeeze_me=True)\n",
    "annot_list = []\n",
    "for filename, annotation in zip(mat['filenames'], mat['annotations']):\n",
    "    # below, .tolist() does not actually create a list,\n",
    "    # instead gets ndarray out of a zero-length ndarray of dtype=object.\n",
    "    # This is just weirdness that results from loading complicated data\n",
    "    # structure in .mat file.\n",
    "    seg_start_times = annotation['segFileStartTimes'].tolist()\n",
    "    seg_end_times = annotation['segFileEndTimes'].tolist()\n",
    "    seg_types = annotation['segType'].tolist()\n",
    "    if type(seg_types) == int:\n",
    "        # this happens when there's only one syllable in the file\n",
    "        # with only one corresponding label\n",
    "        seg_types = np.asarray([seg_types])  # so make it a one-element list\n",
    "    elif type(seg_types) == np.ndarray:\n",
    "        # this should happen whenever there's more than one label\n",
    "        pass\n",
    "    else:\n",
    "        # something unexpected happened\n",
    "        raise ValueError(\"Unable to load labels from {}, because \"\n",
    "                         \"the segType parsed as type {} which is \"\n",
    "                         \"not recognized.\".format(filename,\n",
    "                                                  type(seg_types)))\n",
    "    samp_freq = annotation['fs'].tolist()\n",
    "    seg_start_times_Hz = np.round(seg_start_times * samp_freq).astype(int)\n",
    "    seg_end_times_Hz = np.round(seg_end_times * samp_freq).astype(int)\n",
    "    annot_dict = {\n",
    "        'audio_file': filename,\n",
    "        'seg_types': seg_types,\n",
    "        'seg_start_times': seg_start_times,\n",
    "        'seg_end_times': seg_end_times,\n",
    "        'seg_start_times_Hz': seg_start_times_Hz,\n",
    "        'seg_end_times_Hz': seg_end_times_Hz,\n",
    "    }\n",
    "    annot_list.append(annot_dict)"
   ]
  },
  {
   "cell_type": "markdown",
   "metadata": {},
   "source": [
    "When it runs on a file, you end up with an `annot_list` where each item in the list is an `annot_dict` that contains the annotations for a file, like this:\n",
    "```Python\n",
    "annot_dict = {\n",
    "    'seg_types': array([1, 1, 5, 2, ...]),\n",
    "    'seq_start_times': array([0.00297619, 0.279125, 0.55564729,... ]),\n",
    "    ... # end times, start and end times in Hertz\n",
    "}\n",
    "```\n",
    "\n",
    "Again, as we said above, you turned your code into a function to make it easier to use across projects:"
   ]
  },
  {
   "cell_type": "markdown",
   "metadata": {},
   "source": [
    "```Python\n",
    "import numpy as np\n",
    "from scipy.io import loadmat\n",
    "\n",
    "def parse_batlab_mat(mat_file):\n",
    "    \"\"\"parse batlab annotation.mat file\"\"\"\n",
    "    # code from above\n",
    "    return annot_list\n",
    "```"
   ]
  },
  {
   "cell_type": "markdown",
   "metadata": {},
   "source": [
    "As we'll see in a moment, all you need to do is take this code you already wrote, and instead of returning your `list` of `dict`s, you return a list of `Sequence`s.\n",
    "\n",
    "### 2. use one of the `Sequence` \"factory functions\" to conveniently turn annotations in your format into `Sequence`s\n",
    "\n",
    "First, to get the `Sequence`, we'll use a \"factory function\", which just means it's a function built into the `Sequence` class that gives us back an instance of a `Sequence`. One such factory function is `Sequence.from_keyword`. Here's an example of using it:"
   ]
  },
  {
   "cell_type": "code",
   "execution_count": 2,
   "metadata": {},
   "outputs": [
    {
     "name": "stdout",
     "output_type": "stream",
     "text": [
      "a_sequence:\n",
      " <Sequence with 15 segments>\n"
     ]
    }
   ],
   "source": [
    "from parsebat import parse_batlab_mat\n",
    "from crowsetta.sequence import Sequence\n",
    "\n",
    "# you, using the function you already wrote\n",
    "annot_list = parse_batlab_mat(mat_file='bat1_annotation.mat')\n",
    "\n",
    "# you have annotation from one file in an \"annot_dict\"\n",
    "annot_dict = annot_list[0]\n",
    "\n",
    "a_sequence = Sequence.from_keyword(labels=annot_dict['seg_types'],\n",
    "                                   onsets_s=annot_dict['seg_start_times'],\n",
    "                                   offsets_s=annot_dict['seg_end_times'],\n",
    "                                   onset_inds=annot_dict['seg_start_times_Hz'],\n",
    "                                   offset_inds=annot_dict['seg_end_times_Hz'],\n",
    "                                   file=annot_dict['audio_file'])\n",
    "print(\"a_sequence:\\n\", a_sequence)"
   ]
  },
  {
   "cell_type": "markdown",
   "metadata": {},
   "source": [
    "### 3. turn the code we just wrote into a function that takes annotation files as an argument, and returns `Sequence`s\n",
    "Again, you pretty much already wrote this.\n",
    "Just take your `parse_batlab_mat` function from above and change a couple lines.\n",
    "First, you're going to return a list of sequences instead of your `annot_list` from before. You probably want to make that explicit in your function."
   ]
  },
  {
   "cell_type": "code",
   "execution_count": 6,
   "metadata": {},
   "outputs": [],
   "source": [
    "# %load -r 4-7,24-25 batlab2seq.py\n",
    "from crowsetta.sequence import Sequence\n",
    "\n",
    "\n",
    "def batlab2seq(mat_file):\n",
    "    mat = loadmat(mat_file, squeeze_me=True)\n",
    "    seq_list = []"
   ]
  },
  {
   "cell_type": "markdown",
   "metadata": {},
   "source": [
    "Then at the end of your main loop, instead of making your `annot_dict`, you'll make a new `Sequence` from each file using the `from_keyword` factory function, append the new `Sequence` to your `seq_list`, and then finally return that `list` of `Sequence`s."
   ]
  },
  {
   "cell_type": "code",
   "execution_count": 7,
   "metadata": {},
   "outputs": [],
   "source": [
    "# %load -r 56-63 batlab2seq.py\n",
    "seq = Sequence.from_keyword(file=filename,\n",
    "                            labels=seg_types,\n",
    "                            onsets_s=seg_start_times,\n",
    "                            offsets_s=seg_end_times,\n",
    "                            onset_inds=seg_start_times_Hz,\n",
    "                            offset_inds=seg_end_times_Hz)\n",
    "seq_list.append(seq)\n",
    "    return seq_list"
   ]
  },
  {
   "cell_type": "markdown",
   "metadata": {},
   "source": [
    "> If this still feels too wordy and repetitive for you, you can put `segFileStartTimes`,\n",
    "> `segFileEndTimes`, et al., into a Python `dict` with `keys` corresponding to the \n",
    "> parameters for `Segment.from_keyword`:\n",
    "\n",
    "> ```Python\n",
    "> annot_dict = {\n",
    ">     'file': filename,\n",
    ">     'onsets_s': annotation['segFileStartTimes'].tolist(),\n",
    ">     'offsets_s': annotation['segFileEndTimes'].tolist()\n",
    ">     'labels': seg_types\n",
    "> }\n",
    "> ```\n",
    "\n",
    "> > Note here that you only have to specify the onsets an offsets of segments *either* \n",
    "> > in seconds or in Hertz (but you can define both).\n",
    "\n",
    "> and then use another factory function, `Sequence.from_dict`, to create the `Sequence`.\n",
    "> ```Python\n",
    "> seq_list.append(Sequence.from_dict(annot_dict))\n",
    "> ```\n",
    "\n",
    "Now that you have a function that takes annotation files and return `Sequence`s, call it something like `batlab2seq` and put it in a file that ends with `.py`, e.g. `batlab2seq.py`. This is also known as a Python **module** (as you'll need to know below). To see the entire example, check out the [batlab2seq.py](./batlab2seq.py) file in this folder (and compare it with [parsebat.py](./parsebat.py))."
   ]
  },
  {
   "cell_type": "markdown",
   "metadata": {},
   "source": [
    "### 4. make a `Transcriber` that knows to use this function when you tell it you want to turn your annotation files into `Sequence`s\n",
    "\n",
    "If you have worked with `Crowsetta` already, or gone through the tutorial, you know that we can work with a `Transcriber` that does the work of making `Sequence`s of `Segment`s from annotation files for us. We create a new instance of a `Transcriber` by writing something like this:\n",
    "\n",
    "```Python\n",
    "scribe = Transcriber()\n",
    "```\n",
    "\n",
    "You will do the same thing here, but to tell the `Transcriber` how to work with your format, you will pass an argument for the `user_config` parameter when you create a new one:\n",
    "\n",
    "```Python\n",
    "scribe = Transcriber(user_config=your_config)\n",
    "```\n",
    "\n",
    "The argument you pass for `user_config` will be a Python dictionary with the following structure:\n",
    "```Python\n",
    "your_config = {\n",
    "    'batlab': {\n",
    "        'module': 'batlab2seq.py',\n",
    "        'to_seq': 'batlab2seq',\n",
    "        'to_csv': 'None',\n",
    "        'to_format': 'None',\n",
    "    }\n",
    "}\n",
    "```\n",
    "\n",
    "Notice that this a dictionary of dictionaries, where each `key` in the top-level `dict` is the name of a user-defined format, here `batlab`. If you had multiple formats to use, you would add more `dict`s inside the top-level `dict`.\n",
    "\n",
    "The `value` for each `key` is another Python dictionary that tells the `Transcriber` what functions to use from your module when you call one of its methods and specify this format. In the example above, you're telling the `Transcriber` that when you say `file_format='batlab'`, it should use functions from the `batlab2seq.py` module. More specifically, when you call `scribe.to_seq(file='annotation.mat', file_format='batlab')`, it should use the `batlab2seq` function to convert your annotation into `Sequence`s. Notice also that you can specify `'None'` for `to_csv` and `to_format` (which would be a function that converts `Sequence`s back to the `BatLAB` format).\n",
    "\n",
    "Here's what it looks like to do all of that in a few lines of code:"
   ]
  },
  {
   "cell_type": "code",
   "execution_count": 4,
   "metadata": {},
   "outputs": [],
   "source": [
    "from crowsetta import Transcriber\n",
    "\n",
    "your_config = {\n",
    "    'batlab': {\n",
    "        'module': 'batlab2seq.py',\n",
    "        'to_seq': 'batlab2seq',\n",
    "    }\n",
    "}\n",
    "\n",
    "scribe = Transcriber(user_config=your_config)\n",
    "\n",
    "seq_list = scribe.to_seq(file='bat1_annotation.mat', file_format='batlab')"
   ]
  },
  {
   "cell_type": "markdown",
   "metadata": {},
   "source": [
    "And now, just like you do with the built-in formats, you get back a list of `Sequence`s from your format: "
   ]
  },
  {
   "cell_type": "code",
   "execution_count": 6,
   "metadata": {},
   "outputs": [
    {
     "name": "stdout",
     "output_type": "stream",
     "text": [
      "First item in seq_list: <Sequence with 15 segments>\n",
      "First segment in first sequence:\n",
      "Segment(label='1', file='lbr3009_0005_2017_04_27_06_14_46.wav', onset_s=0.0029761904761904934, offset_s=0.14150432900432905, onset_ind=143, offset_ind=6792)\n"
     ]
    }
   ],
   "source": [
    "print(f'First item in seq_list: {seq_list[0]}')\n",
    "print(f'First segment in first sequence:\\n{seq_list[0].segments[0]}')"
   ]
  },
  {
   "cell_type": "markdown",
   "metadata": {},
   "source": [
    "Notice that we also get a `to_csv` function for free:"
   ]
  },
  {
   "cell_type": "code",
   "execution_count": 9,
   "metadata": {},
   "outputs": [
    {
     "name": "stdout",
     "output_type": "stream",
     "text": [
      "['label', 'onset_s', 'offset_s', 'onset_ind', 'offset_ind', 'file']\n",
      "['1', '0.0029761904761904934', '0.14150432900432905', '143', '6792', 'lbr3009_0005_2017_04_27_06_14_46.wav']\n",
      "['1', '0.279125', '0.504625', '13398', '24222', 'lbr3009_0005_2017_04_27_06_14_46.wav']\n",
      "['5', '0.5556472915365209', '0.5962916666666667', '26671', '28622', 'lbr3009_0005_2017_04_27_06_14_46.wav']\n"
     ]
    }
   ],
   "source": [
    "scribe.to_csv(file='bat1_annotation.mat', \n",
    "              csv_filename='test.csv',\n",
    "              file_format='batlab')\n",
    "\n",
    "import csv\n",
    "with open('test.csv', 'r', newline='') as csv_file:\n",
    "     reader = csv.reader(csv_file)\n",
    "     for _ in range(4):\n",
    "         print(next(reader))"
   ]
  },
  {
   "cell_type": "markdown",
   "metadata": {},
   "source": [
    "How does that work? Well, as long as we can convert our annotation format to `Sequence`s, then we can pass those `Sequence`s to the `crowsetta.csv2seq` function, which will output them as a `.csv` file. The `Transcriber` does this by default. Under the hood, when you make a new `Transcriber` with your `user_config`, it wraps your `format2seq` function and the `seq2csv` function into one, using the function `crowsetta.csv.toseq_func_to_csv`."
   ]
  },
  {
   "cell_type": "markdown",
   "metadata": {},
   "source": [
    "## Summary\n",
    "Now you have seen in detail the process of working with your own annotation format in `Crowsetta`. Here's a review of the steps, with some code snippets worked in to tie it all together:\n",
    "\n",
    "\n",
    "1. get your annotations into some variables in Python, perhaps using code you already wrote\n",
    "2. use one of the `Sequence` \"factory functions\" to conveniently turn your annotations into `Sequence`s\n",
    "3. turn all that code into a function that takes annotation files as an argument, and returns `Sequence`s\n",
    "\n",
    "> steps 1-3 will give you something like this\n",
    "> in a file named something like `myformat.py`\n",
    "> ```Python\n",
    "> from Crowsetta import Sequence\n",
    "> \n",
    "> \n",
    "> def myformat2seq(my_format_files):\n",
    ">     seq_list = []\n",
    ">     for format_file in my_format_files:\n",
    ">     # load annotation into some Python variables, e.g. a dictionary\n",
    ">         annot_dict = magic_annotation_unpacking_function(format_file)\n",
    ">         seq = Sequence.from_dict(annot_dict)\n",
    ">         seq_list.append(seq)\n",
    ">     return seq_list\n",
    "> ```\n",
    "\n",
    "4. make a `Transcriber` that knows to use this function when you tell it you want to turn your annotation files into `Sequence`s, and/or csv files, or to convert back to your format from `Sequence`s (assuming you wrote a function in your module that will do so).\n",
    "\n",
    "> ```Python\n",
    "> from Crowsetta import Transcriber\n",
    "> \n",
    "> my_config = {\n",
    ">     'my_format': {\n",
    ">         'module': 'myformat.py',\n",
    ">         'to_seq': 'myformat2seq',\n",
    ">         'to_csv': 'myformat2csv',\n",
    ">         'to_format': 'seq2myformat,\n",
    ">     }\n",
    "> }\n",
    "> scribe = Transcriber(user_config=my_config)\n",
    "> seq_list = scribe.to_seq(file='my_annotations.txt', file_format='my_format')\n",
    "> ```\n"
   ]
  }
 ],
 "metadata": {
  "kernelspec": {
   "display_name": "Python 3",
   "language": "python",
   "name": "python3"
  },
  "language_info": {
   "codemirror_mode": {
    "name": "ipython",
    "version": 3
   },
   "file_extension": ".py",
   "mimetype": "text/x-python",
   "name": "python",
   "nbconvert_exporter": "python",
   "pygments_lexer": "ipython3",
   "version": "3.6.7"
  }
 },
 "nbformat": 4,
 "nbformat_minor": 2
}
