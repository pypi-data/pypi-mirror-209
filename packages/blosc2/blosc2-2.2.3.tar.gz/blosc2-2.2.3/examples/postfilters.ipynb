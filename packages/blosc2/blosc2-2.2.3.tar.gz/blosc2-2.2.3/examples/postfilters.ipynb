{
 "cells": [
  {
   "cell_type": "markdown",
   "metadata": {},
   "source": [
    "# Python-Blosc2 postfilters\n",
    "\n",
    "Similarly to the prefilters, in python-blosc2 you can also set a python function as a postfilter in order to be executed after decompressing the data. Let's see how it works with a simple example!"
   ]
  },
  {
   "cell_type": "markdown",
   "metadata": {},
   "source": [
    "## Setting a postfilter\n",
    "\n",
    "As in the prefilters, for setting a postfilter to a schunk, the number of threads for decompression has to be 1:"
   ]
  },
  {
   "cell_type": "code",
   "execution_count": 1,
   "metadata": {},
   "outputs": [
    {
     "data": {
      "text/plain": "<blosc2.SChunk.SChunk at 0x10db6fcc0>"
     },
     "execution_count": 1,
     "metadata": {},
     "output_type": "execute_result"
    }
   ],
   "source": [
    "import blosc2\n",
    "import numpy as np\n",
    "\n",
    "cparams = {\n",
    "    \"typesize\": 8,\n",
    "}\n",
    "\n",
    "dparams = {\n",
    "    \"nthreads\": 1,\n",
    "}\n",
    "\n",
    "storage = {\n",
    "    \"cparams\": cparams,\n",
    "    \"dparams\": dparams,\n",
    "}\n",
    "\n",
    "chunk_len = 10_000\n",
    "data = np.zeros(chunk_len * 3, dtype=np.int64)\n",
    "schunk = blosc2.SChunk(chunksize=chunk_len * 8, data=data, **storage)"
   ]
  },
  {
   "cell_type": "markdown",
   "metadata": {},
   "source": [
    "Great! Now we can create our postfilter with its decorator. For that, you will first have to create a function that receives three params: input, output and the offset in schunk where the block starts. Then, you will use the decorator and pass to it the input data type that the postfilter will receive and the output data type that it will fill:"
   ]
  },
  {
   "cell_type": "code",
   "execution_count": 2,
   "outputs": [],
   "source": [
    "input_dtype = np.int64\n",
    "\n",
    "\n",
    "@schunk.postfilter(input_dtype)\n",
    "def postfilter(input, output, offset):\n",
    "    output[:] = input + np.arange(input.size) + offset"
   ],
   "metadata": {
    "collapsed": false,
    "pycharm": {
     "name": "#%%\n"
    }
   }
  },
  {
   "cell_type": "markdown",
   "metadata": {},
   "source": [
    "Let's check that the postfilter is being executed when reading data:"
   ]
  },
  {
   "cell_type": "code",
   "execution_count": 3,
   "outputs": [
    {
     "data": {
      "text/plain": "array([    0,     1,     2, ..., 29997, 29998, 29999])"
     },
     "execution_count": 3,
     "metadata": {},
     "output_type": "execute_result"
    }
   ],
   "source": [
    "out = np.empty(data.size, dtype=input_dtype)\n",
    "schunk.get_slice(out=out)\n",
    "out"
   ],
   "metadata": {
    "collapsed": false,
    "pycharm": {
     "name": "#%%\n"
    }
   }
  },
  {
   "cell_type": "markdown",
   "source": [
    "Perfect, we have implemented an arange with a postfilter!\n",
    "\n",
    "## Removing a postfilter\n",
    "\n",
    "If we do not want the postfilter to be executed anymore, we can remove it from the schunk with:"
   ],
   "metadata": {
    "collapsed": false
   }
  },
  {
   "cell_type": "code",
   "execution_count": 4,
   "outputs": [],
   "source": [
    "schunk.remove_postfilter(\"postfilter\")"
   ],
   "metadata": {
    "collapsed": false,
    "pycharm": {
     "name": "#%%\n"
    }
   }
  },
  {
   "cell_type": "markdown",
   "source": [
    "## Re-enabling parallelism\n",
    "\n",
    "Now that we do not have a postfilter, it is safe to activate multi-threading:"
   ],
   "metadata": {
    "collapsed": false
   }
  },
  {
   "cell_type": "code",
   "execution_count": 5,
   "outputs": [
    {
     "data": {
      "text/plain": "{'nthreads': 8}"
     },
     "execution_count": 5,
     "metadata": {},
     "output_type": "execute_result"
    }
   ],
   "source": [
    "schunk.dparams = {\"nthreads\": 8}"
   ],
   "metadata": {
    "collapsed": false,
    "pycharm": {
     "name": "#%%\n"
    }
   }
  },
  {
   "cell_type": "markdown",
   "source": [
    "Finally, let's check that the data stored in the schunk is the actual data passed in the schunk constructor:"
   ],
   "metadata": {
    "collapsed": false,
    "pycharm": {
     "name": "#%% md\n"
    }
   }
  },
  {
   "cell_type": "code",
   "execution_count": 6,
   "outputs": [
    {
     "data": {
      "text/plain": "array([0, 0, 0, ..., 0, 0, 0])"
     },
     "execution_count": 6,
     "metadata": {},
     "output_type": "execute_result"
    }
   ],
   "source": [
    "schunk.get_slice(out=out)\n",
    "out"
   ],
   "metadata": {
    "collapsed": false,
    "pycharm": {
     "name": "#%%\n"
    }
   }
  },
  {
   "cell_type": "markdown",
   "source": [
    "That's all for now.  There are more examples in the `examples/` directory for you to explore.  Enjoy!"
   ],
   "metadata": {
    "collapsed": false,
    "pycharm": {
     "name": "#%% md\n"
    }
   }
  }
 ],
 "metadata": {
  "kernelspec": {
   "display_name": "Python 3 (ipykernel)",
   "language": "python",
   "name": "python3"
  },
  "language_info": {
   "codemirror_mode": {
    "name": "ipython",
    "version": 3
   },
   "file_extension": ".py",
   "mimetype": "text/x-python",
   "name": "python",
   "nbconvert_exporter": "python",
   "pygments_lexer": "ipython3",
   "version": "3.10.4"
  }
 },
 "nbformat": 4,
 "nbformat_minor": 1
}
