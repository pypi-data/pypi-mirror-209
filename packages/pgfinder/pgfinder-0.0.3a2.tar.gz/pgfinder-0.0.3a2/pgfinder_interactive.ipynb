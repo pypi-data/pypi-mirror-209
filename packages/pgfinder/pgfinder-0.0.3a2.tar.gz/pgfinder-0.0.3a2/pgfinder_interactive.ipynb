{
 "cells": [
  {
   "cell_type": "markdown",
   "metadata": {
    "hideCode": true,
    "hidePrompt": true
   },
   "source": [
    "# PGFinder Interactive Notebook\n",
    "\n",
    "This notebook is a basic user interface to allow researchers less familiar with the command line to run PGFinder. Some compromises have been made to make it run as a Jupyter notebook on the free myBinder platform.\n",
    "\n",
    "To use the code to analyse your data you must work from top to bottom on this notebook, following instructions as you go. The first step is to execute all of the \"cells\" in the notebook so they are ready for your input. To do this...\n",
    "\n",
    "**Click *Kernel*>*Restart & Run All* on the menu, above.**\n",
    "\n",
    "If you have any problems or suggestions, or would like to contribute a mass database, please raise an [issue here](https://github.com/Mesnage-Org/pgfinder/issues). This notebook runs on the latest release. Please review the [release notes](https://github.com/Mesnage-Org/pgfinder/releases)."
   ]
  },
  {
   "cell_type": "code",
   "execution_count": null,
   "metadata": {
    "hideCode": true,
    "hidePrompt": true
   },
   "outputs": [],
   "source": [
    "import base64\n",
    "import codecs\n",
    "import io\n",
    "import os\n",
    "import uuid\n",
    "import ipywidgets as widgets\n",
    "from ipywidgets import HTML\n",
    "from IPython.display import display\n",
    "from ipysheet import from_dataframe\n",
    "import pandas as pd\n",
    "\n",
    "from pgfinder import matching, pgio, validation\n",
    "\n",
    "# Get list of modifications\n",
    "allowed_mods = validation.allowed_modifications()\n",
    "\n",
    "# Get built in mass lists\n",
    "mass_lists_path = \"./data/masses\"\n",
    "mass_lists = os.listdir(mass_lists_path)\n",
    "mass_lists.append(\"Upload Custom\")\n",
    "\n",
    "\n",
    "def generate_html_button(df: pd.DataFrame, wide: str = True):\n",
    "    \"\"\"Make a download button for data\n",
    "\n",
    "    Parameters\n",
    "    ==========\n",
    "    df: pd.DataFrame\n",
    "        Dataframe to be downloaded\n",
    "    wide: bool\n",
    "        Boolean indicating if data should be reshaped to wide.\n",
    "    \"\"\"\n",
    "    results_csv = df.to_csv()\n",
    "    filename = pgio.default_filename()\n",
    "    results_csv_str = pgio.dataframe_to_csv_metadata(output_dataframe=df, wide=wide)\n",
    "    b64 = base64.b64encode(results_csv_str.encode())\n",
    "    payload = b64.decode()\n",
    "\n",
    "    button_text = \"Results\" if wide else \"Results (Long)\"\n",
    "    html_buttons = \"\"\"<html>\n",
    "    <head>\n",
    "    <meta name=\"viewport\" content=\"width=device-width, initial-scale=1\">\n",
    "    </head>\n",
    "    <body>\n",
    "    <a download=\"{filename}\" href=\"data:text/csv;base64,{payload}\" download>\n",
    "    <button class=\"p-Widget jupyter-widgets jupyter-button widget-button mod-warning\">{button_text}</button>\n",
    "    </a>\n",
    "    </body>\n",
    "    </html>\n",
    "    \"\"\"\n",
    "    html_button = html_buttons.format(payload=payload, filename=filename, button_text=button_text)\n",
    "    return html_button\n",
    "\n",
    "\n",
    "# Main analysis function\n",
    "def analysis(b):\n",
    "    # Upload deconvoluted file\n",
    "    # This widget returns a dictionary of details of uploaded files\n",
    "    # However, the widget is restricted to allow only one file\n",
    "    # Hence `.value[0]`\n",
    "    uploaded_df = pgio.ms_upload_reader(data_uploader.children[0].value[0])\n",
    "\n",
    "    # Load mass list\n",
    "    if rb_masses.value == \"Upload Custom\":\n",
    "        theo_masses = pgio.theo_masses_upload_reader(mass_uploader.children[0].value[0])\n",
    "    else:\n",
    "        csv_filepath = os.path.join(mass_lists_path, rb_masses.value)\n",
    "        theo_masses = pgio.theo_masses_reader(csv_filepath)\n",
    "\n",
    "    # Load ppm value\n",
    "    user_ppm = ppm_tol.value\n",
    "\n",
    "    # Load time delta value\n",
    "    user_time_delta = time_delta.value\n",
    "\n",
    "    # Make sure mod list is a list\n",
    "    mod_list = list(selector_mods.value)\n",
    "\n",
    "    results = matching.data_analysis(uploaded_df, theo_masses, user_time_delta, mod_list, user_ppm)\n",
    "    if \"index\" in results.columns:\n",
    "        results.drop(columns=[\"index\"], inplace=True)\n",
    "\n",
    "    # Make two download buttons depending on desired format.\n",
    "    html_button_wide = generate_html_button(df=results, wide=True)\n",
    "    display(HTML(html_button_wide))\n",
    "\n",
    "\n",
    "# Define widgets\n",
    "\n",
    "\n",
    "# A composite widget for picking a file and displaying its name\n",
    "def named_file_upload(accept, description):\n",
    "    file_upload = widgets.FileUpload(accept=accept, description=description, multiple=False, layout=big_button)\n",
    "    file_name = widgets.Label(value=\"No file selected...\")\n",
    "\n",
    "    def handle_file_upload(file):\n",
    "        file_name.value = file[\"new\"][0][\"name\"]\n",
    "\n",
    "    file_upload.observe(handle_file_upload, names=\"value\")\n",
    "    return widgets.HBox([file_upload, file_name])\n",
    "\n",
    "\n",
    "# Layout for a bigger button\n",
    "big_button = widgets.Layout(width=\"auto\")\n",
    "\n",
    "# Style for wider description\n",
    "wide_style = {\"description_width\": \"initial\"}\n",
    "\n",
    "# Deconvoluted Data file upload\n",
    "data_uploader = named_file_upload(\".txt,.ftrs\", \"Upload Deconvoluted Data\")\n",
    "\n",
    "# Modifcation selector\n",
    "selector_mods = widgets.SelectMultiple(options=allowed_mods, description=\"Modification\", disabled=False)\n",
    "\n",
    "# Mass library selector\n",
    "rb_masses = widgets.RadioButtons(options=mass_lists, description=\"Mass List\", disabled=False)\n",
    "\n",
    "# Mass library file upload\n",
    "mass_uploader = named_file_upload(\".csv\", \"Upload Mass Library\")\n",
    "\n",
    "# Set PPM tolerance\n",
    "ppm_tol = widgets.BoundedFloatText(\n",
    "    value=10.0, min=1, max=100, step=0.1, description=\"Set ppm tolerance\", disabled=False, style=wide_style\n",
    ")\n",
    "\n",
    "# Set time delta for in source clean up\n",
    "time_delta = widgets.BoundedFloatText(\n",
    "    value=0.5, min=0, max=100, step=0.01, description=\"Set time delta value\", disabled=False, style=wide_style\n",
    ")\n",
    "\n",
    "# Analysis button\n",
    "button = widgets.Button(description=\"Run Analysis\")\n",
    "button.on_click(analysis)"
   ]
  },
  {
   "cell_type": "markdown",
   "metadata": {
    "hideCode": true,
    "hidePrompt": true
   },
   "source": [
    "## Step 1: Upload Deconvoluted Data\n",
    "Click *Upload* to upload a `.txt` file output by MaxQuant ([example file](https://github.com/Mesnage-Org/pgfinder/raw/master/data/maxquant_test_data.txt)), or an `.ftrs` file."
   ]
  },
  {
   "cell_type": "code",
   "execution_count": null,
   "metadata": {
    "hideCode": true,
    "hidePrompt": true
   },
   "outputs": [],
   "source": [
    "display(data_uploader)"
   ]
  },
  {
   "cell_type": "markdown",
   "metadata": {
    "hideCode": true,
    "hidePrompt": true
   },
   "source": [
    "## Step 2: Select Modifications\n",
    "Select modifications (Hold down control / command and click to select mulitple items.)"
   ]
  },
  {
   "cell_type": "code",
   "execution_count": null,
   "metadata": {
    "hideCode": true,
    "hidePrompt": true
   },
   "outputs": [],
   "source": [
    "display(selector_mods)"
   ]
  },
  {
   "cell_type": "markdown",
   "metadata": {
    "hideCode": true,
    "hidePrompt": true
   },
   "source": [
    "## Step 3: Select or Upload Mass Library"
   ]
  },
  {
   "cell_type": "markdown",
   "metadata": {
    "hideCode": true,
    "hidePrompt": true
   },
   "source": [
    "### Select"
   ]
  },
  {
   "cell_type": "code",
   "execution_count": null,
   "metadata": {
    "hideCode": true,
    "hidePrompt": true
   },
   "outputs": [],
   "source": [
    "display(rb_masses)"
   ]
  },
  {
   "cell_type": "markdown",
   "metadata": {
    "hideCode": true,
    "hidePrompt": true
   },
   "source": [
    "### (Optional) Upload Custom Mass Library\n",
    "[Example mass library file.](https://raw.githubusercontent.com/Mesnage-Org/pgfinder/master/data/masses/e_coli_monomer_masses.csv)"
   ]
  },
  {
   "cell_type": "code",
   "execution_count": null,
   "metadata": {
    "hideCode": true,
    "hidePrompt": true
   },
   "outputs": [],
   "source": [
    "display(mass_uploader)"
   ]
  },
  {
   "cell_type": "markdown",
   "metadata": {
    "hideCode": true,
    "hidePrompt": true
   },
   "source": [
    "## Step 4: Set PPM tolerance"
   ]
  },
  {
   "cell_type": "code",
   "execution_count": null,
   "metadata": {
    "hideCode": true,
    "hidePrompt": true
   },
   "outputs": [],
   "source": [
    "display(ppm_tol)"
   ]
  },
  {
   "cell_type": "markdown",
   "metadata": {
    "hideCode": true,
    "hidePrompt": true
   },
   "source": [
    "## Step 5: Set time window for in-source decay and salt adduct clean up"
   ]
  },
  {
   "cell_type": "code",
   "execution_count": null,
   "metadata": {
    "hideCode": true,
    "hidePrompt": true
   },
   "outputs": [],
   "source": [
    "display(time_delta)"
   ]
  },
  {
   "cell_type": "markdown",
   "metadata": {
    "hideCode": true,
    "hidePrompt": true
   },
   "source": [
    "## Step 6: Run Analysis\n",
    "Click run analysis.\n",
    "After the analysis is complete, two download buttons will appear allowing you to downloade the data in \"wide\" or \"long\" format."
   ]
  },
  {
   "cell_type": "code",
   "execution_count": null,
   "metadata": {
    "hideCode": true,
    "hidePrompt": true
   },
   "outputs": [],
   "source": [
    "display(button)"
   ]
  }
 ],
 "metadata": {
  "hide_code_all_hidden": true,
  "kernelspec": {
   "display_name": "Python 3 (ipykernel)",
   "language": "python",
   "name": "python3"
  },
  "language_info": {
   "codemirror_mode": {
    "name": "ipython",
    "version": 3
   },
   "file_extension": ".py",
   "mimetype": "text/x-python",
   "name": "python",
   "nbconvert_exporter": "python",
   "pygments_lexer": "ipython3",
   "version": "3.11.3"
  }
 },
 "nbformat": 4,
 "nbformat_minor": 2
}
