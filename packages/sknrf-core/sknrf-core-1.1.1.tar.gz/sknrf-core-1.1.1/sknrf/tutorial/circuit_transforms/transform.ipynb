{
 "cells": [
  {
   "cell_type": "code",
   "execution_count": 1,
   "metadata": {
    "collapsed": true
   },
   "outputs": [],
   "source": [
    "from sympy import symbols, Eq, Matrix, Rational, solve, simplify, factor, init_printing\n",
    "from sympy.functions import re, im, sqrt\n",
    "from sympy.functions import conjugate as conj\n",
    "init_printing()"
   ]
  },
  {
   "cell_type": "code",
   "execution_count": 2,
   "metadata": {},
   "outputs": [
    {
     "data": {
      "image/png": "[encoded data removed]",
      "text/plain": [
       "-(A⋅Z₀ + B - C⋅Z⋅Z₀ - D⋅Z) \n",
       "───────────────────────────\n",
       "  A⋅Z₀ - B - C⋅Z⋅Z₀ + D⋅Z  "
      ]
     },
     "execution_count": 2,
     "metadata": {},
     "output_type": "execute_result"
    }
   ],
   "source": [
    "#Cascade z2zp\n",
    "Z_0 = symbols(\"Z_0\")\n",
    "G = symbols(\"G\")\n",
    "Z = symbols(\"Z\")\n",
    "T_1_1, T_1_2, T_2_1, T_2_2  = symbols(\"T_1_1 T_1_2 T_2_1 T_2_2\")\n",
    "A, B, C, D  = symbols(\"A B C D\")\n",
    "G_p = (T_1_2 - T_2_2*G) / (T_2_1*G - T_1_1)\n",
    "G_p = factor(G_p.subs(G, (Z - Z_0)/(Z + Z_0)))\n",
    "\n",
    "#a2t\n",
    "Matrix_1 = 1/(2*sqrt(2*re(Z_0)))*Matrix([[1, -1*conj(Z_0)],\n",
    "                                       [1, Z_0]])\n",
    "Matrix_2 = Matrix([[A, B],\n",
    "                   [C, D]])\n",
    "Matrix_3 = sqrt(2/re(Z_0))*Matrix([[conj(Z_0), Z_0],\n",
    "                                 [1, -1]])\n",
    "Flip_I = Matrix([[1,  0],\n",
    "                 [0, -1]])\n",
    "T = simplify(Matrix_1*Matrix_2*Flip_I*Matrix_3)\n",
    "G_p = factor(G_p.subs(T_1_1, T[0,0]).subs(T_1_2, T[0,1]).subs(T_2_1, T[1,0]).subs(T_2_2, T[1,1])).subs(conj(Z_0), Z_0)\n",
    "G_p = factor(G_p.subs(conj(Z_0), Z_0))\n",
    "Z_p = Z_0*(1+G_p)/(1-G_p)\n",
    "G_p"
   ]
  },
  {
   "cell_type": "code",
   "execution_count": 3,
   "metadata": {},
   "outputs": [
    {
     "data": {
      "image/png": "[encoded data removed]",
      "text/plain": [
       "A⋅Z_p + B - C⋅Z₀⋅Z_p - D⋅Z₀\n",
       "───────────────────────────\n",
       "A⋅Z_p + B + C⋅Z₀⋅Z_p + D⋅Z₀"
      ]
     },
     "execution_count": 3,
     "metadata": {},
     "output_type": "execute_result"
    }
   ],
   "source": [
    "#Cascade zp2z\n",
    "Z_0 = symbols(\"Z_0\")\n",
    "G_p = symbols(\"G_p\")\n",
    "Z_p = symbols(\"Z_p\")\n",
    "T_1_1, T_1_2, T_2_1, T_2_2  = symbols(\"T_1_1 T_1_2 T_2_1 T_2_2\")\n",
    "A, B, C, D  = symbols(\"A B C D\")\n",
    "G = (T_1_1*G_p + T_1_2) / (T_2_1*G_p + T_2_2)\n",
    "G = factor(G.subs(G_p, (Z_p - Z_0)/(Z_p + Z_0)))\n",
    "\n",
    "#a2t\n",
    "Matrix_1 = 1/(2*sqrt(2*re(Z_0)))*Matrix([[1, -1*conj(Z_0)],\n",
    "                                       [1, Z_0]])\n",
    "Matrix_2 = Matrix([[A, B],\n",
    "                   [C, D]])\n",
    "Matrix_3 = sqrt(2/re(Z_0))*Matrix([[conj(Z_0), Z_0],\n",
    "                                 [1, -1]])\n",
    "Flip_I = Matrix([[1,  0],\n",
    "                 [0, -1]])\n",
    "T = simplify(Matrix_1*Matrix_2*Flip_I*Matrix_3)\n",
    "G = factor(G.subs(T_1_1, T[0,0]).subs(T_1_2, T[0,1]).subs(T_2_1, T[1,0]).subs(T_2_2, T[1,1])).subs(conj(Z_0), Z_0)\n",
    "G = factor(G.subs(conj(Z_0), Z_0))\n",
    "Z = Z_0*(1+G)/(1-G)\n",
    "G"
   ]
  },
  {
   "cell_type": "code",
   "execution_count": 4,
   "metadata": {},
   "outputs": [
    {
     "data": {
      "image/png": "[encoded data removed]",
      "text/plain": [
       "⎡1  -Z₁ - Z₃  0     Z₃   ⎤\n",
       "⎢                        ⎥\n",
       "⎢0     1      0     0    ⎥\n",
       "⎢                        ⎥\n",
       "⎢0     Z₃     1  -Z₂ - Z₃⎥\n",
       "⎢                        ⎥\n",
       "⎣0     0      0     1    ⎦"
      ]
     },
     "execution_count": 4,
     "metadata": {},
     "output_type": "execute_result"
    }
   ],
   "source": [
    "#Tee\n",
    "Z_1, Z_2, Z_3 = symbols(\"Z_1 Z_2 Z_3\")\n",
    "Matrix_1 = Matrix([[1, -Z_3, 0, Z_3],\n",
    "                   [0, 1,    0,    0],\n",
    "                   [0, Z_3, 1, -Z_3],\n",
    "                   [0, 0,   0,    1]])\n",
    "Matrix_2 = Matrix([[1, -Z_1, 0,    0],\n",
    "                   [0, 1,    0,    0],\n",
    "                   [0, 0,    1, -Z_2],\n",
    "                   [0, 0,    0,    1]])\n",
    "ABCD = Matrix_1*Matrix_2\n",
    "ABCD\n",
    "# [ABCD[0, 3] - ABCD[0, 1], ABCD[2, 1] - ABCD[2, 3]]"
   ]
  },
  {
   "cell_type": "code",
   "execution_count": 5,
   "metadata": {},
   "outputs": [
    {
     "data": {
      "image/png": "[encoded data removed]",
      "text/plain": [
       "⎡   1      0     0      0⎤\n",
       "⎢                        ⎥\n",
       "⎢-Y₁ - Y₃  1     Y₃     0⎥\n",
       "⎢                        ⎥\n",
       "⎢   0      0     1      0⎥\n",
       "⎢                        ⎥\n",
       "⎣   Y₃     0  -Y₂ - Y₃  1⎦"
      ]
     },
     "execution_count": 5,
     "metadata": {},
     "output_type": "execute_result"
    }
   ],
   "source": [
    "#Pi\n",
    "Y_1, Y_2, Y_3 = symbols(\"Y_1 Y_2 Y_3\")\n",
    "Matrix_1 = Matrix([[1,    0, 0,    0],\n",
    "                   [-Y_3, 1, Y_3,  0],\n",
    "                   [0,    0, 1,    0],\n",
    "                   [Y_3,  0, -Y_3, 1]])\n",
    "Matrix_2 = Matrix([[1,    0, 0,    0],\n",
    "                   [-Y_1, 1, 0,    0],\n",
    "                   [0,    0, 1,    0],\n",
    "                   [0,    0, -Y_2, 1]])\n",
    "ABCD = Matrix_1*Matrix_2\n",
    "ABCD\n",
    "# [-ABCD[1, 0] - ABCD[3, 0], -ABCD[1, 2] - ABCD[3, 2]]"
   ]
  },
  {
   "cell_type": "code",
   "execution_count": null,
   "metadata": {
    "collapsed": true
   },
   "outputs": [],
   "source": []
  },
  {
   "cell_type": "code",
   "execution_count": null,
   "metadata": {
    "collapsed": true
   },
   "outputs": [],
   "source": []
  }
 ],
 "metadata": {
  "kernelspec": {
   "display_name": "Python 3",
   "language": "python",
   "name": "python3"
  },
  "language_info": {
   "codemirror_mode": {
    "name": "ipython",
    "version": 3
   },
   "file_extension": ".py",
   "mimetype": "text/x-python",
   "name": "python",
   "nbconvert_exporter": "python",
   "pygments_lexer": "ipython3",
   "version": "3.6.7"
  }
 },
 "nbformat": 4,
 "nbformat_minor": 1
}
