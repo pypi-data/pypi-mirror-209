{
 "cells": [
  {
   "cell_type": "code",
   "execution_count": 6,
   "metadata": {
    "collapsed": true
   },
   "outputs": [],
   "source": [
    "from multiprocessing.pool import ThreadPool\n",
    "\n",
    "import numpy as np\n",
    "from scipy.fftpack import fft, ifft, fftshift, ifftshift\n",
    "\n",
    "from sknrf.device.signal import EnvelopeSignal, IndepDict"
   ]
  },
  {
   "cell_type": "code",
   "execution_count": 2,
   "metadata": {
    "collapsed": true
   },
   "outputs": [],
   "source": [
    "_fft = lambda x: fftshift(fft(x, fm_points, axis=axis)/fm_points, axes=axis)"
   ]
  },
  {
   "cell_type": "code",
   "execution_count": 3,
   "metadata": {
    "collapsed": true
   },
   "outputs": [],
   "source": [
    "x = np.random.random(2**18)\n",
    "axis = -1\n",
    "fm_points = x.shape[axis]"
   ]
  },
  {
   "cell_type": "code",
   "execution_count": 4,
   "metadata": {
    "collapsed": false
   },
   "outputs": [
    {
     "name": "stdout",
     "output_type": "stream",
     "text": [
      "CPU times: user 53.5 ms, sys: 14.8 ms, total: 68.3 ms\n",
      "Wall time: 67.3 ms\n"
     ]
    }
   ],
   "source": [
    "%time _ = list(map(_fft, [x]*4))"
   ]
  },
  {
   "cell_type": "code",
   "execution_count": 5,
   "metadata": {
    "collapsed": false
   },
   "outputs": [
    {
     "name": "stdout",
     "output_type": "stream",
     "text": [
      "CPU times: user 60.6 ms, sys: 32.9 ms, total: 93.5 ms\n",
      "Wall time: 45.9 ms\n"
     ]
    }
   ],
   "source": [
    "tpool = ThreadPool(4)\n",
    "%time _ = list(tpool.map(_fft, [x]*4))"
   ]
  },
  {
   "cell_type": "code",
   "execution_count": 12,
   "metadata": {
    "collapsed": false
   },
   "outputs": [
    {
     "name": "stdout",
     "output_type": "stream",
     "text": [
      "(1, 4, 262144, 6, 1)\n"
     ]
    },
    {
     "data": {
      "text/plain": [
       "  C_CONTIGUOUS : True\n",
       "  F_CONTIGUOUS : False\n",
       "  OWNDATA : False\n",
       "  WRITEABLE : True\n",
       "  ALIGNED : True\n",
       "  UPDATEIFCOPY : False"
      ]
     },
     "execution_count": 12,
     "metadata": {},
     "output_type": "execute_result"
    }
   ],
   "source": [
    "indep_map = IndepDict(((\"realtime\", np.arange(1)),\n",
    "                      (\"freq\", np.arange(0, 4)),\n",
    "                      (\"time\", np.arange(0, 2**18)),\n",
    "                      (\"row\", np.arange(0, 6)),\n",
    "                      (\"col\", np.arange(1))))\n",
    "print(indep_map.shape)\n",
    "signal = EnvelopeSignal(np.random.random((1, 4, 2**18, 6, 1)) + 1j*np.random.random((1, 4, 2**18, 6, 1)), indep_map=indep_map)\n",
    "axis = -3\n",
    "fm_points = signal.shape[axis]\n",
    "fm_points\n",
    "signal.dtype\n",
    "signal.flags"
   ]
  },
  {
   "cell_type": "code",
   "execution_count": 17,
   "metadata": {
    "collapsed": false
   },
   "outputs": [
    {
     "name": "stdout",
     "output_type": "stream",
     "text": [
      "CPU times: user 493 ms, sys: 95.6 ms, total: 588 ms\n",
      "Wall time: 585 ms\n"
     ]
    }
   ],
   "source": [
    "split_signal = np.split(np.asarray(signal), signal.shape[axis - 1], axis=axis - 1)\n",
    "%time fs_signal = np.concatenate(list(map(_fft, split_signal)), axis=axis - 1)"
   ]
  },
  {
   "cell_type": "code",
   "execution_count": 18,
   "metadata": {
    "collapsed": false
   },
   "outputs": [
    {
     "name": "stdout",
     "output_type": "stream",
     "text": [
      "CPU times: user 558 ms, sys: 113 ms, total: 671 ms\n",
      "Wall time: 503 ms\n"
     ]
    }
   ],
   "source": [
    "tpool = ThreadPool(2)\n",
    "split_signal = np.split(np.asarray(signal), signal.shape[axis - 1], axis=axis - 1)\n",
    "%time fs_signal = np.concatenate(list(tpool.map(_fft, split_signal)), axis=axis - 1)"
   ]
  },
  {
   "cell_type": "code",
   "execution_count": 16,
   "metadata": {
    "collapsed": false
   },
   "outputs": [
    {
     "data": {
      "text/plain": [
       "6291456"
      ]
     },
     "execution_count": 16,
     "metadata": {},
     "output_type": "execute_result"
    }
   ],
   "source": [
    "fs_signal.size"
   ]
  },
  {
   "cell_type": "code",
   "execution_count": null,
   "metadata": {
    "collapsed": true
   },
   "outputs": [],
   "source": [
    ""
   ]
  }
 ],
 "metadata": {
  "kernelspec": {
   "display_name": "Python 3",
   "language": "python",
   "name": "python3"
  },
  "language_info": {
   "codemirror_mode": {
    "name": "ipython",
    "version": 3.0
   },
   "file_extension": ".py",
   "mimetype": "text/x-python",
   "name": "python",
   "nbconvert_exporter": "python",
   "pygments_lexer": "ipython3",
   "version": "3.4.4"
  }
 },
 "nbformat": 4,
 "nbformat_minor": 0
}