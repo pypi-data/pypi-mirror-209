{
 "cells": [
  {
   "cell_type": "code",
   "execution_count": 2,
   "metadata": {},
   "outputs": [],
   "source": [
    "from sympy import symbols, Eq, Matrix, Rational, solve, simplify, factor, init_printing\n",
    "from sympy.functions import re, im, sqrt\n",
    "from sympy.functions import conjugate as conj\n",
    "init_printing()"
   ]
  },
  {
   "cell_type": "code",
   "execution_count": 11,
   "metadata": {},
   "outputs": [
    {
     "name": "stdout",
     "output_type": "stream",
     "text": [
      "i =  1.0*(1.0*sqrt_3_2*x - 0.5*y)/s\n",
      "j =  y/s\n"
     ]
    }
   ],
   "source": [
    "## Triangle    \n",
    "i, j = symbols(\"i j\")\n",
    "x, y = symbols(\"x y\")\n",
    "s, sqrt_3_2 = symbols(\"s sqrt_3_2\")\n",
    "\n",
    "\n",
    "E1 = (i*1.0*s + j*0.5*s)/sqrt_3_2 - x\n",
    "E2 = j*s - y\n",
    "\n",
    "sols = solve([E1, E2], [i, j])\n",
    "\n",
    "print(\"i = \", (sols[i]).factor())\n",
    "print(\"j = \", (sols[j]).factor())"
   ]
  },
  {
   "cell_type": "code",
   "execution_count": 12,
   "metadata": {},
   "outputs": [
    {
     "name": "stdout",
     "output_type": "stream",
     "text": [
      "i =  x/s\n",
      "j =  y/s\n"
     ]
    }
   ],
   "source": [
    "## Square    \n",
    "i, j = symbols(\"i j\")\n",
    "x, y = symbols(\"x y\")\n",
    "s, sqrt_3_2 = symbols(\"s sqrt_3_2\")\n",
    "\n",
    "\n",
    "E1 = i*s - x\n",
    "E2 = j*s - y\n",
    "\n",
    "sols = solve([E1, E2], [i, j])\n",
    "\n",
    "print(\"i = \", (sols[i]).factor())\n",
    "print(\"j = \", (sols[j]).factor())"
   ]
  },
  {
   "cell_type": "code",
   "execution_count": 13,
   "metadata": {},
   "outputs": [
    {
     "name": "stdout",
     "output_type": "stream",
     "text": [
      "i =  1.0*(0.5*s + 1.0*sqrt_3_2*x - 0.5*y)/s\n",
      "j =  (-s + y)/s\n"
     ]
    }
   ],
   "source": [
    "## Rhombus    \n",
    "i, j = symbols(\"i j\")\n",
    "x, y = symbols(\"x y\")\n",
    "s, sqrt_3_2 = symbols(\"s sqrt_3_2\")\n",
    "        \n",
    "E1 = (i*1.0*s + j*0.5*s)/sqrt_3_2 -  x\n",
    "E2 = (j+1)*s - y\n",
    "\n",
    "sols = solve([E1, E2], [i, j])\n",
    "\n",
    "print(\"i = \", (sols[i]).factor())\n",
    "print(\"j = \", (sols[j]).factor())"
   ]
  },
  {
   "cell_type": "code",
   "execution_count": 19,
   "metadata": {},
   "outputs": [
    {
     "name": "stdout",
     "output_type": "stream",
     "text": [
      "i =  x/(s*sqrt_3_2)\n",
      "j =  -1.0*(-1.0*sqrt_3_2*y + 0.5*x)/(s*sqrt_3_2)\n",
      "i =  (-s + sqrt_3_2*x)/(s*sqrt_3_2**2)\n",
      "j =  -1.0*(-0.5*s - 1.0*sqrt_3_2**2*y + 0.5*sqrt_3_2*x)/(s*sqrt_3_2**2)\n"
     ]
    }
   ],
   "source": [
    "## Hexagon\n",
    "### L\n",
    "i, j = symbols(\"i j\")\n",
    "x, y = symbols(\"x y\")\n",
    "s, sqrt_3_2 = symbols(\"s sqrt_3_2\")\n",
    "            \n",
    "E1 = s*sqrt_3_2*i -  x\n",
    "E2 = s*1.0*0.5*(j*2 + i) - y\n",
    "\n",
    "sols = solve([E1, E2], [i, j])\n",
    "\n",
    "print(\"i = \", (sols[i]).factor())\n",
    "print(\"j = \", (sols[j]).factor())\n",
    "\n",
    "### R\n",
    "\n",
    "E1 = s*sqrt_3_2*i + s*(0.75+0.25*1.0)/sqrt_3_2 -  x\n",
    "E2 = s*1.0*0.5*(j*2 + i) - y\n",
    "\n",
    "sols = solve([E1, E2], [i, j])\n",
    "\n",
    "print(\"i = \", (sols[i]).factor())\n",
    "print(\"j = \", (sols[j]).factor())"
   ]
  },
  {
   "cell_type": "code",
   "execution_count": null,
   "metadata": {},
   "outputs": [],
   "source": []
  }
 ],
 "metadata": {
  "kernelspec": {
   "display_name": "Python 3",
   "language": "python",
   "name": "python3"
  },
  "language_info": {
   "codemirror_mode": {
    "name": "ipython",
    "version": 3
   },
   "file_extension": ".py",
   "mimetype": "text/x-python",
   "name": "python",
   "nbconvert_exporter": "python",
   "pygments_lexer": "ipython3",
   "version": "3.6.7"
  }
 },
 "nbformat": 4,
 "nbformat_minor": 2
}
