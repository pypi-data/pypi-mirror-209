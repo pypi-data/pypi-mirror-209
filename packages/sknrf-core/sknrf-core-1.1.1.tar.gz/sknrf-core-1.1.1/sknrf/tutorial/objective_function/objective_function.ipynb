{
 "cells": [
  {
   "cell_type": "code",
   "execution_count": 2,
   "metadata": {
    "collapsed": true
   },
   "outputs": [],
   "source": [
    "from sympy import sin, cos, Matrix\n",
    "from sympy.abc import x, y, z\n",
    "from sympy import diff\n",
    "\n",
    "import numpy as np"
   ]
  },
  {
   "cell_type": "markdown",
   "metadata": {},
   "source": [
    "## Symbolic"
   ]
  },
  {
   "cell_type": "code",
   "execution_count": 3,
   "metadata": {
    "collapsed": false
   },
   "outputs": [],
   "source": [
    "X = Matrix([x, y, z])\n",
    "F = Matrix([x*y + 2*z*x, 5*x + sin(y) + 3*z])\n",
    "f = F[0, 0]"
   ]
  },
  {
   "cell_type": "code",
   "execution_count": 4,
   "metadata": {
    "collapsed": false
   },
   "outputs": [],
   "source": [
    "def gradient(f, X):\n",
    "    \"\"\"Returns a tuple of length f.ndim where each entry represents a the numerical derivative Gj = df/dxj\"\"\"\n",
    "    return np.asarray([diff(f, x) for x in X])"
   ]
  },
  {
   "cell_type": "code",
   "execution_count": 5,
   "metadata": {
    "collapsed": true
   },
   "outputs": [],
   "source": [
    "def jacobian(F, X):\n",
    "    \"\"\"Returns array of shape len(f) x len(x) where each entry represents the first-order derivative Jij = dfi/dxj\"\"\"\n",
    "    return np.asarray([[diff(f, x) for x in X] for f in F])"
   ]
  },
  {
   "cell_type": "code",
   "execution_count": 6,
   "metadata": {
    "collapsed": true
   },
   "outputs": [],
   "source": [
    "def hessian(f, X):\n",
    "    \"\"\"Returns array of shape len(f) x len(x) where each entry represents the first-order derivative Jij = dfi/dxj\"\"\"\n",
    "    return jacobian(gradient(f, X), X).T"
   ]
  },
  {
   "cell_type": "code",
   "execution_count": 7,
   "metadata": {
    "collapsed": false
   },
   "outputs": [
    {
     "name": "stdout",
     "output_type": "stream",
     "text": [
      "(3,)\n",
      "[y + 2*z x 2*x]\n"
     ]
    }
   ],
   "source": [
    "G = gradient(f, X)\n",
    "print(G.shape)\n",
    "print(G)"
   ]
  },
  {
   "cell_type": "code",
   "execution_count": 8,
   "metadata": {
    "collapsed": false
   },
   "outputs": [
    {
     "name": "stdout",
     "output_type": "stream",
     "text": [
      "(2, 3)\n",
      "[[y + 2*z x 2*x]\n",
      " [5 cos(y) 3]]\n"
     ]
    }
   ],
   "source": [
    "J = jacobian(F, X)\n",
    "print(J.shape)\n",
    "print(J)"
   ]
  },
  {
   "cell_type": "code",
   "execution_count": 9,
   "metadata": {
    "collapsed": false
   },
   "outputs": [
    {
     "name": "stdout",
     "output_type": "stream",
     "text": [
      "(3, 3)\n",
      "[[0 1/2 1]\n",
      " [1/2 0 0]\n",
      " [1 0 0]]\n"
     ]
    }
   ],
   "source": [
    "H = hessian(f, X)\n",
    "print(H.shape)\n",
    "print(H/np.max(H))"
   ]
  },
  {
   "cell_type": "markdown",
   "metadata": {},
   "source": [
    "## Numeric"
   ]
  },
  {
   "cell_type": "code",
   "execution_count": 10,
   "metadata": {
    "collapsed": false
   },
   "outputs": [],
   "source": [
    "x = np.linspace(-0.001, 0.00101, 3).reshape(-1, 1, 1)\n",
    "y = np.linspace(-0.001, 0.00101, 3).reshape(1, -1, 1)\n",
    "z = np.linspace(-0.001, 0.00101, 3).reshape(1, 1, -1)\n",
    "\n",
    "F = np.array([x*y + 2*z*x, 5*x + np.sin(y) + 3*z]) # Need be size 3*X and shape f_i, x_1, x_2,..., x_j\n",
    "X1 = np.asarray([x, y, z])\n",
    "X2 = np.asarray([np.squeeze(x) for x in X1])\n",
    "f = F[0]"
   ]
  },
  {
   "cell_type": "code",
   "execution_count": 11,
   "metadata": {
    "collapsed": false
   },
   "outputs": [],
   "source": [
    "def gradient(f, X):\n",
    "    \"\"\"Returns a tuple of length f.ndim where each entry represents a the numerical derivative Gj = df/dxj\"\"\"\n",
    "    return np.asarray([(np.diff(f, 1, j)/np.diff(x, 1, j)) for j, x in enumerate(X)])\n",
    "\n",
    "def gradient2(f, *X):\n",
    "    return np.asarray(np.gradient(f, *X))"
   ]
  },
  {
   "cell_type": "code",
   "execution_count": 12,
   "metadata": {
    "collapsed": false
   },
   "outputs": [],
   "source": [
    "def jacobian(F, X):\n",
    "    \"\"\"Returns array of shape len(f) x len(x) where each entry represents the first-order derivative Jij = dfi/dxj\"\"\"\n",
    "    return np.asarray([[np.diff(f, 1, j)/np.diff(x, 1, j) for j, x in enumerate(X)] for f in F])\n",
    "\n",
    "def jacobian2(F, *X):\n",
    "    return np.stack([np.gradient(f, *X) for f in F]) "
   ]
  },
  {
   "cell_type": "code",
   "execution_count": 13,
   "metadata": {
    "collapsed": true
   },
   "outputs": [],
   "source": [
    "def hessian(f, *X):\n",
    "    \"\"\"Returns array of shape len(f) x len(x) where each entry represents the first-order derivative Jij = dfi/dxj\"\"\"\n",
    "    return np.swapaxes(jacobian2(gradient2(f, *X), *X), 0, 1)"
   ]
  },
  {
   "cell_type": "code",
   "execution_count": 16,
   "metadata": {
    "collapsed": false
   },
   "outputs": [
    {
     "name": "stdout",
     "output_type": "stream",
     "text": [
      "(3,)\n",
      "(2, 3, 3) (3, 2, 3) (3, 3, 2)\n"
     ]
    },
    {
     "data": {
      "text/plain": [
       "(-0.0029999999999999996, -0.001, -0.002)"
      ]
     },
     "execution_count": 16,
     "metadata": {},
     "output_type": "execute_result"
    }
   ],
   "source": [
    "G = gradient(f, X1)\n",
    "print(G.shape)\n",
    "print(G[0].shape, G[1].shape, G[2].shape)\n",
    "G[0][0, 0, 0], G[1][0, 0, 0], G[2][0, 0, 0]"
   ]
  },
  {
   "cell_type": "code",
   "execution_count": 18,
   "metadata": {
    "collapsed": false
   },
   "outputs": [
    {
     "name": "stdout",
     "output_type": "stream",
     "text": [
      "(3, 3, 3, 3)\n",
      "(3, 3, 3) (3, 3, 3) (3, 3, 3)\n"
     ]
    },
    {
     "data": {
      "text/plain": [
       "array([-0.003, -0.001, -0.002])"
      ]
     },
     "execution_count": 18,
     "metadata": {},
     "output_type": "execute_result"
    }
   ],
   "source": [
    "G = gradient2(f, *X2)\n",
    "print(G.shape)\n",
    "print(G[0].shape, G[1].shape, G[2].shape)\n",
    "G[:, 0, 0, 0]"
   ]
  },
  {
   "cell_type": "code",
   "execution_count": 19,
   "metadata": {
    "collapsed": false
   },
   "outputs": [
    {
     "name": "stdout",
     "output_type": "stream",
     "text": [
      "(2, 3)\n",
      "(2, 3, 3) (3, 2, 3) (3, 3, 2)\n",
      "(2, 3, 3) (3, 2, 3) (3, 3, 2)\n"
     ]
    }
   ],
   "source": [
    "J = jacobian(F, X1)\n",
    "print(J.shape)\n",
    "print(J[0, 0].shape, J[0, 1].shape, J[0, 2].shape)\n",
    "print(J[1, 0].shape, J[1, 1].shape, J[1, 2].shape)"
   ]
  },
  {
   "cell_type": "code",
   "execution_count": 23,
   "metadata": {
    "collapsed": false
   },
   "outputs": [
    {
     "name": "stdout",
     "output_type": "stream",
     "text": [
      "(2, 3, 3, 3, 3)\n"
     ]
    },
    {
     "data": {
      "text/plain": [
       "array([-0.003, -0.001, -0.002])"
      ]
     },
     "execution_count": 23,
     "metadata": {},
     "output_type": "execute_result"
    }
   ],
   "source": [
    "J = jacobian2(F, *X2)\n",
    "print(J.shape)\n",
    "J[0, :, 0, 0, 0]"
   ]
  },
  {
   "cell_type": "code",
   "execution_count": 24,
   "metadata": {
    "collapsed": false
   },
   "outputs": [
    {
     "name": "stdout",
     "output_type": "stream",
     "text": [
      "(3, 3, 3, 3, 3)\n"
     ]
    },
    {
     "data": {
      "text/plain": [
       "array([[  0.00000000e+00,   5.00000000e-01,   1.00000000e+00],\n",
       "       [  5.00000000e-01,   0.00000000e+00,   0.00000000e+00],\n",
       "       [  1.00000000e+00,  -1.07880813e-16,   0.00000000e+00]])"
      ]
     },
     "execution_count": 24,
     "metadata": {},
     "output_type": "execute_result"
    }
   ],
   "source": [
    "H = hessian(f, *X2)\n",
    "print(H.shape)\n",
    "H[:, :, 2, 2, 2]/np.max(H[:, :, 2, 2, 2])"
   ]
  },
  {
   "cell_type": "markdown",
   "metadata": {},
   "source": [
    "## Numeric with Sub-Sweep"
   ]
  },
  {
   "cell_type": "code",
   "execution_count": 25,
   "metadata": {
    "collapsed": false
   },
   "outputs": [
    {
     "name": "stdout",
     "output_type": "stream",
     "text": [
      "(3, 3, 3, 9, 11) (5,) (5,)\n"
     ]
    }
   ],
   "source": [
    "x = np.linspace(-0.001, 0.00101, 3).reshape(-1, 1, 1, 1, 1)\n",
    "y = np.linspace(-0.001, 0.00101, 3).reshape(1, -1, 1, 1, 1)\n",
    "z = np.linspace(-0.001, 0.00101, 3).reshape(1, 1, -1, 1, 1)\n",
    "s1 = np.linspace(-0.001, 2, 9).reshape(1, 1, 1, -1, 1)\n",
    "s2 = np.linspace(-0.001, 2, 11).reshape(1, 1, 1, 1, -1)\n",
    "num_vars = 3\n",
    "axes = np.arange(0, num_vars)\n",
    "\n",
    "F = np.array([x*y + 2*z*x + s1 + s2, 5*x + np.sin(y) + 3*z + s1 + s2]) # Need be size 3*X and shape f_i, x_1, x_2,..., x_j\n",
    "f = F[0]\n",
    "X1 = np.asarray([x, y, z, s1, s2])\n",
    "X2 = np.asarray([np.squeeze(x) for x in X1])\n",
    "print(f.shape, X1.shape, X2.shape)"
   ]
  },
  {
   "cell_type": "code",
   "execution_count": 26,
   "metadata": {
    "collapsed": false
   },
   "outputs": [],
   "source": [
    "def gradient2(f, *X, axis=None):\n",
    "    return np.asarray(np.gradient(f, *X, axis=axis))"
   ]
  },
  {
   "cell_type": "code",
   "execution_count": 27,
   "metadata": {
    "collapsed": true
   },
   "outputs": [],
   "source": [
    "def jacobian2(F, *X, axis=None):\n",
    "    return np.stack([np.gradient(f, *X, axis=axis) for f in F]) "
   ]
  },
  {
   "cell_type": "code",
   "execution_count": 28,
   "metadata": {
    "collapsed": true
   },
   "outputs": [],
   "source": [
    "def hessian(f, *X, axis=None):\n",
    "    \"\"\"Returns array of shape len(f) x len(x) where each entry represents the first-order derivative Jij = dfi/dxj\"\"\"\n",
    "    return np.swapaxes(jacobian2(gradient2(f, *X, axis=axis), *X, axis=axis), 0, 1)"
   ]
  },
  {
   "cell_type": "code",
   "execution_count": 29,
   "metadata": {
    "collapsed": false
   },
   "outputs": [
    {
     "name": "stdout",
     "output_type": "stream",
     "text": [
      "(3, 3, 3, 3, 9, 11)\n",
      "(3, 3, 3, 9, 11) (3, 3, 3, 9, 11) (3, 3, 3, 9, 11)\n"
     ]
    },
    {
     "data": {
      "text/plain": [
       "array([-0.003, -0.001, -0.002])"
      ]
     },
     "execution_count": 29,
     "metadata": {},
     "output_type": "execute_result"
    }
   ],
   "source": [
    "G = gradient2(f, *X2[0:num_vars], axis=tuple(axes))\n",
    "print(G.shape)\n",
    "print(G[0].shape, G[1].shape, G[2].shape)\n",
    "G[:, 0, 0, 0, 0, 0]"
   ]
  },
  {
   "cell_type": "code",
   "execution_count": 32,
   "metadata": {
    "collapsed": false
   },
   "outputs": [
    {
     "name": "stdout",
     "output_type": "stream",
     "text": [
      "(2, 3, 3, 3, 3, 9, 11)\n"
     ]
    },
    {
     "data": {
      "text/plain": [
       "array([-0.003, -0.001, -0.002])"
      ]
     },
     "execution_count": 32,
     "metadata": {},
     "output_type": "execute_result"
    }
   ],
   "source": [
    "J = jacobian2(F, *X2[0:num_vars], axis=tuple(axes))\n",
    "print(J.shape)\n",
    "J[0, :, 0, 0, 0, 0, 0]"
   ]
  },
  {
   "cell_type": "code",
   "execution_count": 33,
   "metadata": {
    "collapsed": false
   },
   "outputs": [
    {
     "name": "stdout",
     "output_type": "stream",
     "text": [
      "(3, 3, 3, 3, 3, 9, 11)\n"
     ]
    },
    {
     "data": {
      "text/plain": [
       "array([[ -2.14682818e-13,   5.00000000e-01,   1.00000000e+00],\n",
       "       [  5.00000000e-01,   0.00000000e+00,   0.00000000e+00],\n",
       "       [  1.00000000e+00,   0.00000000e+00,  -1.07449290e-13]])"
      ]
     },
     "execution_count": 33,
     "metadata": {},
     "output_type": "execute_result"
    }
   ],
   "source": [
    "H = hessian(f, *X2[0:num_vars], axis=tuple(axes))\n",
    "print(H.shape)\n",
    "H[:, :, 2, 2, 2, 0, 0]/np.max(H[:, :, 2, 2, 2, 0, 0])"
   ]
  },
  {
   "cell_type": "markdown",
   "metadata": {},
   "source": [
    "## Where/When to Calculate Gradient, Jacobian, Hessian\n",
    "\n",
    "### Multi-Objective and Multi-Variate\n",
    "1. The Hessian is scalar function (single objective/multi-variate)\n",
    "2. The Jaacobian is a vector function (multi-objective/multi-variate)\n",
    "3. The Numerical Jacobian uses a scalar Gradient => (single objective/multi-variate)\n",
    "\n",
    "Therefore it is best to only do single objective minimizations.\n",
    "\n",
    "### When Each be calcualted\n",
    "1. The Hessian requires 3*num_variables measurements (2nd Order).\n",
    "2. The Jacobian requires 2*num_variables measurements (1st Order).\n",
    "3. The Numerical Jacobian uses a scalare Gradient that uses cnetral difference equations => 3*num_variables\n",
    "\n",
    "So, if the minimization uses a Jacobian/Hessian it must record atleast 3 measurements.\n",
    "\n",
    "### How to get the first 3 measurements\n",
    "1. Repeat the first measurement and rely on measurement noise to vary parameters (Infinitesimally small derivatives).\n",
    "2. Perform and initial random sweep of 3 points for each variable (bounds??)\n",
    "\n",
    "Since a measurement always has noise, the first option is easier and provides a good initial Jacobian/Hessian. It could be implementd by simply refusing to evaluate the next guess until 3 measurements are completed.\n",
    "\n",
    "### Where should the Function/Jacobian/Hessian\n",
    "1. We know this will likely always be limited to a single objective function.\n",
    "2. Requires access to X (indep_map), F (objective function evaluation of dataset vars), over all realtime sweeps.\n",
    "3. The evaluation could take place:\n",
    "    a) In SweepIter.__next__\n",
    "      - self.indep_map, NO DATASET, minimize.goal, self.step = realtime sweep size\n",
    "    b) In Minimize.__next__\n",
    "      - Abstract.indep_map, datagroup_model.dataset, self.goal, Abstract.indep_map[\"realtime\"]\n",
    "    c) In Objective.__next__, Objective.__jac__, Objective.__hess__\n",
    "      - generator function for each realtime index. \n",
    "      - Could access Mnimize.__call__, __jac__, __hess__, which is a class funcs Goal.__call__, __jac__, __hess__\n",
    "      - Need to index in each instance goal\n",
    "\n",
    "### Actions\n",
    "1. Calculate Goal.Call/Jacobian/Hessian during AbstractMinimize.__next__ (Done)\n",
    "2. Remove index into Goal.call/jacobian/hessian (Done)\n",
    "3. Store realtime_index in Goal (Done)\n",
    "4. Replace Goal input parameters with Minimize.__call__, Minimize__jac__, Minimize.__hess__(Done)\n",
    "5. Don't stop optimizing if some goals reach completion.  (Not Done)\n",
    "6. Find some way to bypass __jac__/__hess__ if more measurements are needed (Do Something with goal.order)\n"
   ]
  },
  {
   "cell_type": "code",
   "execution_count": null,
   "metadata": {
    "collapsed": true
   },
   "outputs": [],
   "source": []
  },
  {
   "cell_type": "code",
   "execution_count": null,
   "metadata": {
    "collapsed": true
   },
   "outputs": [],
   "source": []
  }
 ],
 "metadata": {
  "kernelspec": {
   "display_name": "Python 3",
   "language": "python",
   "name": "python3"
  },
  "language_info": {
   "codemirror_mode": {
    "name": "ipython",
    "version": 3
   },
   "file_extension": ".py",
   "mimetype": "text/x-python",
   "name": "python",
   "nbconvert_exporter": "python",
   "pygments_lexer": "ipython3",
   "version": "3.4.5"
  }
 },
 "nbformat": 4,
 "nbformat_minor": 2
}
