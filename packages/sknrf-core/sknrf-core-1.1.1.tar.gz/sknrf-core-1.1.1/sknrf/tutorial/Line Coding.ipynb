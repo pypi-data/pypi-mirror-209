{
 "cells": [
  {
   "cell_type": "code",
   "execution_count": null,
   "metadata": {
    "collapsed": true
   },
   "outputs": [],
   "source": [
    "lot them (optional file)\n",
    "MATLAB\n",
    "\n",
    "[time,output,Fs]=Line_Encoder([1 1 0 1 1 0 0 0 1 0 0],2e6,3,'Manchester');\n",
    "plotHandle=plot(time,output);\n",
    "xlabel('Time');\n",
    "ylabel('Amplitude');\n",
    "title('Manchester Encoder');\n",
    "set(plotHandle,'LineWidth',2.5);\n",
    "grid on;\n",
    "maxTime=max(time);\n",
    "maxAmp=max(output);\n",
    "minAmp=min(output);\n",
    "axis([0,maxTime,minAmp-1,maxAmp+1]);\n",
    "1\n",
    "2\n",
    "3\n",
    "4\n",
    "5\n",
    "6\n",
    "7\n",
    "8\n",
    "9\n",
    "10\n",
    "11\n",
    "[time,output,Fs]=Line_Encoder([1 1 0 1 1 0 0 0 1 0 0],2e6,3,'Manchester');\n",
    "plotHandle=plot(time,output);\n",
    "xlabel('Time');\n",
    "ylabel('Amplitude');\n",
    "title('Manchester Encoder');\n",
    "set(plotHandle,'LineWidth',2.5);\n",
    "grid on;\n",
    "maxTime=max(time);\n",
    "maxAmp=max(output);\n",
    "minAmp=min(output);\n",
    "axis([0,maxTime,minAmp-1,maxAmp+1]);"
   ]
  }
 ],
 "metadata": {
  "kernelspec": {
   "display_name": "Python 3",
   "language": "python",
   "name": "python3"
  },
  "language_info": {
   "codemirror_mode": {
    "name": "ipython",
    "version": 3
   },
   "file_extension": ".py",
   "mimetype": "text/x-python",
   "name": "python",
   "nbconvert_exporter": "python",
   "pygments_lexer": "ipython3",
   "version": "3.4.5"
  }
 },
 "nbformat": 4,
 "nbformat_minor": 2
}
