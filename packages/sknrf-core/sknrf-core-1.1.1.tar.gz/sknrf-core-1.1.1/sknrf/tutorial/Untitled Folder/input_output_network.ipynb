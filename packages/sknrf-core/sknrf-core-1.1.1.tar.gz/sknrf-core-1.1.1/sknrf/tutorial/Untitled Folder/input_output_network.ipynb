{
 "cells": [
  {
   "cell_type": "code",
   "execution_count": 1,
   "metadata": {
    "collapsed": true
   },
   "outputs": [],
   "source": [
    "import skrf as rf\n"
   ]
  },
  {
   "cell_type": "markdown",
   "metadata": {},
   "source": [
    "# Network Termination\n",
    "b1 = S11*a1 + S12*a2\n",
    "b2 = S21*a1 + S22*a2\n",
    "\n",
    "a2 = b2*G2\n",
    "b2 = a2/G2\n",
    "(1/G2)*a2 = S21*a1 + S22*a2\n",
    "a2 = S21*a1/((1/G2) - S22)"
   ]
  }
 ],
 "metadata": {
  "kernelspec": {
   "display_name": "Python 3",
   "language": "python",
   "name": "python3"
  },
  "language_info": {
   "codemirror_mode": {
    "name": "ipython",
    "version": 3
   },
   "file_extension": ".py",
   "mimetype": "text/x-python",
   "name": "python",
   "nbconvert_exporter": "python",
   "pygments_lexer": "ipython3",
   "version": "3.4.5"
  }
 },
 "nbformat": 4,
 "nbformat_minor": 2
}
