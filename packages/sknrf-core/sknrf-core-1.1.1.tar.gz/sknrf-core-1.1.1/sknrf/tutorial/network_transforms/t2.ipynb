{
 "cells": [
  {
   "cell_type": "code",
   "execution_count": 7,
   "metadata": {
    "collapsed": false
   },
   "outputs": [],
   "source": [
    "Z_0 = symbols(\"Z_0\")\n",
    "T_1_1, T_1_2 = symbols(\"T_1_1 T_1_2\")\n",
    "T_2_1, T_2_2 = symbols(\"T_2_1 T_2_2\")"
   ]
  },
  {
   "cell_type": "code",
   "execution_count": 8,
   "metadata": {
    "collapsed": false
   },
   "outputs": [
    {
     "data": {
      "image/png": "[encoded data removed]",
      "text/plain": [
       "⎡               -0.5                0.5 ⎛            ⎛               __       \n",
       "⎢(re(Z₀)⋅re(Z₁))    ⋅(re(Z₀)⋅re(Z₂))   ⋅⎝- (Z₀ - Z₂)⋅⎝T₁ ₂⋅Z₀ + T₁ ₂⋅Z₁ + T₂ ₂\n",
       "⎢─────────────────────────────────────────────────────────────────────────────\n",
       "⎢                                                                      ⎛     _\n",
       "⎢                                                                 2⋅Z₀⋅⎝Z₂ + Z\n",
       "⎢                                                                             \n",
       "⎢               -0.5                0.5 ⎛  ⎛     __⎞ ⎛               __       \n",
       "⎢(re(Z₀)⋅re(Z₁))    ⋅(re(Z₀)⋅re(Z₂))   ⋅⎝- ⎝Z₀ - Z₂⎠⋅⎝T₁ ₁⋅Z₀ + T₁ ₁⋅Z₁ + T₂ ₁\n",
       "⎢─────────────────────────────────────────────────────────────────────────────\n",
       "⎢                                                                      ⎛     _\n",
       "⎣                                                                 2⋅Z₀⋅⎝Z₂ + Z\n",
       "\n",
       "           __⎞             ⎛               __                  __⎞⎞           \n",
       "⋅Z₀ - T₂ ₂⋅Z₁⎠ + (Z₀ + Z₂)⋅⎝T₁ ₁⋅Z₀ + T₁ ₁⋅Z₁ + T₂ ₁⋅Z₀ - T₂ ₁⋅Z₁⎠⎠  (re(Z₀)⋅r\n",
       "───────────────────────────────────────────────────────────────────  ─────────\n",
       "_⎞                                                                            \n",
       "₂⎠                                                                            \n",
       "                                                                              \n",
       "           __⎞   ⎛     __⎞ ⎛               __                  __⎞⎞           \n",
       "⋅Z₀ - T₂ ₁⋅Z₁⎠ + ⎝Z₀ + Z₂⎠⋅⎝T₁ ₂⋅Z₀ + T₁ ₂⋅Z₁ + T₂ ₂⋅Z₀ - T₂ ₂⋅Z₁⎠⎠  (re(Z₀)⋅r\n",
       "───────────────────────────────────────────────────────────────────  ─────────\n",
       "_⎞                                                                            \n",
       "₂⎠                                                                            \n",
       "\n",
       "      -0.5                0.5                                                 \n",
       "e(Z₁))    ⋅(re(Z₀)⋅re(Z₂))   ⋅(-(Z₀ - Z₂)⋅(T₁ ₂⋅Z₀ - T₁ ₂⋅Z₁ + T₂ ₂⋅Z₀ + T₂ ₂⋅\n",
       "──────────────────────────────────────────────────────────────────────────────\n",
       "                                                             ⎛     __⎞        \n",
       "                                                        2⋅Z₀⋅⎝Z₂ + Z₂⎠        \n",
       "                                                                              \n",
       "      -0.5                0.5 ⎛  ⎛     __⎞                                    \n",
       "e(Z₁))    ⋅(re(Z₀)⋅re(Z₂))   ⋅⎝- ⎝Z₀ - Z₂⎠⋅(T₁ ₁⋅Z₀ - T₁ ₁⋅Z₁ + T₂ ₁⋅Z₀ + T₂ ₁\n",
       "──────────────────────────────────────────────────────────────────────────────\n",
       "                                                             ⎛     __⎞        \n",
       "                                                        2⋅Z₀⋅⎝Z₂ + Z₂⎠        \n",
       "\n",
       "                                                         ⎤\n",
       "Z₁) + (Z₀ + Z₂)⋅(T₁ ₁⋅Z₀ - T₁ ₁⋅Z₁ + T₂ ₁⋅Z₀ + T₂ ₁⋅Z₁)) ⎥\n",
       "──────────────────────────────────────────────────────── ⎥\n",
       "                                                         ⎥\n",
       "                                                         ⎥\n",
       "                                                         ⎥\n",
       "       ⎛     __⎞                                        ⎞⎥\n",
       "⋅Z₁) + ⎝Z₀ + Z₂⎠⋅(T₁ ₂⋅Z₀ - T₁ ₂⋅Z₁ + T₂ ₂⋅Z₀ + T₂ ₂⋅Z₁)⎠⎥\n",
       "─────────────────────────────────────────────────────────⎥\n",
       "                                                         ⎥\n",
       "                                                         ⎦"
      ]
     },
     "execution_count": 8,
     "metadata": {},
     "output_type": "execute_result"
    }
   ],
   "source": [
    "#t2tp\n",
    "Z_1, Z_2 = symbols(\"Z_1 Z_2\")\n",
    "Z_1_F = 1/(2*(re(Z_0)*re(Z_1))**(1/2))\n",
    "Z_2_F = 1/(2*(re(Z_0)*re(Z_2))**(1/2))\n",
    "Matrix_1 = Matrix([[Z_1_F*(Z_0 + conj(Z_1)), Z_1_F*(Z_0 - conj(Z_1))],\n",
    "                   [Z_1_F*(Z_0 - Z_1)      , Z_1_F*(Z_0 + Z_1)      ]])\n",
    "Matrix_2 = Matrix([[T_1_1, T_1_2],\n",
    "                   [T_2_1, T_2_2]])\n",
    "Matrix_3 = Matrix([[Z_2_F*(Z_0 + conj(Z_2)), Z_2_F*(Z_0 - conj(Z_2))  ],\n",
    "                   [Z_2_F*(Z_0 - Z_2)      , Z_2_F*(Z_0 + Z_2)        ]])\n",
    "T_p = simplify(factor(Matrix_1*Matrix_2)*factor(Matrix_3.inv()))\n",
    "T_p.T"
   ]
  },
  {
   "cell_type": "code",
   "execution_count": 9,
   "metadata": {
    "collapsed": false
   },
   "outputs": [
    {
     "data": {
      "image/png": "[encoded data removed]",
      "text/plain": [
       "⎡                               __        __                                  \n",
       "⎢      T₁ ₁⋅Z₀ + T₁ ₂⋅Z₀ + T₂ ₁⋅Z₀ + T₂ ₂⋅Z₀            -T₁ ₁ - T₁ ₂ + T₂ ₁ + \n",
       "⎢                                                                             \n",
       "⎢     ⎛               __⎞   ⎛               __⎞ __                            \n",
       "⎣- Z₀⋅⎝T₁ ₁⋅Z₀ + T₂ ₁⋅Z₀⎠ + ⎝T₁ ₂⋅Z₀ + T₂ ₂⋅Z₀⎠⋅Z₀  Z₀⋅(T₁ ₁ - T₂ ₁) - (T₁ ₂ -\n",
       "\n",
       "         ⎤\n",
       "T₂ ₂     ⎥\n",
       "         ⎥\n",
       "       __⎥\n",
       " T₂ ₂)⋅Z₀⎦"
      ]
     },
     "execution_count": 9,
     "metadata": {},
     "output_type": "execute_result"
    }
   ],
   "source": [
    "#t2a\n",
    "Matrix_1 = sqrt(2/re(Z_0))*Matrix([[Z_0, conj(Z_0)],\n",
    "                                   [-1,          1]])\n",
    "Matrix_2 = Matrix([[T_1_1, T_1_2],\n",
    "                   [T_2_1, T_2_2]])\n",
    "Matrix_3 = 1/(2*sqrt(2*re(Z_0)))*Matrix([[1,          Z_0],\n",
    "                                         [1, -1*conj(Z_0)]])\n",
    "Flip_I = Matrix([[1,  0],\n",
    "                 [0, -1]])\n",
    "abcd = simplify(Matrix_1*Matrix_2*Matrix_3*Flip_I)/sqrt(1/re(Z_0))*(2*sqrt(re(Z_0))) \n",
    "abcd.T #Remember to multiply by 1/(2*re(Z_0))"
   ]
  },
  {
   "cell_type": "code",
   "execution_count": 10,
   "metadata": {
    "collapsed": false
   },
   "outputs": [
    {
     "data": {
      "image/png": "[encoded data removed]",
      "text/plain": [
       "   1    \n",
       "────────\n",
       "2⋅re(Z₀)"
      ]
     },
     "execution_count": 10,
     "metadata": {},
     "output_type": "execute_result"
    }
   ],
   "source": [
    "1/(2*re(Z_0))"
   ]
  },
  {
   "cell_type": "code",
   "execution_count": null,
   "metadata": {
    "collapsed": true
   },
   "outputs": [],
   "source": []
  }
 ],
 "metadata": {
  "kernelspec": {
   "display_name": "Python 3",
   "language": "python",
   "name": "python3"
  },
  "language_info": {
   "codemirror_mode": {
    "name": "ipython",
    "version": 3
   },
   "file_extension": ".py",
   "mimetype": "text/x-python",
   "name": "python",
   "nbconvert_exporter": "python",
   "pygments_lexer": "ipython3",
   "version": "3.4.5"
  }
 },
 "nbformat": 4,
 "nbformat_minor": 0
}
