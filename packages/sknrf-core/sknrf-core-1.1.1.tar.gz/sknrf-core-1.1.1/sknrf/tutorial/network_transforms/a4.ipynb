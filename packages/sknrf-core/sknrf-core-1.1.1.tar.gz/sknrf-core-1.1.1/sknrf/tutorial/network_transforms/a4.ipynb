{
 "cells": [
  {
   "cell_type": "code",
   "execution_count": 1,
   "metadata": {
    "collapsed": false
   },
   "outputs": [],
   "source": [
    "from sympy import symbols, Eq, Matrix, Rational, solve, simplify, factor, init_printing\n",
    "from sympy.functions import re, im, sqrt\n",
    "from sympy.functions import conjugate as conj\n",
    "init_printing()"
   ]
  },
  {
   "cell_type": "code",
   "execution_count": 2,
   "metadata": {
    "collapsed": false
   },
   "outputs": [],
   "source": [
    "Z_0 = symbols(\"Z_0\")\n",
    "V_1, V_2, V_3, V_4 = symbols(\"V_1 V_2 V_3 V_3\")\n",
    "I_1, I_2, I_3, I_4 = symbols(\"I_1 I_2 I_3 I_4\")\n",
    "A_1_3, B_1_3, C_1_3, D_1_3 = symbols(\"A_1_3 B_1_3 C_1_3 D_1_3\")\n",
    "A_1_4, B_1_4, C_1_4, D_1_4 = symbols(\"A_1_4 B_1_4 C_1_4 D_1_4\")\n",
    "A_2_3, B_2_3, C_2_3, D_2_3 = symbols(\"A_2_3 B_2_3 C_2_3 D_2_3\")\n",
    "A_2_4, B_2_4, C_2_4, D_2_4 = symbols(\"A_2_4 B_2_4 C_2_4 D_2_4\")"
   ]
  },
  {
   "cell_type": "code",
   "execution_count": 5,
   "metadata": {
    "collapsed": false
   },
   "outputs": [
    {
     "data": {
      "image/png": "[encoded data removed]",
      "text/plain": [
       "⎡     ___          ___ __                              ⎤\n",
       "⎢   ╲╱ 2        -╲╱ 2 ⋅Z₀                              ⎥\n",
       "⎢────────────  ────────────       0             0      ⎥\n",
       "⎢    ________      ________                            ⎥\n",
       "⎢4⋅╲╱ re(Z₀)   4⋅╲╱ re(Z₀)                             ⎥\n",
       "⎢                                                      ⎥\n",
       "⎢     ___          ___                                 ⎥\n",
       "⎢   ╲╱ 2         ╲╱ 2 ⋅Z₀                              ⎥\n",
       "⎢────────────  ────────────       0             0      ⎥\n",
       "⎢    ________      ________                            ⎥\n",
       "⎢4⋅╲╱ re(Z₀)   4⋅╲╱ re(Z₀)                             ⎥\n",
       "⎢                                                      ⎥\n",
       "⎢                                 ___          ___ __  ⎥\n",
       "⎢                               ╲╱ 2        -╲╱ 2 ⋅Z₀  ⎥\n",
       "⎢     0             0        ────────────  ────────────⎥\n",
       "⎢                                ________      ________⎥\n",
       "⎢                            4⋅╲╱ re(Z₀)   4⋅╲╱ re(Z₀) ⎥\n",
       "⎢                                                      ⎥\n",
       "⎢                                 ___          ___     ⎥\n",
       "⎢                               ╲╱ 2         ╲╱ 2 ⋅Z₀  ⎥\n",
       "⎢     0             0        ────────────  ────────────⎥\n",
       "⎢                                ________      ________⎥\n",
       "⎣                            4⋅╲╱ re(Z₀)   4⋅╲╱ re(Z₀) ⎦"
      ]
     },
     "execution_count": 5,
     "metadata": {},
     "output_type": "execute_result"
    }
   ],
   "source": [
    "#a4t\n",
    "Matrix_1 = 1/(2*sqrt(2*re(Z_0)))*Matrix([[1, -1*conj(Z_0), 0, 0],\n",
    "                                       [1, Z_0, 0, 0],\n",
    "                                       [0, 0, 1, -1*conj(Z_0)],\n",
    "                                       [0, 0, 1, Z_0]])\n",
    "Matrix_2 = Matrix([[A_1_3, B_1_3, A_1_4, B_1_4],\n",
    "                 [C_1_3, D_1_3, C_1_4, D_1_4],\n",
    "                 [A_2_3, B_2_3, A_2_4, B_2_4],\n",
    "                 [C_2_3, D_2_3, C_2_4, D_2_4]])\n",
    "Matrix_3 = sqrt(2/re(Z_0))*Matrix([[conj(Z_0), Z_0, 0, 0],\n",
    "                                 [1, -1, 0, 0],\n",
    "                                 [0, 0, conj(Z_0), Z_0],\n",
    "                                 [0, 0, 1, -1]])\n",
    "Flip_I = Matrix([[1, 0, 0, 0],\n",
    "                 [0, -1, 0, 0],\n",
    "                 [0, 0, 1, 0],\n",
    "                 [0, 0, 0, -1]])\n",
    "abcd = simplify(Matrix_1*Matrix_2*Flip_I*Matrix_3)/sqrt(1/re(Z_0))*(2*sqrt(re(Z_0))) \n",
    "abcd.T #Remember to multiply by 1/(2*re(Z_0))\n",
    "Matrix_1"
   ]
  },
  {
   "cell_type": "code",
   "execution_count": null,
   "metadata": {
    "collapsed": true
   },
   "outputs": [],
   "source": []
  },
  {
   "cell_type": "code",
   "execution_count": null,
   "metadata": {
    "collapsed": true
   },
   "outputs": [],
   "source": []
  }
 ],
 "metadata": {
  "kernelspec": {
   "display_name": "Python 3",
   "language": "python",
   "name": "python3"
  },
  "language_info": {
   "codemirror_mode": {
    "name": "ipython",
    "version": 3
   },
   "file_extension": ".py",
   "mimetype": "text/x-python",
   "name": "python",
   "nbconvert_exporter": "python",
   "pygments_lexer": "ipython3",
   "version": "3.4.5"
  }
 },
 "nbformat": 4,
 "nbformat_minor": 0
}
