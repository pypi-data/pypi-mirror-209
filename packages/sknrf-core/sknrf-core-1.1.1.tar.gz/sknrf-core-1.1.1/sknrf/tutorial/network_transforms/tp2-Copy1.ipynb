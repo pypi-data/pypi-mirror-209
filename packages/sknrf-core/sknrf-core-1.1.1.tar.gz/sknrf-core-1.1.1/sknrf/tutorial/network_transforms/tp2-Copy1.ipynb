{
 "cells": [
  {
   "cell_type": "code",
   "execution_count": 1,
   "metadata": {
    "collapsed": false
   },
   "outputs": [],
   "source": [
    "from sympy import symbols, Eq, Matrix, Rational, solve, simplify, factor, init_printing\n",
    "from sympy.functions import re, im, sqrt\n",
    "from sympy.functions import conjugate as conj\n",
    "# init_printing()"
   ]
  },
  {
   "cell_type": "code",
   "execution_count": 2,
   "metadata": {
    "collapsed": false
   },
   "outputs": [],
   "source": [
    "Z_0 = symbols(\"Z_0\")\n",
    "T_p_1_1, T_p_1_2 = symbols(\"T_p_1_1 T_p_1_2\")\n",
    "T_p_2_1, T_p_2_2 = symbols(\"T_p_2_1 T_p_2_2\")"
   ]
  },
  {
   "cell_type": "code",
   "execution_count": 3,
   "metadata": {
    "collapsed": false
   },
   "outputs": [
    {
     "data": {
      "text/plain": [
       "Matrix([\n",
       "[(re(Z_0)*re(Z_1))**0.5*(re(Z_0)*re(Z_2))**(-0.5)*((Z_0 + Z_1)*(T_p_1_1*Z_0 + T_p_1_1*conjugate(Z_2) + T_p_1_2*Z_0 - T_p_1_2*Z_2) - (Z_0 - conjugate(Z_1))*(T_p_2_1*Z_0 + T_p_2_1*conjugate(Z_2) + T_p_2_2*Z_0 - T_p_2_2*Z_2))/(2*Z_0*(Z_1 + conjugate(Z_1))), (re(Z_0)*re(Z_1))**0.5*(re(Z_0)*re(Z_2))**(-0.5)*(-(Z_0 - Z_1)*(T_p_1_1*Z_0 + T_p_1_1*conjugate(Z_2) + T_p_1_2*Z_0 - T_p_1_2*Z_2) + (Z_0 + conjugate(Z_1))*(T_p_2_1*Z_0 + T_p_2_1*conjugate(Z_2) + T_p_2_2*Z_0 - T_p_2_2*Z_2))/(2*Z_0*(Z_1 + conjugate(Z_1)))],\n",
       "[(re(Z_0)*re(Z_1))**0.5*(re(Z_0)*re(Z_2))**(-0.5)*((Z_0 + Z_1)*(T_p_1_1*Z_0 - T_p_1_1*conjugate(Z_2) + T_p_1_2*Z_0 + T_p_1_2*Z_2) - (Z_0 - conjugate(Z_1))*(T_p_2_1*Z_0 - T_p_2_1*conjugate(Z_2) + T_p_2_2*Z_0 + T_p_2_2*Z_2))/(2*Z_0*(Z_1 + conjugate(Z_1))), (re(Z_0)*re(Z_1))**0.5*(re(Z_0)*re(Z_2))**(-0.5)*(-(Z_0 - Z_1)*(T_p_1_1*Z_0 - T_p_1_1*conjugate(Z_2) + T_p_1_2*Z_0 + T_p_1_2*Z_2) + (Z_0 + conjugate(Z_1))*(T_p_2_1*Z_0 - T_p_2_1*conjugate(Z_2) + T_p_2_2*Z_0 + T_p_2_2*Z_2))/(2*Z_0*(Z_1 + conjugate(Z_1)))]])"
      ]
     },
     "execution_count": 3,
     "metadata": {},
     "output_type": "execute_result"
    }
   ],
   "source": [
    "#tp2t\n",
    "Z_1, Z_2 = symbols(\"Z_1 Z_2\")\n",
    "Z_1_F = 1/(2*(re(Z_0)*re(Z_1))**(1/2))\n",
    "Z_2_F = 1/(2*(re(Z_0)*re(Z_2))**(1/2))\n",
    "Matrix_1 = Matrix([[Z_1_F*(Z_0 + conj(Z_1)), Z_1_F*(Z_0 - conj(Z_1))],\n",
    "                   [Z_1_F*(Z_0 - Z_1)      , Z_1_F*(Z_0 + Z_1)      ]])\n",
    "Matrix_2 = Matrix([[T_p_1_1, T_p_1_2],\n",
    "                   [T_p_2_1, T_p_2_2]])\n",
    "Matrix_3 = Matrix([[Z_2_F*(Z_0 + conj(Z_2)), Z_2_F*(Z_0 - conj(Z_2))  ],\n",
    "                   [Z_2_F*(Z_0 - Z_2)      , Z_2_F*(Z_0 + Z_2)        ]])\n",
    "T = simplify(factor(Matrix_1.inv())*factor(Matrix_2*Matrix_3))\n",
    "T.T"
   ]
  },
  {
   "cell_type": "code",
   "execution_count": null,
   "metadata": {
    "collapsed": true
   },
   "outputs": [],
   "source": []
  }
 ],
 "metadata": {
  "kernelspec": {
   "display_name": "Python 3",
   "language": "python",
   "name": "python3"
  },
  "language_info": {
   "codemirror_mode": {
    "name": "ipython",
    "version": 3
   },
   "file_extension": ".py",
   "mimetype": "text/x-python",
   "name": "python",
   "nbconvert_exporter": "python",
   "pygments_lexer": "ipython3",
   "version": "3.4.4"
  }
 },
 "nbformat": 4,
 "nbformat_minor": 0
}
