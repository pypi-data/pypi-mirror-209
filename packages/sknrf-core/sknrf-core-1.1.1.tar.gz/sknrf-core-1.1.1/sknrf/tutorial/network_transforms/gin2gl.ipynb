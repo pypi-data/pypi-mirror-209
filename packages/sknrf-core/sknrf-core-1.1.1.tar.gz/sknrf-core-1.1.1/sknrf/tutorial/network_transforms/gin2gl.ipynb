{
 "cells": [
  {
   "cell_type": "code",
   "execution_count": 7,
   "metadata": {
    "collapsed": true
   },
   "outputs": [],
   "source": [
    "from sympy import symbols, Eq, Matrix, Rational, solve, simplify, factor, init_printing\n",
    "from sympy.functions import re, im, sqrt\n",
    "from sympy.functions import conjugate as conj\n",
    "init_printing()"
   ]
  },
  {
   "cell_type": "code",
   "execution_count": 8,
   "metadata": {
    "collapsed": true
   },
   "outputs": [],
   "source": [
    "G_IN, G_L = symbols(\"G_IN G_L\")\n",
    "S_1_1, S_1_2 = symbols(\"S_1_1 S_1_2\")\n",
    "S_2_1, S_2_2 = symbols(\"S_2_1 S_2_2\")"
   ]
  },
  {
   "cell_type": "code",
   "execution_count": 9,
   "metadata": {
    "collapsed": false
   },
   "outputs": [],
   "source": [
    "Eq_G = Eq(S_1_1 + S_1_2*G_L*S_2_1/(1 - S_2_2*G_L) - G_IN)"
   ]
  },
  {
   "cell_type": "code",
   "execution_count": 10,
   "metadata": {
    "collapsed": false
   },
   "outputs": [
    {
     "data": {
      "image/png": "[encoded data removed]",
      "text/latex": [
       "$$\\left [ \\frac{G_{IN} - S_{1 1}}{G_{IN} S_{2 2} - S_{1 1} S_{2 2} + S_{1 2} S_{2 1}}\\right ]$$"
      ],
      "text/plain": [
       "⎡           G_IN - S₁ ₁           ⎤\n",
       "⎢─────────────────────────────────⎥\n",
       "⎣G_IN⋅S₂ ₂ - S₁ ₁⋅S₂ ₂ + S₁ ₂⋅S₂ ₁⎦"
      ]
     },
     "execution_count": 10,
     "metadata": {},
     "output_type": "execute_result"
    }
   ],
   "source": [
    "#gin2gl\n",
    "solve(Eq_G, G_L)"
   ]
  },
  {
   "cell_type": "code",
   "execution_count": 14,
   "metadata": {
    "collapsed": false
   },
   "outputs": [
    {
     "data": {
      "image/png": "[encoded data removed]",
      "text/latex": [
       "$$\\left [ \\frac{1}{G_{L} S_{2 2} - 1} \\left(G_{L} S_{1 1} S_{2 2} - G_{L} S_{1 2} S_{2 1} - S_{1 1}\\right)\\right ]$$"
      ],
      "text/plain": [
       "⎡G_L⋅S₁ ₁⋅S₂ ₂ - G_L⋅S₁ ₂⋅S₂ ₁ - S₁ ₁⎤\n",
       "⎢────────────────────────────────────⎥\n",
       "⎣            G_L⋅S₂ ₂ - 1            ⎦"
      ]
     },
     "execution_count": 14,
     "metadata": {},
     "output_type": "execute_result"
    }
   ],
   "source": [
    "#gl2gin\n",
    "solve(Eq_G, G_IN)"
   ]
  },
  {
   "cell_type": "code",
   "execution_count": null,
   "metadata": {
    "collapsed": true
   },
   "outputs": [],
   "source": []
  },
  {
   "cell_type": "code",
   "execution_count": null,
   "metadata": {
    "collapsed": true
   },
   "outputs": [],
   "source": []
  }
 ],
 "metadata": {
  "kernelspec": {
   "display_name": "Python 3",
   "language": "python",
   "name": "python3"
  },
  "language_info": {
   "codemirror_mode": {
    "name": "ipython",
    "version": 3
   },
   "file_extension": ".py",
   "mimetype": "text/x-python",
   "name": "python",
   "nbconvert_exporter": "python",
   "pygments_lexer": "ipython3",
   "version": "3.4.5"
  }
 },
 "nbformat": 4,
 "nbformat_minor": 0
}
