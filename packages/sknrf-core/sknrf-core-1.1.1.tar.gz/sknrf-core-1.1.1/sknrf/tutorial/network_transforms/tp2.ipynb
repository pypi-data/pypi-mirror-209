{
 "cells": [
  {
   "cell_type": "code",
   "execution_count": 1,
   "metadata": {
    "collapsed": false
   },
   "outputs": [],
   "source": [
    "from sympy import symbols, Eq, Matrix, Rational, solve, simplify, factor, init_printing\n",
    "from sympy.functions import re, im, sqrt\n",
    "from sympy.functions import conjugate as conj\n",
    "init_printing()"
   ]
  },
  {
   "cell_type": "code",
   "execution_count": 2,
   "metadata": {
    "collapsed": false
   },
   "outputs": [],
   "source": [
    "Z_0 = symbols(\"Z_0\")\n",
    "T_p_1_1, T_p_1_2 = symbols(\"T_p_1_1 T_p_1_2\")\n",
    "T_p_2_1, T_p_2_2 = symbols(\"T_p_2_1 T_p_2_2\")"
   ]
  },
  {
   "cell_type": "code",
   "execution_count": 3,
   "metadata": {
    "collapsed": false
   },
   "outputs": [
    {
     "data": {
      "image/png": "[encoded data removed]",
      "text/latex": [
       "$$\\left[\\begin{matrix}\\frac{\\left(\\Re{Z_{0}} \\Re{Z_{1}}\\right)^{0.5}}{2 Z_{0} \\left(\\Re{Z_{0}} \\Re{Z_{2}}\\right)^{0.5} \\left(Z_{1} + \\overline{Z_{1}}\\right)} \\left(\\left(Z_{0} + Z_{1}\\right) \\left(T_{p 1 1} Z_{0} + T_{p 1 1} \\overline{Z_{2}} + T_{p 1 2} Z_{0} - T_{p 1 2} Z_{2}\\right) - \\left(Z_{0} - \\overline{Z_{1}}\\right) \\left(T_{p 2 1} Z_{0} + T_{p 2 1} \\overline{Z_{2}} + T_{p 2 2} Z_{0} - T_{p 2 2} Z_{2}\\right)\\right) & \\frac{\\left(\\Re{Z_{0}} \\Re{Z_{1}}\\right)^{0.5}}{2 Z_{0} \\left(\\Re{Z_{0}} \\Re{Z_{2}}\\right)^{0.5} \\left(Z_{1} + \\overline{Z_{1}}\\right)} \\left(- \\left(Z_{0} - Z_{1}\\right) \\left(T_{p 1 1} Z_{0} + T_{p 1 1} \\overline{Z_{2}} + T_{p 1 2} Z_{0} - T_{p 1 2} Z_{2}\\right) + \\left(Z_{0} + \\overline{Z_{1}}\\right) \\left(T_{p 2 1} Z_{0} + T_{p 2 1} \\overline{Z_{2}} + T_{p 2 2} Z_{0} - T_{p 2 2} Z_{2}\\right)\\right)\\\\\\frac{\\left(\\Re{Z_{0}} \\Re{Z_{1}}\\right)^{0.5}}{2 Z_{0} \\left(\\Re{Z_{0}} \\Re{Z_{2}}\\right)^{0.5} \\left(Z_{1} + \\overline{Z_{1}}\\right)} \\left(\\left(Z_{0} + Z_{1}\\right) \\left(T_{p 1 1} Z_{0} - T_{p 1 1} \\overline{Z_{2}} + T_{p 1 2} Z_{0} + T_{p 1 2} Z_{2}\\right) - \\left(Z_{0} - \\overline{Z_{1}}\\right) \\left(T_{p 2 1} Z_{0} - T_{p 2 1} \\overline{Z_{2}} + T_{p 2 2} Z_{0} + T_{p 2 2} Z_{2}\\right)\\right) & \\frac{\\left(\\Re{Z_{0}} \\Re{Z_{1}}\\right)^{0.5}}{2 Z_{0} \\left(\\Re{Z_{0}} \\Re{Z_{2}}\\right)^{0.5} \\left(Z_{1} + \\overline{Z_{1}}\\right)} \\left(- \\left(Z_{0} - Z_{1}\\right) \\left(T_{p 1 1} Z_{0} - T_{p 1 1} \\overline{Z_{2}} + T_{p 1 2} Z_{0} + T_{p 1 2} Z_{2}\\right) + \\left(Z_{0} + \\overline{Z_{1}}\\right) \\left(T_{p 2 1} Z_{0} - T_{p 2 1} \\overline{Z_{2}} + T_{p 2 2} Z_{0} + T_{p 2 2} Z_{2}\\right)\\right)\\end{matrix}\\right]$$"
      ],
      "text/plain": [
       "⎡               0.5                -0.5 ⎛          ⎛                     __   \n",
       "⎢(re(Z₀)⋅re(Z₁))   ⋅(re(Z₀)⋅re(Z₂))    ⋅⎝(Z₀ + Z₁)⋅⎝T_p_1_1⋅Z₀ + T_p_1_1⋅Z₂ + \n",
       "⎢─────────────────────────────────────────────────────────────────────────────\n",
       "⎢                                                                             \n",
       "⎢                                                                            2\n",
       "⎢                                                                             \n",
       "⎢               0.5                -0.5 ⎛          ⎛                     __   \n",
       "⎢(re(Z₀)⋅re(Z₁))   ⋅(re(Z₀)⋅re(Z₂))    ⋅⎝(Z₀ + Z₁)⋅⎝T_p_1_1⋅Z₀ - T_p_1_1⋅Z₂ + \n",
       "⎢─────────────────────────────────────────────────────────────────────────────\n",
       "⎢                                                                             \n",
       "⎣                                                                            2\n",
       "\n",
       "                       ⎞   ⎛     __⎞ ⎛                     __                 \n",
       "T_p_1_2⋅Z₀ - T_p_1_2⋅Z₂⎠ - ⎝Z₀ - Z₁⎠⋅⎝T_p_2_1⋅Z₀ + T_p_2_1⋅Z₂ + T_p_2_2⋅Z₀ - T\n",
       "──────────────────────────────────────────────────────────────────────────────\n",
       "    ⎛     __⎞                                                                 \n",
       "⋅Z₀⋅⎝Z₁ + Z₁⎠                                                                 \n",
       "                                                                              \n",
       "                       ⎞   ⎛     __⎞ ⎛                     __                 \n",
       "T_p_1_2⋅Z₀ + T_p_1_2⋅Z₂⎠ - ⎝Z₀ - Z₁⎠⋅⎝T_p_2_1⋅Z₀ - T_p_2_1⋅Z₂ + T_p_2_2⋅Z₀ + T\n",
       "──────────────────────────────────────────────────────────────────────────────\n",
       "    ⎛     __⎞                                                                 \n",
       "⋅Z₀⋅⎝Z₁ + Z₁⎠                                                                 \n",
       "\n",
       "         ⎞⎞                 0.5                -0.5 ⎛            ⎛            \n",
       "_p_2_2⋅Z₂⎠⎠  (re(Z₀)⋅re(Z₁))   ⋅(re(Z₀)⋅re(Z₂))    ⋅⎝- (Z₀ - Z₁)⋅⎝T_p_1_1⋅Z₀ +\n",
       "───────────  ─────────────────────────────────────────────────────────────────\n",
       "                                                                              \n",
       "                                                                              \n",
       "                                                                              \n",
       "         ⎞⎞                 0.5                -0.5 ⎛            ⎛            \n",
       "_p_2_2⋅Z₂⎠⎠  (re(Z₀)⋅re(Z₁))   ⋅(re(Z₀)⋅re(Z₂))    ⋅⎝- (Z₀ - Z₁)⋅⎝T_p_1_1⋅Z₀ -\n",
       "───────────  ─────────────────────────────────────────────────────────────────\n",
       "                                                                              \n",
       "                                                                              \n",
       "\n",
       "         __                          ⎞   ⎛     __⎞ ⎛                     __   \n",
       " T_p_1_1⋅Z₂ + T_p_1_2⋅Z₀ - T_p_1_2⋅Z₂⎠ + ⎝Z₀ + Z₁⎠⋅⎝T_p_2_1⋅Z₀ + T_p_2_1⋅Z₂ + \n",
       "──────────────────────────────────────────────────────────────────────────────\n",
       "                 ⎛     __⎞                                                    \n",
       "            2⋅Z₀⋅⎝Z₁ + Z₁⎠                                                    \n",
       "                                                                              \n",
       "         __                          ⎞   ⎛     __⎞ ⎛                     __   \n",
       " T_p_1_1⋅Z₂ + T_p_1_2⋅Z₀ + T_p_1_2⋅Z₂⎠ + ⎝Z₀ + Z₁⎠⋅⎝T_p_2_1⋅Z₀ - T_p_2_1⋅Z₂ + \n",
       "──────────────────────────────────────────────────────────────────────────────\n",
       "                 ⎛     __⎞                                                    \n",
       "            2⋅Z₀⋅⎝Z₁ + Z₁⎠                                                    \n",
       "\n",
       "                       ⎞⎞⎤\n",
       "T_p_2_2⋅Z₀ - T_p_2_2⋅Z₂⎠⎠⎥\n",
       "─────────────────────────⎥\n",
       "                         ⎥\n",
       "                         ⎥\n",
       "                         ⎥\n",
       "                       ⎞⎞⎥\n",
       "T_p_2_2⋅Z₀ + T_p_2_2⋅Z₂⎠⎠⎥\n",
       "─────────────────────────⎥\n",
       "                         ⎥\n",
       "                         ⎦"
      ]
     },
     "execution_count": 3,
     "metadata": {},
     "output_type": "execute_result"
    }
   ],
   "source": [
    "#tp2t\n",
    "Z_1, Z_2 = symbols(\"Z_1 Z_2\")\n",
    "Z_1_F = 1/(2*(re(Z_0)*re(Z_1))**(1/2))\n",
    "Z_2_F = 1/(2*(re(Z_0)*re(Z_2))**(1/2))\n",
    "Matrix_1 = Matrix([[Z_1_F*(Z_0 + conj(Z_1)), Z_1_F*(Z_0 - conj(Z_1))],\n",
    "                   [Z_1_F*(Z_0 - Z_1)      , Z_1_F*(Z_0 + Z_1)      ]])\n",
    "Matrix_2 = Matrix([[T_p_1_1, T_p_1_2],\n",
    "                   [T_p_2_1, T_p_2_2]])\n",
    "Matrix_3 = Matrix([[Z_2_F*(Z_0 + conj(Z_2)), Z_2_F*(Z_0 - conj(Z_2))  ],\n",
    "                   [Z_2_F*(Z_0 - Z_2)      , Z_2_F*(Z_0 + Z_2)        ]])\n",
    "T = simplify(factor(Matrix_1.inv())*factor(Matrix_2*Matrix_3))\n",
    "T.T"
   ]
  },
  {
   "cell_type": "code",
   "execution_count": null,
   "metadata": {
    "collapsed": true
   },
   "outputs": [],
   "source": []
  }
 ],
 "metadata": {
  "kernelspec": {
   "display_name": "Python 3",
   "language": "python",
   "name": "python3"
  },
  "language_info": {
   "codemirror_mode": {
    "name": "ipython",
    "version": 3
   },
   "file_extension": ".py",
   "mimetype": "text/x-python",
   "name": "python",
   "nbconvert_exporter": "python",
   "pygments_lexer": "ipython3",
   "version": "3.4.4"
  }
 },
 "nbformat": 4,
 "nbformat_minor": 0
}
