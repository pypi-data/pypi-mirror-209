{
 "cells": [
  {
   "cell_type": "code",
   "execution_count": 1,
   "metadata": {
    "collapsed": false
   },
   "outputs": [],
   "source": [
    "from sympy import symbols, Eq, Matrix, solve, simplify, factor, init_printing\n",
    "from sympy.functions import Abs\n",
    "from sympy.functions import conjugate as conj\n",
    "from sympy.functions import sqrt\n",
    "init_printing()"
   ]
  },
  {
   "cell_type": "code",
   "execution_count": 2,
   "metadata": {
    "collapsed": false
   },
   "outputs": [],
   "source": [
    "A_1, A_2, A_3, A_4 = symbols(\"A_1 A_2 A_3 A_4\")\n",
    "B_1, B_2, B_3, B_4 = symbols(\"B_1 B_2 B_3 B_4\")\n",
    "S_1_1, S_1_2, S_1_3, S_1_4 = symbols(\"S_1_1 S_1_2 S_1_3 S_1_4\")\n",
    "S_2_1, S_2_2, S_2_3, S_2_4 = symbols(\"S_2_1 S_2_2 S_2_3 S_2_4\")\n",
    "S_3_1, S_3_2, S_3_3, S_3_4 = symbols(\"S_3_1 S_3_2 S_3_3 S_3_4\")\n",
    "S_4_1, S_4_2, S_4_3, S_4_4 = symbols(\"S_4_1 S_4_2 S_4_3 S_4_4\")\n",
    "\n",
    "Eq_B_1 = Eq(S_1_1*A_1 + S_1_2*A_2 + S_1_3*A_3 + S_1_4*A_4 - B_1)\n",
    "Eq_B_2 = Eq(S_2_1*A_1 + S_2_2*A_2 + S_2_3*A_3 + S_2_4*A_4 - B_2)\n",
    "Eq_B_3 = Eq(S_3_1*A_1 + S_3_2*A_2 + S_3_3*A_3 + S_3_4*A_4 - B_3)\n",
    "Eq_B_4 = Eq(S_4_1*A_1 + S_4_2*A_2 + S_4_3*A_3 + S_4_4*A_4 - B_4)"
   ]
  },
  {
   "cell_type": "code",
   "execution_count": 3,
   "metadata": {
    "collapsed": false
   },
   "outputs": [
    {
     "data": {
      "image/png": "[encoded data removed]",
      "text/plain": [
       "⎡         M₂ ₄           S₃ ₂⋅S₄ ₃ - S₃ ₃⋅S₄ ₂           M₁ ₄           -S₃ ₁⋅\n",
       "⎢─────────────────────   ─────────────────────  ─────────────────────   ──────\n",
       "⎢S₃ ₁⋅S₄ ₂ - S₃ ₂⋅S₄ ₁   S₃ ₁⋅S₄ ₂ - S₃ ₂⋅S₄ ₁  S₃ ₁⋅S₄ ₂ - S₃ ₂⋅S₄ ₁   S₃ ₁⋅S\n",
       "⎢                                                                             \n",
       "⎢S₁ ₁⋅S₄ ₂ - S₁ ₂⋅S₄ ₁            S₄ ₂          S₂ ₁⋅S₄ ₂ - S₂ ₂⋅S₄ ₁         \n",
       "⎢─────────────────────   ─────────────────────  ─────────────────────   ──────\n",
       "⎢S₃ ₁⋅S₄ ₂ - S₃ ₂⋅S₄ ₁   S₃ ₁⋅S₄ ₂ - S₃ ₂⋅S₄ ₁  S₃ ₁⋅S₄ ₂ - S₃ ₂⋅S₄ ₁   S₃ ₁⋅S\n",
       "⎢                                                                             \n",
       "⎢         M₂ ₃           S₃ ₂⋅S₄ ₄ - S₃ ₄⋅S₄ ₂           M₁ ₃           -S₃ ₁⋅\n",
       "⎢─────────────────────   ─────────────────────  ─────────────────────   ──────\n",
       "⎢S₃ ₁⋅S₄ ₂ - S₃ ₂⋅S₄ ₁   S₃ ₁⋅S₄ ₂ - S₃ ₂⋅S₄ ₁  S₃ ₁⋅S₄ ₂ - S₃ ₂⋅S₄ ₁   S₃ ₁⋅S\n",
       "⎢                                                                             \n",
       "⎢-S₁ ₁⋅S₃ ₂ + S₁ ₂⋅S₃ ₁          -S₃ ₂          -S₂ ₁⋅S₃ ₂ + S₂ ₂⋅S₃ ₁        \n",
       "⎢──────────────────────  ─────────────────────  ──────────────────────  ──────\n",
       "⎣S₃ ₁⋅S₄ ₂ - S₃ ₂⋅S₄ ₁   S₃ ₁⋅S₄ ₂ - S₃ ₂⋅S₄ ₁  S₃ ₁⋅S₄ ₂ - S₃ ₂⋅S₄ ₁   S₃ ₁⋅S\n",
       "\n",
       "S₄ ₃ + S₃ ₃⋅S₄ ₁⎤\n",
       "────────────────⎥\n",
       "₄ ₂ - S₃ ₂⋅S₄ ₁ ⎥\n",
       "                ⎥\n",
       "  -S₄ ₁         ⎥\n",
       "─────────────── ⎥\n",
       "₄ ₂ - S₃ ₂⋅S₄ ₁ ⎥\n",
       "                ⎥\n",
       "S₄ ₄ + S₃ ₄⋅S₄ ₁⎥\n",
       "────────────────⎥\n",
       "₄ ₂ - S₃ ₂⋅S₄ ₁ ⎥\n",
       "                ⎥\n",
       "   S₃ ₁         ⎥\n",
       "─────────────── ⎥\n",
       "₄ ₂ - S₃ ₂⋅S₄ ₁ ⎦"
      ]
     },
     "execution_count": 3,
     "metadata": {},
     "output_type": "execute_result"
    }
   ],
   "source": [
    "#s4t\n",
    "T_1_1, T_1_2, T_1_3, T_1_4 = symbols(\"T_1_1 T_1_2 T_1_3 T_1_4\")\n",
    "T_2_1, T_2_2, T_2_3, T_2_4 = symbols(\"T_2_1 T_2_2 T_2_3 T_2_4\")\n",
    "T_3_1, T_3_2, T_3_3, T_3_4 = symbols(\"T_3_1 T_3_2 T_3_3 T_3_4\")\n",
    "T_4_1, T_4_2, T_4_3, T_4_4 = symbols(\"T_4_1 T_4_2 T_4_3 T_4_4\")\n",
    "\n",
    "M_2_4 = S_1_1*S_3_2*S_4_3 - S_1_1*S_3_3*S_4_2 - S_1_2*S_3_1*S_4_3 + S_1_2*S_3_3*S_4_1 + S_1_3*S_3_1*S_4_2 - S_1_3*S_3_2*S_4_1\n",
    "M_2_3 = S_1_1*S_3_2*S_4_4 - S_1_1*S_3_4*S_4_2 - S_1_2*S_3_1*S_4_4 + S_1_2*S_3_4*S_4_1 + S_1_4*S_3_1*S_4_2 - S_1_4*S_3_2*S_4_1\n",
    "M_1_4 = S_2_1*S_3_2*S_4_3 - S_2_1*S_3_3*S_4_2 - S_2_2*S_3_1*S_4_3 + S_2_2*S_3_3*S_4_1 + S_2_3*S_3_1*S_4_2 - S_2_3*S_3_2*S_4_1\n",
    "M_1_3 = S_2_1*S_3_2*S_4_4 - S_2_1*S_3_4*S_4_2 - S_2_2*S_3_1*S_4_4 + S_2_2*S_3_4*S_4_1 + S_2_4*S_3_1*S_4_2 - S_2_4*S_3_2*S_4_1\n",
    "\n",
    "temp1 = solve(Eq_B_3.subs(B_3, 0).subs(A_4, 0), A_1)\n",
    "temp2 = solve(Eq_B_4.subs(B_4, 0).subs(A_4, 0).subs(A_1, temp1[0]), A_2)\n",
    "T_1_1 = factor((Eq_B_1.subs(B_1, 0)/A_3).subs(A_4, 0).subs(A_1, temp1[0]).subs(A_2, temp2[0])).subs(M_2_4, \"M_2_4\")\n",
    "temp1 = solve(Eq_B_4.subs(B_4, 0).subs(A_3, 0).subs(A_4, 0), A_1)\n",
    "T_1_2 = factor((Eq_B_1.subs(B_1, 0)/Eq_B_3.subs(B_3, 0)).subs(A_3, 0).subs(A_4, 0).subs(A_1, temp1[0]))\n",
    "temp1 = solve(Eq_B_3.subs(B_3, 0).subs(A_3, 0), A_1)\n",
    "temp2 = solve(Eq_B_4.subs(B_4, 0).subs(A_3, 0).subs(A_1, temp1[0]), A_2)\n",
    "T_1_3 = factor((Eq_B_1.subs(B_1, 0)/A_4).subs(A_3, 0).subs(A_1, temp1[0]).subs(A_2, temp2[0])).subs(M_2_3, \"M_2_3\")\n",
    "temp1 = solve(Eq_B_3.subs(B_3, 0).subs(A_3, 0).subs(A_4, 0), A_1)\n",
    "T_1_4 = factor((Eq_B_1.subs(B_1, 0)/Eq_B_4.subs(B_4, 0)).subs(A_3, 0).subs(A_4, 0).subs(A_1, temp1[0]))\n",
    "\n",
    "temp1 = solve(Eq_B_3.subs(B_3, 0).subs(A_4, 0), A_2)\n",
    "temp2 = solve(Eq_B_4.subs(B_4, 0).subs(A_4, 0), A_2)\n",
    "T_2_1 = solve(temp1[0] - temp2[0], A_1, A_3)[0][A_1].subs(A_3, 1)\n",
    "temp1 = solve(Eq_B_4.subs(B_4, 0).subs(A_3, 0).subs(A_4, 0), A_2)\n",
    "T_2_2 = factor((A_1/Eq_B_3.subs(B_3, 0)).subs(A_3, 0).subs(A_4, 0).subs(A_2, temp1[0]))\n",
    "temp1 = solve(Eq_B_3.subs(B_3, 0).subs(A_3, 0), A_2)\n",
    "temp2 = solve(Eq_B_4.subs(B_4, 0).subs(A_3, 0), A_2)\n",
    "T_2_3 = solve(temp1[0] - temp2[0], A_1, A_4)[0][A_1].subs(A_4, 1)\n",
    "temp1 = solve(Eq_B_3.subs(B_3, 0).subs(A_3, 0).subs(A_4, 0), A_2)\n",
    "T_2_4 = factor((A_1/Eq_B_4.subs(B_4, 0)).subs(A_3, 0).subs(A_4, 0).subs(A_2, temp1[0]))\n",
    "\n",
    "temp1 = solve(Eq_B_3.subs(B_3, 0).subs(A_4, 0), A_1)\n",
    "temp2 = solve(Eq_B_4.subs(B_4, 0).subs(A_4, 0).subs(A_1, temp1[0]), A_2)\n",
    "T_3_1 = factor((Eq_B_2.subs(B_2, 0)/A_3).subs(A_4, 0).subs(A_1, temp1[0]).subs(A_2, temp2[0])).subs(M_1_4, \"M_1_4\")\n",
    "temp1 = solve(Eq_B_4.subs(B_4, 0).subs(A_3, 0).subs(A_4, 0), A_1)\n",
    "T_3_2 = factor((Eq_B_2.subs(B_2, 0)/Eq_B_3.subs(B_3, 0)).subs(A_3, 0).subs(A_4, 0).subs(A_1, temp1[0]))\n",
    "temp1 = solve(Eq_B_3.subs(B_3, 0).subs(A_3, 0), A_1)\n",
    "temp2 = solve(Eq_B_4.subs(B_4, 0).subs(A_3, 0).subs(A_1, temp1[0]), A_2)\n",
    "T_3_3 = factor((Eq_B_2.subs(B_2, 0)/A_4).subs(A_3, 0).subs(A_1, temp1[0]).subs(A_2, temp2[0])).subs(M_1_3, \"M_1_3\")\n",
    "temp1 = solve(Eq_B_3.subs(B_3, 0).subs(A_3, 0).subs(A_4, 0), A_1)\n",
    "T_3_4 = factor((Eq_B_2.subs(B_2, 0)/Eq_B_4.subs(B_4, 0)).subs(A_3, 0).subs(A_4, 0).subs(A_1, temp1[0]))\n",
    "\n",
    "temp1 = solve(Eq_B_3.subs(B_3, 0).subs(A_4, 0), A_1)\n",
    "temp2 = solve(Eq_B_4.subs(B_4, 0).subs(A_4, 0), A_1)\n",
    "T_4_1 = solve(temp1[0] - temp2[0], A_2, A_3)[0][A_2].subs(A_3, 1)\n",
    "temp1 = solve(Eq_B_4.subs(B_4, 0).subs(A_3, 0).subs(A_4, 0), A_1)\n",
    "T_4_2 = factor((A_2/Eq_B_3.subs(B_3, 0)).subs(A_3, 0).subs(A_4, 0).subs(A_1, temp1[0]))\n",
    "temp1 = solve(Eq_B_3.subs(B_3, 0).subs(A_3, 0), A_1)\n",
    "temp2 = solve(Eq_B_4.subs(B_4, 0).subs(A_3, 0), A_1)\n",
    "T_4_3 = solve(temp1[0] - temp2[0], A_2, A_4)[0][A_2].subs(A_4, 1)\n",
    "temp1 = solve(Eq_B_3.subs(B_3, 0).subs(A_3, 0).subs(A_4, 0), A_1)\n",
    "T_4_4 = factor((A_2/Eq_B_4.subs(B_4, 0)).subs(A_3, 0).subs(A_4, 0).subs(A_1, temp1[0]))\n",
    "\n",
    "\n",
    "T = simplify(Matrix([[T_1_1, T_1_2, T_1_3, T_1_4],\n",
    "                     [T_2_1, T_2_2, T_2_3, T_2_4],\n",
    "                     [T_3_1, T_3_2, T_3_3, T_3_4],\n",
    "                     [T_4_1, T_4_2, T_4_3, T_4_4]]))\n",
    "T.T"
   ]
  },
  {
   "cell_type": "code",
   "execution_count": 4,
   "metadata": {
    "collapsed": false
   },
   "outputs": [],
   "source": [
    "#s4sp\n",
    "G_1, G_2, G_3, G_4 = symbols(\"G_1, G_2, G_3, G_4\")\n",
    "E_1, E_2, E_3, E_4 = symbols(\"E_1, E_2, E_3, E_4\")\n",
    "F_1 = E_1/(1-Abs(G_1)**2)**(1/2)\n",
    "F_2 = E_2/(1-Abs(G_2)**2)**(1/2)\n",
    "F_3 = E_3/(1-Abs(G_3)**2)**(1/2)\n",
    "F_4 = E_4/(1-Abs(G_4)**2)**(1/2)\n",
    "\n",
    "I = Matrix([\n",
    "        [1  , 0  , 0  , 0  ],\n",
    "        [0  , 1  , 0  , 0  ],\n",
    "        [0  , 0  , 1  , 0  ],\n",
    "        [0  , 0  , 0  , 0  ],\n",
    "    ])\n",
    "G = Matrix([\n",
    "        [G_1, 0  , 0  , 0  ],\n",
    "        [0  , G_2, 0  , 0  ],\n",
    "        [0  , 0  , G_3, 0  ],\n",
    "        [0  , 0  , 0  , G_4],\n",
    "    ])\n",
    "F = Matrix([\n",
    "        [F_1, 0  , 0  , 0  ],\n",
    "        [0  , F_2, 0  , 0  ],\n",
    "        [0  , 0  , F_3, 0  ],\n",
    "        [0  , 0  , 0  , F_4],\n",
    "    ])\n",
    "S = Matrix([\n",
    "        [S_1_1, S_1_2, S_1_3, S_1_4],\n",
    "        [S_2_1, S_2_2, S_2_3, S_2_4],\n",
    "        [S_3_1, S_3_2, S_3_3, S_3_4],\n",
    "        [S_4_1, S_4_2, S_4_3, S_4_4]   \n",
    "    ])\n",
    "# Sp = conj(F)*(S−conj(G))*(I-G*S).inv()*F.inv()"
   ]
  },
  {
   "cell_type": "code",
   "execution_count": 5,
   "metadata": {
    "collapsed": false
   },
   "outputs": [
    {
     "data": {
      "image/png": "[encoded data removed]",
      "text/plain": [
       "⎡  ⎛                                      __          __⎞ __                  \n",
       "⎢ -⎝G₂⋅S₁ ₁⋅S₂ ₂ - G₂⋅S₁ ₂⋅S₂ ₁ - G₂⋅S₂ ₂⋅G₁ - S₁ ₁ + G₁⎠⋅E₁                  \n",
       "⎢──────────────────────────────────────────────────────────────  ─────────────\n",
       "⎢E₁⋅(G₁⋅G₂⋅S₁ ₁⋅S₂ ₂ - G₁⋅G₂⋅S₁ ₂⋅S₂ ₁ - G₁⋅S₁ ₁ - G₂⋅S₂ ₂ + 1)  E₂⋅(G₁⋅G₂⋅S₁ \n",
       "⎢                                                                             \n",
       "⎢                          ⎛   __    ⎞ __                          ⎛          \n",
       "⎢                    -S₂ ₁⋅⎝G₂⋅G₂ - 1⎠⋅E₂                         -⎝G₁⋅S₁ ₁⋅S₂\n",
       "⎢──────────────────────────────────────────────────────────────  ─────────────\n",
       "⎣E₁⋅(G₁⋅G₂⋅S₁ ₁⋅S₂ ₂ - G₁⋅G₂⋅S₁ ₂⋅S₂ ₁ - G₁⋅S₁ ₁ - G₂⋅S₂ ₂ + 1)  E₂⋅(G₁⋅G₂⋅S₁ \n",
       "\n",
       "             ⎛   __    ⎞ __                      ⎤\n",
       "       -S₁ ₂⋅⎝G₁⋅G₁ - 1⎠⋅E₁                      ⎥\n",
       "─────────────────────────────────────────────────⎥\n",
       "₁⋅S₂ ₂ - G₁⋅G₂⋅S₁ ₂⋅S₂ ₁ - G₁⋅S₁ ₁ - G₂⋅S₂ ₂ + 1)⎥\n",
       "                                                 ⎥\n",
       "             __                         __⎞ __   ⎥\n",
       " ₂ - G₁⋅S₁ ₁⋅G₂ - G₁⋅S₁ ₂⋅S₂ ₁ - S₂ ₂ + G₂⎠⋅E₂   ⎥\n",
       "─────────────────────────────────────────────────⎥\n",
       "₁⋅S₂ ₂ - G₁⋅G₂⋅S₁ ₂⋅S₂ ₁ - G₁⋅S₁ ₁ - G₂⋅S₂ ₂ + 1)⎦"
      ]
     },
     "execution_count": 5,
     "metadata": {},
     "output_type": "execute_result"
    }
   ],
   "source": [
    "#s2sp\n",
    "G_1, G_2 = symbols(\"G_1, G_2\")\n",
    "E_1, E_2 = symbols(\"E_1, E_2\")\n",
    "F_1 = E_1/sqrt(1-G_1*conj(G_1))\n",
    "F_2 = E_2/sqrt(1-G_1*conj(G_1))\n",
    "\n",
    "I = Matrix([\n",
    "        [1  , 0  ],\n",
    "        [0  , 1  ]\n",
    "    ])\n",
    "G = Matrix([\n",
    "        [G_1, 0  ],\n",
    "        [0  , G_2]\n",
    "    ])\n",
    "F = Matrix([\n",
    "        [F_1, 0  ],\n",
    "        [0  , F_2]\n",
    "    ])\n",
    "S = Matrix([\n",
    "        [S_1_1, S_1_2],\n",
    "        [S_2_1, S_2_2] \n",
    "    ])\n",
    "# Sp = conj(F)*(S−conj(G))*(I-G*S).inv()*F.inv()\n",
    "factor(factor(factor(conj(F))*(S-conj(G))*factor((I-G*S).inv()))*F.inv())\n",
    "conj_f = conj(F)/conj(1/sqrt(-G_1*conj(G_1) + 1))*1/sqrt(-G_1*conj(G_1) + 1)\n",
    "# S-conj(G)\n",
    "# factor((I-G*S).inv())\n",
    "# F.inv()\n",
    "factor(conj_f*(S-conj(G))*factor((I-G*S).inv()))*F.inv()"
   ]
  }
 ],
 "metadata": {
  "kernelspec": {
   "display_name": "Python 3",
   "language": "python",
   "name": "python3"
  },
  "language_info": {
   "codemirror_mode": {
    "name": "ipython",
    "version": 3.0
   },
   "file_extension": ".py",
   "mimetype": "text/x-python",
   "name": "python",
   "nbconvert_exporter": "python",
   "pygments_lexer": "ipython3",
   "version": "3.5.1"
  }
 },
 "nbformat": 4,
 "nbformat_minor": 0
}