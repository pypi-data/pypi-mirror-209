{
 "cells": [
  {
   "cell_type": "code",
   "execution_count": 1,
   "metadata": {
    "collapsed": true
   },
   "outputs": [],
   "source": [
    "from sympy import symbols, Eq, solve, simplify, factor, init_printing\n",
    "init_printing()"
   ]
  },
  {
   "cell_type": "code",
   "execution_count": 2,
   "metadata": {
    "collapsed": false
   },
   "outputs": [],
   "source": [
    "V_1, V_2, V_3, V_4 = symbols(\"V_1 V_2 V_3 V_3\")\n",
    "I_1, I_2, I_3, I_4 = symbols(\"I_1 I_2 I_3 I_4\")\n",
    "Z_1_1, Z_1_2, Z_1_3, Z_1_4 = symbols(\"Z_1_1 Z_1_2 Z_1_3 Z_1_4\")\n",
    "Z_2_1, Z_2_2, Z_2_3, Z_2_4 = symbols(\"Z_2_1 Z_2_2 Z_2_3 Z_2_4\")\n",
    "Z_3_1, Z_3_2, Z_3_3, Z_3_4 = symbols(\"Z_3_1 Z_3_2 Z_3_3 Z_3_4\")\n",
    "Z_4_1, Z_4_2, Z_4_3, Z_4_4 = symbols(\"Z_4_1 Z_4_2 Z_4_3 Z_4_4\")\n",
    "\n",
    "V_1 = Eq(Z_1_1*I_1 + Z_1_2*I_2 + Z_1_3*I_3 + Z_1_4*I_4)\n",
    "V_2 = Eq(Z_2_1*I_1 + Z_2_2*I_2 + Z_2_3*I_3 + Z_2_4*I_4)\n",
    "V_3 = Eq(Z_3_1*I_1 + Z_3_2*I_2 + Z_3_3*I_3 + Z_3_4*I_4)\n",
    "V_4 = Eq(Z_4_1*I_1 + Z_4_2*I_2 + Z_4_3*I_3 + Z_4_4*I_4)"
   ]
  },
  {
   "cell_type": "code",
   "execution_count": 3,
   "metadata": {
    "collapsed": false
   },
   "outputs": [
    {
     "data": {
      "image/png": "[encoded data removed]",
      "text/latex": [
       "$$\\left [ \\left [ \\frac{\\frac{Z_{1 1} Z_{4 2}}{Z_{4 1}} - Z_{1 2}}{\\frac{Z_{3 1} Z_{4 2}}{Z_{4 1}} - Z_{3 2}}, \\quad \\frac{M_{2 4} Z_{3 1}}{Z_{3 1}^{2} Z_{4 2} - Z_{3 1} Z_{3 2} Z_{4 1}}, \\quad \\frac{\\frac{Z_{1 1} Z_{3 2}}{Z_{3 1}} - Z_{1 2}}{- Z_{4 2} + \\frac{Z_{3 2} Z_{4 1}}{Z_{3 1}}}, \\quad \\frac{M_{2 3} Z_{3 1}}{Z_{3 1}^{2} Z_{4 2} - Z_{3 1} Z_{3 2} Z_{4 1}}\\right ], \\quad \\left [ - \\frac{1}{- Z_{3 1} + \\frac{Z_{3 2} Z_{4 1}}{Z_{4 2}}}, \\quad \\frac{Z_{3 2} Z_{4 3} - Z_{3 3} Z_{4 2}}{Z_{3 1} Z_{4 2} - Z_{3 2} Z_{4 1}}, \\quad - \\frac{1}{\\frac{Z_{3 1} Z_{4 2}}{Z_{3 2}} - Z_{4 1}}, \\quad \\frac{Z_{3 2} Z_{4 4} - Z_{3 4} Z_{4 2}}{Z_{3 1} Z_{4 2} - Z_{3 2} Z_{4 1}}\\right ], \\quad \\left [ \\frac{\\frac{Z_{2 1} Z_{4 2}}{Z_{4 1}} - Z_{2 2}}{\\frac{Z_{3 1} Z_{4 2}}{Z_{4 1}} - Z_{3 2}}, \\quad \\frac{M_{1 4} Z_{3 1}}{Z_{3 1}^{2} Z_{4 2} - Z_{3 1} Z_{3 2} Z_{4 1}}, \\quad \\frac{\\frac{Z_{2 1} Z_{3 2}}{Z_{3 1}} - Z_{2 2}}{- Z_{4 2} + \\frac{Z_{3 2} Z_{4 1}}{Z_{3 1}}}, \\quad \\frac{M_{1 3} Z_{3 1}}{Z_{3 1}^{2} Z_{4 2} - Z_{3 1} Z_{3 2} Z_{4 1}}\\right ], \\quad \\left [ \\frac{Z_{4 1}}{Z_{4 2} \\left(- Z_{3 1} + \\frac{Z_{3 2} Z_{4 1}}{Z_{4 2}}\\right)}, \\quad \\frac{I_{1} \\left(Z_{3 1} Z_{4 2} - Z_{3 2} Z_{4 1}\\right)}{Z_{3 2} Z_{4 3} - Z_{3 3} Z_{4 2}}, \\quad - \\frac{1}{- Z_{4 2} + \\frac{Z_{3 2} Z_{4 1}}{Z_{3 1}}}, \\quad \\frac{Z_{3 1} Z_{4 2} - Z_{3 2} Z_{4 1}}{Z_{3 2} Z_{4 4} - Z_{3 4} Z_{4 2}}\\right ]\\right ]$$"
      ],
      "text/plain": [
       "⎡⎡Z₁ ₁⋅Z₄ ₂                                       Z₁ ₁⋅Z₃ ₂                   \n",
       "⎢⎢───────── - Z₁ ₂                                ───────── - Z₁ ₂            \n",
       "⎢⎢   Z₄ ₁                    M₂ ₄⋅Z₃ ₁               Z₃ ₁                    M\n",
       "⎢⎢────────────────, ───────────────────────────, ─────────────────, ──────────\n",
       "⎢⎢Z₃ ₁⋅Z₄ ₂             2                                Z₃ ₂⋅Z₄ ₁      2     \n",
       "⎢⎢───────── - Z₃ ₂  Z₃ ₁ ⋅Z₄ ₂ - Z₃ ₁⋅Z₃ ₂⋅Z₄ ₁  -Z₄ ₂ + ─────────  Z₃ ₁ ⋅Z₄ ₂\n",
       "⎣⎣   Z₄ ₁                                                   Z₃ ₁              \n",
       "\n",
       "                 ⎤                                                            \n",
       "                 ⎥                                                            \n",
       "₂ ₃⋅Z₃ ₁         ⎥  ⎡       -1          Z₃ ₂⋅Z₄ ₃ - Z₃ ₃⋅Z₄ ₂        -1       \n",
       "─────────────────⎥, ⎢─────────────────, ─────────────────────, ───────────────\n",
       "                 ⎥  ⎢        Z₃ ₂⋅Z₄ ₁  Z₃ ₁⋅Z₄ ₂ - Z₃ ₂⋅Z₄ ₁  Z₃ ₁⋅Z₄ ₂      \n",
       " - Z₃ ₁⋅Z₃ ₂⋅Z₄ ₁⎥  ⎢-Z₃ ₁ + ─────────                         ───────── - Z₄ \n",
       "                 ⎦  ⎣           Z₄ ₂                              Z₃ ₂        \n",
       "\n",
       "                           ⎡Z₂ ₁⋅Z₄ ₂                                       Z₂\n",
       "                           ⎢───────── - Z₂ ₂                                ──\n",
       "   Z₃ ₂⋅Z₄ ₄ - Z₃ ₄⋅Z₄ ₂⎤  ⎢   Z₄ ₁                    M₁ ₄⋅Z₃ ₁              \n",
       "─, ─────────────────────⎥, ⎢────────────────, ───────────────────────────, ───\n",
       "   Z₃ ₁⋅Z₄ ₂ - Z₃ ₂⋅Z₄ ₁⎥  ⎢Z₃ ₁⋅Z₄ ₂             2                           \n",
       "₁                       ⎥  ⎢───────── - Z₃ ₂  Z₃ ₁ ⋅Z₄ ₂ - Z₃ ₁⋅Z₃ ₂⋅Z₄ ₁  -Z₄\n",
       "                        ⎦  ⎣   Z₄ ₁                                           \n",
       "\n",
       " ₁⋅Z₃ ₂                                    ⎤                                  \n",
       "─────── - Z₂ ₂                             ⎥                                  \n",
       " Z₃ ₁                    M₁ ₃⋅Z₃ ₁         ⎥  ⎡          Z₄ ₁            I₁⋅(Z\n",
       "──────────────, ───────────────────────────⎥, ⎢────────────────────────, ─────\n",
       "     Z₃ ₂⋅Z₄ ₁      2                      ⎥  ⎢     ⎛        Z₃ ₂⋅Z₄ ₁⎞    Z₃ \n",
       " ₂ + ─────────  Z₃ ₁ ⋅Z₄ ₂ - Z₃ ₁⋅Z₃ ₂⋅Z₄ ₁⎥  ⎢Z₄ ₂⋅⎜-Z₃ ₁ + ─────────⎟       \n",
       "        Z₃ ₁                               ⎦  ⎣     ⎝           Z₄ ₂  ⎠       \n",
       "\n",
       "                                                                ⎤\n",
       "                                                                ⎥\n",
       "₃ ₁⋅Z₄ ₂ - Z₃ ₂⋅Z₄ ₁)         -1          Z₃ ₁⋅Z₄ ₂ - Z₃ ₂⋅Z₄ ₁⎤⎥\n",
       "─────────────────────, ─────────────────, ─────────────────────⎥⎥\n",
       "₂⋅Z₄ ₃ - Z₃ ₃⋅Z₄ ₂             Z₃ ₂⋅Z₄ ₁  Z₃ ₂⋅Z₄ ₄ - Z₃ ₄⋅Z₄ ₂⎥⎥\n",
       "                       -Z₄ ₂ + ─────────                       ⎥⎥\n",
       "                                  Z₃ ₁                         ⎦⎦"
      ]
     },
     "execution_count": 3,
     "metadata": {},
     "output_type": "execute_result"
    }
   ],
   "source": [
    "#z4a\n",
    "A_1_3, B_1_3, C_1_3, D_1_3 = symbols(\"A_1_3 B_1_3 C_1_3 D_1_3\")\n",
    "A_1_4, B_1_4, C_1_4, D_1_4 = symbols(\"A_1_4 B_1_4 C_1_4 D_1_4\")\n",
    "A_2_3, B_2_3, C_2_3, D_2_3 = symbols(\"A_2_3 B_2_3 C_2_3 D_2_3\")\n",
    "A_2_4, B_2_4, C_2_4, D_2_4 = symbols(\"A_2_4 B_2_4 C_2_4 D_2_4\")\n",
    "\n",
    "M_2_4 = Z_1_1*Z_3_2*Z_4_3 - Z_1_1*Z_3_3*Z_4_2 - Z_1_2*Z_3_1*Z_4_3 + Z_1_2*Z_3_3*Z_4_1 + Z_1_3*Z_3_1*Z_4_2 - Z_1_3*Z_3_2*Z_4_1\n",
    "M_2_3 = Z_1_1*Z_3_2*Z_4_4 - Z_1_1*Z_3_4*Z_4_2 - Z_1_2*Z_3_1*Z_4_4 + Z_1_2*Z_3_4*Z_4_1 + Z_1_4*Z_3_1*Z_4_2 - Z_1_4*Z_3_2*Z_4_1\n",
    "M_1_4 = Z_2_1*Z_3_2*Z_4_3 - Z_2_1*Z_3_3*Z_4_2 - Z_2_2*Z_3_1*Z_4_3 + Z_2_2*Z_3_3*Z_4_1 + Z_2_3*Z_3_1*Z_4_2 - Z_2_3*Z_3_2*Z_4_1\n",
    "M_1_3 = Z_2_1*Z_3_2*Z_4_4 - Z_2_1*Z_3_4*Z_4_2 - Z_2_2*Z_3_1*Z_4_4 + Z_2_2*Z_3_4*Z_4_1 + Z_2_4*Z_3_1*Z_4_2 - Z_2_4*Z_3_2*Z_4_1\n",
    "\n",
    "temp1 = solve(V_4.subs(I_3, 0).subs(I_4, 0), I_1)\n",
    "A_1_3 = factor((V_1/V_3).subs(I_3, 0).subs(I_4, 0).subs(I_1, temp1[0]))\n",
    "temp1 = solve(V_3.subs(I_4, 0), I_1)\n",
    "temp2 = solve(V_4.subs(I_4, 0).subs(I_1, temp1[0]), I_2)\n",
    "B_1_3 = factor((V_1/I_3).subs(I_4, 0).subs(I_1, temp1[0]).subs(I_2, temp2[0])).subs(M_2_4, \"M_2_4\")\n",
    "temp1 = solve(V_4.subs(I_3, 0).subs(I_4, 0), I_2)\n",
    "C_1_3 = factor((I_1/V_3).subs(I_3, 0).subs(I_4, 0).subs(I_2, temp1[0]))\n",
    "temp1 = solve(V_3.subs(I_4, 0), I_2)\n",
    "temp2 = solve(V_4.subs(I_4, 0), I_2)\n",
    "D_1_3 = solve(temp1[0] - temp2[0], I_1, I_3)[0][I_1].subs(I_3, 1)\n",
    "\n",
    "temp1 = solve(V_3.subs(I_3, 0).subs(I_4, 0), I_1)\n",
    "A_1_4 = factor((V_1/V_4).subs(I_3, 0).subs(I_4, 0).subs(I_1, temp1[0]))\n",
    "temp1 = solve(V_3.subs(I_3, 0), I_1)\n",
    "temp2 = solve(V_4.subs(I_3, 0).subs(I_1, temp1[0]), I_2)\n",
    "B_1_4 = factor((V_1/I_4).subs(I_3, 0).subs(I_1, temp1[0]).subs(I_2, temp2[0])).subs(M_2_3, \"M_2_3\")\n",
    "temp1 = solve(V_3.subs(I_3, 0).subs(I_4, 0), I_2)\n",
    "C_1_4 = factor((I_1/V_4).subs(I_3, 0).subs(I_4, 0).subs(I_2, temp1[0]))\n",
    "temp1 = solve(V_3.subs(I_3, 0), I_2)\n",
    "temp2 = solve(V_4.subs(I_3, 0), I_2)\n",
    "D_1_4 = solve(temp1[0] - temp2[0], I_1, I_4)[0][I_1].subs(I_4, 1)\n",
    "\n",
    "temp1 = solve(V_4.subs(I_3, 0).subs(I_4, 0), I_1)\n",
    "A_2_3 = factor((V_2/V_3).subs(I_3, 0).subs(I_4, 0).subs(I_1, temp1[0]))\n",
    "temp1 = solve(V_3.subs(I_4, 0), I_1)\n",
    "temp2 = solve(V_4.subs(I_4, 0).subs(I_1, temp1[0]), I_2)\n",
    "B_2_3 = factor((V_2/I_3).subs(I_4, 0).subs(I_1, temp1[0]).subs(I_2, temp2[0])).subs(M_1_4, \"M_1_4\")\n",
    "temp1 = solve(V_4.subs(I_3, 0).subs(I_4, 0), I_2)\n",
    "C_2_3 = factor((I_2/V_3).subs(I_3, 0).subs(I_4, 0).subs(I_2, temp1[0]))\n",
    "temp1 = solve(V_3.subs(I_4, 0), I_2)\n",
    "temp2 = solve(V_4.subs(I_4, 0), I_2)\n",
    "D_2_3 = solve(temp1[0] - temp2[0], I_2, I_3)[0][I_3].subs(I_2, 1)\n",
    "\n",
    "temp1 = solve(V_3.subs(I_3, 0).subs(I_4, 0), I_1)\n",
    "A_2_4 = factor((V_2/V_4).subs(I_3, 0).subs(I_4, 0).subs(I_1, temp1[0]))\n",
    "temp1 = solve(V_3.subs(I_3, 0), I_1)\n",
    "temp2 = solve(V_4.subs(I_3, 0).subs(I_1, temp1[0]), I_2)\n",
    "B_2_4 = factor((V_2/I_4).subs(I_3, 0).subs(I_1, temp1[0]).subs(I_2, temp2[0])).subs(M_1_3, \"M_1_3\")\n",
    "temp1 = solve(V_3.subs(I_3, 0).subs(I_4, 0), I_1)\n",
    "C_2_4 = factor((I_2/V_4).subs(I_3, 0).subs(I_4, 0).subs(I_1, temp1[0]))\n",
    "temp1 = solve(V_3.subs(I_3, 0), I_2)\n",
    "temp2 = solve(V_4.subs(I_3, 0), I_2)\n",
    "D_2_4 = solve(temp1[0] - temp2[0], I_2, I_4)[0][I_4].subs(I_1, 1)\n",
    "\n",
    "[[A_1_3, B_1_3, A_1_4, B_1_4],\n",
    " [C_1_3, D_1_3, C_1_4, D_1_4],\n",
    " [A_2_3, B_2_3, A_2_4, B_2_4],\n",
    " [C_2_3, D_2_3, C_2_4, D_2_4]]"
   ]
  },
  {
   "cell_type": "code",
   "execution_count": null,
   "metadata": {
    "collapsed": true
   },
   "outputs": [],
   "source": []
  },
  {
   "cell_type": "markdown",
   "metadata": {},
   "source": [
    "# Title\n",
    "\n",
    "## Sub-Titles\n",
    "\n",
    "Paragraph **bold**\n",
    "\n",
    "$A = 5$"
   ]
  },
  {
   "cell_type": "code",
   "execution_count": null,
   "metadata": {
    "collapsed": true
   },
   "outputs": [],
   "source": []
  }
 ],
 "metadata": {
  "kernelspec": {
   "display_name": "Python 3",
   "language": "python",
   "name": "python3"
  },
  "language_info": {
   "codemirror_mode": {
    "name": "ipython",
    "version": 3
   },
   "file_extension": ".py",
   "mimetype": "text/x-python",
   "name": "python",
   "nbconvert_exporter": "python",
   "pygments_lexer": "ipython3",
   "version": "3.4.5"
  }
 },
 "nbformat": 4,
 "nbformat_minor": 0
}
