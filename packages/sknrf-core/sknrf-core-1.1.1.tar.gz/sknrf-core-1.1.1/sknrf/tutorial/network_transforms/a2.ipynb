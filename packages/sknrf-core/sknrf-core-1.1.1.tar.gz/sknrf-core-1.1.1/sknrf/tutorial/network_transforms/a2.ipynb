{
 "cells": [
  {
   "cell_type": "code",
   "execution_count": 4,
   "metadata": {
    "collapsed": false
   },
   "outputs": [],
   "source": [
    "from sympy import symbols, Eq, Matrix, Rational, solve, simplify, factor, init_printing\n",
    "from sympy.functions import re, im, sqrt\n",
    "from sympy.functions import conjugate as conj\n",
    "init_printing()"
   ]
  },
  {
   "cell_type": "code",
   "execution_count": 5,
   "metadata": {
    "collapsed": false
   },
   "outputs": [],
   "source": [
    "Z_0 = symbols(\"Z_0\")\n",
    "V_1, V_2 = symbols(\"V_1 V_2\")\n",
    "I_1, I_2 = symbols(\"I_1 I_2\")\n",
    "A, B, C, D = symbols(\"A B C D\")"
   ]
  },
  {
   "cell_type": "code",
   "execution_count": 6,
   "metadata": {
    "collapsed": false
   },
   "outputs": [
    {
     "data": {
      "image/png": "[encoded data removed]",
      "text/plain": [
       "⎡       __   ⎛      __⎞ __                         __⎤\n",
       "⎢-B + D⋅Z₀ + ⎝A - C⋅Z₀⎠⋅Z₀  -B - D⋅Z₀ + (A + C⋅Z₀)⋅Z₀⎥\n",
       "⎢                                                    ⎥\n",
       "⎢      __      ⎛      __⎞                            ⎥\n",
       "⎣B - D⋅Z₀ + Z₀⋅⎝A - C⋅Z₀⎠   B + D⋅Z₀ + Z₀⋅(A + C⋅Z₀) ⎦"
      ]
     },
     "execution_count": 6,
     "metadata": {},
     "output_type": "execute_result"
    }
   ],
   "source": [
    "#a2t\n",
    "Matrix_1 = 1/(2*sqrt(2*re(Z_0)))*Matrix([[1, -1*conj(Z_0)],\n",
    "                                       [1, Z_0]])\n",
    "Matrix_2 = Matrix([[A, B],\n",
    "                   [C, D]])\n",
    "Matrix_3 = sqrt(2/re(Z_0))*Matrix([[conj(Z_0), Z_0],\n",
    "                                 [1, -1]])\n",
    "Flip_I = Matrix([[1,  0],\n",
    "                 [0, -1]])\n",
    "abcd = simplify(Matrix_1*Matrix_2*Flip_I*Matrix_3)/sqrt(1/re(Z_0))*(2*sqrt(re(Z_0))) \n",
    "abcd.T #Remember to multiply by 1/(2*re(Z_0))"
   ]
  },
  {
   "cell_type": "code",
   "execution_count": null,
   "metadata": {
    "collapsed": true
   },
   "outputs": [],
   "source": [
    ""
   ]
  },
  {
   "cell_type": "code",
   "execution_count": null,
   "metadata": {
    "collapsed": true
   },
   "outputs": [],
   "source": [
    ""
   ]
  }
 ],
 "metadata": {
  "kernelspec": {
   "display_name": "Python 3",
   "language": "python",
   "name": "python3"
  },
  "language_info": {
   "codemirror_mode": {
    "name": "ipython",
    "version": 3.0
   },
   "file_extension": ".py",
   "mimetype": "text/x-python",
   "name": "python",
   "nbconvert_exporter": "python",
   "pygments_lexer": "ipython3",
   "version": "3.4.4"
  }
 },
 "nbformat": 4,
 "nbformat_minor": 0
}