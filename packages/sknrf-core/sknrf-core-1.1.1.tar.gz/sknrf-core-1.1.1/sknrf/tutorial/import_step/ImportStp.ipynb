{
 "cells": [
  {
   "cell_type": "code",
   "execution_count": 114,
   "metadata": {
    "collapsed": true
   },
   "outputs": [],
   "source": [
    "import numpy as np\n",
    "import pandas as pd\n",
    "from scipy.interpolate import interp1d"
   ]
  },
  {
   "cell_type": "code",
   "execution_count": 115,
   "metadata": {},
   "outputs": [],
   "source": [
    "arr=np.asarray(pd.read_csv('pf2a-mrph.stp', sep='\\t',header=None))"
   ]
  },
  {
   "cell_type": "code",
   "execution_count": 116,
   "metadata": {},
   "outputs": [],
   "source": [
    "x = arr[:, 0].astype(int)\n",
    "y = arr[:, 1].astype(int)\n",
    "label = np.asarray([value.replace(\"Label1(\",\"\").replace(\")\", \"\") for value in arr[:, 2]])"
   ]
  },
  {
   "cell_type": "code",
   "execution_count": 121,
   "metadata": {},
   "outputs": [
    {
     "data": {
      "text/plain": [
       "(1080, 13084)"
      ]
     },
     "execution_count": 121,
     "metadata": {},
     "output_type": "execute_result"
    }
   ],
   "source": [
    "unique_x = list(np.unique(x))\n",
    "unique_y = list(np.unique(y))\n",
    "len(unique_x), len(unique_y)"
   ]
  },
  {
   "cell_type": "code",
   "execution_count": 122,
   "metadata": {},
   "outputs": [],
   "source": [
    "x_norm = np.asarray([unique_x.index(x_) for x_ in x])\n",
    "y_norm = np.asarray([unique_y.index(y_) for y_ in y])"
   ]
  },
  {
   "cell_type": "code",
   "execution_count": 123,
   "metadata": {},
   "outputs": [
    {
     "data": {
      "text/plain": [
       "(0, 0, dtype('<U25'), 13083, 1079, dtype('<U25'))"
      ]
     },
     "execution_count": 123,
     "metadata": {},
     "output_type": "execute_result"
    }
   ],
   "source": [
    "y_norm.min(), x_norm.min(), label.dtype, y_norm.max(), x_norm.max(), label.dtype"
   ]
  },
  {
   "cell_type": "code",
   "execution_count": 127,
   "metadata": {},
   "outputs": [
    {
     "name": "stdout",
     "output_type": "stream",
     "text": [
      "(13084, 1080)\n"
     ]
    }
   ],
   "source": [
    "output = np.zeros((y_norm.max()+1, x_norm.max()+1), dtype='<U25')\n",
    "print(output.shape)\n",
    "for x_, y_, label_ in zip(x_norm, y_norm, label):\n",
    "    output[y_, x_] = label_"
   ]
  },
  {
   "cell_type": "code",
   "execution_count": 128,
   "metadata": {},
   "outputs": [],
   "source": [
    "pd.DataFrame(output).to_csv('pf2a-mrph.csv', sep=\",\")"
   ]
  },
  {
   "cell_type": "code",
   "execution_count": null,
   "metadata": {
    "collapsed": true
   },
   "outputs": [],
   "source": []
  }
 ],
 "metadata": {
  "kernelspec": {
   "display_name": "Python 3",
   "language": "python",
   "name": "python3"
  },
  "language_info": {
   "codemirror_mode": {
    "name": "ipython",
    "version": 3
   },
   "file_extension": ".py",
   "mimetype": "text/x-python",
   "name": "python",
   "nbconvert_exporter": "python",
   "pygments_lexer": "ipython3",
   "version": "3.5.3"
  }
 },
 "nbformat": 4,
 "nbformat_minor": 2
}
