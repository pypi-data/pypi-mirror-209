{
 "cells": [
  {
   "cell_type": "code",
   "execution_count": 1,
   "metadata": {
    "collapsed": true
   },
   "outputs": [],
   "source": [
    "import numpy as np\n",
    "from sympy import symbols, Eq, Matrix, Rational, solve, simplify, factor, init_printing\n",
    "from sympy.functions import re, im, sqrt\n",
    "from sympy.functions import conjugate as conj\n",
    "init_printing()"
   ]
  },
  {
   "cell_type": "markdown",
   "metadata": {},
   "source": [
    "## Overview\n",
    "\n",
    "![behavioral_model](images/PNG/BehavioralModel.png \"Behavioral Model\")"
   ]
  },
  {
   "cell_type": "markdown",
   "metadata": {},
   "source": [
    "## Nomenclature:\n",
    "   - r, .... R: output ports\n",
    "   - s, ..., S: output harmonics\n",
    "   - p, ..., P: input ports\n",
    "   - l, ..., L: input harmonics\n",
    "   - k, ..., K: nonlinear order\n",
    "   - m, ..., M: memory order\n",
    "   - n, ..., N: discrete time sample index"
   ]
  },
  {
   "cell_type": "code",
   "execution_count": 2,
   "metadata": {
    "collapsed": true
   },
   "outputs": [],
   "source": [
    "def rNsNpNlNkNmN(num_output_ports, num_output_harmonics, num_input_ports, num_input_harmonics, nonlinear_order, memory_order):\n",
    "    pass"
   ]
  },
  {
   "cell_type": "code",
   "execution_count": null,
   "metadata": {
    "collapsed": true
   },
   "outputs": [],
   "source": [
    "def rNsNpNlNkNm1(num_output_ports, num_output_harmonics, num_input_ports, num_input_harmonics, nonlinear_order):\n",
    "    pass"
   ]
  },
  {
   "cell_type": "markdown",
   "metadata": {},
   "source": [
    "Calculate the SISO Multi-Harmonic Volterra Kernels (basis functions) as follows:\n",
    " 1. Calculate the LF kernel matrix, $D_{p,0}$ such that all mixing products are at DC:\n",
    " \n",
    " $$ F_p = [-p, ..., -1, 0, 1, ..., p] $$\n",
    " $$ F_p \\times  D_{p,0} = [0, ..., 0, 0, 0, ..., 0]$$\n",
    " Verify that each new entry in $D_{p,0}$ is unique and cannot be factored by exisiting kernels\n",
    "  $$ Y_0 = D_{p,0} \\times X_0 $$\n",
    " \n",
    " 2. Calculate the RF kernel matrix, $D_{p,s}$ such that all mixing products are at harmonic s:\n",
    " \n",
    " $$ F_p = [-p, ..., -1, 0, 1, ..., p] $$\n",
    " $$ F_p \\times  D_{p,s} = [s, ..., s, s, s, ..., s]$$\n",
    " \n",
    "  Verify that each new entry in $D_{p,s}$ is unique and cannot be factored by exisiting kernels\n",
    "  $$ Y_s = D_{p,s} + D_{p,0} \\times X_s $$\n",
    " "
   ]
  },
  {
   "cell_type": "code",
   "execution_count": 6,
   "metadata": {
    "collapsed": false
   },
   "outputs": [],
   "source": [
    "def r1sNp1lNkNmN(num_output_harmonics, num_input_harmonics, nonlinear_order, memory_order):\n",
    "    min_order = 1\n",
    "    kernels = [[None]*(num_outputs+1)]*(num_inputs+1)\n",
    "    \n",
    "    f_input = np.matrix(np.arange(-1*num_inputs, num_inputs+1, 1))\n",
    "    max_exponent = max_order\n",
    "    max_time = time.time() + timeout\n",
    "\n",
    "    for output_index in range(0, num_outputs+1):\n",
    "        if output_index:\n",
    "            kernels[num_inputs][output_index] = np.matrix(np.zeros((2*num_inputs+1, 0), dtype=int))\n",
    "        else:\n",
    "            # Append a pre-determined DC mixing exponent (a_00)\n",
    "            kernels[num_inputs][output_index] = np.matrix(np.zeros((2*num_inputs+1, 1), dtype=int))\n",
    "            kernels[num_inputs][output_index][num_inputs, output_index] = 1\n",
    "\n",
    "        for order in range(1, 2*num_inputs+1):\n",
    "            y_out = np.matrix(np.zeros((2*num_inputs+1, 1), dtype=int))\n",
    "            while True:\n",
    "                # Determine output harmonic, by calculating output_index = f_input*y_out\n",
    "                if output_index == f_input*y_out and np.sum(y_out) == order:\n",
    "                    # Solve for X_p = y_out/kernels[num_inputs][0]\n",
    "                    [multiple, new_basis] = factor_vector(y_out, kernels[num_inputs][0])\n",
    "                    # if X_0 is not an integer array, it cannot be factored\n",
    "                    if not multiple and output_index:\n",
    "                        # Solve for X_p = y_out-X_p*kernels[num_inputs, 0]\n",
    "                        [multiple, new_basis] = factor_vector(new_basis, kernels[num_inputs][output_index])\n",
    "                        # if X_p is not an integer array, it cannot be factored\n",
    "                        if ~multiple:\n",
    "                            # Append to mixing term\n",
    "                            kernels[num_inputs][output_index] = np.append(kernels[num_inputs][output_index],\n",
    "                                                                               new_basis, axis=1)\n",
    "                    elif not multiple and not output_index:\n",
    "                        # Append new_basis to kernels[num_inputs][0][:,end+1]\n",
    "                        kernels[num_inputs][output_index] = np.append(kernels[num_inputs][output_index],\n",
    "                                                                           new_basis, axis=1)\n",
    "                        # Add the conjugate bias if it is unique\n",
    "                        if np.any(new_basis != new_basis[::-1]):\n",
    "                            kernels[num_inputs][output_index] = np.append(kernels[num_inputs][output_index],\n",
    "                                                                               new_basis[::-1], axis=1)\n",
    "\n",
    "                # Check for end of y_out loop\n",
    "                if np.all(y_out == max_exponent):\n",
    "                    break\n",
    "\n",
    "                # Check for time-out\n",
    "                if time.time() > max_time:\n",
    "                    return\n",
    "\n",
    "                # Generate a new y_out\n",
    "                for idx in range(len(y_out)):\n",
    "                    if y_out[idx] < max_exponent:\n",
    "                        y_out[idx] += 1\n",
    "                        if idx > 0:\n",
    "                            y_out[0:idx] = 0\n",
    "                        break\n",
    "\n",
    "    # Remove the higher order bases from kernels[num_inputs][0]\n",
    "    for idx in reversed(range(np.size(kernels[num_inputs][0], 1))):\n",
    "        if np.sum(kernels[num_inputs][0][:, idx]) > max_order:\n",
    "            np.delete(kernels[num_inputs][0], idx, 1)\n",
    "\n",
    "    return kernels"
   ]
  },
  {
   "cell_type": "code",
   "execution_count": null,
   "metadata": {
    "collapsed": true
   },
   "outputs": [],
   "source": [
    "def r1sNp1l1kNmN(num_output_harmonics, nonlinear_order, memory_order):\n",
    "    pass"
   ]
  },
  {
   "cell_type": "code",
   "execution_count": null,
   "metadata": {
    "collapsed": true
   },
   "outputs": [],
   "source": [
    "def r1sNp1l1kNm1(num_output_harmonics, nonlinear_order):\n",
    "    pass"
   ]
  },
  {
   "cell_type": "code",
   "execution_count": null,
   "metadata": {
    "collapsed": true
   },
   "outputs": [],
   "source": [
    "def r1s1p1l1kNmN(nonlinear_order, memory_order):\n",
    "    pass"
   ]
  }
 ],
 "metadata": {
  "kernelspec": {
   "display_name": "Python 3",
   "language": "python",
   "name": "python3"
  },
  "language_info": {
   "codemirror_mode": {
    "name": "ipython",
    "version": 3
   },
   "file_extension": ".py",
   "mimetype": "text/x-python",
   "name": "python",
   "nbconvert_exporter": "python",
   "pygments_lexer": "ipython3",
   "version": "3.6.0"
  }
 },
 "nbformat": 4,
 "nbformat_minor": 2
}
